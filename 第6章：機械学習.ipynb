{
 "cells": [
  {
   "cell_type": "markdown",
   "metadata": {},
   "source": [
    "# 第6章: 機械学習\n",
    "言語処理100本ノック (https://nlp100.github.io/ja/) の第4章です。"
   ]
  },
  {
   "cell_type": "markdown",
   "metadata": {},
   "source": [
    "## 50. データの入手・整形\n",
    "News Aggregator Data Setをダウンロードし、以下の要領で学習データ（train.txt），検証データ（valid.txt），評価データ（test.txt）を作成せよ．\n",
    "\n",
    "ダウンロードしたzipファイルを解凍し，readme.txtの説明を読む．\n",
    "情報源（publisher）が”Reuters”, “Huffington Post”, “Businessweek”, “Contactmusic.com”, “Daily Mail”の事例（記事）のみを抽出する．\n",
    "抽出された事例をランダムに並び替える．\n",
    "抽出された事例の80%を学習データ，残りの10%ずつを検証データと評価データに分割し，それぞれtrain.txt，valid.txt，test.txtというファイル名で保存する．ファイルには，１行に１事例を書き出すこととし，カテゴリ名と記事見出しのタブ区切り形式とせよ（このファイルは後に問題70で再利用する）．\n",
    "学習データと評価データを作成したら，各カテゴリの事例数を確認せよ．"
   ]
  },
  {
   "cell_type": "code",
   "execution_count": 1,
   "metadata": {},
   "outputs": [
    {
     "data": {
      "text/html": [
       "<div>\n",
       "<style scoped>\n",
       "    .dataframe tbody tr th:only-of-type {\n",
       "        vertical-align: middle;\n",
       "    }\n",
       "\n",
       "    .dataframe tbody tr th {\n",
       "        vertical-align: top;\n",
       "    }\n",
       "\n",
       "    .dataframe thead th {\n",
       "        text-align: right;\n",
       "    }\n",
       "</style>\n",
       "<table border=\"1\" class=\"dataframe\">\n",
       "  <thead>\n",
       "    <tr style=\"text-align: right;\">\n",
       "      <th></th>\n",
       "      <th>title</th>\n",
       "      <th>url</th>\n",
       "      <th>publisher</th>\n",
       "      <th>category</th>\n",
       "      <th>story</th>\n",
       "      <th>hostname</th>\n",
       "      <th>timestamp</th>\n",
       "    </tr>\n",
       "    <tr>\n",
       "      <th>id</th>\n",
       "      <th></th>\n",
       "      <th></th>\n",
       "      <th></th>\n",
       "      <th></th>\n",
       "      <th></th>\n",
       "      <th></th>\n",
       "      <th></th>\n",
       "    </tr>\n",
       "  </thead>\n",
       "  <tbody>\n",
       "    <tr>\n",
       "      <th>1</th>\n",
       "      <td>Fed official says weak data caused by weather,...</td>\n",
       "      <td>http://www.latimes.com/business/money/la-fi-mo...</td>\n",
       "      <td>Los Angeles Times</td>\n",
       "      <td>b</td>\n",
       "      <td>ddUyU0VZz0BRneMioxUPQVP6sIxvM</td>\n",
       "      <td>www.latimes.com</td>\n",
       "      <td>1394470370698</td>\n",
       "    </tr>\n",
       "    <tr>\n",
       "      <th>2</th>\n",
       "      <td>Fed's Charles Plosser sees high bar for change...</td>\n",
       "      <td>http://www.livemint.com/Politics/H2EvwJSK2VE6O...</td>\n",
       "      <td>Livemint</td>\n",
       "      <td>b</td>\n",
       "      <td>ddUyU0VZz0BRneMioxUPQVP6sIxvM</td>\n",
       "      <td>www.livemint.com</td>\n",
       "      <td>1394470371207</td>\n",
       "    </tr>\n",
       "    <tr>\n",
       "      <th>3</th>\n",
       "      <td>US open: Stocks fall after Fed official hints ...</td>\n",
       "      <td>http://www.ifamagazine.com/news/us-open-stocks...</td>\n",
       "      <td>IFA Magazine</td>\n",
       "      <td>b</td>\n",
       "      <td>ddUyU0VZz0BRneMioxUPQVP6sIxvM</td>\n",
       "      <td>www.ifamagazine.com</td>\n",
       "      <td>1394470371550</td>\n",
       "    </tr>\n",
       "    <tr>\n",
       "      <th>4</th>\n",
       "      <td>Fed risks falling 'behind the curve', Charles ...</td>\n",
       "      <td>http://www.ifamagazine.com/news/fed-risks-fall...</td>\n",
       "      <td>IFA Magazine</td>\n",
       "      <td>b</td>\n",
       "      <td>ddUyU0VZz0BRneMioxUPQVP6sIxvM</td>\n",
       "      <td>www.ifamagazine.com</td>\n",
       "      <td>1394470371793</td>\n",
       "    </tr>\n",
       "    <tr>\n",
       "      <th>5</th>\n",
       "      <td>Fed's Plosser: Nasty Weather Has Curbed Job Gr...</td>\n",
       "      <td>http://www.moneynews.com/Economy/federal-reser...</td>\n",
       "      <td>Moneynews</td>\n",
       "      <td>b</td>\n",
       "      <td>ddUyU0VZz0BRneMioxUPQVP6sIxvM</td>\n",
       "      <td>www.moneynews.com</td>\n",
       "      <td>1394470372027</td>\n",
       "    </tr>\n",
       "  </tbody>\n",
       "</table>\n",
       "</div>"
      ],
      "text/plain": [
       "                                                title  \\\n",
       "id                                                      \n",
       "1   Fed official says weak data caused by weather,...   \n",
       "2   Fed's Charles Plosser sees high bar for change...   \n",
       "3   US open: Stocks fall after Fed official hints ...   \n",
       "4   Fed risks falling 'behind the curve', Charles ...   \n",
       "5   Fed's Plosser: Nasty Weather Has Curbed Job Gr...   \n",
       "\n",
       "                                                  url          publisher  \\\n",
       "id                                                                         \n",
       "1   http://www.latimes.com/business/money/la-fi-mo...  Los Angeles Times   \n",
       "2   http://www.livemint.com/Politics/H2EvwJSK2VE6O...           Livemint   \n",
       "3   http://www.ifamagazine.com/news/us-open-stocks...       IFA Magazine   \n",
       "4   http://www.ifamagazine.com/news/fed-risks-fall...       IFA Magazine   \n",
       "5   http://www.moneynews.com/Economy/federal-reser...          Moneynews   \n",
       "\n",
       "   category                          story             hostname      timestamp  \n",
       "id                                                                              \n",
       "1         b  ddUyU0VZz0BRneMioxUPQVP6sIxvM      www.latimes.com  1394470370698  \n",
       "2         b  ddUyU0VZz0BRneMioxUPQVP6sIxvM     www.livemint.com  1394470371207  \n",
       "3         b  ddUyU0VZz0BRneMioxUPQVP6sIxvM  www.ifamagazine.com  1394470371550  \n",
       "4         b  ddUyU0VZz0BRneMioxUPQVP6sIxvM  www.ifamagazine.com  1394470371793  \n",
       "5         b  ddUyU0VZz0BRneMioxUPQVP6sIxvM    www.moneynews.com  1394470372027  "
      ]
     },
     "execution_count": 1,
     "metadata": {},
     "output_type": "execute_result"
    }
   ],
   "source": [
    "import pandas as pd\n",
    "\n",
    "df = pd.read_csv(\"NewsAggregatorDataset/newsCorpora.csv\", sep=\"\\t\", index_col=0, names=[\"id\", \"title\", \"url\", \"publisher\", \"category\", \"story\", \"hostname\", \"timestamp\"])\n",
    "df.head()"
   ]
  },
  {
   "cell_type": "markdown",
   "metadata": {},
   "source": [
    "情報源（publisher）が”Reuters”, “Huffington Post”, “Businessweek”, “Contactmusic.com”, “Daily Mail”の事例（記事）のみを抽出する．"
   ]
  },
  {
   "cell_type": "code",
   "execution_count": 2,
   "metadata": {},
   "outputs": [
    {
     "data": {
      "text/html": [
       "<div>\n",
       "<style scoped>\n",
       "    .dataframe tbody tr th:only-of-type {\n",
       "        vertical-align: middle;\n",
       "    }\n",
       "\n",
       "    .dataframe tbody tr th {\n",
       "        vertical-align: top;\n",
       "    }\n",
       "\n",
       "    .dataframe thead th {\n",
       "        text-align: right;\n",
       "    }\n",
       "</style>\n",
       "<table border=\"1\" class=\"dataframe\">\n",
       "  <thead>\n",
       "    <tr style=\"text-align: right;\">\n",
       "      <th></th>\n",
       "      <th>title</th>\n",
       "      <th>url</th>\n",
       "      <th>publisher</th>\n",
       "      <th>category</th>\n",
       "      <th>story</th>\n",
       "      <th>hostname</th>\n",
       "      <th>timestamp</th>\n",
       "    </tr>\n",
       "    <tr>\n",
       "      <th>id</th>\n",
       "      <th></th>\n",
       "      <th></th>\n",
       "      <th></th>\n",
       "      <th></th>\n",
       "      <th></th>\n",
       "      <th></th>\n",
       "      <th></th>\n",
       "    </tr>\n",
       "  </thead>\n",
       "  <tbody>\n",
       "    <tr>\n",
       "      <th>13</th>\n",
       "      <td>Europe reaches crunch point on banking union</td>\n",
       "      <td>http://in.reuters.com/article/2014/03/10/eu-ba...</td>\n",
       "      <td>Reuters</td>\n",
       "      <td>b</td>\n",
       "      <td>dPhGU51DcrolUIMxbRm0InaHGA2XM</td>\n",
       "      <td>in.reuters.com</td>\n",
       "      <td>1394470501755</td>\n",
       "    </tr>\n",
       "    <tr>\n",
       "      <th>14</th>\n",
       "      <td>ECB FOCUS-Stronger euro drowns out ECB's messa...</td>\n",
       "      <td>http://in.reuters.com/article/2014/03/10/ecb-p...</td>\n",
       "      <td>Reuters</td>\n",
       "      <td>b</td>\n",
       "      <td>dPhGU51DcrolUIMxbRm0InaHGA2XM</td>\n",
       "      <td>in.reuters.com</td>\n",
       "      <td>1394470501948</td>\n",
       "    </tr>\n",
       "    <tr>\n",
       "      <th>20</th>\n",
       "      <td>Euro Anxieties Wane as Bunds Top Treasuries, S...</td>\n",
       "      <td>http://www.businessweek.com/news/2014-03-10/ge...</td>\n",
       "      <td>Businessweek</td>\n",
       "      <td>b</td>\n",
       "      <td>dPhGU51DcrolUIMxbRm0InaHGA2XM</td>\n",
       "      <td>www.businessweek.com</td>\n",
       "      <td>1394470503148</td>\n",
       "    </tr>\n",
       "    <tr>\n",
       "      <th>21</th>\n",
       "      <td>Noyer Says Strong Euro Creates Unwarranted Eco...</td>\n",
       "      <td>http://www.businessweek.com/news/2014-03-10/no...</td>\n",
       "      <td>Businessweek</td>\n",
       "      <td>b</td>\n",
       "      <td>dPhGU51DcrolUIMxbRm0InaHGA2XM</td>\n",
       "      <td>www.businessweek.com</td>\n",
       "      <td>1394470503366</td>\n",
       "    </tr>\n",
       "    <tr>\n",
       "      <th>30</th>\n",
       "      <td>REFILE-Bad loan triggers key feature in ECB ba...</td>\n",
       "      <td>http://in.reuters.com/article/2014/03/10/euroz...</td>\n",
       "      <td>Reuters</td>\n",
       "      <td>b</td>\n",
       "      <td>dPhGU51DcrolUIMxbRm0InaHGA2XM</td>\n",
       "      <td>in.reuters.com</td>\n",
       "      <td>1394470505070</td>\n",
       "    </tr>\n",
       "  </tbody>\n",
       "</table>\n",
       "</div>"
      ],
      "text/plain": [
       "                                                title  \\\n",
       "id                                                      \n",
       "13       Europe reaches crunch point on banking union   \n",
       "14  ECB FOCUS-Stronger euro drowns out ECB's messa...   \n",
       "20  Euro Anxieties Wane as Bunds Top Treasuries, S...   \n",
       "21  Noyer Says Strong Euro Creates Unwarranted Eco...   \n",
       "30  REFILE-Bad loan triggers key feature in ECB ba...   \n",
       "\n",
       "                                                  url     publisher category  \\\n",
       "id                                                                             \n",
       "13  http://in.reuters.com/article/2014/03/10/eu-ba...       Reuters        b   \n",
       "14  http://in.reuters.com/article/2014/03/10/ecb-p...       Reuters        b   \n",
       "20  http://www.businessweek.com/news/2014-03-10/ge...  Businessweek        b   \n",
       "21  http://www.businessweek.com/news/2014-03-10/no...  Businessweek        b   \n",
       "30  http://in.reuters.com/article/2014/03/10/euroz...       Reuters        b   \n",
       "\n",
       "                            story              hostname      timestamp  \n",
       "id                                                                      \n",
       "13  dPhGU51DcrolUIMxbRm0InaHGA2XM        in.reuters.com  1394470501755  \n",
       "14  dPhGU51DcrolUIMxbRm0InaHGA2XM        in.reuters.com  1394470501948  \n",
       "20  dPhGU51DcrolUIMxbRm0InaHGA2XM  www.businessweek.com  1394470503148  \n",
       "21  dPhGU51DcrolUIMxbRm0InaHGA2XM  www.businessweek.com  1394470503366  \n",
       "30  dPhGU51DcrolUIMxbRm0InaHGA2XM        in.reuters.com  1394470505070  "
      ]
     },
     "execution_count": 2,
     "metadata": {},
     "output_type": "execute_result"
    }
   ],
   "source": [
    "valid_publisher = [\"Reuters\", \"Huffington Post\", \"Businessweek\", \"Contactmusic.com\", \"Daily Mail\"]\n",
    "df = df.loc[df[\"publisher\"].isin(valid_publisher), :]\n",
    "df.head()"
   ]
  },
  {
   "cell_type": "code",
   "execution_count": 3,
   "metadata": {},
   "outputs": [
    {
     "data": {
      "text/html": [
       "<div>\n",
       "<style scoped>\n",
       "    .dataframe tbody tr th:only-of-type {\n",
       "        vertical-align: middle;\n",
       "    }\n",
       "\n",
       "    .dataframe tbody tr th {\n",
       "        vertical-align: top;\n",
       "    }\n",
       "\n",
       "    .dataframe thead th {\n",
       "        text-align: right;\n",
       "    }\n",
       "</style>\n",
       "<table border=\"1\" class=\"dataframe\">\n",
       "  <thead>\n",
       "    <tr style=\"text-align: right;\">\n",
       "      <th></th>\n",
       "      <th>title</th>\n",
       "      <th>url</th>\n",
       "      <th>publisher</th>\n",
       "      <th>category</th>\n",
       "      <th>story</th>\n",
       "      <th>hostname</th>\n",
       "      <th>timestamp</th>\n",
       "    </tr>\n",
       "  </thead>\n",
       "  <tbody>\n",
       "    <tr>\n",
       "      <th>0</th>\n",
       "      <td>Taco Bell reveals 'secret' ingredients of myst...</td>\n",
       "      <td>http://www.dailymail.co.uk/news/article-261629...</td>\n",
       "      <td>Daily Mail</td>\n",
       "      <td>b</td>\n",
       "      <td>dqycDHxL4IT2bfM80cii2l60F1oaM</td>\n",
       "      <td>www.dailymail.co.uk</td>\n",
       "      <td>1398870059991</td>\n",
       "    </tr>\n",
       "    <tr>\n",
       "      <th>1</th>\n",
       "      <td>RPT-UPDATE 2-Carlyle hires JPMorgan's Cavanagh...</td>\n",
       "      <td>http://www.reuters.com/article/2014/03/25/carl...</td>\n",
       "      <td>Reuters</td>\n",
       "      <td>b</td>\n",
       "      <td>d6vEKclqV_iZEsM3pQ3S-2mnaqZUM</td>\n",
       "      <td>www.reuters.com</td>\n",
       "      <td>1395771699595</td>\n",
       "    </tr>\n",
       "    <tr>\n",
       "      <th>2</th>\n",
       "      <td>Argentina Deposits $1 Billion For June 30 Bond...</td>\n",
       "      <td>http://www.businessweek.com/news/2014-06-26/ar...</td>\n",
       "      <td>Businessweek</td>\n",
       "      <td>b</td>\n",
       "      <td>dAnZOhVBFIp0-qM-n4Cz0cJ6bJWiM</td>\n",
       "      <td>www.businessweek.com</td>\n",
       "      <td>1403853546347</td>\n",
       "    </tr>\n",
       "    <tr>\n",
       "      <th>3</th>\n",
       "      <td>Banksy art work showing government agents spyi...</td>\n",
       "      <td>http://www.dailymail.co.uk/news/article-260378...</td>\n",
       "      <td>Daily Mail</td>\n",
       "      <td>e</td>\n",
       "      <td>dcBt4tU0L52iiTMQ4rip8YRmnr9xM</td>\n",
       "      <td>www.dailymail.co.uk</td>\n",
       "      <td>1397518333460</td>\n",
       "    </tr>\n",
       "    <tr>\n",
       "      <th>4</th>\n",
       "      <td>An acrobatic stunt went horribly wrong on Sund...</td>\n",
       "      <td>http://www.dailymail.co.uk/news/article-262058...</td>\n",
       "      <td>Daily Mail</td>\n",
       "      <td>e</td>\n",
       "      <td>dWk63DgdVT-SlcMa4jUUmSMotZ5AM</td>\n",
       "      <td>www.dailymail.co.uk</td>\n",
       "      <td>1399320829491</td>\n",
       "    </tr>\n",
       "  </tbody>\n",
       "</table>\n",
       "</div>"
      ],
      "text/plain": [
       "                                               title  \\\n",
       "0  Taco Bell reveals 'secret' ingredients of myst...   \n",
       "1  RPT-UPDATE 2-Carlyle hires JPMorgan's Cavanagh...   \n",
       "2  Argentina Deposits $1 Billion For June 30 Bond...   \n",
       "3  Banksy art work showing government agents spyi...   \n",
       "4  An acrobatic stunt went horribly wrong on Sund...   \n",
       "\n",
       "                                                 url     publisher category  \\\n",
       "0  http://www.dailymail.co.uk/news/article-261629...    Daily Mail        b   \n",
       "1  http://www.reuters.com/article/2014/03/25/carl...       Reuters        b   \n",
       "2  http://www.businessweek.com/news/2014-06-26/ar...  Businessweek        b   \n",
       "3  http://www.dailymail.co.uk/news/article-260378...    Daily Mail        e   \n",
       "4  http://www.dailymail.co.uk/news/article-262058...    Daily Mail        e   \n",
       "\n",
       "                           story              hostname      timestamp  \n",
       "0  dqycDHxL4IT2bfM80cii2l60F1oaM   www.dailymail.co.uk  1398870059991  \n",
       "1  d6vEKclqV_iZEsM3pQ3S-2mnaqZUM       www.reuters.com  1395771699595  \n",
       "2  dAnZOhVBFIp0-qM-n4Cz0cJ6bJWiM  www.businessweek.com  1403853546347  \n",
       "3  dcBt4tU0L52iiTMQ4rip8YRmnr9xM   www.dailymail.co.uk  1397518333460  \n",
       "4  dWk63DgdVT-SlcMa4jUUmSMotZ5AM   www.dailymail.co.uk  1399320829491  "
      ]
     },
     "execution_count": 3,
     "metadata": {},
     "output_type": "execute_result"
    }
   ],
   "source": [
    "df = df.sample(frac=1, random_state=42)\n",
    "df = df.reset_index(drop=True)\n",
    "df.head()"
   ]
  },
  {
   "cell_type": "code",
   "execution_count": 4,
   "metadata": {},
   "outputs": [
    {
     "name": "stdout",
     "output_type": "stream",
     "text": [
      "13340\n"
     ]
    }
   ],
   "source": [
    "print(len(df))"
   ]
  },
  {
   "cell_type": "code",
   "execution_count": 18,
   "metadata": {},
   "outputs": [
    {
     "name": "stdout",
     "output_type": "stream",
     "text": [
      "10672\n",
      "1334\n",
      "1334\n"
     ]
    }
   ],
   "source": [
    "total_size = len(df)\n",
    "train_size = int(0.8*total_size)\n",
    "valid_size = int(0.1*total_size)\n",
    "test_size = total_size - train_size - valid_size\n",
    "\n",
    "train_df = df.iloc[:train_size, :]\n",
    "valid_df = df.iloc[train_size:train_size+valid_size, :]\n",
    "test_df = df.iloc[train_size+valid_size:, :]\n",
    "\n",
    "train_df.to_csv(\"train.txt\", sep=\"\\t\")\n",
    "valid_df.to_csv(\"valid.txt\", sep=\"\\t\")\n",
    "test_df.to_csv(\"test.txt\", sep=\"\\t\")\n",
    "\n",
    "print(len(train_df))\n",
    "print(len(valid_df))\n",
    "print(len(test_df))"
   ]
  },
  {
   "cell_type": "code",
   "execution_count": 6,
   "metadata": {},
   "outputs": [
    {
     "name": "stdout",
     "output_type": "stream",
     "text": [
      "['e', 'b', 'm', 't']\n"
     ]
    }
   ],
   "source": [
    "category_name = list(set(df[\"category\"]))\n",
    "print(category_name)"
   ]
  },
  {
   "cell_type": "code",
   "execution_count": 7,
   "metadata": {},
   "outputs": [
    {
     "data": {
      "text/plain": [
       "category\n",
       "b    4530\n",
       "e    4178\n",
       "m     739\n",
       "t    1225\n",
       "dtype: int64"
      ]
     },
     "execution_count": 7,
     "metadata": {},
     "output_type": "execute_result"
    }
   ],
   "source": [
    "train_df.groupby([\"category\"]).size()"
   ]
  },
  {
   "cell_type": "code",
   "execution_count": 8,
   "metadata": {},
   "outputs": [
    {
     "data": {
      "text/plain": [
       "category\n",
       "b    539\n",
       "e    560\n",
       "m     91\n",
       "t    144\n",
       "dtype: int64"
      ]
     },
     "execution_count": 8,
     "metadata": {},
     "output_type": "execute_result"
    }
   ],
   "source": [
    "valid_df.groupby(\"category\").size()"
   ]
  },
  {
   "cell_type": "code",
   "execution_count": 9,
   "metadata": {},
   "outputs": [
    {
     "data": {
      "text/plain": [
       "category\n",
       "b    558\n",
       "e    541\n",
       "m     80\n",
       "t    155\n",
       "dtype: int64"
      ]
     },
     "execution_count": 9,
     "metadata": {},
     "output_type": "execute_result"
    }
   ],
   "source": [
    "test_df.groupby(\"category\").size()"
   ]
  },
  {
   "cell_type": "markdown",
   "metadata": {},
   "source": [
    "## 51. 特徴量抽出\n",
    "学習データ，検証データ，評価データから特徴量を抽出し，それぞれtrain.feature.txt，valid.feature.txt，test.feature.txtというファイル名で保存せよ． なお，カテゴリ分類に有用そうな特徴量は各自で自由に設計せよ．記事の見出しを単語列に変換したものが最低限のベースラインとなるであろう．"
   ]
  },
  {
   "cell_type": "markdown",
   "metadata": {},
   "source": [
    "TFIDFとPublisherを特徴として使用してみる。"
   ]
  },
  {
   "cell_type": "code",
   "execution_count": 10,
   "metadata": {},
   "outputs": [],
   "source": [
    "import numpy as np\n",
    "from sklearn.feature_extraction.text import TfidfVectorizer\n",
    "from sklearn import preprocessing\n",
    "\n",
    "tfidf_vectorizer = TfidfVectorizer()\n",
    "publisher_vectorizer = preprocessing.OneHotEncoder()\n",
    "category_encoder = preprocessing.LabelEncoder()\n",
    "\n",
    "tfidf_train = tfidf_vectorizer.fit_transform(train_df[\"title\"]).toarray()\n",
    "pub_train = np.array(train_df[\"publisher\"])\n",
    "pub_train = pub_train[:, np.newaxis]\n",
    "pub_train = publisher_vectorizer.fit_transform(pub_train).toarray()\n",
    "y_train = category_encoder.fit_transform(train_df[\"category\"])\n",
    "y_train = y_train[:, np.newaxis]\n",
    "train_table = np.concatenate([tfidf_train, pub_train, y_train], axis=1)\n",
    "\n",
    "tfidf_val = tfidf_vectorizer.transform(valid_df[\"title\"]).toarray()\n",
    "pub_val = np.array(valid_df[\"publisher\"])\n",
    "pub_val = pub_val[:, np.newaxis]\n",
    "pub_val = publisher_vectorizer.transform(pub_val).toarray()\n",
    "y_val = category_encoder.transform(valid_df[\"category\"])\n",
    "y_val = y_val[:, np.newaxis]\n",
    "valid_table = np.concatenate([tfidf_val, pub_val, y_val], axis=1)\n",
    "\n",
    "tfidf_test = tfidf_vectorizer.transform(test_df[\"title\"]).toarray()\n",
    "pub_test = np.array(test_df[\"publisher\"])\n",
    "pub_test = pub_test[:, np.newaxis]\n",
    "pub_test = publisher_vectorizer.transform(pub_test).toarray()\n",
    "y_test = category_encoder.transform(test_df[\"category\"])\n",
    "y_test = y_test[:, np.newaxis]\n",
    "test_table = np.concatenate([tfidf_test, pub_test, y_test], axis=1)\n",
    "\n",
    "with open(\"train.feature.txt\", \"w\") as f:\n",
    "    np.savetxt(f, train_table, delimiter=\",\")\n",
    "with open(\"valid.feature.txt\", \"w\") as f:\n",
    "    np.savetxt(f, valid_table, delimiter=\",\")\n",
    "with open(\"test.feature.txt\", \"w\") as f:\n",
    "    np.savetxt(f, test_table, delimiter=\",\")"
   ]
  },
  {
   "cell_type": "markdown",
   "metadata": {},
   "source": [
    "## 52. 学習\n",
    "51で構築した学習データを用いて，ロジスティック回帰モデルを学習せよ．"
   ]
  },
  {
   "cell_type": "code",
   "execution_count": 11,
   "metadata": {},
   "outputs": [
    {
     "name": "stderr",
     "output_type": "stream",
     "text": [
      "C:\\Users\\kiyohiro\\anaconda3\\envs\\pytorch\\lib\\site-packages\\sklearn\\linear_model\\_logistic.py:762: ConvergenceWarning: lbfgs failed to converge (status=1):\n",
      "STOP: TOTAL NO. of ITERATIONS REACHED LIMIT.\n",
      "\n",
      "Increase the number of iterations (max_iter) or scale the data as shown in:\n",
      "    https://scikit-learn.org/stable/modules/preprocessing.html\n",
      "Please also refer to the documentation for alternative solver options:\n",
      "    https://scikit-learn.org/stable/modules/linear_model.html#logistic-regression\n",
      "  n_iter_i = _check_optimize_result(\n"
     ]
    },
    {
     "data": {
      "text/plain": [
       "LogisticRegression()"
      ]
     },
     "execution_count": 11,
     "metadata": {},
     "output_type": "execute_result"
    }
   ],
   "source": [
    "from sklearn.linear_model import LogisticRegression\n",
    "\n",
    "model = LogisticRegression()\n",
    "X_train = train_table[:, :-1]\n",
    "y_train = train_table[:, -1]\n",
    "model.fit(X_train, y_train)"
   ]
  },
  {
   "cell_type": "code",
   "execution_count": 12,
   "metadata": {},
   "outputs": [
    {
     "name": "stdout",
     "output_type": "stream",
     "text": [
      "[1. 1. 0. 1. 1. 0. 0. 1. 0. 1.] [1. 1. 0. 1. 3. 0. 0. 2. 0. 1.]\n"
     ]
    }
   ],
   "source": [
    "X_val = valid_table[:, :-1]\n",
    "y_val = valid_table[:, -1]\n",
    "\n",
    "pred_val = model.predict(X_val)\n",
    "print(pred_val[:10], y_val[:10])"
   ]
  },
  {
   "cell_type": "markdown",
   "metadata": {},
   "source": [
    "## 52. 予測\n",
    "52で学習したロジスティック回帰モデルを用い，与えられた記事見出しからカテゴリとその予測確率を計算するプログラムを実装せよ．"
   ]
  },
  {
   "cell_type": "code",
   "execution_count": 47,
   "metadata": {},
   "outputs": [],
   "source": [
    "def predict(model, tfidf_vectorizer, publisher_vectorizer, article):\n",
    "    heading = article[\"title\"]\n",
    "    publisher = article[\"publisher\"]\n",
    "    tfidf_feature = tfidf_vectorizer.transform([heading]).toarray()\n",
    "    pub_feature = np.array([[article[\"publisher\"]]])\n",
    "    pub_feature = publisher_vectorizer.transform(pub_feature).toarray()\n",
    "    feature = np.concatenate([tfidf_feature, pub_feature], axis=1)\n",
    "    pred = model.predict(feature)\n",
    "    prob = model.predict_proba(feature)\n",
    "    return pred, prob"
   ]
  },
  {
   "cell_type": "code",
   "execution_count": 48,
   "metadata": {},
   "outputs": [
    {
     "data": {
      "text/html": [
       "<div>\n",
       "<style scoped>\n",
       "    .dataframe tbody tr th:only-of-type {\n",
       "        vertical-align: middle;\n",
       "    }\n",
       "\n",
       "    .dataframe tbody tr th {\n",
       "        vertical-align: top;\n",
       "    }\n",
       "\n",
       "    .dataframe thead th {\n",
       "        text-align: right;\n",
       "    }\n",
       "</style>\n",
       "<table border=\"1\" class=\"dataframe\">\n",
       "  <thead>\n",
       "    <tr style=\"text-align: right;\">\n",
       "      <th></th>\n",
       "      <th>title</th>\n",
       "      <th>url</th>\n",
       "      <th>publisher</th>\n",
       "      <th>category</th>\n",
       "      <th>story</th>\n",
       "      <th>hostname</th>\n",
       "      <th>timestamp</th>\n",
       "    </tr>\n",
       "  </thead>\n",
       "  <tbody>\n",
       "    <tr>\n",
       "      <th>0</th>\n",
       "      <td>The soberphone app for alcoholics can set off ...</td>\n",
       "      <td>http://www.dailymail.co.uk/sciencetech/article...</td>\n",
       "      <td>Daily Mail</td>\n",
       "      <td>m</td>\n",
       "      <td>dpHGL0G2nz5uNHMyhbG0mnH-YCcAM</td>\n",
       "      <td>www.dailymail.co.uk</td>\n",
       "      <td>1395889717874</td>\n",
       "    </tr>\n",
       "    <tr>\n",
       "      <th>1</th>\n",
       "      <td>Check Out These Three New 'Amazing Spider-Man ...</td>\n",
       "      <td>http://www.contactmusic.com/article/the-amazin...</td>\n",
       "      <td>Contactmusic.com</td>\n",
       "      <td>e</td>\n",
       "      <td>dNuwxFDyj7j_V5MwWsFQrjzFGhoMM</td>\n",
       "      <td>www.contactmusic.com</td>\n",
       "      <td>1395065393493</td>\n",
       "    </tr>\n",
       "    <tr>\n",
       "      <th>2</th>\n",
       "      <td>Wedding war tears apart Aspen town: New York c...</td>\n",
       "      <td>http://www.dailymail.co.uk/news/article-265730...</td>\n",
       "      <td>Daily Mail</td>\n",
       "      <td>b</td>\n",
       "      <td>dBf7JQWFOpDIJQMbhISAsGw_nRDVM</td>\n",
       "      <td>www.dailymail.co.uk</td>\n",
       "      <td>1402736926882</td>\n",
       "    </tr>\n",
       "    <tr>\n",
       "      <th>3</th>\n",
       "      <td>Look Ma, No Hands: Sergey Brin's GoogleCar Has...</td>\n",
       "      <td>http://www.businessweek.com/articles/2014-05-2...</td>\n",
       "      <td>Businessweek</td>\n",
       "      <td>t</td>\n",
       "      <td>du8-WwxCtj8uy6Mzq9tfSRRix4MHM</td>\n",
       "      <td>www.businessweek.com</td>\n",
       "      <td>1401294972045</td>\n",
       "    </tr>\n",
       "    <tr>\n",
       "      <th>4</th>\n",
       "      <td>Japan Whale Hunt Set To Begin With Smaller Cat...</td>\n",
       "      <td>http://www.huffingtonpost.com/2014/04/18/japan...</td>\n",
       "      <td>Huffington Post</td>\n",
       "      <td>t</td>\n",
       "      <td>dBlg8M1Tc52iJXMUO86uQ6UJqxC7M</td>\n",
       "      <td>www.huffingtonpost.com</td>\n",
       "      <td>1397891567501</td>\n",
       "    </tr>\n",
       "  </tbody>\n",
       "</table>\n",
       "</div>"
      ],
      "text/plain": [
       "                                               title  \\\n",
       "0  The soberphone app for alcoholics can set off ...   \n",
       "1  Check Out These Three New 'Amazing Spider-Man ...   \n",
       "2  Wedding war tears apart Aspen town: New York c...   \n",
       "3  Look Ma, No Hands: Sergey Brin's GoogleCar Has...   \n",
       "4  Japan Whale Hunt Set To Begin With Smaller Cat...   \n",
       "\n",
       "                                                 url         publisher  \\\n",
       "0  http://www.dailymail.co.uk/sciencetech/article...        Daily Mail   \n",
       "1  http://www.contactmusic.com/article/the-amazin...  Contactmusic.com   \n",
       "2  http://www.dailymail.co.uk/news/article-265730...        Daily Mail   \n",
       "3  http://www.businessweek.com/articles/2014-05-2...      Businessweek   \n",
       "4  http://www.huffingtonpost.com/2014/04/18/japan...   Huffington Post   \n",
       "\n",
       "  category                          story                hostname  \\\n",
       "0        m  dpHGL0G2nz5uNHMyhbG0mnH-YCcAM     www.dailymail.co.uk   \n",
       "1        e  dNuwxFDyj7j_V5MwWsFQrjzFGhoMM    www.contactmusic.com   \n",
       "2        b  dBf7JQWFOpDIJQMbhISAsGw_nRDVM     www.dailymail.co.uk   \n",
       "3        t  du8-WwxCtj8uy6Mzq9tfSRRix4MHM    www.businessweek.com   \n",
       "4        t  dBlg8M1Tc52iJXMUO86uQ6UJqxC7M  www.huffingtonpost.com   \n",
       "\n",
       "       timestamp  \n",
       "0  1395889717874  \n",
       "1  1395065393493  \n",
       "2  1402736926882  \n",
       "3  1401294972045  \n",
       "4  1397891567501  "
      ]
     },
     "execution_count": 48,
     "metadata": {},
     "output_type": "execute_result"
    }
   ],
   "source": [
    "test_df.reset_index(inplace=True, drop=True)\n",
    "test_df.head()"
   ]
  },
  {
   "cell_type": "code",
   "execution_count": 49,
   "metadata": {},
   "outputs": [
    {
     "name": "stdout",
     "output_type": "stream",
     "text": [
      "[1.] [[0.1720823  0.34184502 0.17945534 0.30661734]]\n"
     ]
    }
   ],
   "source": [
    "pred, prob = predict(model, tfidf_vectorizer, publisher_vectorizer, test_df.loc[0, :])\n",
    "print(pred, prob)"
   ]
  },
  {
   "cell_type": "markdown",
   "metadata": {},
   "source": [
    "## 54. 正解率の計測\n",
    "52で学習したロジスティック回帰モデルの正解率を，学習データおよび評価データ上で計測せよ"
   ]
  },
  {
   "cell_type": "code",
   "execution_count": 52,
   "metadata": {},
   "outputs": [],
   "source": [
    "def predict_df(model, tfidf_vectorizer, publisher_vectorizer, df):\n",
    "    heading = df[\"title\"]\n",
    "    publisher = df[\"publisher\"]\n",
    "    tfidf_feature = tfidf_vectorizer.transform(heading).toarray()\n",
    "    pub_feature = np.array(df[\"publisher\"])\n",
    "    pub_feature = pub_feature[:, np.newaxis]\n",
    "    pub_feature = publisher_vectorizer.transform(pub_feature).toarray()\n",
    "    feature = np.concatenate([tfidf_feature, pub_feature], axis=1)\n",
    "    preds = model.predict(feature)\n",
    "    return preds"
   ]
  },
  {
   "cell_type": "code",
   "execution_count": 59,
   "metadata": {},
   "outputs": [],
   "source": [
    "def calculate_accuracy(pred, gt):\n",
    "    return np.mean((pred == gt).astype(np.int32))"
   ]
  },
  {
   "cell_type": "code",
   "execution_count": 67,
   "metadata": {},
   "outputs": [
    {
     "name": "stdout",
     "output_type": "stream",
     "text": [
      "0.9335644677661169\n"
     ]
    }
   ],
   "source": [
    "train_pred = predict_df(model, tfidf_vectorizer, publisher_vectorizer, train_df).astype(np.int32)\n",
    "\n",
    "train_gt = category_encoder.fit_transform(train_df[\"category\"])\n",
    "\n",
    "print(calculate_accuracy(train_pred, train_gt))"
   ]
  },
  {
   "cell_type": "code",
   "execution_count": 68,
   "metadata": {},
   "outputs": [
    {
     "name": "stdout",
     "output_type": "stream",
     "text": [
      "0.8875562218890555\n"
     ]
    }
   ],
   "source": [
    "test_pred = predict_df(model, tfidf_vectorizer, publisher_vectorizer, test_df).astype(np.int32)\n",
    "\n",
    "test_gt = category_encoder.fit_transform(test_df[\"category\"])\n",
    "\n",
    "print(calculate_accuracy(test_pred, test_gt))"
   ]
  },
  {
   "cell_type": "markdown",
   "metadata": {},
   "source": [
    "## 55. 混同行列の作成\n",
    "52で学習したロジスティック回帰モデルの混同行列（confusion matrix）を，学習データおよび評価データ上で作成せよ．"
   ]
  },
  {
   "cell_type": "code",
   "execution_count": 70,
   "metadata": {},
   "outputs": [],
   "source": [
    "from sklearn.metrics import confusion_matrix\n",
    "import seaborn as sns\n",
    "import matplotlib.pyplot as plt\n",
    "\n",
    "%matplotlib inline"
   ]
  },
  {
   "cell_type": "code",
   "execution_count": 71,
   "metadata": {},
   "outputs": [
    {
     "data": {
      "text/plain": [
       "<matplotlib.axes._subplots.AxesSubplot at 0x1dcbcf57760>"
      ]
     },
     "execution_count": 71,
     "metadata": {},
     "output_type": "execute_result"
    },
    {
     "data": {
      "image/png": "[encoded data removed]",
      "text/plain": [
       "<Figure size 432x288 with 2 Axes>"
      ]
     },
     "metadata": {
      "needs_background": "light"
     },
     "output_type": "display_data"
    }
   ],
   "source": [
    "train_cm = confusion_matrix(train_gt, train_pred)\n",
    "sns.heatmap(train_cm)"
   ]
  },
  {
   "cell_type": "code",
   "execution_count": 73,
   "metadata": {},
   "outputs": [
    {
     "data": {
      "text/plain": [
       "<matplotlib.axes._subplots.AxesSubplot at 0x1dcbd4cfca0>"
      ]
     },
     "execution_count": 73,
     "metadata": {},
     "output_type": "execute_result"
    },
    {
     "data": {
      "image/png": "[encoded data removed]",
      "text/plain": [
       "<Figure size 432x288 with 2 Axes>"
      ]
     },
     "metadata": {
      "needs_background": "light"
     },
     "output_type": "display_data"
    }
   ],
   "source": [
    "test_cm = confusion_matrix(test_gt, test_pred)\n",
    "sns.heatmap(test_cm)"
   ]
  },
  {
   "cell_type": "code",
   "execution_count": null,
   "metadata": {},
   "outputs": [],
   "source": []
  }
 ],
 "metadata": {
  "kernelspec": {
   "display_name": "Python 3",
   "language": "python",
   "name": "python3"
  },
  "language_info": {
   "codemirror_mode": {
    "name": "ipython",
    "version": 3
   },
   "file_extension": ".py",
   "mimetype": "text/x-python",
   "name": "python",
   "nbconvert_exporter": "python",
   "pygments_lexer": "ipython3",
   "version": "3.8.3"
  }
 },
 "nbformat": 4,
 "nbformat_minor": 2
}
