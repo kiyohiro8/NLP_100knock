{
 "cells": [
  {
   "cell_type": "markdown",
   "metadata": {},
   "source": [
    "# 第6章: 機械学習\n",
    "言語処理100本ノック (https://nlp100.github.io/ja/) の第4章です。"
   ]
  },
  {
   "cell_type": "markdown",
   "metadata": {},
   "source": [
    "## 50. データの入手・整形\n",
    "News Aggregator Data Setをダウンロードし、以下の要領で学習データ（train.txt），検証データ（valid.txt），評価データ（test.txt）を作成せよ．\n",
    "\n",
    "ダウンロードしたzipファイルを解凍し，readme.txtの説明を読む．\n",
    "情報源（publisher）が”Reuters”, “Huffington Post”, “Businessweek”, “Contactmusic.com”, “Daily Mail”の事例（記事）のみを抽出する．\n",
    "抽出された事例をランダムに並び替える．\n",
    "抽出された事例の80%を学習データ，残りの10%ずつを検証データと評価データに分割し，それぞれtrain.txt，valid.txt，test.txtというファイル名で保存する．ファイルには，１行に１事例を書き出すこととし，カテゴリ名と記事見出しのタブ区切り形式とせよ（このファイルは後に問題70で再利用する）．\n",
    "学習データと評価データを作成したら，各カテゴリの事例数を確認せよ．"
   ]
  },
  {
   "cell_type": "code",
   "execution_count": 1,
   "metadata": {},
   "outputs": [
    {
     "data": {
      "text/html": [
       "<div>\n",
       "<style scoped>\n",
       "    .dataframe tbody tr th:only-of-type {\n",
       "        vertical-align: middle;\n",
       "    }\n",
       "\n",
       "    .dataframe tbody tr th {\n",
       "        vertical-align: top;\n",
       "    }\n",
       "\n",
       "    .dataframe thead th {\n",
       "        text-align: right;\n",
       "    }\n",
       "</style>\n",
       "<table border=\"1\" class=\"dataframe\">\n",
       "  <thead>\n",
       "    <tr style=\"text-align: right;\">\n",
       "      <th></th>\n",
       "      <th>title</th>\n",
       "      <th>url</th>\n",
       "      <th>publisher</th>\n",
       "      <th>category</th>\n",
       "      <th>story</th>\n",
       "      <th>hostname</th>\n",
       "      <th>timestamp</th>\n",
       "    </tr>\n",
       "    <tr>\n",
       "      <th>id</th>\n",
       "      <th></th>\n",
       "      <th></th>\n",
       "      <th></th>\n",
       "      <th></th>\n",
       "      <th></th>\n",
       "      <th></th>\n",
       "      <th></th>\n",
       "    </tr>\n",
       "  </thead>\n",
       "  <tbody>\n",
       "    <tr>\n",
       "      <th>1</th>\n",
       "      <td>Fed official says weak data caused by weather,...</td>\n",
       "      <td>http://www.latimes.com/business/money/la-fi-mo...</td>\n",
       "      <td>Los Angeles Times</td>\n",
       "      <td>b</td>\n",
       "      <td>ddUyU0VZz0BRneMioxUPQVP6sIxvM</td>\n",
       "      <td>www.latimes.com</td>\n",
       "      <td>1394470370698</td>\n",
       "    </tr>\n",
       "    <tr>\n",
       "      <th>2</th>\n",
       "      <td>Fed's Charles Plosser sees high bar for change...</td>\n",
       "      <td>http://www.livemint.com/Politics/H2EvwJSK2VE6O...</td>\n",
       "      <td>Livemint</td>\n",
       "      <td>b</td>\n",
       "      <td>ddUyU0VZz0BRneMioxUPQVP6sIxvM</td>\n",
       "      <td>www.livemint.com</td>\n",
       "      <td>1394470371207</td>\n",
       "    </tr>\n",
       "    <tr>\n",
       "      <th>3</th>\n",
       "      <td>US open: Stocks fall after Fed official hints ...</td>\n",
       "      <td>http://www.ifamagazine.com/news/us-open-stocks...</td>\n",
       "      <td>IFA Magazine</td>\n",
       "      <td>b</td>\n",
       "      <td>ddUyU0VZz0BRneMioxUPQVP6sIxvM</td>\n",
       "      <td>www.ifamagazine.com</td>\n",
       "      <td>1394470371550</td>\n",
       "    </tr>\n",
       "    <tr>\n",
       "      <th>4</th>\n",
       "      <td>Fed risks falling 'behind the curve', Charles ...</td>\n",
       "      <td>http://www.ifamagazine.com/news/fed-risks-fall...</td>\n",
       "      <td>IFA Magazine</td>\n",
       "      <td>b</td>\n",
       "      <td>ddUyU0VZz0BRneMioxUPQVP6sIxvM</td>\n",
       "      <td>www.ifamagazine.com</td>\n",
       "      <td>1394470371793</td>\n",
       "    </tr>\n",
       "    <tr>\n",
       "      <th>5</th>\n",
       "      <td>Fed's Plosser: Nasty Weather Has Curbed Job Gr...</td>\n",
       "      <td>http://www.moneynews.com/Economy/federal-reser...</td>\n",
       "      <td>Moneynews</td>\n",
       "      <td>b</td>\n",
       "      <td>ddUyU0VZz0BRneMioxUPQVP6sIxvM</td>\n",
       "      <td>www.moneynews.com</td>\n",
       "      <td>1394470372027</td>\n",
       "    </tr>\n",
       "  </tbody>\n",
       "</table>\n",
       "</div>"
      ],
      "text/plain": [
       "                                                title  \\\n",
       "id                                                      \n",
       "1   Fed official says weak data caused by weather,...   \n",
       "2   Fed's Charles Plosser sees high bar for change...   \n",
       "3   US open: Stocks fall after Fed official hints ...   \n",
       "4   Fed risks falling 'behind the curve', Charles ...   \n",
       "5   Fed's Plosser: Nasty Weather Has Curbed Job Gr...   \n",
       "\n",
       "                                                  url          publisher  \\\n",
       "id                                                                         \n",
       "1   http://www.latimes.com/business/money/la-fi-mo...  Los Angeles Times   \n",
       "2   http://www.livemint.com/Politics/H2EvwJSK2VE6O...           Livemint   \n",
       "3   http://www.ifamagazine.com/news/us-open-stocks...       IFA Magazine   \n",
       "4   http://www.ifamagazine.com/news/fed-risks-fall...       IFA Magazine   \n",
       "5   http://www.moneynews.com/Economy/federal-reser...          Moneynews   \n",
       "\n",
       "   category                          story             hostname      timestamp  \n",
       "id                                                                              \n",
       "1         b  ddUyU0VZz0BRneMioxUPQVP6sIxvM      www.latimes.com  1394470370698  \n",
       "2         b  ddUyU0VZz0BRneMioxUPQVP6sIxvM     www.livemint.com  1394470371207  \n",
       "3         b  ddUyU0VZz0BRneMioxUPQVP6sIxvM  www.ifamagazine.com  1394470371550  \n",
       "4         b  ddUyU0VZz0BRneMioxUPQVP6sIxvM  www.ifamagazine.com  1394470371793  \n",
       "5         b  ddUyU0VZz0BRneMioxUPQVP6sIxvM    www.moneynews.com  1394470372027  "
      ]
     },
     "execution_count": 1,
     "metadata": {},
     "output_type": "execute_result"
    }
   ],
   "source": [
    "import pandas as pd\n",
    "\n",
    "df = pd.read_csv(\"NewsAggregatorDataset/newsCorpora.csv\", sep=\"\\t\", index_col=0, names=[\"id\", \"title\", \"url\", \"publisher\", \"category\", \"story\", \"hostname\", \"timestamp\"])\n",
    "df.head()"
   ]
  },
  {
   "cell_type": "markdown",
   "metadata": {},
   "source": [
    "情報源（publisher）が”Reuters”, “Huffington Post”, “Businessweek”, “Contactmusic.com”, “Daily Mail”の事例（記事）のみを抽出する．"
   ]
  },
  {
   "cell_type": "code",
   "execution_count": 2,
   "metadata": {},
   "outputs": [
    {
     "data": {
      "text/html": [
       "<div>\n",
       "<style scoped>\n",
       "    .dataframe tbody tr th:only-of-type {\n",
       "        vertical-align: middle;\n",
       "    }\n",
       "\n",
       "    .dataframe tbody tr th {\n",
       "        vertical-align: top;\n",
       "    }\n",
       "\n",
       "    .dataframe thead th {\n",
       "        text-align: right;\n",
       "    }\n",
       "</style>\n",
       "<table border=\"1\" class=\"dataframe\">\n",
       "  <thead>\n",
       "    <tr style=\"text-align: right;\">\n",
       "      <th></th>\n",
       "      <th>title</th>\n",
       "      <th>url</th>\n",
       "      <th>publisher</th>\n",
       "      <th>category</th>\n",
       "      <th>story</th>\n",
       "      <th>hostname</th>\n",
       "      <th>timestamp</th>\n",
       "    </tr>\n",
       "    <tr>\n",
       "      <th>id</th>\n",
       "      <th></th>\n",
       "      <th></th>\n",
       "      <th></th>\n",
       "      <th></th>\n",
       "      <th></th>\n",
       "      <th></th>\n",
       "      <th></th>\n",
       "    </tr>\n",
       "  </thead>\n",
       "  <tbody>\n",
       "    <tr>\n",
       "      <th>13</th>\n",
       "      <td>Europe reaches crunch point on banking union</td>\n",
       "      <td>http://in.reuters.com/article/2014/03/10/eu-ba...</td>\n",
       "      <td>Reuters</td>\n",
       "      <td>b</td>\n",
       "      <td>dPhGU51DcrolUIMxbRm0InaHGA2XM</td>\n",
       "      <td>in.reuters.com</td>\n",
       "      <td>1394470501755</td>\n",
       "    </tr>\n",
       "    <tr>\n",
       "      <th>14</th>\n",
       "      <td>ECB FOCUS-Stronger euro drowns out ECB's messa...</td>\n",
       "      <td>http://in.reuters.com/article/2014/03/10/ecb-p...</td>\n",
       "      <td>Reuters</td>\n",
       "      <td>b</td>\n",
       "      <td>dPhGU51DcrolUIMxbRm0InaHGA2XM</td>\n",
       "      <td>in.reuters.com</td>\n",
       "      <td>1394470501948</td>\n",
       "    </tr>\n",
       "    <tr>\n",
       "      <th>20</th>\n",
       "      <td>Euro Anxieties Wane as Bunds Top Treasuries, S...</td>\n",
       "      <td>http://www.businessweek.com/news/2014-03-10/ge...</td>\n",
       "      <td>Businessweek</td>\n",
       "      <td>b</td>\n",
       "      <td>dPhGU51DcrolUIMxbRm0InaHGA2XM</td>\n",
       "      <td>www.businessweek.com</td>\n",
       "      <td>1394470503148</td>\n",
       "    </tr>\n",
       "    <tr>\n",
       "      <th>21</th>\n",
       "      <td>Noyer Says Strong Euro Creates Unwarranted Eco...</td>\n",
       "      <td>http://www.businessweek.com/news/2014-03-10/no...</td>\n",
       "      <td>Businessweek</td>\n",
       "      <td>b</td>\n",
       "      <td>dPhGU51DcrolUIMxbRm0InaHGA2XM</td>\n",
       "      <td>www.businessweek.com</td>\n",
       "      <td>1394470503366</td>\n",
       "    </tr>\n",
       "    <tr>\n",
       "      <th>30</th>\n",
       "      <td>REFILE-Bad loan triggers key feature in ECB ba...</td>\n",
       "      <td>http://in.reuters.com/article/2014/03/10/euroz...</td>\n",
       "      <td>Reuters</td>\n",
       "      <td>b</td>\n",
       "      <td>dPhGU51DcrolUIMxbRm0InaHGA2XM</td>\n",
       "      <td>in.reuters.com</td>\n",
       "      <td>1394470505070</td>\n",
       "    </tr>\n",
       "  </tbody>\n",
       "</table>\n",
       "</div>"
      ],
      "text/plain": [
       "                                                title  \\\n",
       "id                                                      \n",
       "13       Europe reaches crunch point on banking union   \n",
       "14  ECB FOCUS-Stronger euro drowns out ECB's messa...   \n",
       "20  Euro Anxieties Wane as Bunds Top Treasuries, S...   \n",
       "21  Noyer Says Strong Euro Creates Unwarranted Eco...   \n",
       "30  REFILE-Bad loan triggers key feature in ECB ba...   \n",
       "\n",
       "                                                  url     publisher category  \\\n",
       "id                                                                             \n",
       "13  http://in.reuters.com/article/2014/03/10/eu-ba...       Reuters        b   \n",
       "14  http://in.reuters.com/article/2014/03/10/ecb-p...       Reuters        b   \n",
       "20  http://www.businessweek.com/news/2014-03-10/ge...  Businessweek        b   \n",
       "21  http://www.businessweek.com/news/2014-03-10/no...  Businessweek        b   \n",
       "30  http://in.reuters.com/article/2014/03/10/euroz...       Reuters        b   \n",
       "\n",
       "                            story              hostname      timestamp  \n",
       "id                                                                      \n",
       "13  dPhGU51DcrolUIMxbRm0InaHGA2XM        in.reuters.com  1394470501755  \n",
       "14  dPhGU51DcrolUIMxbRm0InaHGA2XM        in.reuters.com  1394470501948  \n",
       "20  dPhGU51DcrolUIMxbRm0InaHGA2XM  www.businessweek.com  1394470503148  \n",
       "21  dPhGU51DcrolUIMxbRm0InaHGA2XM  www.businessweek.com  1394470503366  \n",
       "30  dPhGU51DcrolUIMxbRm0InaHGA2XM        in.reuters.com  1394470505070  "
      ]
     },
     "execution_count": 2,
     "metadata": {},
     "output_type": "execute_result"
    }
   ],
   "source": [
    "valid_publisher = [\"Reuters\", \"Huffington Post\", \"Businessweek\", \"Contactmusic.com\", \"Daily Mail\"]\n",
    "df = df.loc[df[\"publisher\"].isin(valid_publisher), :]\n",
    "df.head()"
   ]
  },
  {
   "cell_type": "code",
   "execution_count": 3,
   "metadata": {},
   "outputs": [
    {
     "data": {
      "text/html": [
       "<div>\n",
       "<style scoped>\n",
       "    .dataframe tbody tr th:only-of-type {\n",
       "        vertical-align: middle;\n",
       "    }\n",
       "\n",
       "    .dataframe tbody tr th {\n",
       "        vertical-align: top;\n",
       "    }\n",
       "\n",
       "    .dataframe thead th {\n",
       "        text-align: right;\n",
       "    }\n",
       "</style>\n",
       "<table border=\"1\" class=\"dataframe\">\n",
       "  <thead>\n",
       "    <tr style=\"text-align: right;\">\n",
       "      <th></th>\n",
       "      <th>title</th>\n",
       "      <th>url</th>\n",
       "      <th>publisher</th>\n",
       "      <th>category</th>\n",
       "      <th>story</th>\n",
       "      <th>hostname</th>\n",
       "      <th>timestamp</th>\n",
       "    </tr>\n",
       "  </thead>\n",
       "  <tbody>\n",
       "    <tr>\n",
       "      <th>0</th>\n",
       "      <td>Taco Bell reveals 'secret' ingredients of myst...</td>\n",
       "      <td>http://www.dailymail.co.uk/news/article-261629...</td>\n",
       "      <td>Daily Mail</td>\n",
       "      <td>b</td>\n",
       "      <td>dqycDHxL4IT2bfM80cii2l60F1oaM</td>\n",
       "      <td>www.dailymail.co.uk</td>\n",
       "      <td>1398870059991</td>\n",
       "    </tr>\n",
       "    <tr>\n",
       "      <th>1</th>\n",
       "      <td>RPT-UPDATE 2-Carlyle hires JPMorgan's Cavanagh...</td>\n",
       "      <td>http://www.reuters.com/article/2014/03/25/carl...</td>\n",
       "      <td>Reuters</td>\n",
       "      <td>b</td>\n",
       "      <td>d6vEKclqV_iZEsM3pQ3S-2mnaqZUM</td>\n",
       "      <td>www.reuters.com</td>\n",
       "      <td>1395771699595</td>\n",
       "    </tr>\n",
       "    <tr>\n",
       "      <th>2</th>\n",
       "      <td>Argentina Deposits $1 Billion For June 30 Bond...</td>\n",
       "      <td>http://www.businessweek.com/news/2014-06-26/ar...</td>\n",
       "      <td>Businessweek</td>\n",
       "      <td>b</td>\n",
       "      <td>dAnZOhVBFIp0-qM-n4Cz0cJ6bJWiM</td>\n",
       "      <td>www.businessweek.com</td>\n",
       "      <td>1403853546347</td>\n",
       "    </tr>\n",
       "    <tr>\n",
       "      <th>3</th>\n",
       "      <td>Banksy art work showing government agents spyi...</td>\n",
       "      <td>http://www.dailymail.co.uk/news/article-260378...</td>\n",
       "      <td>Daily Mail</td>\n",
       "      <td>e</td>\n",
       "      <td>dcBt4tU0L52iiTMQ4rip8YRmnr9xM</td>\n",
       "      <td>www.dailymail.co.uk</td>\n",
       "      <td>1397518333460</td>\n",
       "    </tr>\n",
       "    <tr>\n",
       "      <th>4</th>\n",
       "      <td>An acrobatic stunt went horribly wrong on Sund...</td>\n",
       "      <td>http://www.dailymail.co.uk/news/article-262058...</td>\n",
       "      <td>Daily Mail</td>\n",
       "      <td>e</td>\n",
       "      <td>dWk63DgdVT-SlcMa4jUUmSMotZ5AM</td>\n",
       "      <td>www.dailymail.co.uk</td>\n",
       "      <td>1399320829491</td>\n",
       "    </tr>\n",
       "  </tbody>\n",
       "</table>\n",
       "</div>"
      ],
      "text/plain": [
       "                                               title  \\\n",
       "0  Taco Bell reveals 'secret' ingredients of myst...   \n",
       "1  RPT-UPDATE 2-Carlyle hires JPMorgan's Cavanagh...   \n",
       "2  Argentina Deposits $1 Billion For June 30 Bond...   \n",
       "3  Banksy art work showing government agents spyi...   \n",
       "4  An acrobatic stunt went horribly wrong on Sund...   \n",
       "\n",
       "                                                 url     publisher category  \\\n",
       "0  http://www.dailymail.co.uk/news/article-261629...    Daily Mail        b   \n",
       "1  http://www.reuters.com/article/2014/03/25/carl...       Reuters        b   \n",
       "2  http://www.businessweek.com/news/2014-06-26/ar...  Businessweek        b   \n",
       "3  http://www.dailymail.co.uk/news/article-260378...    Daily Mail        e   \n",
       "4  http://www.dailymail.co.uk/news/article-262058...    Daily Mail        e   \n",
       "\n",
       "                           story              hostname      timestamp  \n",
       "0  dqycDHxL4IT2bfM80cii2l60F1oaM   www.dailymail.co.uk  1398870059991  \n",
       "1  d6vEKclqV_iZEsM3pQ3S-2mnaqZUM       www.reuters.com  1395771699595  \n",
       "2  dAnZOhVBFIp0-qM-n4Cz0cJ6bJWiM  www.businessweek.com  1403853546347  \n",
       "3  dcBt4tU0L52iiTMQ4rip8YRmnr9xM   www.dailymail.co.uk  1397518333460  \n",
       "4  dWk63DgdVT-SlcMa4jUUmSMotZ5AM   www.dailymail.co.uk  1399320829491  "
      ]
     },
     "execution_count": 3,
     "metadata": {},
     "output_type": "execute_result"
    }
   ],
   "source": [
    "df = df.sample(frac=1, random_state=42)\n",
    "df = df.reset_index(drop=True)\n",
    "df.head()"
   ]
  },
  {
   "cell_type": "code",
   "execution_count": 4,
   "metadata": {},
   "outputs": [
    {
     "name": "stdout",
     "output_type": "stream",
     "text": [
      "13340\n"
     ]
    }
   ],
   "source": [
    "print(len(df))"
   ]
  },
  {
   "cell_type": "code",
   "execution_count": 5,
   "metadata": {},
   "outputs": [
    {
     "name": "stdout",
     "output_type": "stream",
     "text": [
      "10672\n",
      "1334\n",
      "1334\n"
     ]
    }
   ],
   "source": [
    "total_size = len(df)\n",
    "train_size = int(0.8*total_size)\n",
    "valid_size = int(0.1*total_size)\n",
    "test_size = total_size - train_size - valid_size\n",
    "\n",
    "train_df = df.iloc[:train_size, :]\n",
    "valid_df = df.iloc[train_size:train_size+valid_size, :]\n",
    "test_df = df.iloc[train_size+valid_size:, :]\n",
    "\n",
    "train_df.to_csv(\"train.txt\", sep=\"\\t\")\n",
    "valid_df.to_csv(\"valid.txt\", sep=\"\\t\")\n",
    "test_df.to_csv(\"test.txt\", sep=\"\\t\")\n",
    "\n",
    "print(len(train_df))\n",
    "print(len(valid_df))\n",
    "print(len(test_df))"
   ]
  },
  {
   "cell_type": "code",
   "execution_count": 6,
   "metadata": {},
   "outputs": [
    {
     "name": "stdout",
     "output_type": "stream",
     "text": [
      "['m', 't', 'e', 'b']\n"
     ]
    }
   ],
   "source": [
    "category_name = list(set(df[\"category\"]))\n",
    "print(category_name)"
   ]
  },
  {
   "cell_type": "code",
   "execution_count": 7,
   "metadata": {},
   "outputs": [
    {
     "data": {
      "text/plain": [
       "category\n",
       "b    4530\n",
       "e    4178\n",
       "m     739\n",
       "t    1225\n",
       "dtype: int64"
      ]
     },
     "execution_count": 7,
     "metadata": {},
     "output_type": "execute_result"
    }
   ],
   "source": [
    "train_df.groupby([\"category\"]).size()"
   ]
  },
  {
   "cell_type": "code",
   "execution_count": 8,
   "metadata": {},
   "outputs": [
    {
     "data": {
      "text/plain": [
       "category\n",
       "b    539\n",
       "e    560\n",
       "m     91\n",
       "t    144\n",
       "dtype: int64"
      ]
     },
     "execution_count": 8,
     "metadata": {},
     "output_type": "execute_result"
    }
   ],
   "source": [
    "valid_df.groupby(\"category\").size()"
   ]
  },
  {
   "cell_type": "code",
   "execution_count": 9,
   "metadata": {},
   "outputs": [
    {
     "data": {
      "text/plain": [
       "category\n",
       "b    558\n",
       "e    541\n",
       "m     80\n",
       "t    155\n",
       "dtype: int64"
      ]
     },
     "execution_count": 9,
     "metadata": {},
     "output_type": "execute_result"
    }
   ],
   "source": [
    "test_df.groupby(\"category\").size()"
   ]
  },
  {
   "cell_type": "markdown",
   "metadata": {},
   "source": [
    "## 51. 特徴量抽出\n",
    "学習データ，検証データ，評価データから特徴量を抽出し，それぞれtrain.feature.txt，valid.feature.txt，test.feature.txtというファイル名で保存せよ． なお，カテゴリ分類に有用そうな特徴量は各自で自由に設計せよ．記事の見出しを単語列に変換したものが最低限のベースラインとなるであろう．"
   ]
  },
  {
   "cell_type": "markdown",
   "metadata": {},
   "source": [
    "TFIDFとPublisherを特徴として使用してみる。"
   ]
  },
  {
   "cell_type": "code",
   "execution_count": 10,
   "metadata": {},
   "outputs": [],
   "source": [
    "import numpy as np\n",
    "from sklearn.feature_extraction.text import TfidfVectorizer\n",
    "from sklearn import preprocessing\n",
    "\n",
    "tfidf_vectorizer = TfidfVectorizer()\n",
    "publisher_vectorizer = preprocessing.OneHotEncoder()\n",
    "category_encoder = preprocessing.LabelEncoder()\n",
    "\n",
    "tfidf_train = tfidf_vectorizer.fit_transform(train_df[\"title\"]).toarray()\n",
    "pub_train = np.array(train_df[\"publisher\"])\n",
    "pub_train = pub_train[:, np.newaxis]\n",
    "pub_train = publisher_vectorizer.fit_transform(pub_train).toarray()\n",
    "y_train = category_encoder.fit_transform(train_df[\"category\"])\n",
    "y_train = y_train[:, np.newaxis]\n",
    "train_table = np.concatenate([tfidf_train, pub_train, y_train], axis=1)\n",
    "\n",
    "tfidf_val = tfidf_vectorizer.transform(valid_df[\"title\"]).toarray()\n",
    "pub_val = np.array(valid_df[\"publisher\"])\n",
    "pub_val = pub_val[:, np.newaxis]\n",
    "pub_val = publisher_vectorizer.transform(pub_val).toarray()\n",
    "y_val = category_encoder.transform(valid_df[\"category\"])\n",
    "y_val = y_val[:, np.newaxis]\n",
    "valid_table = np.concatenate([tfidf_val, pub_val, y_val], axis=1)\n",
    "\n",
    "tfidf_test = tfidf_vectorizer.transform(test_df[\"title\"]).toarray()\n",
    "pub_test = np.array(test_df[\"publisher\"])\n",
    "pub_test = pub_test[:, np.newaxis]\n",
    "pub_test = publisher_vectorizer.transform(pub_test).toarray()\n",
    "y_test = category_encoder.transform(test_df[\"category\"])\n",
    "y_test = y_test[:, np.newaxis]\n",
    "test_table = np.concatenate([tfidf_test, pub_test, y_test], axis=1)\n",
    "\n",
    "with open(\"train.feature.txt\", \"w\") as f:\n",
    "    np.savetxt(f, train_table, delimiter=\",\")\n",
    "with open(\"valid.feature.txt\", \"w\") as f:\n",
    "    np.savetxt(f, valid_table, delimiter=\",\")\n",
    "with open(\"test.feature.txt\", \"w\") as f:\n",
    "    np.savetxt(f, test_table, delimiter=\",\")"
   ]
  },
  {
   "cell_type": "markdown",
   "metadata": {},
   "source": [
    "## 52. 学習\n",
    "51で構築した学習データを用いて，ロジスティック回帰モデルを学習せよ．"
   ]
  },
  {
   "cell_type": "code",
   "execution_count": 11,
   "metadata": {},
   "outputs": [
    {
     "name": "stderr",
     "output_type": "stream",
     "text": [
      "C:\\Users\\kiyohiro\\anaconda3\\envs\\pytorch\\lib\\site-packages\\sklearn\\linear_model\\_logistic.py:762: ConvergenceWarning: lbfgs failed to converge (status=1):\n",
      "STOP: TOTAL NO. of ITERATIONS REACHED LIMIT.\n",
      "\n",
      "Increase the number of iterations (max_iter) or scale the data as shown in:\n",
      "    https://scikit-learn.org/stable/modules/preprocessing.html\n",
      "Please also refer to the documentation for alternative solver options:\n",
      "    https://scikit-learn.org/stable/modules/linear_model.html#logistic-regression\n",
      "  n_iter_i = _check_optimize_result(\n"
     ]
    },
    {
     "data": {
      "text/plain": [
       "LogisticRegression()"
      ]
     },
     "execution_count": 11,
     "metadata": {},
     "output_type": "execute_result"
    }
   ],
   "source": [
    "from sklearn.linear_model import LogisticRegression\n",
    "\n",
    "model = LogisticRegression()\n",
    "X_train = train_table[:, :-1]\n",
    "y_train = train_table[:, -1]\n",
    "model.fit(X_train, y_train)"
   ]
  },
  {
   "cell_type": "code",
   "execution_count": 12,
   "metadata": {},
   "outputs": [
    {
     "name": "stdout",
     "output_type": "stream",
     "text": [
      "[1. 1. 0. 1. 1. 0. 0. 1. 0. 1.] [1. 1. 0. 1. 3. 0. 0. 2. 0. 1.]\n"
     ]
    }
   ],
   "source": [
    "X_val = valid_table[:, :-1]\n",
    "y_val = valid_table[:, -1]\n",
    "\n",
    "pred_val = model.predict(X_val)\n",
    "print(pred_val[:10], y_val[:10])"
   ]
  },
  {
   "cell_type": "markdown",
   "metadata": {},
   "source": [
    "## 52. 予測\n",
    "52で学習したロジスティック回帰モデルを用い，与えられた記事見出しからカテゴリとその予測確率を計算するプログラムを実装せよ．"
   ]
  },
  {
   "cell_type": "code",
   "execution_count": 13,
   "metadata": {},
   "outputs": [],
   "source": [
    "def predict(model, tfidf_vectorizer, publisher_vectorizer, article):\n",
    "    heading = article[\"title\"]\n",
    "    publisher = article[\"publisher\"]\n",
    "    tfidf_feature = tfidf_vectorizer.transform([heading]).toarray()\n",
    "    pub_feature = np.array([[article[\"publisher\"]]])\n",
    "    pub_feature = publisher_vectorizer.transform(pub_feature).toarray()\n",
    "    feature = np.concatenate([tfidf_feature, pub_feature], axis=1)\n",
    "    pred = model.predict(feature)\n",
    "    prob = model.predict_proba(feature)\n",
    "    return pred, prob"
   ]
  },
  {
   "cell_type": "code",
   "execution_count": 14,
   "metadata": {},
   "outputs": [
    {
     "data": {
      "text/html": [
       "<div>\n",
       "<style scoped>\n",
       "    .dataframe tbody tr th:only-of-type {\n",
       "        vertical-align: middle;\n",
       "    }\n",
       "\n",
       "    .dataframe tbody tr th {\n",
       "        vertical-align: top;\n",
       "    }\n",
       "\n",
       "    .dataframe thead th {\n",
       "        text-align: right;\n",
       "    }\n",
       "</style>\n",
       "<table border=\"1\" class=\"dataframe\">\n",
       "  <thead>\n",
       "    <tr style=\"text-align: right;\">\n",
       "      <th></th>\n",
       "      <th>title</th>\n",
       "      <th>url</th>\n",
       "      <th>publisher</th>\n",
       "      <th>category</th>\n",
       "      <th>story</th>\n",
       "      <th>hostname</th>\n",
       "      <th>timestamp</th>\n",
       "    </tr>\n",
       "  </thead>\n",
       "  <tbody>\n",
       "    <tr>\n",
       "      <th>0</th>\n",
       "      <td>The soberphone app for alcoholics can set off ...</td>\n",
       "      <td>http://www.dailymail.co.uk/sciencetech/article...</td>\n",
       "      <td>Daily Mail</td>\n",
       "      <td>m</td>\n",
       "      <td>dpHGL0G2nz5uNHMyhbG0mnH-YCcAM</td>\n",
       "      <td>www.dailymail.co.uk</td>\n",
       "      <td>1395889717874</td>\n",
       "    </tr>\n",
       "    <tr>\n",
       "      <th>1</th>\n",
       "      <td>Check Out These Three New 'Amazing Spider-Man ...</td>\n",
       "      <td>http://www.contactmusic.com/article/the-amazin...</td>\n",
       "      <td>Contactmusic.com</td>\n",
       "      <td>e</td>\n",
       "      <td>dNuwxFDyj7j_V5MwWsFQrjzFGhoMM</td>\n",
       "      <td>www.contactmusic.com</td>\n",
       "      <td>1395065393493</td>\n",
       "    </tr>\n",
       "    <tr>\n",
       "      <th>2</th>\n",
       "      <td>Wedding war tears apart Aspen town: New York c...</td>\n",
       "      <td>http://www.dailymail.co.uk/news/article-265730...</td>\n",
       "      <td>Daily Mail</td>\n",
       "      <td>b</td>\n",
       "      <td>dBf7JQWFOpDIJQMbhISAsGw_nRDVM</td>\n",
       "      <td>www.dailymail.co.uk</td>\n",
       "      <td>1402736926882</td>\n",
       "    </tr>\n",
       "    <tr>\n",
       "      <th>3</th>\n",
       "      <td>Look Ma, No Hands: Sergey Brin's GoogleCar Has...</td>\n",
       "      <td>http://www.businessweek.com/articles/2014-05-2...</td>\n",
       "      <td>Businessweek</td>\n",
       "      <td>t</td>\n",
       "      <td>du8-WwxCtj8uy6Mzq9tfSRRix4MHM</td>\n",
       "      <td>www.businessweek.com</td>\n",
       "      <td>1401294972045</td>\n",
       "    </tr>\n",
       "    <tr>\n",
       "      <th>4</th>\n",
       "      <td>Japan Whale Hunt Set To Begin With Smaller Cat...</td>\n",
       "      <td>http://www.huffingtonpost.com/2014/04/18/japan...</td>\n",
       "      <td>Huffington Post</td>\n",
       "      <td>t</td>\n",
       "      <td>dBlg8M1Tc52iJXMUO86uQ6UJqxC7M</td>\n",
       "      <td>www.huffingtonpost.com</td>\n",
       "      <td>1397891567501</td>\n",
       "    </tr>\n",
       "  </tbody>\n",
       "</table>\n",
       "</div>"
      ],
      "text/plain": [
       "                                               title  \\\n",
       "0  The soberphone app for alcoholics can set off ...   \n",
       "1  Check Out These Three New 'Amazing Spider-Man ...   \n",
       "2  Wedding war tears apart Aspen town: New York c...   \n",
       "3  Look Ma, No Hands: Sergey Brin's GoogleCar Has...   \n",
       "4  Japan Whale Hunt Set To Begin With Smaller Cat...   \n",
       "\n",
       "                                                 url         publisher  \\\n",
       "0  http://www.dailymail.co.uk/sciencetech/article...        Daily Mail   \n",
       "1  http://www.contactmusic.com/article/the-amazin...  Contactmusic.com   \n",
       "2  http://www.dailymail.co.uk/news/article-265730...        Daily Mail   \n",
       "3  http://www.businessweek.com/articles/2014-05-2...      Businessweek   \n",
       "4  http://www.huffingtonpost.com/2014/04/18/japan...   Huffington Post   \n",
       "\n",
       "  category                          story                hostname  \\\n",
       "0        m  dpHGL0G2nz5uNHMyhbG0mnH-YCcAM     www.dailymail.co.uk   \n",
       "1        e  dNuwxFDyj7j_V5MwWsFQrjzFGhoMM    www.contactmusic.com   \n",
       "2        b  dBf7JQWFOpDIJQMbhISAsGw_nRDVM     www.dailymail.co.uk   \n",
       "3        t  du8-WwxCtj8uy6Mzq9tfSRRix4MHM    www.businessweek.com   \n",
       "4        t  dBlg8M1Tc52iJXMUO86uQ6UJqxC7M  www.huffingtonpost.com   \n",
       "\n",
       "       timestamp  \n",
       "0  1395889717874  \n",
       "1  1395065393493  \n",
       "2  1402736926882  \n",
       "3  1401294972045  \n",
       "4  1397891567501  "
      ]
     },
     "execution_count": 14,
     "metadata": {},
     "output_type": "execute_result"
    }
   ],
   "source": [
    "test_df.reset_index(inplace=True, drop=True)\n",
    "test_df.head()"
   ]
  },
  {
   "cell_type": "code",
   "execution_count": 15,
   "metadata": {},
   "outputs": [
    {
     "name": "stdout",
     "output_type": "stream",
     "text": [
      "[1.] [[0.1720823  0.34184502 0.17945534 0.30661734]]\n"
     ]
    }
   ],
   "source": [
    "pred, prob = predict(model, tfidf_vectorizer, publisher_vectorizer, test_df.loc[0, :])\n",
    "print(pred, prob)"
   ]
  },
  {
   "cell_type": "markdown",
   "metadata": {},
   "source": [
    "## 54. 正解率の計測\n",
    "52で学習したロジスティック回帰モデルの正解率を，学習データおよび評価データ上で計測せよ"
   ]
  },
  {
   "cell_type": "code",
   "execution_count": 16,
   "metadata": {},
   "outputs": [],
   "source": [
    "def predict_df(model, tfidf_vectorizer, publisher_vectorizer, df):\n",
    "    heading = df[\"title\"]\n",
    "    publisher = df[\"publisher\"]\n",
    "    tfidf_feature = tfidf_vectorizer.transform(heading).toarray()\n",
    "    pub_feature = np.array(df[\"publisher\"])\n",
    "    pub_feature = pub_feature[:, np.newaxis]\n",
    "    pub_feature = publisher_vectorizer.transform(pub_feature).toarray()\n",
    "    feature = np.concatenate([tfidf_feature, pub_feature], axis=1)\n",
    "    preds = model.predict(feature)\n",
    "    return preds"
   ]
  },
  {
   "cell_type": "code",
   "execution_count": 17,
   "metadata": {},
   "outputs": [],
   "source": [
    "def calculate_accuracy(pred, gt):\n",
    "    return np.mean((pred == gt).astype(np.int32))"
   ]
  },
  {
   "cell_type": "code",
   "execution_count": 18,
   "metadata": {},
   "outputs": [
    {
     "name": "stdout",
     "output_type": "stream",
     "text": [
      "0.9335644677661169\n"
     ]
    }
   ],
   "source": [
    "train_pred = predict_df(model, tfidf_vectorizer, publisher_vectorizer, train_df).astype(np.int32)\n",
    "\n",
    "train_gt = category_encoder.fit_transform(train_df[\"category\"])\n",
    "\n",
    "print(calculate_accuracy(train_pred, train_gt))"
   ]
  },
  {
   "cell_type": "code",
   "execution_count": 19,
   "metadata": {},
   "outputs": [
    {
     "name": "stdout",
     "output_type": "stream",
     "text": [
      "0.8875562218890555\n"
     ]
    }
   ],
   "source": [
    "test_pred = predict_df(model, tfidf_vectorizer, publisher_vectorizer, test_df).astype(np.int32)\n",
    "\n",
    "test_gt = category_encoder.fit_transform(test_df[\"category\"])\n",
    "\n",
    "print(calculate_accuracy(test_pred, test_gt))"
   ]
  },
  {
   "cell_type": "markdown",
   "metadata": {},
   "source": [
    "## 55. 混同行列の作成\n",
    "52で学習したロジスティック回帰モデルの混同行列（confusion matrix）を，学習データおよび評価データ上で作成せよ．"
   ]
  },
  {
   "cell_type": "code",
   "execution_count": 20,
   "metadata": {},
   "outputs": [],
   "source": [
    "from sklearn.metrics import confusion_matrix\n",
    "import seaborn as sns\n",
    "import matplotlib.pyplot as plt\n",
    "\n",
    "%matplotlib inline"
   ]
  },
  {
   "cell_type": "code",
   "execution_count": 21,
   "metadata": {},
   "outputs": [
    {
     "data": {
      "text/plain": [
       "<matplotlib.axes._subplots.AxesSubplot at 0x1b85edaf790>"
      ]
     },
     "execution_count": 21,
     "metadata": {},
     "output_type": "execute_result"
    },
    {
     "data": {
      "image/png": "[encoded data removed]",
      "text/plain": [
       "<Figure size 432x288 with 2 Axes>"
      ]
     },
     "metadata": {
      "needs_background": "light"
     },
     "output_type": "display_data"
    }
   ],
   "source": [
    "train_cm = confusion_matrix(train_gt, train_pred)\n",
    "sns.heatmap(train_cm)"
   ]
  },
  {
   "cell_type": "code",
   "execution_count": 22,
   "metadata": {},
   "outputs": [
    {
     "data": {
      "text/plain": [
       "<matplotlib.axes._subplots.AxesSubplot at 0x1b85eee4130>"
      ]
     },
     "execution_count": 22,
     "metadata": {},
     "output_type": "execute_result"
    },
    {
     "data": {
      "image/png": "[encoded data removed]",
      "text/plain": [
       "<Figure size 432x288 with 2 Axes>"
      ]
     },
     "metadata": {
      "needs_background": "light"
     },
     "output_type": "display_data"
    }
   ],
   "source": [
    "test_cm = confusion_matrix(test_gt, test_pred)\n",
    "sns.heatmap(test_cm)"
   ]
  },
  {
   "cell_type": "markdown",
   "metadata": {},
   "source": [
    "## 56. 適合率，再現率，F1スコアの計測\n",
    "52で学習したロジスティック回帰モデルの適合率，再現率，F1スコアを，評価データ上で計測せよ．カテゴリごとに適合率，再現率，F1スコアを求め，カテゴリごとの性能をマイクロ平均（micro-average）とマクロ平均（macro-average）で統合せよ．"
   ]
  },
  {
   "cell_type": "code",
   "execution_count": 23,
   "metadata": {},
   "outputs": [
    {
     "name": "stdout",
     "output_type": "stream",
     "text": [
      "{'0': {'precision': 0.8818635607321131, 'recall': 0.9498207885304659, 'f1-score': 0.91458153580673, 'support': 558}, '1': {'precision': 0.8792517006802721, 'recall': 0.955637707948244, 'f1-score': 0.9158547387068202, 'support': 541}, '2': {'precision': 0.9166666666666666, 'recall': 0.55, 'f1-score': 0.6874999999999999, 'support': 80}, '3': {'precision': 0.9587628865979382, 'recall': 0.6, 'f1-score': 0.738095238095238, 'support': 155}, 'accuracy': 0.8875562218890555, 'macro avg': {'precision': 0.9091362036692475, 'recall': 0.7638646241196775, 'f1-score': 0.8140078781521971, 'support': 1334}, 'weighted avg': {'precision': 0.8918265500094154, 'recall': 0.8875562218890555, 'f1-score': 0.8809735176351627, 'support': 1334}}\n"
     ]
    }
   ],
   "source": [
    "from sklearn.metrics import classification_report\n",
    "\n",
    "d = classification_report(test_gt, test_pred, output_dict=True)\n",
    "print(d)"
   ]
  },
  {
   "cell_type": "markdown",
   "metadata": {},
   "source": [
    "## 57. 特徴量の重みの確認\n",
    "52で学習したロジスティック回帰モデルの中で，重みの高い特徴量トップ10と，重みの低い特徴量トップ10を確認せよ．"
   ]
  },
  {
   "cell_type": "code",
   "execution_count": 24,
   "metadata": {},
   "outputs": [
    {
     "name": "stdout",
     "output_type": "stream",
     "text": [
      "[[ 0.06407229  0.01625069  0.02286297 ... -0.45239851 -0.13862918\n",
      "   1.4485149 ]\n",
      " [-0.02486215 -0.00396909 -0.00738366 ...  0.24869335 -0.01456179\n",
      "  -1.32982666]\n",
      " [-0.01437245 -0.00498438 -0.00614616 ...  0.19208346  0.11837572\n",
      "  -0.22415963]\n",
      " [-0.02483769 -0.00729722 -0.00933315 ...  0.0116217   0.03481526\n",
      "   0.10547139]]\n"
     ]
    }
   ],
   "source": [
    "coef = model.coef_\n",
    "print(coef)"
   ]
  },
  {
   "cell_type": "code",
   "execution_count": 25,
   "metadata": {},
   "outputs": [],
   "source": [
    "abs_coef = np.abs(coef)"
   ]
  },
  {
   "cell_type": "code",
   "execution_count": 26,
   "metadata": {},
   "outputs": [
    {
     "name": "stdout",
     "output_type": "stream",
     "text": [
      "{11300: 'taco', 1402: 'bell', 9579: 'reveals', 10054: 'secret', 5926: 'ingredients', 7950: 'of', 7657: 'mystery', 1375: 'beef', 11480: 'that', 333: '88', 8393: 'per', 2171: 'cent', 2884: 'cow', 9787: 'rpt', 12091: 'update', 2067: 'carlyle', 5546: 'hires', 6265: 'jpmorgan', 2136: 'cavanagh', 1003: 'as', 2486: 'co', 8796: 'president', 950: 'argentina', 3323: 'deposits', 1492: 'billion', 4690: 'for', 6286: 'june', 167: '30', 1635: 'bond', 8333: 'payments', 1257: 'banksy', 988: 'art', 12667: 'work', 10306: 'showing', 5100: 'government', 581: 'agents', 10793: 'spying', 8000: 'on', 8462: 'phone', 1700: 'box', 898: 'appears', 772: 'an', 451: 'acrobatic', 11056: 'stunt', 12507: 'went', 5634: 'horribly', 12720: 'wrong', 11142: 'sunday', 3783: 'during', 8400: 'performance', 1949: 'by', 11483: 'the', 2352: 'chronology', 11886: 'turbulent', 5554: 'history', 3854: 'economic', 2952: 'crises', 7154: 'mayor', 3303: 'dennis', 6419: 'kneier', 9502: 'resigns', 8138: 'over', 3605: 'dog', 8660: 'poop', 11560: 'throwing', 5856: 'incident', 2126: 'caught', 11340: 'tape', 12761: 'yen', 10160: 'set', 3613: 'dollar', 4873: 'gains', 12630: 'with', 6475: 'kuroda', 5573: 'hold', 11391: 'technical', 773: 'analysis', 12757: 'yellen', 9949: 'says', 5514: 'higher', 2031: 'capital', 9803: 'rules', 7148: 'may', 1335: 'be', 7713: 'needed', 1478: 'big', 1256: 'banks', 4136: 'euro', 11000: 'strengthens', 1380: 'before', 3848: 'ecb', 7221: 'meeting', 9145: 'rand', 3207: 'declines', 12705: 'wren', 9997: 'scott', 10413: 'sister', 12396: 'wants', 1613: 'body', 9562: 'returned', 5595: 'home', 11626: 'to', 12141: 'utah', 2038: 'captain', 755: 'america', 12615: 'winter', 10618: 'solider', 1757: 'breaks', 923: 'april', 7959: 'office', 9272: 'record', 349: '96', 8502: 'pimco', 5181: 'gross', 10255: 'shiller', 7715: 'needs', 497: 'adjusting', 2244: 'chart', 3147: 'day', 7312: 'michael', 10971: 'strahan', 12583: 'will', 6236: 'join', 5074: 'good', 7537: 'morning', 4463: 'few', 3149: 'days', 12480: 'week', 6736: 'lights', 12088: 'up', 10657: 'sound', 3676: 'down', 2466: 'clothes', 374: 'abercrombie', 4563: 'fitch', 11649: 'tones', 6122: 'its', 7788: 'nightclub', 1413: 'ben', 556: 'affleck', 7749: 'new', 9637: 'ride', 10117: 'sends', 4361: 'fans', 6032: 'into', 8148: 'overdrive', 69: '19', 5752: 'ideas', 5419: 'healthier', 3831: 'easter', 1309: 'basket', 10806: 'st', 6269: 'jude', 445: 'acquire', 2049: 'cardiomems', 4671: 'following', 4410: 'fda', 918: 'approval', 3387: 'device', 8093: 'oscar', 8529: 'pistorius', 11802: 'trial', 2862: 'court', 5427: 'hears', 4170: 'evidence', 12535: 'whether', 10010: 'screams', 12508: 'were', 9308: 'reeva', 4165: 'every', 9642: 'ridiculous', 7480: 'moment', 10221: 'sharknado', 5844: 'in', 11925: 'two', 7394: 'minutes', 5239: 'gurlitt', 9561: 'return', 7703: 'nazi', 6859: 'looted', 11105: 'sueddeutsche', 9464: 'reports', 3087: 'daimler', 784: 'and', 7806: 'nissan', 6050: 'invest', 185: '36', 1564: 'bln', 1862: 'build', 8771: 'premium', 10518: 'small', 2087: 'cars', 6073: 'ios', 11419: 'tell', 12774: 'you', 12536: 'which', 922: 'apps', 945: 'are', 6387: 'killing', 12779: 'your', 1322: 'battery', 2295: 'chicago', 10094: 'selected', 4961: 'george', 6902: 'lucas', 10969: 'storytelling', 7637: 'museum', 607: 'air', 8883: 'products', 9711: 'rockwood', 4977: 'ghasemi', 2180: 'ceo', 2201: 'chairman', 12125: 'us', 10946: 'stocks', 4857: 'futures', 8623: 'point', 4590: 'flat', 8017: 'open', 566: 'after', 4927: 'gdp', 3131: 'data', 2380: 'citi', 4343: 'falls', 12772: 'york', 6584: 'lawsky', 10118: 'senior', 1597: 'bnp', 4201: 'execs', 4537: 'fired', 8856: 'probe', 10663: 'sources', 1570: 'blogs', 6330: 'katy', 8420: 'perry', 10633: 'song', 11488: 'theft', 9776: 'row', 12821: 'zone', 1638: 'bonds', 7553: 'mostly', 12449: 'weaker', 8613: 'pmi', 7555: 'mother', 6631: 'left', 4895: 'gaping', 5581: 'hole', 2267: 'cheek', 7809: 'no', 6157: 'jawbone', 6333: 'kazakh', 3594: 'doctors', 1483: 'bikini', 4999: 'girl', 6390: 'kim', 6311: 'kardashian', 4624: 'flirts', 10907: 'stepbrother', 1814: 'brody', 6116: 'it', 9577: 'revealed', 10227: 'she', 8001: 'once', 647: 'alaskan', 1298: 'bars', 10861: 'start', 5008: 'giving', 1167: 'away', 4770: 'free', 8760: 'pregnancy', 11465: 'tests', 5742: 'ice', 3016: 'cube', 3235: 'defends', 2583: 'comments', 573: 'against', 7600: 'mtv', 7582: 'movie', 1164: 'awards', 5612: 'honoring', 8324: 'paul', 2905: 'crashes', 2301: 'child', 8288: 'party', 4141: 'european', 10296: 'should', 7851: 'note', 242: '50', 12790: 'yukos', 9804: 'ruling', 1035: 'assessing', 10128: 'separate', 2390: 'claim', 744: 'amazon', 8478: 'picks', 10423: 'six', 8079: 'original', 10142: 'series', 3776: 'dumps', 7274: 'mers', 8314: 'patient', 3414: 'did', 7850: 'not', 5901: 'infect', 5786: 'illinois', 9496: 'resident', 2146: 'cdc', 1178: 'baby', 9852: 'safety', 4916: 'gates', 10115: 'send', 7708: 'nearly', 94: '2000', 6381: 'kids', 4079: 'er', 11047: 'study', 630: 'aisle', 12249: 'view', 3629: 'don', 10700: 'speak', 10393: 'sing', 9312: 'refile', 903: 'apple', 2459: 'close', 1944: 'buying', 1358: 'beats', 10662: 'source', 9832: 'ryan', 6701: 'lewis', 6570: 'launches', 5416: 'health', 2177: 'centre', 4840: 'fundraiser', 5614: 'honour', 5548: 'his', 6668: 'lenovo', 606: 'aims', 10101: 'sell', 6: '100', 7439: 'mln', 10528: 'smartphones', 11294: 'tablets', 2576: 'coming', 12754: 'year', 3699: 'drake', 5061: 'goes', 11970: 'undercover', 6216: 'jimmy', 6392: 'kimmel', 9089: 'quiz', 8388: 'people', 384: 'about', 5536: 'himself', 6957: 'mad', 7252: 'men', 10039: 'season', 8768: 'premiere', 9592: 'review', 4657: 'flying', 10621: 'solo', 9874: 'sales', 4338: 'fall', 4568: 'five', 7520: 'month', 6887: 'low', 2005: 'cancelled', 7683: 'nasa', 9707: 'rocket', 6567: 'launch', 3821: 'earth', 2440: 'climate', 8705: 'postponed', 12434: 'water', 10650: 'sorry', 2599: 'community', 7739: 'netflix', 5474: 'helping', 4970: 'get', 11092: 'successfully', 2117: 'catches', 5483: 'her', 2044: 'car', 6366: 'keys', 1991: 'camera', 10332: 'shy', 6309: 'kanye', 12512: 'west', 5030: 'global', 7077: 'markets', 1014: 'asian', 10218: 'shares', 12633: 'wither', 12375: 'wall', 10995: 'street', 9009: 'pulls', 1183: 'back', 10395: 'singer', 2338: 'chris', 1830: 'brown', 6139: 'jail', 1054: 'at', 6619: 'least', 838: 'another', 6270: 'judge', 1127: 'auto', 11358: 'task', 4692: 'force', 7241: 'member', 3416: 'didn', 6431: 'know', 5045: 'gm', 4396: 'faulty', 5772: 'ignition', 11266: 'switch', 9939: 'save', 6016: 'internet', 12444: 'we', 7712: 'need', 8169: 'own', 7193: 'means', 3550: 'distribution', 6503: 'lady', 9291: 'red', 6183: 'jenny', 7164: 'mccarthy', 4061: 'envisioned', 5648: 'hosting', 92: '20', 12755: 'years', 11546: 'threats', 10122: 'sent', 9620: 'rhode', 6100: 'island', 6581: 'lawmakers', 8859: 'probing', 193: '38', 11046: 'studios', 12427: 'watch', 9697: 'robin', 11516: 'thicke', 3363: 'details', 568: 'aftermath', 1759: 'breakup', 8325: 'paula', 8323: 'patton', 2317: 'chocolate', 12601: 'wine', 12652: 'won', 4278: 'extend', 6722: 'life', 5549: 'hispanic', 3082: 'dads', 9670: 'risk', 3328: 'depression', 4549: 'first', 9891: 'samsung', 3908: 'electronics', 9050: 'q2', 8027: 'operating', 8887: 'profit', 6738: 'likely', 4436: 'fell', 133: '24', 8344: 'pct', 5806: 'immune', 11505: 'therapy', 2007: 'cancer', 8909: 'promise', 2918: 'creates', 9484: 'research', 9823: 'rush', 5080: 'google', 1939: 'buy', 3739: 'drone', 6992: 'maker', 11617: 'titan', 547: 'aerospace', 507: 'admits', 4579: 'flagship', 4878: 'galaxy', 9837: 's5', 1992: 'cameras', 3799: 'dying', 4782: 'french', 1249: 'bank', 8265: 'paribas', 593: 'agrees', 8329: 'pay', 160: '2billion', 2610: 'compensation', 9507: 'resolve', 4078: 'equity', 5877: 'index', 9666: 'rise', 3817: 'earnings', 9793: 'ruble', 12024: 'unilever', 11662: 'top', 4124: 'estimates', 9114: 'ragu', 10490: 'slimfast', 3405: 'diane', 12334: 'von', 4851: 'furstenberg', 11815: 'tries', 6990: 'make', 5017: 'glasses', 2771: 'cool', 572: 'again', 10319: 'shrinking', 2123: 'cattle', 5487: 'herd', 10329: 'shut', 2059: 'cargill', 12623: 'wisconsin', 8558: 'plant', 7690: 'nate', 1433: 'berkus', 6186: 'jeremiah', 1767: 'brent', 9889: 'same', 10183: 'sex', 7086: 'marriage', 7098: 'martin', 895: 'appear', 2790: 'cordial', 4760: 'frankie', 6439: 'knuckles', 3154: 'dead', 5058: 'godfather', 5665: 'house', 7639: 'music', 3421: 'dies', 264: '59', 7910: 'obama', 7581: 'moves', 2462: 'closer', 10087: 'seismic', 11464: 'testing', 7972: 'oil', 1064: 'atlantic', 665: 'alexa', 9187: 'ray', 6228: 'joel', 2524: 'collapses', 10819: 'stage', 832: 'announcing', 11310: 'taken', 5784: 'ill', 6097: 'is', 620: 'airlines', 3174: 'debate', 2832: 'costs', 613: 'aircraft', 11716: 'tracking', 7000: 'malaysian', 6869: 'loss', 6579: 'law', 4548: 'firms', 12674: 'works', 9245: 'recall', 9516: 'response', 7630: 'murdoch', 10164: 'sets', 10638: 'sons', 11307: 'take', 7205: 'media', 3978: 'empire', 6194: 'jesse', 12594: 'winchester', 10635: 'songwriter', 290: '69', 9042: 'puts', 4787: 'fresh', 4305: 'face', 7911: 'obamacare', 10055: 'secretary', 1872: 'bulgarian', 3180: 'debt', 9173: 'rating', 3058: 'cut', 12323: 'volatile', 8642: 'politics', 11903: 'tv', 7741: 'network', 4741: 'fox', 6794: 'live', 5142: 'grease', 7640: 'musical', 109: '2015', 555: 'affirms', 10402: 'singtel', 8048: 'optus', 8122: 'outlook', 10814: 'stable', 6297: 'justin', 1477: 'bieber', 8635: 'police', 1973: 'called', 9459: 'report', 10410: 'sir', 7166: 'mccartney', 5475: 'helps', 7016: 'man', 8931: 'propose', 4986: 'gig', 1716: 'brad', 8209: 'paisley', 7454: 'mocks', 12513: 'westboro', 1262: 'baptist', 2357: 'church', 4844: 'funny', 10098: 'selfie', 7565: 'motorcycling', 7084: 'marquez', 12612: 'wins', 11468: 'texas', 8397: 'perfect', 11750: 'transformers', 575: 'age', 4285: 'extinction', 10533: 'smashes', 10051: 'second', 4704: 'forex', 5555: 'hit', 1934: 'but', 5809: 'impact', 6747: 'limited', 4988: 'giger', 2153: 'celebrating', 675: 'alienâ', 12291: 'visionaryâ', 7791: 'nightmarish', 7869: 'nsa', 6420: 'knew', 4256: 'exploited', 5429: 'heartbleed', 1577: 'bloomberg', 6792: 'little', 5621: 'hope', 3894: 'eight', 11767: 'trapped', 5604: 'honduran', 7371: 'miners', 10347: 'sierra', 6673: 'leone', 8557: 'plans', 4700: 'foreign', 8724: 'power', 8125: 'output', 847: 'anti', 11456: 'tesla', 6583: 'laws', 10297: 'shouldn', 8945: 'protect', 3164: 'dealers', 4818: 'ftc', 7964: 'officials', 9947: 'say', 7346: 'mila', 6470: 'kunis', 6882: 'loves', 1396: 'being', 8761: 'pregnant', 5448: 'hedge', 4835: 'fund', 6146: 'jana', 8283: 'partners', 10072: 'seek', 8444: 'petsmart', 9873: 'sale', 369: 'abbvie', 9127: 'raises', 11029: 'strong', 762: 'amid', 10268: 'shire', 7955: 'offer', 5204: 'guardians', 6906: 'lucky', 4100: 'escape', 3278: 'delta', 8550: 'plane', 8274: 'part', 12603: 'wing', 2568: 'comes', 7951: 'off', 7329: 'mid', 743: 'amazingly', 8948: 'protection', 6586: 'lawsuits', 3377: 'deutsche', 9668: 'rises', 6057: 'investment', 4660: 'focus', 8339: 'pays', 4005: 'endo', 1504: 'biodelivery', 8201: 'painkiller', 3876: 'effective', 6554: 'late', 2302: 'childhood', 7915: 'obesity', 9171: 'rates', 5384: 'have', 5866: 'increased', 8301: 'past', 41: '14', 425: 'according', 4981: 'giant', 6082: 'ipo', 7709: 'nears', 670: 'alibaba', 2309: 'china', 2584: 'commerce', 2983: 'crown', 10494: 'slips', 8392: 'pepsico', 10554: 'snack', 1923: 'business', 5315: 'handy', 10961: 'storage', 4545: 'firm', 4491: 'files', 139: '250', 4383: 'fatal', 1015: 'asiana', 2903: 'crash', 9893: 'san', 4756: 'francisco', 1545: 'blamed', 2681: 'confused', 8501: 'pilots', 5068: 'goldman', 9844: 'sachs', 10217: 'shareholders', 919: 'approve', 8549: 'plan', 4204: 'executives', 10841: 'stanchart', 6444: 'korea', 10355: 'signal', 9532: 'restructuring', 8896: 'progress', 2839: 'could', 8308: 'patent', 12416: 'wars', 10641: 'soon', 10168: 'settle', 1323: 'battle', 5004: 'give', 6080: 'iphone', 6200: 'jetblue', 12339: 'vote', 12028: 'union', 612: 'airbus', 9853: 'safran', 9924: 'satellite', 11396: 'technology', 12205: 'venture', 11707: 'toyota', 11218: 'suspends', 5879: 'india', 12354: 'wage', 5812: 'impasse', 3536: 'disrupts', 8561: 'plants', 2662: 'conditional', 221: '450', 1646: 'books', 856: 'antitrust', 424: 'accord', 6151: 'japan', 11663: 'topix', 9199: 'reaches', 5513: 'high', 8042: 'optimism', 11402: 'teenage', 7647: 'mutant', 7800: 'ninja', 11898: 'turtles', 5671: 'how', 7074: 'market', 11884: 'turbocharger', 1650: 'boost', 5608: 'honeywell', 9534: 'results', 7380: 'ministers', 10591: 'sobering', 6845: 'look', 10595: 'social', 2953: 'crisis', 12362: 'waited', 6071: 'ion', 3354: 'despite', 1165: 'awareness', 6134: 'jackson', 651: 'album', 12740: 'xscape', 3172: 'death', 2809: 'corrected', 8494: 'pilgrim', 8823: 'pride', 7958: 'offers', 5532: 'hillshire', 3162: 'deal', 9875: 'salesforce', 11313: 'takes', 5417: 'healthcare', 696: 'alliances', 10096: 'selena', 5070: 'gomez', 5952: 'inseparable', 7328: 'microsoft', 7661: 'nadella', 9495: 'reshuffles', 9152: 'ranks', 10245: 'sherri', 10242: 'shepherd', 6623: 'leaving', 8910: 'promises', 6806: 'll', 8452: 'pharrell', 12585: 'williams', 6239: 'joins', 8094: 'oscars', 404: 'academy', 12247: 'vietnam', 12344: 'vows', 11687: 'tough', 7198: 'measures', 1147: 'avert', 12793: 'zach', 1719: 'braff', 12661: 'woody', 688: 'allen', 1879: 'bullets', 1812: 'broadway', 7416: 'misses', 11349: 'target', 2964: 'critics', 3846: 'ebola', 6388: 'kills', 3688: 'dozens', 5221: 'guinea', 10778: 'spread', 5123: 'grains', 12525: 'wheat', 10484: 'slides', 2796: 'corn', 3744: 'drops', 241: '4th', 10158: 'session', 10235: 'shell', 7552: 'most', 10826: 'stake', 1117: 'australia', 12660: 'woodside', 2344: 'christina', 596: 'aguilera', 4234: 'expecting', 3137: 'daughter', 7133: 'matt', 9830: 'rutler', 3141: 'david', 974: 'arquette', 4472: 'fiancée', 5400: 'he', 6878: 'love', 7351: 'miley', 3075: 'cyrus', 4972: 'gets', 9528: 'restraining', 8060: 'order', 683: 'alleged', 10831: 'stalker', 11599: 'time', 12408: 'warner', 1958: 'cable', 6994: 'makes', 5527: 'hilariously', 394: 'absurd', 955: 'argument', 2560: 'comcast', 7267: 'merger', 2401: 'clarifies', 12522: 'what', 6734: 'lightly', 8867: 'processed', 3725: 'drillers', 1998: 'can', 4265: 'export', 6885: 'lovine', 3689: 'dr', 3709: 'dre', 10105: 'sells', 8767: 'premier', 6705: 'li', 1976: 'calls', 9394: 'relevant', 10906: 'step', 10032: 'search', 7361: 'million', 1644: 'book', 679: 'all', 379: 'aboard', 3645: 'dons', 2444: 'clinging', 1538: 'black', 3715: 'dress', 1605: 'boat', 6448: 'kourtney', 9125: 'raise', 21: '11', 9053: 'qatar', 11314: 'taking', 4743: 'foxconn', 5673: 'hp', 4712: 'form', 2468: 'cloud', 10149: 'server', 3733: 'driven', 3281: 'demand', 10116: 'sending', 8543: 'place', 3057: 'customs', 6003: 'intercept', 10261: 'shipment', 2499: 'cocaine', 9350: 'regulators', 12406: 'warn', 9671: 'risks', 1442: 'best', 9064: 'quarterly', 11667: 'tops', 6246: 'joly', 11823: 'trims', 756: 'american', 3808: 'eagle', 4697: 'forecast', 3482: 'disappoints', 10493: 'slip', 11529: 'this', 9456: 'replica', 12264: 'vincent', 12171: 'van', 5063: 'gogh', 3809: 'ear', 5194: 'grown', 12138: 'using', 9212: 'real', 4950: 'genetic', 7125: 'material', 10631: 'son', 6338: 'keen', 5586: 'hollywood', 2464: 'closing', 5519: 'highs', 1848: 'buck', 11797: 'trend', 4077: 'equities', 921: 'approves', 7034: 'mannkind', 3394: 'diabetes', 562: 'afrezza', 10562: 'snapshot', 8022: 'opens', 11339: 'tap', 8147: 'overdraft', 4434: 'fees', 12140: 'usually', 2825: 'cost', 12441: 'way', 7534: 'more', 11475: 'than', 6120: 'item', 1686: 'bought', 4522: 'finds', 7866: 'noyer', 5333: 'happy', 2958: 'critically', 8739: 'praised', 3144: 'dawn', 8552: 'planet', 878: 'apes', 3567: 'dives', 3218: 'deep', 3244: 'defining', 2702: 'consciously', 11965: 'uncoupling', 8221: 'paltrow', 12561: 'why', 3286: 'demi', 6877: 'lovato', 4461: 'feuding', 2341: 'christian', 10396: 'singers', 11103: 'sue', 3122: 'dark', 5639: 'horse', 4714: 'former', 7896: 'nyc', 5641: 'hospital', 4200: 'exec', 2230: 'charged', 894: 'appeals', 6732: 'lifts', 10881: 'stay', 6789: 'litigation', 3981: 'employers', 9040: 'put', 8104: 'out', 4464: 'fewer', 5472: 'help', 12394: 'wanted', 10363: 'signs', 7050: 'march', 3852: 'echoâ', 9389: 'released', 4353: 'family', 4794: 'friendly', 673: 'alien', 528: 'adventure', 6203: 'jets', 7883: 'nuptials', 7107: 'mason', 8378: 'penelope', 4378: 'fast', 4679: 'food', 8958: 'protests', 4233: 'expected', 2850: 'countries', 3741: 'drop', 11943: 'ukraine', 3099: 'damps', 168: '300', 12232: 'vials', 6484: 'labeled', 5916: 'influenza', 3297: 'dengue', 4735: 'found', 6482: 'lab', 5342: 'harder', 4520: 'find', 8672: 'porn', 9429: 'removing', 521: 'adult', 2737: 'content', 4806: 'from', 534: 'adverts', 11788: 'treatment', 10962: 'store', 9388: 'release', 11942: 'uk', 11713: 'track', 10751: 'split', 4064: 'ep', 1352: 'beastie', 1708: 'boys', 4483: 'fight', 11491: 'their', 9649: 'right', 2786: 'copyright', 6999: 'malaysia', 3491: 'discounts', 8696: 'possible', 7418: 'missing', 10351: 'sighting', 7002: 'maldives', 11881: 'tupac', 10202: 'shakur', 2646: 'concerns', 7569: 'mount', 7405: 'miserable', 3140: 'dave', 1813: 'brockie', 5248: 'gwar', 10852: 'star', 7810: 'noah', 10967: 'storms', 3183: 'debut', 9643: 'riding', 12439: 'wave', 2756: 'controversy', 11888: 'turkey', 11923: 'twitter', 1258: 'banned', 1362: 'became', 1166: 'awash', 2813: 'corruption', 3695: 'draghi', 6038: 'introductory', 9410: 'remarks', 8798: 'press', 2666: 'conference', 11469: 'text', 5603: 'honda', 3306: 'dented', 12482: 'weekend', 11855: 'trumps', 11327: 'tammy', 4297: 'eye', 12130: 'usd', 5947: 'inr', 4423: 'fed', 12214: 'veronica', 7091: 'mars', 9249: 'recap', 7738: 'net', 7746: 'neutrality', 10972: 'straight', 9169: 'rate', 735: 'alzheimer', 3503: 'disease', 3208: 'declining', 1450: 'better', 8791: 'presence', 10993: 'streaming', 12243: 'video', 12764: 'yet', 11927: 'tycoon', 1947: 'buys', 5599: 'homeless', 6920: 'lunch', 413: 'accepts', 9843: 'sac', 5220: 'guilty', 8583: 'plea', 7975: 'ok', 9763: 'rouble', 9826: 'russia', 2203: 'challenge', 6677: 'lesbian', 4923: 'gay', 1520: 'bisexual', 3291: 'demonstrate', 3523: 'disparities', 11357: 'tarullo', 754: 'amending', 10879: 'statutes', 4523: 'fine', 11877: 'tune', 1863: 'builder', 10357: 'signals', 5667: 'housing', 10865: 'starts', 9238: 'rebound', 3970: 'emma', 10954: 'stone', 2219: 'channels', 2125: 'catwoman', 8266: 'paris', 742: 'amazing', 10735: 'spider', 908: 'appoints', 11596: 'tim', 4935: 'geithner', 11814: 'tried', 9085: 'quit', 7522: 'months', 11785: 'treasury', 10934: 'stint', 8715: 'pound', 4699: 'forecasts', 1651: 'boosted', 5515: 'highest', 10391: 'since', 105: '2011', 1615: 'boe', 1448: 'bets', 12505: 'wells', 4369: 'fargo', 1016: 'aside', 6679: 'less', 1197: 'bad', 6813: 'loans', 9862: 'said', 5: '10', 2382: 'citigroup', 11235: 'swatch', 7919: 'objects', 1123: 'authorities', 12132: 'use', 6128: 'iwatch', 6483: 'label', 329: '85', 7982: 'old', 10958: 'stop', 11912: 'tweeting', 9163: 'rappers', 7494: 'money', 3464: 'directed', 7049: 'marc', 12467: 'webb', 10786: 'sprint', 9049: 'q1', 9609: 'revs', 4122: 'estimate', 12096: 'upgrade', 8897: 'progresses', 5425: 'hearing', 1600: 'board', 4177: 'ex', 2200: 'chair', 2861: 'course', 6077: 'ipad', 4519: 'fincher', 6622: 'leaves', 10915: 'steve', 6223: 'jobs', 3284: 'demands', 5865: 'increase', 600: 'aid', 7035: 'manoeuvrability', 5912: 'inflation', 3866: 'edges', 11252: 'swift', 457: 'action', 10078: 'seen', 951: 'argentine', 5579: 'holdouts', 11557: 'through', 10627: 'some', 3677: 'downed', 5407: 'heading', 603: 'aids', 12690: 'worst', 4739: 'four', 1584: 'blowout', 5364: 'has', 867: 'anything', 2214: 'changed', 9929: 'saturated', 4382: 'fat', 3604: 'doesn', 2127: 'cause', 5428: 'heart', 6396: 'kindred', 4956: 'gentiva', 10349: 'sifts', 10460: 'slack', 2167: 'cements', 8637: 'policy', 2441: 'climb', 3964: 'emerging', 3042: 'currencies', 524: 'advance', 7726: 'neil', 3252: 'degrasse', 11935: 'tyson', 1551: 'blasts', 2921: 'creationism', 2824: 'cosmos', 4069: 'episode', 2160: 'celgene', 8496: 'pill', 11786: 'treat', 8982: 'psoriatic', 991: 'arthritis', 4966: 'german', 2668: 'confidence', 6465: 'krona', 8999: 'puerto', 9636: 'rico', 1487: 'bill', 12768: 'yields', 7624: 'muni', 2933: 'credit', 6164: 'jd', 2554: 'com', 8817: 'priced', 385: 'above', 9149: 'range', 11994: 'underwriters', 1283: 'barnes', 7812: 'noble', 11381: 'teams', 10265: 'shipping', 10527: 'smartphone', 5896: 'industry', 6384: 'kill', 9297: 'reduce', 11490: 'thefts', 1596: 'bmw', 4224: 'expand', 8880: 'production', 12463: 'weather', 5721: 'hurt', 9062: 'quarter', 9013: 'pump', 8819: 'prices', 1481: 'biggest', 6281: 'july', 102: '2008', 3588: 'do', 6864: 'los', 798: 'angeles', 11938: 'uber', 3736: 'drivers', 8954: 'protest', 11514: 'they', 1336: 'beach', 1618: 'bofa', 8708: 'posts', 11580: 'tied', 7546: 'mortgages', 7901: 'nyse', 7782: 'niederauer', 6621: 'leave', 1106: 'august', 4995: 'gilts', 3205: 'decline', 12442: 'wayne', 6423: 'knight', 5093: 'got', 7863: 'now', 5339: 'hard', 11695: 'touts', 11181: 'surface', 6713: 'libyan', 9234: 'rebels', 9441: 'reopen', 3832: 'eastern', 8683: 'ports', 11506: 'there', 10629: 'something', 11664: 'topless', 5972: 'instagram', 10559: 'snap', 1460: 'beyonce', 767: 'among', 12609: 'winners', 12468: 'webby', 5480: 'hendricks', 5625: 'hopes', 2226: 'character', 6220: 'joan', 4504: 'final', 6376: 'kicks', 10717: 'speed', 11726: 'trading', 8858: 'probes', 243: '500', 10336: 'sick', 9882: 'salmonella', 107: '2013', 8628: 'poisoning', 10310: 'shows', 5392: 'hayden', 977: 'arrested', 9158: 'rape', 2231: 'charges', 3497: 'discovery', 2006: 'cancels', 5236: 'guns', 1080: 'attend', 108: '2014', 7287: 'met', 4875: 'gala', 8002: 'one', 7450: 'mocked', 7275: 'mersch', 8781: 'preparing', 9054: 'qe', 9211: 'ready', 2845: 'counter', 3248: 'deflation', 7225: 'megan', 11108: 'suffered', 397: 'abuse', 2601: 'commuters', 2387: 'city', 10280: 'shoot', 10687: 'spanish', 2724: 'consumer', 4380: 'fastest', 8181: 'pace', 7937: 'oct', 103: '2009', 11784: 'treasuries', 11918: 'twin', 8352: 'peaks', 9877: 'salivate', 6935: 'lynch', 831: 'announces', 337: '90', 3262: 'deleted', 12662: 'wookiee', 12551: 'who', 11167: 'supplies', 4293: 'extras', 10743: 'spills', 441: 'ackman', 12672: 'working', 12157: 'valeant', 689: 'allergan', 11311: 'takeover', 5148: 'greece', 9685: 'road', 9284: 'recovery', 4582: 'flaming', 6770: 'lips', 1356: 'beatles', 2875: 'cover', 6295: 'justices', 10299: 'show', 11169: 'support', 545: 'aereo', 6095: 'irreversible', 3091: 'damage', 2213: 'change', 11950: 'un', 6605: 'leak', 816: 'anita', 1213: 'baker', 6615: 'learns', 12412: 'warrant', 6112: 'issued', 976: 'arrest', 3376: 'detroit', 8395: 'percent', 3767: 'due', 6889: 'lower', 8974: 'provision', 12215: 'versace', 1793: 'brings', 6809: 'lo', 7101: 'maryland', 3256: 'delaware', 5102: 'governors', 2645: 'concerned', 8447: 'pfizer', 1049: 'astra', 3442: 'dimon', 11555: 'throat', 1384: 'begin', 10292: 'shortly', 5188: 'grounds', 4048: 'entire', 182: '35', 4604: 'fleet', 8377: 'pending', 4017: 'engine', 5963: 'inspections', 3169: 'dealtalk', 12304: 'vivendi', 5712: 'hunts', 11411: 'telecom', 4216: 'exit', 7643: 'must', 3232: 'defended', 5764: 'if', 12533: 'where', 12694: 'would', 3858: 'economy', 5051: 'go', 8482: 'pictured', 6195: 'jessica', 10385: 'simpson', 11561: 'throws', 5686: 'huge', 12545: 'white', 1587: 'blue', 11494: 'themed', 1305: 'bash', 5113: 'grabs', 8634: 'pole', 5125: 'grand', 8850: 'prix', 758: 'americas', 8709: 'pot', 12200: 'vending', 6947: 'machine', 6293: 'just', 1169: 'awesome', 10659: 'sounds', 7642: 'musk', 8226: 'panasonic', 6686: 'letter', 6000: 'intent', 6312: 'kardashians', 7513: 'montana', 2150: 'celebrate', 6370: 'khloe', 1517: 'birthday', 11062: 'style', 8712: 'potentially', 4264: 'explosive', 609: 'airbags', 11547: 'three', 8650: 'pollution', 10585: 'so', 3738: 'driving', 724: 'alternate', 10064: 'security', 5291: 'halts', 2755: 'controversial', 11366: 'tax', 8891: 'program', 11946: 'ultimate', 10611: 'solar', 11288: 'system', 1052: 'astronomer', 3496: 'discovers', 12413: 'warren', 1858: 'buffett', 12518: 'whack', 4409: 'fcc', 12121: 'urges', 3257: 'delay', 9113: 'raging', 1877: 'bull', 9767: 'round', 4887: 'game', 11556: 'thrones', 11537: 'thought', 10775: 'spotted', 1578: 'blooper', 6995: 'makeup', 8005: 'online', 8710: 'potato', 9868: 'salad', 9126: 'raised', 58: '16k', 6159: 'jay', 9810: 'run', 8187: 'packed', 11733: 'trailer', 10603: 'soft', 10728: 'spending', 11318: 'talk', 9693: 'robert', 3678: 'downey', 6266: 'jr', 3749: 'drug', 8694: 'possession', 10614: 'soldier', 10884: 'stays', 2448: 'clinton', 11636: 'told', 7629: 'murdering', 12695: 'wouldn', 9928: 'satisfy', 1573: 'blood', 11629: 'toby', 6337: 'kebbell', 7962: 'official', 11320: 'talks', 8569: 'play', 12259: 'villain', 4363: 'fantastic', 10655: 'soul', 7128: 'mates', 1370: 'bed', 586: 'aging', 4910: 'gas', 7763: 'nh', 2178: 'cents', 5091: 'gosling', 6871: 'lost', 9680: 'river', 8633: 'polarizes', 2017: 'cannes', 571: 'ag', 10469: 'slaps', 1272: 'barclays', 10063: 'securities', 4764: 'fraud', 11121: 'suit', 3062: 'cuts', 11390: 'tech', 9587: 'reverse', 5609: 'hong', 6442: 'kong', 10771: 'spotify', 8668: 'popular', 719: 'also', 11448: 'terrible', 9704: 'roche', 1761: 'breast', 11954: 'unaffordable', 3838: 'eating', 8049: 'or', 3086: 'daily', 8679: 'portions', 8874: 'produce', 8766: 'premature', 7772: 'nick', 2019: 'cannon', 10757: 'spoils', 3280: 'dem', 1177: 'babies', 3516: 'disney', 11708: 'toys', 7061: 'mariah', 11608: 'tina', 4465: 'fey', 7190: 'mean', 5002: 'girls', 10136: 'sequel', 654: 'alcoa', 2603: 'company', 4550: 'firth', 9683: 'rixson', 8626: 'poised', 1344: 'bear', 9669: 'rising', 9490: 'reserves', 12432: 'watchful', 12082: 'unveils', 12475: 'wedding', 364: 'aaron', 7286: 'messing', 12735: 'xbox', 531: 'advert', 10859: 'starring', 1754: 'breaking', 464: 'actor', 1557: 'blended', 1297: 'barrymore', 9901: 'sandler', 9565: 'reunion', 12462: 'wears', 8609: 'plunging', 597: 'ahead', 6737: 'like', 1599: 'bny', 7237: 'mellon', 12499: 'welcome', 461: 'activist', 8370: 'peltz', 12701: 'wrapup', 7719: 'negotiate', 5578: 'holdout', 6060: 'investors', 8698: 'post', 9174: 'ratings', 4162: 'ever', 4156: 'even', 11536: 'though', 4614: 'flights', 10639: 'sony', 3186: 'decade', 7414: 'miss', 2094: 'casey', 6320: 'kasem', 7108: 'mass', 3022: 'culture', 870: 'aol', 3944: 'email', 1743: 'breach', 11120: 'suisse', 4102: 'escapes', 8586: 'pleads', 9514: 'responding', 819: 'ann', 5630: 'hornaday', 11768: 'trappings', 7408: 'misguided', 4442: 'feminism', 1889: 'bunch', 6799: 'lives', 5362: 'harvard', 771: 'amy', 473: 'adams', 4249: 'explains', 4921: 'gave', 2407: 'class', 10042: 'seat', 10602: 'sofia', 12209: 'vergara', 6227: 'joe', 7024: 'manganiello', 3136: 'dating', 5065: 'gold', 12484: 'weeks', 10931: 'stimulus', 11341: 'taper', 10707: 'special', 1630: 'bombs', 161: '2bntoyota', 10169: 'settlement', 11421: 'tells', 1873: 'bulgarians', 9814: 'runs', 6359: 'kerry', 9037: 'pushes', 12726: 'wto', 3156: 'deadline', 7396: 'miranda', 6358: 'kerr', 11959: 'uncensored', 8084: 'orlando', 1576: 'bloom', 11160: 'supermodel', 11022: 'strips', 7666: 'naked', 10502: 'slow', 4158: 'event', 9930: 'saturday', 7787: 'night', 1824: 'brooks', 12528: 'wheelan', 11913: 'tweets', 12418: 'was', 10436: 'sketch', 6055: 'investigation', 4279: 'extended', 2353: 'chrysler', 8062: 'orders', 3999: 'end', 12521: 'whaling', 5710: 'hunt', 9985: 'scientific', 2526: 'collecting', 5693: 'human', 3372: 'determine', 5422: 'healthy', 8514: 'pins', 8412: 'peripheral', 7612: 'multi', 6895: 'lows', 1098: 'audi', 3664: 'double', 3434: 'digit', 5196: 'growth', 4167: 'everyone', 9811: 'runaways', 8531: 'pitches', 5943: 'innovation', 5761: 'idol', 6182: 'jennifer', 6860: 'lopez', 10893: 'steals', 10189: 'sexy', 4477: 'field', 1940: 'buyback', 3558: 'div', 4090: 'error', 5193: 'growing', 7877: 'number', 2173: 'centenarians', 2051: 'care', 4168: 'everything', 6655: 'lena', 3778: 'dunham', 885: 'apologizes', 7476: 'molestation', 6241: 'joke', 6284: 'jumps', 4308: 'faces', 11168: 'supply', 6683: 'let', 9267: 'recognize', 1246: 'bangladesh', 12651: 'women', 4904: 'garment', 12670: 'workers', 8691: 'positively', 1620: 'boj', 6127: 'iwata', 2208: 'chance', 11342: 'tapering', 8155: 'overheats', 6513: 'lake', 7317: 'michigan', 1709: 'bp', 12548: 'whiting', 9314: 'refinery', 7005: 'malfuction', 6119: 'italy', 4027: 'eni', 8816: 'price', 9827: 'russian', 2156: 'celebrities', 1523: 'bit', 3430: 'different', 11806: 'tribeca', 4497: 'film', 4456: 'festival', 8164: 'overstated', 9943: 'savings', 11690: 'tour', 9026: 'purge', 510: 'adobe', 10250: 'shift', 9142: 'ramps', 12135: 'users', 5192: 'grow', 8807: 'pretty', 8508: 'pink', 3763: 'duchess', 1984: 'cambridge', 3270: 'delights', 9977: 'school', 2304: 'children', 2236: 'charity', 12292: 'visit', 1409: 'below', 15: '106', 769: 'ample', 8135: 'outweigh', 6712: 'libya', 11009: 'strife', 7528: 'moon', 6919: 'lunar', 3853: 'eclipse', 12698: 'wows', 10458: 'skywatchers', 8469: 'photos', 9575: 'revamps', 1997: 'camry', 6850: 'looks', 11219: 'sustain', 12329: 'volume', 3864: 'edge', 12636: 'without', 11920: 'twist', 10801: 'squeeze', 6745: 'limes', 3731: 'drinks', 8233: 'panettiere', 7591: 'mr', 12642: 'wladimir', 6416: 'klitschko', 1220: 'bald', 1360: 'beautiful', 7279: 'message', 12775: 'young', 5825: 'imply', 12445: 'weak', 1020: 'asks', 6402: 'kiss', 7242: 'members', 1245: 'bangerz', 6836: 'london', 4830: 'full', 5749: 'icy', 5867: 'increases', 1472: 'bid', 1681: 'botox', 7080: 'markit', 4315: 'factory', 255: '55', 4359: 'fannie', 6962: 'mae', 2458: 'clooney', 10912: 'steps', 7283: 'messenger', 8346: 'peace', 6179: 'jenna', 3392: 'dewan', 11363: 'tatum', 705: 'allure', 6964: 'magazine', 2443: 'climbs', 12745: 'yahoo', 6447: 'kors', 1562: 'blimey', 4780: 'freida', 8517: 'pinto', 11055: 'stuns', 7873: 'nude', 4416: 'feathered', 3347: 'designer', 5105: 'gown', 9866: 'saint', 5357: 'harrison', 4696: 'ford', 7358: 'millennium', 4335: 'falcon', 12492: 'weighs', 10026: 'sea', 9651: 'rights', 10665: 'southeast', 1013: 'asia', 6898: 'lse', 4758: 'frank', 9825: 'russell', 6111: 'issue', 164: '2nd', 1546: 'blames', 10607: 'software', 5026: 'glitch', 10840: 'stance', 12792: 'zac', 3884: 'efron', 5287: 'halston', 9857: 'sage', 1039: 'assigns', 4143: 'eurosail', 8827: 'prime', 101: '2007', 2428: 'clears', 12218: 'version', 6041: 'intuitive', 3078: 'da', 12265: 'vinci', 11191: 'surgical', 9699: 'robot', 6556: 'later', 3877: 'effects', 3221: 'deepwater', 5628: 'horizon', 10929: 'still', 12044: 'unknown', 7536: 'morgan', 4774: 'freeman', 10644: 'soothing', 11749: 'transformed', 2303: 'childlike', 10800: 'squeak', 4296: 'exxon', 9679: 'rivals', 10923: 'stick', 8830: 'prince', 9196: 're', 1825: 'bros', 11135: 'summit', 3562: 'divergent', 4505: 'finale', 687: 'allegiant', 4501: 'films', 2258: 'cheapest', 7457: 'model', 8057: 'orbiting', 2047: 'carbon', 7921: 'observatory', 7499: 'monitor', 5071: 'gone', 12495: 'weird', 8097: 'other', 11734: 'trailers', 9681: 'rivers', 1074: 'attacks', 4140: 'europe', 4314: 'factors', 4298: 'eyed', 6672: 'leonardo', 3410: 'dicaprio', 269: '5million', 1096: 'auctioning', 8234: 'panic', 1937: 'button', 4419: 'features', 888: 'app', 9282: 'recovering', 3710: 'dreadful', 4004: 'ending', 11609: 'tinder', 5064: 'going', 5618: 'hook', 3703: 'draper', 11430: 'tender', 10339: 'side', 3102: 'dance', 8367: 'peggy', 6557: 'latest', 5791: 'im', 6525: 'landed', 9471: 'republicans', 10162: 'seth', 9721: 'rogen', 11196: 'surprised', 5373: 'hate', 5534: 'him', 6795: 'lived', 5331: 'happily', 6838: 'lonely', 4488: 'figure', 12553: 'whole', 4681: 'foods', 2613: 'competition', 1529: 'bites', 6238: 'joining', 11800: 'trendy', 3028: 'cupcake', 2995: 'crumbs', 11101: 'suddenly', 2463: 'closes', 10286: 'shops', 370: 'abc', 4226: 'expanding', 8285: 'partnerships', 10278: 'shonda', 9618: 'rhimes', 7099: 'marvel', 8479: 'pickups', 5424: 'heard', 8382: 'penney', 11842: 'trouble', 5312: 'hands', 7485: 'mommy', 6499: 'lactating', 11509: 'thermos', 983: 'arrives', 10414: 'sisterly', 8483: 'pictures', 10610: 'solange', 8317: 'patrick', 5356: 'harris', 7819: 'nominated', 11656: 'tony', 1162: 'award', 12466: 'web', 3720: 'drew', 11807: 'tribute', 5281: 'half', 625: 'airshow', 3198: 'decision', 9248: 'recalls', 12197: 'vehicles', 11522: 'things', 5326: 'happened', 8534: 'pitt', 10354: 'sign', 11851: 'true', 3368: 'detective', 2688: 'conjoined', 11919: 'twins', 10129: 'separated', 2287: 'chest', 6553: 'last', 6144: 'jamie', 4744: 'foxx', 7345: 'mike', 2310: 'chinese', 2561: 'come', 8536: 'pittsburgh', 10896: 'steel', 1392: 'behind', 8690: 'positive', 3068: 'cycle', 12800: 'zara', 8210: 'pajamas', 2643: 'concentration', 1994: 'camp', 12022: 'uniform', 8487: 'piers', 1476: 'bids', 4368: 'farewell', 4871: 'gain', 1037: 'asset', 1184: 'backed', 3732: 'drive', 9771: 'rouses', 403: 'academic', 10435: 'skeptics', 6401: 'kirstie', 693: 'alley', 2899: 'craig', 10762: 'spokeswoman', 6348: 'kendall', 6479: 'kylie', 6180: 'jenner', 5521: 'hijack', 6393: 'kimye', 12315: 'vogue', 8470: 'photoshop', 8491: 'piketty', 11512: 'these', 12454: 'wealthy', 1494: 'billions', 1308: 'basically', 3608: 'doing', 7854: 'nothing', 12766: 'yield', 3051: 'curve', 4591: 'flattens', 10715: 'speculation', 10420: 'sits', 11585: 'tight', 6362: 'key', 4229: 'expect', 6247: 'jon', 4405: 'favreau', 2275: 'chef', 2738: 'contestant', 9999: 'scotty', 7169: 'mccreery', 9691: 'robbed', 5235: 'gunpoint', 12221: 'very', 5783: 'iliad', 7143: 'maverick', 7783: 'niel', 7446: 'mobile', 12355: 'wager', 9451: 'replace', 12097: 'upgraded', 10368: 'silent', 6386: 'killer', 6682: 'lessons', 7651: 'my', 7436: 'mixtape', 6862: 'lorde', 3032: 'curating', 5706: 'hunger', 4888: 'games', 10660: 'soundtrack', 4555: 'fisher', 11606: 'timing', 7578: 'moved', 4729: 'forward', 10080: 'sees', 4926: 'gazprom', 2232: 'charging', 188: '37', 3902: 'elec', 7941: 'oculus', 4306: 'facebook', 9510: 'resources', 6090: 'ire', 11171: 'supporters', 6597: 'lea', 7314: 'michel', 4989: 'gigolo', 7137: 'matthew', 8195: 'paetz', 12639: 'wiz', 6368: 'khalifa', 2162: 'cell', 10561: 'snaps', 8917: 'prompt', 9588: 'reverses', 3261: 'delete', 1797: 'british', 7759: 'newspaper', 6763: 'links', 9372: 'rejects', 4514: 'financial', 5016: 'glass', 11630: 'today', 2710: 'consider', 8267: 'park', 7856: 'notices', 6944: 'macaulay', 3019: 'culkin', 1239: 'band', 8541: 'pizza', 11976: 'underground', 10966: 'storm', 2433: 'clever', 7577: 'move', 715: 'already', 8331: 'paying', 11571: 'tibetans', 728: 'altitude', 4940: 'gene', 937: 'archaic', 5696: 'humans', 1897: 'buoyant', 2176: 'central', 5971: 'instability', 2897: 'crafting', 2216: 'changes', 11567: 'thwart', 4664: 'foes', 579: 'agency', 12675: 'world', 2782: 'copper', 4267: 'exports', 1182: 'bachelorette', 5303: 'hand', 1172: 'awkwardness', 8889: 'profits', 5863: 'income', 9859: 'sags', 9454: 'replaces', 3345: 'design', 5401: 'head', 469: 'actually', 3972: 'emmys', 3342: 'describes', 4499: 'filming', 8271: 'parody', 871: 'ap', 823: 'annie', 4610: 'flick', 9003: 'pulitzer', 8851: 'prize', 6138: 'jagger', 9415: 'remember', 6481: 'la', 4842: 'funeral', 1919: 'bus', 1913: 'bursts', 4581: 'flames', 1582: 'blowing', 11613: 'tire', 10547: 'smoke', 10676: 'space', 10874: 'station', 11711: 'traced', 5436: 'heater', 11520: 'thin', 7391: 'mint', 11661: 'tootsie', 9729: 'roll', 2363: 'cigarette', 10919: 'steyer', 8326: 'paulson', 11322: 'tally', 2233: 'chariklo', 1045: 'asteroid', 9656: 'rings', 2540: 'colonise', 3587: 'dna', 3544: 'distant', 8553: 'planets', 8837: 'printing', 1376: 'been', 9237: 'reborn', 12650: 'woman', 11034: 'struck', 12288: 'virus', 6153: 'jared', 7357: 'mill', 8399: 'perform', 5936: 'injured', 4355: 'fan', 4007: 'endres', 10260: 'ship', 10253: 'shifts', 11214: 'suspect', 6209: 'jewish', 10281: 'shooting', 4291: 'extradited', 9527: 'restrained', 7706: 'near', 2229: 'charge', 6497: 'lackluster', 1326: 'baxter', 2602: 'companies', 7331: 'middle', 4063: 'envoy', 2963: 'criticizes', 6108: 'israeli', 6192: 'jerusalem', 6526: 'landesbank', 9839: 'saar', 7717: 'negative', 3241: 'deficit', 707: 'almost', 11526: 'third', 235: '492', 2140: 'cbo', 3842: 'ebay', 7452: 'mockingbird', 11584: 'tiger', 5748: 'iconic', 12317: 'voice', 6630: 'lee', 7093: 'marshall', 170: '30000', 9652: 'rihanna', 1279: 'bares', 2075: 'carpet', 6478: 'kyiv', 2144: 'ccc', 1941: 'buybacks', 920: 'approved', 8579: 'playstation', 2715: 'consoles', 5542: 'hints', 5840: 'improved', 5411: 'heads', 8640: 'political', 5167: 'grilling', 3402: 'diamond', 10427: 'size', 8102: 'ousted', 890: 'apparel', 2243: 'charney', 216: '43', 7087: 'married', 1363: 'because', 8773: 'prenup', 8841: 'priority', 1142: 'avastin', 2186: 'cervical', 5442: 'heaven', 567: 'afterlife', 9375: 'relatable', 415: 'accessible', 1100: 'audiences', 4065: 'epa', 12610: 'winning', 10989: 'streak', 1189: 'backs', 5153: 'greenhouse', 8419: 'permits', 2612: 'competing', 7601: 'much', 6456: 'kris', 8465: 'photo', 1871: 'bulgaria', 3827: 'eases', 6755: 'line', 9918: 'sarah', 7316: 'michelle', 4938: 'gellar', 10464: 'slams', 10818: 'staff', 9271: 'recommends', 7859: 'novartis', 4323: 'failure', 12220: 'versus', 6334: 'kazakhstan', 8808: 'prevent', 7239: 'meltdown', 3593: 'doctor', 3647: 'doom', 9133: 'rally', 810: 'animal', 8258: 'paratarsotomus', 6955: 'macropalpis', 11610: 'tiny', 7430: 'mite', 1351: 'beast', 6027: 'interview', 2195: 'chad', 10545: 'smith', 11653: 'tonight', 3753: 'drum', 4448: 'ferrell', 2876: 'coverage', 11961: 'unchanged', 1854: 'budget', 7793: 'nike', 4822: 'fuelband', 5556: 'hits', 4088: 'ericsson', 7742: 'networks', 12032: 'unit', 9283: 'recovers', 10950: 'stolen', 7102: 'maserati', 8006: 'only', 1905: 'burglary', 1796: 'britain', 4992: 'gilead', 5482: 'hepatitis', 5139: 'grave', 4751: 'france', 7693: 'national', 4807: 'front', 11248: 'sweeps', 12242: 'victory', 8134: 'outta', 2633: 'compton', 3132: 'date', 8638: 'polio', 3962: 'emergency', 1781: 'brief', 3268: 'delicious', 5143: 'great', 5465: 'held', 3665: 'doubles', 2194: 'cgi', 3759: 'dub', 12371: 'walker', 9967: 'scenes', 5676: 'hsbc', 4586: 'flash', 4228: 'expansion', 12366: 'wal', 7095: 'mart', 12184: 'vast', 9491: 'reservoir', 5508: 'hidden', 3001: 'crust', 5580: 'holds', 3943: 'em', 4860: 'fx', 2909: 'crawl', 11070: 'subdued', 12600: 'winds', 2225: 'chapter', 11872: 'tumble', 1811: 'broadly', 2515: 'coldwater', 2937: 'creek', 6772: 'liquidation', 6832: 'lohan', 7734: 'nervous', 4196: 'excited', 7013: 'mamet', 5799: 'imf', 5269: 'had', 11085: 'subsidy', 9266: 'reclusive', 5561: 'hoarded', 3419: 'died', 7315: 'michele', 4849: 'furniture', 1377: 'beer', 11017: 'striped', 4802: 'frock', 2000: 'canadian', 3043: 'currency', 3982: 'employment', 11735: 'trails', 8474: 'pick', 471: 'ad', 2204: 'challenges', 7191: 'meaning', 12019: 'unheard', 10903: 'steinberg', 5954: 'insider', 5374: 'hated', 512: 'adopted', 1842: 'bryan', 434: 'accuser', 1069: 'attack', 6752: 'lindsay', 733: 'always', 4669: 'follow', 9971: 'schedules', 6115: 'issues', 11002: 'stress', 11458: 'test', 7389: 'minor', 3456: 'dip', 2725: 'consumers', 12712: 'wrists', 7760: 'next', 4808: 'frontier', 792: 'android', 208: '40m', 4508: 'finalises', 1617: 'boeing', 8163: 'oversight', 3712: 'dreamliner', 2746: 'contractors', 4395: 'faulted', 4302: 'faa', 8338: 'payrolls', 3674: 'dow', 61: '17000', 7843: 'north', 11864: 'trying', 7573: 'mourn', 5646: 'host', 10302: 'showed', 11466: 'teva', 6585: 'lawsuit', 1566: 'blockbuster', 11897: 'turns', 4321: 'failing', 9197: 'reach', 10693: 'sparking', 4133: 'eu', 7667: 'name', 8220: 'pals', 8654: 'pono', 1712: 'brace', 6870: 'losses', 5033: 'gloom', 3121: 'daring', 9172: 'rather', 7780: 'nicole', 6379: 'kidman', 6010: 'interim', 9032: 'pursues', 2562: 'comeback', 2057: 'caretaker', 9726: 'role', 4819: 'ftse', 12093: 'updates', 11374: 'te', 2691: 'connectivity', 10121: 'sensor', 6341: 'keeping', 6453: 'kravings', 11790: 'treats', 5496: 'herself', 7794: 'nikkei', 8120: 'outkast', 82: '1990s', 5543: 'hip', 5620: 'hop', 2489: 'coachella', 4768: 'freddie', 8838: 'prinze', 6551: 'lashes', 6344: 'keifer', 11222: 'sutherland', 12514: 'western', 3830: 'east', 1012: 'ashton', 6477: 'kutcher', 1982: 'cam', 11681: 'touch', 2262: 'check', 6181: 'jennette', 7170: 'mccurdy', 7656: 'mysterious', 4250: 'explanation', 2321: 'choice', 2594: 'common', 12142: 'uterine', 4475: 'fibroid', 11189: 'surgery', 11996: 'undetected', 12411: 'warns', 6694: 'levels', 3455: 'dioxide', 8101: 'our', 7889: 'nutritious', 9486: 'researchers', 6234: 'johnny', 3325: 'depp', 5624: 'hopeless', 8459: 'philips', 2205: 'challenging', 3126: 'darren', 972: 'aronofsky', 1469: 'biblical', 6958: 'made', 127: '22', 6282: 'jump', 6243: 'jokes', 9595: 'reviews', 9328: 'refused', 8417: 'permission', 12216: 'versailles', 4021: 'england', 12342: 'voting', 11632: 'together', 47: '15', 11134: 'summer', 4990: 'gigs', 10153: 'services', 4919: 'gauge', 1798: 'britney', 10705: 'spears', 6936: 'lynn', 6969: 'magical', 7687: 'nasâ', 5787: 'illmatic', 11371: 'taylor', 2647: 'concert', 11474: 'thailand', 37: '13', 6088: 'iraq', 12210: 'verge', 3222: 'default', 3188: 'decades', 1791: 'bring', 10963: 'stores', 6117: 'italian', 2457: 'cloning', 12133: 'used', 10905: 'stem', 2165: 'cells', 1758: 'breakthrough', 5210: 'guest', 7686: 'nashville', 710: 'alongside', 2695: 'connie', 1803: 'britton', 8461: 'phoenix', 2452: 'clo', 10816: 'stacy', 6343: 'keibler', 7088: 'marries', 1705: 'boyfriend', 10173: 'seven', 8617: 'pobre', 11195: 'surprise', 9056: 'qualcomm', 9584: 'revenue', 6839: 'long', 9677: 'rival', 5740: 'ibm', 5743: 'iceland', 6892: 'lowers', 6693: 'level', 1275: 'bardarbunga', 12326: 'volcano', 4276: 'extant', 10973: 'strain', 12691: 'worth', 4707: 'forget', 3239: 'defiance', 5250: 'gwyneth', 6340: 'keep', 2701: 'conscious', 8846: 'private', 6692: 'levar', 1915: 'burton', 9209: 'reading', 9123: 'rainbow', 7757: 'news', 4527: 'finger', 8656: 'pooch', 9569: 'reuniting', 6147: 'jane', 4675: 'fonda', 6742: 'lily', 11643: 'tomlin', 9597: 'revised', 6103: 'ism', 9461: 'reportedly', 1882: 'bullish', 7310: 'micex', 9896: 'sanctions', 9757: 'rosneft', 4322: 'fails', 721: 'alter', 2634: 'computer', 8105: 'outage', 9476: 'require', 10679: 'spacewalk', 9445: 'repair', 11589: 'tighter', 12119: 'urged', 11738: 'training', 7737: 'nestle', 7481: 'momenta', 5992: 'intellectual', 8927: 'property', 1462: 'beyoncé', 7605: 'mugshot', 2500: 'cochlear', 5819: 'implants', 4329: 'fairness', 8779: 'prepared', 12405: 'warming', 5810: 'impacts', 8230: 'panel', 5478: 'hemsworth', 3936: 'elsa', 8304: 'pataky', 9576: 'reveal', 7669: 'names', 5849: 'inc', 8929: 'proposal', 11988: 'undervalues', 11889: 'turkish', 6774: 'lira', 4083: 'erdogan', 1568: 'blocks', 12087: 'unwittingly', 5473: 'helped', 5510: 'hide', 11100: 'sudan', 6996: 'making', 3713: 'dreams', 6336: 'keaton', 12201: 'venice', 8019: 'opener', 1514: 'birdman', 11013: 'striking', 1565: 'block', 6091: 'ireland', 6974: 'mail', 10486: 'slightly', 7404: 'misdiagnosis', 6872: 'lot', 7342: 'might', 11523: 'think', 10481: 'slice', 10214: 'share', 7319: 'mick', 5615: 'honoured', 4214: 'existing', 9493: 'resets', 2453: 'clock', 1158: 'await', 11521: 'thing', 7868: 'nph', 3603: 'does', 717: 'als', 1849: 'bucket', 4622: 'flirt', 3660: 'dotcom', 1647: 'boom', 11042: 'student', 6812: 'loan', 6005: 'interest', 8686: 'pose', 10097: 'self', 8680: 'portrait', 1702: 'boy', 4344: 'false', 644: 'alarm', 2517: 'colfer', 367: 'abandoning', 5020: 'glee', 3462: 'dips', 7078: 'marketwired', 10330: 'shuts', 11724: 'traders', 11709: 'tpg', 447: 'acquiring', 12734: 'wyoming', 6524: 'land', 9626: 'rich', 7698: 'natural', 3992: 'encana', 946: 'area', 10888: 'steady', 9964: 'scarlett', 6231: 'johansson', 9473: 'request', 12572: 'widow', 782: 'ancient', 10609: 'soil', 2217: 'changing', 2347: 'christopher', 7818: 'nolan', 5919: 'information', 4858: 'futuristic', 11551: 'thriller', 3468: 'director', 7158: 'mazursky', 76: '1978', 12050: 'unmarried', 6876: 'louis', 11644: 'tomlinson', 12801: 'zayn', 7008: 'malik', 10215: 'shared', 6240: 'joint', 9216: 'reality', 2961: 'criticism', 11728: 'traffic', 3227: 'defect', 9460: 'reported', 6761: 'linked', 12826: 'zâ', 9816: 'runâ', 4371: 'farley', 7586: 'mowat', 2351: 'chronicler', 343: '92', 10825: 'stairway', 8196: 'page', 2100: 'cassette', 11343: 'tapes', 146: '27', 4814: 'frozen', 3789: 'dvd', 6603: 'leads', 5185: 'ground', 7700: 'naval', 4694: 'forces', 7697: 'nato', 8322: 'pattinson', 7864: 'nowhere', 5353: 'harness', 9011: 'pulpit', 9987: 'scientists', 1398: 'believe', 780: 'ancestors', 10938: 'stock', 10849: 'stanley', 11600: 'timeframe', 2492: 'coastal', 4629: 'flooding', 4786: 'frequent', 10406: 'sinking', 9675: 'rita', 8050: 'ora', 7458: 'models', 8835: 'printed', 9694: 'roberto', 2135: 'cavalli', 2923: 'creations', 9731: 'rolling', 10956: 'stones', 4218: 'exodus', 8177: 'oz', 8188: 'packing', 7632: 'murphy', 7839: 'normal', 2336: 'choreographing', 1539: 'blackberry', 1859: 'buffs', 2930: 'credentials', 10065: 'secusmart', 6463: 'kroger', 12299: 'vitacost', 148: '280', 1048: 'astonishing', 1126: 'autism', 7696: 'nationwide', 289: '68', 4487: 'fights', 1157: 'avril', 6576: 'lavigne', 4332: 'fake', 4683: 'fools', 4460: 'feud', 8544: 'placed', 11755: 'transitions', 11703: 'townsend', 1122: 'author', 518: 'adrian', 7475: 'mole', 5488: 'here', 6199: 'jet', 3478: 'disappearing', 7433: 'mixed', 6017: 'interpublic', 3153: 'de', 7804: 'niro', 4387: 'father', 9273: 'recorded', 7305: 'mh370', 2904: 'crashed', 7934: 'ocean', 2970: 'crop', 6811: 'load', 6459: 'kristen', 10918: 'stewart', 7755: 'newly', 5277: 'hair', 7938: 'october', 3471: 'directv', 9021: 'purchase', 6245: 'jolt', 6533: 'landscape', 2957: 'critical', 6552: 'lashing', 7268: 'mergers', 2026: 'cap', 799: 'angelina', 6244: 'jolie', 3875: 'effect', 12685: 'worrying', 7112: 'mastectomies', 7568: 'motors', 8309: 'patents', 10788: 'spur', 3905: 'electric', 3385: 'development', 11190: 'surges', 12791: 'yum', 1732: 'brands', 91: '1st', 9055: 'qtr', 9521: 'restaurant', 10960: 'stops', 9957: 'scanning', 7280: 'messages', 533: 'advertising', 9690: 'rob', 3263: 'deletes', 10580: 'snub', 9663: 'ripple', 2803: 'corporate', 1602: 'boardrooms', 10667: 'southwest', 4613: 'flight', 1081: 'attendant', 8295: 'passengers', 9687: 'roar', 6566: 'laughter', 12127: 'usa', 7766: 'nia', 9894: 'sanchez', 10847: 'stands', 3236: 'defense', 7097: 'martial', 999: 'arts', 7649: 'muted', 9203: 'reaction', 1894: 'bunny', 2938: 'creep', 6307: 'kaluga', 9337: 'region', 1331: 'bb', 12035: 'unitedhealth', 5694: 'humana', 7211: 'medicare', 527: 'advantage', 3277: 'delphi', 3979: 'employee', 11106: 'sues', 8362: 'peering', 592: 'agreements', 12212: 'verizon', 11869: 'tuesday', 9306: 'reemergence', 3202: 'declared', 1718: 'brady', 5666: 'housekeeper', 3143: 'davis', 5557: 'hitting', 11481: 'thaw', 1943: 'buyers', 12655: 'wonderful', 7619: 'mum', 9074: 'questions', 4208: 'exes', 5701: 'humphries', 9334: 'reggie', 1921: 'bush', 10166: 'setting', 8770: 'premise', 1606: 'boatload', 5638: 'horror', 10968: 'story', 2218: 'channel', 11880: 'tunnel', 11777: 'travellers', 4240: 'experiencing', 7407: 'misery', 6155: 'jason', 10082: 'segel', 1993: 'cameron', 3409: 'diaz', 1277: 'bare', 5526: 'hilarious', 2857: 'couple', 5953: 'inside', 45: '14m', 5299: 'hamptons', 11305: 'taiwan', 12789: 'yuan', 5853: 'inch', 155: '290', 9558: 'retreats', 4402: 'favors', 2971: 'crops', 10959: 'stopped', 10767: 'sport', 7257: 'mental', 5788: 'illness', 4752: 'frances', 1342: 'bean', 2496: 'cobain', 736: 'am', 11039: 'struggling', 11984: 'understand', 10366: 'silence', 11684: 'touching', 4415: 'feast', 9409: 'remarkable', 8127: 'outrageous', 2751: 'control', 4645: 'floyd', 7156: 'mayweather', 9162: 'rapper', 6067: 'involved', 10346: 'siemens', 7431: 'mitsubishi', 8590: 'pledge', 5202: 'guarantees', 4148: 'eva', 6842: 'longoria', 489: 'adds', 10444: 'skin', 10058: 'section', 3295: 'demure', 4742: 'foxcatcher', 2071: 'carney', 10716: 'speech', 7019: 'manager', 9991: 'scooter', 1737: 'braun', 12478: 'weds', 500: 'adm', 12578: 'wild', 4596: 'flavors', 3867: 'edging', 9081: 'quiet', 5007: 'gives', 4025: 'enhanced', 544: 'aegis', 4542: 'fires', 10515: 'sm', 7417: 'missile', 8010: 'onshore', 6064: 'invite', 6607: 'leaks', 10674: 'soybeans', 10483: 'slide', 10175: 'seventh', 5363: 'harvest', 8940: 'prospects', 5088: 'gorgeous', 7545: 'mortgage', 905: 'applications', 7159: 'mba', 9756: 'rosie', 3639: 'donnell', 11908: 'tweet', 5611: 'honorary', 3094: 'dame', 8253: 'paranoid', 5974: 'installed', 4722: 'fortified', 9849: 'safe', 9740: 'room', 802: 'angers', 7725: 'neighbours', 6875: 'loud', 4905: 'garner', 1995: 'campaign', 12118: 'urge', 11477: 'thankful', 4503: 'fin', 7366: 'min', 11698: 'towards', 4076: 'equitable', 9240: 'rebounds', 9604: 'revives', 6410: 'kiwi', 5253: 'gym', 12457: 'wear', 6031: 'intimidating', 3691: 'draft', 645: 'alarmist', 11379: 'team', 2364: 'cigarettes', 11628: 'tobacco', 7363: 'millions', 12409: 'warning', 2118: 'catching', 4534: 'fire', 7865: 'nowotny', 11425: 'tempers', 10987: 'strategy', 941: 'architect', 6327: 'katie', 2837: 'cotton', 9548: 'retire', 8315: 'patients', 5903: 'infection', 2728: 'contacts', 3088: 'dairy', 12683: 'worries', 5576: 'holding', 1038: 'assets', 1235: 'ban', 11433: 'tension', 11542: 'threaten', 5874: 'independence', 6987: 'major', 5878: 'indexes', 12483: 'weekly', 11119: 'suing', 1135: 'autonomy', 7961: 'officers', 3663: 'dots', 9723: 'roiling', 5238: 'gupta', 8842: 'prison', 11442: 'term', 60: '17', 1807: 'broadband', 6667: 'leno', 487: 'addresses', 6687: 'letterman', 9552: 'retiring', 8717: 'pounds', 9246: 'recalled', 2518: 'coli', 2733: 'contamination', 9426: 'remove', 268: '5m', 577: 'ageing', 2556: 'combat', 1136: 'autopilot', 11296: 'tackle', 5880: 'indian', 2988: 'crude', 8363: 'peers', 4340: 'falling', 6094: 'iron', 8064: 'ore', 7968: 'offshore', 3433: 'digest', 11604: 'times', 144: '26', 4262: 'exploring', 9907: 'sanofi', 10871: 'state', 5870: 'incredibles', 8522: 'pipeline', 11147: 'suntrust', 350: '968', 9733: 'rolls', 9786: 'royce', 9564: 'returns', 3922: 'elisabeth', 7551: 'moss', 4767: 'freaky', 4908: 'garth', 3762: 'dublin', 12689: 'worsens', 5902: 'infected', 7412: 'misled', 6292: 'jury', 4793: 'friendless', 11899: 'tutorial', 10856: 'stark', 10415: 'sisters', 3168: 'deals', 1580: 'blow', 8903: 'projects', 7486: 'momoa', 924: 'aquaman', 1318: 'batman', 11156: 'superman', 6294: 'justice', 8559: 'planting', 2058: 'carey', 12361: 'wait', 10088: 'seize', 11335: 'tanker', 2086: 'carrying', 9232: 'rebel', 8674: 'port', 7805: 'nirvana', 4044: 'enters', 9705: 'rock', 5283: 'hall', 4349: 'fame', 2745: 'contracting', 6637: 'legally', 1499: 'binding', 588: 'ago', 4967: 'germany', 7269: 'merkel', 8740: 'praises', 9041: 'putin', 201: '40', 10312: 'shr', 11356: 'tarred', 12397: 'war', 12164: 'value', 6613: 'learned', 10011: 'screen', 467: 'actress', 9794: 'ruby', 3216: 'dee', 340: '91', 3755: 'drunk', 1278: 'barely', 10842: 'stand', 12252: 'viewing', 3967: 'eminem', 4002: 'endearing', 3327: 'depressing', 9023: 'purdy', 3105: 'dancing', 10860: 'stars', 1099: 'audience', 6271: 'judges', 11383: 'tears', 4809: 'frontman', 6123: 'itself', 11202: 'surrounded', 4189: 'exception', 2152: 'celebrates', 5028: 'glittering', 7374: 'minidress', 5386: 'having', 10089: 'seized', 973: 'around', 6015: 'international', 2290: 'chewbacca', 8436: 'peter', 7152: 'mayhew', 9466: 'reprise', 2851: 'country', 1715: 'braces', 10834: 'stalling', 1632: 'bonanza', 6121: 'items', 9006: 'pulled', 7827: 'none', 9376: 'related', 4365: 'far', 5493: 'heroics', 11424: 'tempered', 11573: 'ticket', 12599: 'windows', 10886: 'steadier', 4688: 'footing', 9404: 'remain', 8046: 'options', 7679: 'narrow', 1445: 'bet', 5098: 'gov', 4193: 'exchange', 11012: 'strikes', 2621: 'complete', 1252: 'banking', 9132: 'rallies', 9097: 'races', 2859: 'couric', 6573: 'laurie', 3836: 'eat', 1766: 'brendan', 3892: 'eich', 9501: 'resignation', 7588: 'mozilla', 3619: 'dom', 5476: 'hemingway', 5174: 'gritty', 7200: 'meathead', 1750: 'breaker', 2199: 'chains', 6346: 'kelly', 8092: 'osbourne', 11361: 'tattoo', 2314: 'chiquita', 4863: 'fyffes', 2919: 'creating', 1237: 'banana', 11166: 'supplier', 726: 'alters', 10167: 'settings', 4795: 'friends', 2128: 'caused', 9264: 'reclaiming', 10275: 'shocking', 7043: 'many', 10620: 'solitude', 4471: 'fiancé', 9386: 'relaxes', 2592: 'commodities', 4414: 'fears', 10209: 'shanghai', 10509: 'slump', 11718: 'tracy', 3891: 'eia', 7518: 'monterey', 10204: 'shale', 4290: 'extraction', 7989: 'olivia', 8214: 'palermo', 6230: 'johannes', 5681: 'huebl', 2925: 'creatively', 2780: 'cope', 691: 'allergies', 3716: 'dressed', 1785: 'bright', 10770: 'spot', 11031: 'strongest', 12788: 'yrs', 10143: 'serious', 11215: 'suspected', 1971: 'calista', 4626: 'flockhart', 9824: 'rushes', 10507: 'slows', 6853: 'looms', 9333: 'regeneron', 4225: 'expanded', 11575: 'tickets', 5656: 'hottest', 8821: 'priciest', 4457: 'festivals', 8749: 'precious', 12089: 'upbeat', 7828: 'nonfarm', 10651: 'sort', 2674: 'confirms', 4016: 'engagement', 9807: 'rumors', 12461: 'wearing', 2296: 'chick', 9654: 'ring', 5524: 'hikes', 3751: 'drugmaker', 251: '51', 12584: 'william', 8287: 'parts', 4686: 'football', 3700: 'drama', 6361: 'kevin', 2507: 'coffee', 6373: 'kick', 11158: 'supermarket', 4012: 'energy', 9369: 'rejected', 10262: 'shipments', 589: 'agree', 138: '25', 8782: 'prepayment', 11969: 'under', 9455: 'replacing', 2148: 'cee', 5151: 'green', 2488: 'coach', 6848: 'looking', 3682: 'download', 10719: 'speeds', 12760: 'yelp', 426: 'account', 10288: 'short', 4232: 'expectations', 1610: 'bocomm', 220: '45', 4693: 'forced', 506: 'admit', 2398: 'clandestine', 6921: 'luncheon', 5530: 'hillary', 690: 'allergic', 9204: 'reactions', 444: 'acne', 9902: 'sandra', 1883: 'bullock', 10005: 'scrapbook', 3213: 'dedicated', 5528: 'hilary', 3769: 'duff', 4934: 'geeky', 12669: 'worker', 10411: 'siren', 5967: 'inspired', 790: 'andrew', 4903: 'garfield', 2283: 'chemistry', 6656: 'lend', 6530: 'landlord', 564: 'african', 8107: 'outbreak', 9467: 'reprises', 3549: 'distressed', 6059: 'investor', 4841: 'funds', 130: '23', 2555: 'coma', 11974: 'undergoing', 12624: 'wisdom', 11406: 'teeth', 9425: 'removal', 11259: 'swing', 6221: 'job', 2484: 'cnooc', 6184: 'jeopardy', 2207: 'champion', 992: 'arthur', 2354: 'chu', 6867: 'loses', 32: '12', 2543: 'colorado', 9220: 'reaps', 9286: 'recreational', 11638: 'toll', 563: 'africa', 275: '603', 4784: 'frenzy', 12324: 'volatility', 11979: 'underpin', 6893: 'lowest', 12307: 'vix', 4153: 'evans', 5523: 'hike', 12073: 'until', 3812: 'early', 110: '2016', 9961: 'scare', 7174: 'mcdonald', 3447: 'diners', 12671: 'workforce', 4441: 'female', 3565: 'diversity', 12490: 'weighed', 1333: 'bbc', 12393: 'want', 4711: 'forgotten', 1981: 'calvin', 6413: 'klein', 9218: 'really', 2328: 'choose', 6476: 'kurt', 11118: 'suicide', 9966: 'scene', 5794: 'images', 6775: 'lisa', 7062: 'marie', 8797: 'presley', 3727: 'drink', 2982: 'crowe', 1818: 'brokers', 6495: 'lack', 11762: 'transparency', 8845: 'privacy', 9349: 'regulator', 7979: 'oklahoma', 3822: 'earthquake', 11186: 'surge', 463: 'activity', 7353: 'miliband', 1050: 'astrazeneca', 1672: 'boss', 12346: 'vs', 1674: 'bossy', 10734: 'spicing', 5769: 'iggy', 1176: 'azalea', 10769: 'sporty', 10733: 'spice', 7231: 'mel', 7337: 'midriff', 1281: 'baring', 5203: 'guard', 868: 'anytime', 1970: 'california', 3745: 'drought', 10511: 'slumps', 3960: 'emerge', 7744: 'neutered', 7399: 'miscarriage', 3027: 'cup', 11175: 'supposedly', 11717: 'tracks', 8718: 'pour', 11010: 'strike', 12532: 'when', 3290: 'democrats', 3828: 'easier', 1985: 'came', 11036: 'struggle', 6018: 'interracial', 9379: 'relationship', 4852: 'further', 4331: 'faith', 129: '22lbs', 5452: 'hedwig', 12365: 'wake', 493: 'adidas', 4424: 'federal', 961: 'arizona', 382: 'abortion', 3752: 'drugs', 2116: 'catch', 7621: 'mumps', 12187: 've', 12150: 'vaccinated', 1980: 'calorie', 10755: 'spoiler', 9335: 'regicide', 2018: 'cannibalism', 5852: 'incestuous', 1440: 'besides', 2807: 'corpse', 6161: 'jazz', 11894: 'turned', 2661: 'condition', 12031: 'uniquely', 7155: 'mayors', 10873: 'states', 5083: 'gop', 6600: 'leaders', 9071: 'question', 4612: 'flies', 5391: 'hawkish', 9192: 'rbnz', 4299: 'eyes', 1207: 'bailed', 3074: 'cyprus', 12160: 'valerie', 5354: 'harper', 3968: 'emirates', 10589: 'soars', 2257: 'cheaper', 4821: 'fuel', 10664: 'south', 1945: 'buyout', 11352: 'targets', 6058: 'investments', 7785: 'nigerian', 10246: 'sheryl', 9899: 'sandberg', 6608: 'leaning', 9598: 'revises', 1332: 'bbb', 9186: 'raw', 7482: 'moments', 9098: 'rachel', 7160: 'mcadams', 8213: 'pale', 7685: 'nasdaq', 7585: 'moving', 1145: 'average', 1938: 'butts', 8516: 'pinterest', 5264: 'hacked', 9885: 'salt', 12787: 'yr', 4588: 'flashes', 11648: 'toned', 9809: 'rumours', 4654: 'flurry', 4203: 'executive', 8624: 'pointed', 12236: 'victim', 1173: 'axe', 5563: 'hoax', 6152: 'japanese', 1287: 'barra', 708: 'alone', 4070: 'episodes', 8597: 'plotlines', 9749: 'rose', 11205: 'survey', 2650: 'concerts', 6716: 'licensing', 5617: 'hoo', 5272: 'hah', 2913: 'crazy', 11048: 'stuff', 5328: 'happens', 8942: 'prostate', 12237: 'victims', 6606: 'leaked', 9768: 'rounded', 11657: 'too', 5999: 'intensity', 4207: 'exercise', 909: 'appreciated', 11172: 'supporting', 6942: 'mac', 454: 'act', 6315: 'karis', 3963: 'emerges', 10883: 'staying', 12537: 'while', 653: 'alcatel', 6904: 'lucent', 11260: 'swings', 6968: 'magic', 7530: 'moonlight', 7636: 'muse', 3151: 'dazzles', 12763: 'yesallwomen', 11798: 'trends', 6099: 'isla', 12297: 'vista', 3508: 'dish', 4462: 'fever', 3928: 'ellen', 2256: 'cheap', 2093: 'cases', 11193: 'surpass', 95: '20000', 12092: 'updated', 2529: 'college', 5118: 'grads', 6267: 'juan', 8179: 'pablo', 11525: 'thinks', 1181: 'bachelor', 10586: 'soap', 8026: 'opera', 7377: 'minions', 1407: 'belongings', 11140: 'sun', 11924: 'twn', 7141: 'maureen', 3675: 'dowd', 3869: 'edible', 7064: 'marijuana', 4998: 'ginnifer', 5078: 'goodwin', 10447: 'skinny', 6167: 'jeans', 9512: 'respectfully', 3056: 'customers', 4535: 'firearms', 866: 'anyone', 10273: 'shocked', 1878: 'bullard', 8374: 'penalties', 7046: 'mar', 6187: 'jerk', 7677: 'napster', 4737: 'founder', 7428: 'misused', 8588: 'please', 6626: 'lebron', 6143: 'james', 3492: 'discourages', 8862: 'procedure', 11541: 'threat', 6489: 'labor', 7379: 'minister', 7220: 'meet', 11011: 'strikers', 10761: 'spokesman', 6345: 'keith', 9628: 'richards', 1498: 'billy', 3006: 'crystal', 4678: 'fonz', 2157: 'celebrity', 2475: 'club', 3381: 'develop', 2001: 'cancel', 12422: 'washington', 9296: 'redskins', 3522: 'disparaging', 11722: 'trademarks', 11185: 'surfs', 6189: 'jermaine', 6104: 'isn', 8702: 'posthumous', 12626: 'wish', 10701: 'speaker', 10222: 'sharp', 4511: 'finally', 9269: 'recommences', 1693: 'bout', 1738: 'brave', 4411: 'fear', 12318: 'voiced', 3707: 'drawn', 6930: 'luxembourg', 1744: 'breached', 5255: 'gymnastics', 8200: 'painful', 10497: 'slog', 3959: 'emerald', 1528: 'bite', 6741: 'lilly', 4914: 'gastric', 2422: 'clearance', 9942: 'saving', 7215: 'meds', 4311: 'facing', 11148: 'super', 7067: 'mario', 1425: 'benz', 10691: 'spark', 12576: 'wii', 2714: 'console', 3636: 'done', 7817: 'nokia', 2840: 'couldn', 10524: 'smart', 2727: 'contact', 6669: 'lens', 411: 'accept', 10125: 'sentiment', 12448: 'weakens', 7321: 'mickey', 9742: 'rooney', 1908: 'buried', 4703: 'forever', 2168: 'cemetery', 1604: 'boast', 8685: 'portuguese', 11332: 'tango', 6997: 'maksim', 2316: 'chmerkovskiy', 8281: 'partner', 7276: 'meryl', 6276: 'julia', 9695: 'roberts', 5432: 'heartbreaking', 4532: 'finland', 55: '15th', 834: 'annual', 7559: 'mothers', 4929: 'gear', 2866: 'courtney', 2393: 'claims', 6817: 'located', 10780: 'spreads', 9917: 'sara', 4991: 'gilbert', 6844: 'longtime', 7641: 'musician', 5000: 'girlfriend', 6751: 'linda', 2514: 'coldplay', 9887: 'salute', 5892: 'inductees', 1821: 'bron', 1109: 'aur', 2836: 'cottage', 6628: 'led', 12806: 'zeppelin', 7336: 'midnight', 9638: 'rider', 9146: 'randall', 7359: 'miller', 8877: 'producers', 5884: 'indicted', 11736: 'train', 9483: 'rescues', 12503: 'well', 5800: 'immediate', 3170: 'dean', 7172: 'mcdermott', 12296: 'visits', 1078: 'attempts', 11535: 'those', 341: '911', 727: 'although', 10152: 'service', 1140: 'available', 8684: 'portugal', 2644: 'concern', 1120: 'austria', 4146: 'eurovision', 4054: 'entry', 2652: 'conchita', 12728: 'wurst', 10752: 'splits', 8031: 'opinion', 10108: 'semifinal', 7898: 'nymex', 4911: 'gasoline', 9027: 'purple', 12234: 'vicious', 6397: 'king', 2438: 'clients', 11577: 'ticks', 2741: 'continues', 6248: 'jonah', 5529: 'hill', 2220: 'channing', 2567: 'comedy', 9607: 'revolution', 9728: 'rolf', 6140: 'jailed', 4261: 'explores', 7682: 'nas', 2409: 'classic', 11719: 'trade', 8664: 'pope', 4755: 'francis', 9148: 'rang', 3579: 'divorced', 12723: 'wrote', 535: 'advice', 8160: 'overseas', 6131: 'jack', 859: 'antonoff', 7912: 'obamas', 11265: 'swiss', 8647: 'polls', 4484: 'fighter', 4408: 'fbi', 6054: 'investigating', 8115: 'outfits', 11163: 'supersonic', 11071: 'submarine', 11989: 'underwater', 1846: 'bubble', 1884: 'bulls', 5423: 'hear', 5541: 'hint', 10913: 'sterling', 7723: 'neighbors', 8594: 'plenty', 7583: 'movies', 7072: 'mark', 4481: 'fifth', 824: 'anniversary', 8663: 'pop', 8328: 'paves', 5288: 'halt', 3285: 'dementia', 3810: 'earlier', 6136: 'jada', 12588: 'willow', 6933: 'lying', 7261: 'mercedes', 141: '252867', 11304: 'tail', 6733: 'light', 3407: 'diapers', 2238: 'charlie', 10230: 'sheen', 12753: 'yeah', 6520: 'lana', 3255: 'del', 9615: 'rey', 8984: 'psychedelic', 9001: 'puffs', 10027: 'seacrest', 11930: 'typo', 6323: 'kate', 12613: 'winslet', 9257: 'receives', 12370: 'walk', 7532: 'mooted', 12057: 'unreasonable', 3925: 'elizabeth', 5368: 'hasselbeck', 8279: 'parties', 10737: 'spidey', 11110: 'suffers', 7111: 'massive', 7801: 'nintendo', 6035: 'introduce', 181: '34', 4242: 'experimental', 4245: 'expert', 8217: 'palladium', 8222: 'pamela', 786: 'anderson', 3578: 'divorce', 9635: 'ricky', 9883: 'salomon', 1254: 'bankruptcy', 6760: 'link', 6598: 'lead', 1898: 'buoyed', 9418: 'remembers', 5398: 'hbo', 3597: 'documentary', 1720: 'brags', 9630: 'riches', 6074: 'iovine', 1367: 'become', 1493: 'billionaire', 1133: 'autonation', 10407: 'sinks', 8876: 'producer', 1865: 'building', 5214: 'guide', 8813: 'previews', 1088: 'attorney', 4941: 'general', 2946: 'criminal', 6961: 'madonna', 6952: 'macklemore', 1728: 'branded', 10109: 'semitic', 3719: 'dressing', 2063: 'caricature', 10045: 'seattle', 11843: 'troubled', 2030: 'capex', 237: '4g', 3388: 'devices', 11117: 'suggests', 5983: 'insurance', 9941: 'saves', 12656: 'wonders', 12593: 'win', 1904: 'burgers', 11772: 'travel', 10200: 'shakespeare', 222: '450th', 1274: 'bard', 8578: 'plays', 678: 'alive', 10086: 'seinfeld', 9066: 'quash', 11683: 'touches', 7445: 'mobil', 147: '28', 6432: 'knowing', 655: 'alcohol', 1727: 'brand', 9311: 'references', 10634: 'songs', 11401: 'teen', 8829: 'primetime', 2907: 'cravings', 11904: 'tw', 9617: 'rhetoric', 10998: 'strength', 79: '1981', 5923: 'ing', 5296: 'hammered', 1534: 'bizarre', 3993: 'encounter', 2670: 'confirm', 2092: 'case', 5855: 'inching', 7330: 'midday', 12784: 'youtube', 10418: 'site', 11922: 'twitch', 2865: 'courting', 3383: 'developers', 10777: 'sprawl', 10790: 'spurs', 2322: 'choices', 12286: 'virtual', 5399: 'hd', 8899: 'project', 7540: 'morpheus', 5412: 'headset', 6222: 'jobless', 11792: 'tree', 12279: 'viral', 9734: 'romance', 4029: 'enjoys', 9736: 'romantic', 12724: 'wsj', 7567: 'motorola', 7448: 'mobility', 4525: 'fines', 2405: 'clash', 4510: 'finalizing', 10807: 'stabbing', 7218: 'meek', 8747: 'pre', 8865: 'proceeds', 3980: 'employees', 8168: 'owe', 11916: 'twice', 2841: 'coulier', 11582: 'ties', 6429: 'knot', 7235: 'melissa', 9829: 'rustic', 11269: 'swoops', 12805: 'zendaya', 363: 'aaliyah', 6729: 'lifetime', 1509: 'biopic', 1733: 'brangelina', 1828: 'brothers', 4847: 'furious', 11852: 'truecar', 8171: 'owner', 406: 'accelerate', 1841: 'brutal', 10503: 'slowdown', 12306: 'vivienne', 3004: 'cry', 7004: 'maleficent', 8385: 'pension', 7980: 'oks', 11447: 'terms', 8932: 'proposed', 3861: 'eczema', 11109: 'sufferers', 8857: 'probed', 3609: 'doj', 10050: 'sec', 4757: 'franco', 6658: 'lenders', 6268: 'judd', 877: 'apatow', 3304: 'denounce', 2956: 'critic', 3929: 'elliot', 9715: 'rodger', 6061: 'invests', 123: '215', 7281: 'messaging', 5359: 'harry', 8713: 'potter', 1091: 'attraction', 4637: 'florida', 11493: 'theme', 1747: 'break', 12407: 'warned', 1964: 'caffil', 361: 'aa', 1752: 'breakeven', 8142: 'overcollateralisation', 5839: 'improve', 5560: 'hkma', 2298: 'chief', 5827: 'importance', 789: 'andre', 6235: 'johnson', 8342: 'pcp', 8381: 'penis', 6283: 'jumped', 2734: 'contango', 8607: 'plunge', 10381: 'simple', 11400: 'tee', 548: 'affair', 11680: 'totally', 12076: 'untrue', 7825: 'non', 4172: 'evil', 9225: 'reasons', 8052: 'orange', 6342: 'keeps', 5053: 'goals', 10808: 'stabilise', 7057: 'margin', 7003: 'male', 3886: 'egan', 11858: 'trust', 7039: 'mantra', 3514: 'dismissed', 827: 'announce', 517: 'adp', 676: 'alitalia', 4132: 'etihad', 9755: 'rosetta', 7419: 'mission', 4095: 'esa', 10291: 'shortlists', 10419: 'sites', 10850: 'stanwell', 554: 'affirmed', 3673: 'dovish', 8149: 'overeager', 4390: 'fathers', 3687: 'dozen', 10073: 'seeking', 5138: 'grass', 8644: 'pollen', 692: 'allergy', 9233: 'rebellious', 9975: 'schilling', 6575: 'laverne', 2888: 'cox', 12145: 'uzo', 3331: 'dept', 701: 'allowable', 2490: 'coal', 3785: 'dust', 9428: 'removes', 3380: 'devastating', 3065: 'cyber', 618: 'airliner', 11819: 'trillion', 6587: 'lawyer', 1028: 'assault', 4518: 'finavera', 695: 'alliance', 10186: 'sexual', 5336: 'harassment', 2574: 'comic', 2638: 'con', 1972: 'call', 2758: 'convention', 8034: 'opportunities', 9005: 'pullback', 11873: 'tumbles', 46: '14th', 3463: 'direct', 1516: 'birth', 2189: 'cfda', 2877: 'covered', 11233: 'swarovski', 3008: 'crystals', 7187: 'me', 11689: 'toughest', 957: 'ariana', 5127: 'grande', 4710: 'forgiving', 6762: 'linkedin', 5547: 'hiring', 3975: 'emotional', 12392: 'wanna', 10805: 'ssl', 3382: 'developer', 2667: 'confesses', 2130: 'causing', 1860: 'bug', 5968: 'inspires', 8861: 'problems', 11362: 'tattoos', 11676: 'tosses', 1046: 'asteroids', 7776: 'nicki', 7367: 'minaj', 11863: 'try', 5770: 'ignite', 4659: 'fob', 3258: 'delayed', 8509: 'pinkett', 490: 'adecco', 6306: 'kaley', 3025: 'cuoco', 1243: 'bang', 11501: 'theory', 774: 'analyst', 8756: 'predicts', 12250: 'viewer', 4008: 'ends', 106: '2012', 4307: 'faced', 7799: 'nine', 2143: 'cbs', 8113: 'outdoor', 3449: 'dinklage', 9329: 'refuses', 10756: 'spoilers', 5111: 'grab', 7855: 'notice', 5195: 'grows', 5709: 'hunky', 12474: 'wed', 10813: 'stabilizes', 12137: 'usher', 12241: 'victorious', 8952: 'protege', 6257: 'josh', 6331: 'kaufman', 2138: 'cbank', 3044: 'current', 917: 'appropriately', 10673: 'soybean', 5829: 'imports', 2305: 'chillicothe', 7971: 'ohio', 3779: 'duped', 11540: 'thousands', 8804: 'pretending', 12152: 'vaccines', 12114: 'upton', 6678: 'leslie', 7033: 'mann', 9583: 'revenge', 2261: 'cheating', 1706: 'boyfriends', 3488: 'disclosures', 11075: 'subpoenaed', 7895: 'ny', 12280: 'virgin', 1734: 'branson', 7300: 'mexicans', 3773: 'dump', 2065: 'carlos', 10487: 'slim', 10074: 'seeks', 5144: 'greater', 3487: 'disclosure', 617: 'airline', 2181: 'ceos', 8431: 'pessimistic', 4236: 'expenditures', 4865: 'gabriel', 4898: 'garcia', 7811: 'nobel', 7861: 'novelist', 332: '87', 5284: 'halle', 1436: 'berry', 6740: 'likes', 10811: 'stability', 6924: 'lung', 11763: 'transplant', 9262: 'recipient', 7631: 'murnaghan', 9801: 'rule', 700: 'allow', 11620: 'title', 10619: 'solidifies', 9359: 'reigning', 9067: 'queen', 8864: 'proceeding', 4882: 'gallon', 3829: 'easing', 6776: 'list', 9352: 'rehab', 1975: 'calling', 1125: 'authors', 7952: 'offender', 1295: 'barring', 12381: 'walmart', 8069: 'organic', 5176: 'groceries', 1717: 'bradley', 2775: 'cooper', 4810: 'frontrunner', 5881: 'indiana', 6249: 'jones', 7400: 'mischa', 1300: 'barton', 4592: 'flattering', 386: 'abrams', 5940: 'injury', 6803: 'living', 3711: 'dream', 5325: 'happen', 9802: 'ruled', 6897: 'loyalty', 12063: 'unsafe', 6385: 'killed', 8530: 'pitch', 8894: 'programmers', 4584: 'flappy', 1513: 'bird', 2926: 'creator', 3638: 'dong', 7762: 'nguyen', 2712: 'considering', 1792: 'bringing', 7521: 'monthly', 5781: 'iii', 8524: 'pippa', 7332: 'middleton', 169: '3000', 7348: 'mile', 1482: 'bike', 452: 'across', 10069: 'see', 11428: 'ten', 5485: 'herbalife', 11545: 'threatens', 4500: 'filmmaker', 327: '84', 9015: 'punch', 5637: 'horrifying', 9672: 'risky', 8284: 'partnership', 4139: 'euronet', 12680: 'worldwide', 11083: 'subsidiary', 2801: 'corp', 11566: 'thursday', 8700: 'posted', 1354: 'beat', 2014: 'candy', 2997: 'crush', 3435: 'digital', 3080: 'dad', 56: '16', 3906: 'electrical', 5817: 'implant', 12799: 'zap', 8251: 'paralysed', 3947: 'embarks', 6262: 'journey', 9124: 'rains', 7627: 'muppets', 10729: 'spends', 5664: 'hours', 1999: 'canada', 9035: 'push', 11866: 'tsx', 12544: 'whitbread', 9339: 'regions', 10848: 'stanford', 4731: 'fossil', 7692: 'nation', 3729: 'drinkers', 3418: 'die', 6632: 'leftovers', 11107: 'suffer', 822: 'annex', 6730: 'lift', 10059: 'sector', 149: '281000', 12574: 'wife', 11212: 'susan', 7288: 'metal', 5301: 'hamstrung', 1113: 'aussie', 10053: 'seconds', 3813: 'earn', 1488: 'billboard', 93: '200', 4235: 'expects', 10548: 'smokers', 3320: 'depends', 12555: 'whom', 1017: 'ask', 526: 'advances', 7967: 'offsets', 12684: 'worry', 11293: 'tablet', 1225: 'ballas', 963: 'arm', 6945: 'macbook', 10862: 'started', 557: 'afford', 10711: 'specs', 11437: 'tenth', 4749: 'frames', 6371: 'khloé', 9541: 'retailer', 7313: 'michaels', 8332: 'payment', 2048: 'card', 7761: 'nfl', 10247: 'shia', 6487: 'labeouf', 8800: 'pressure', 6081: 'iphones', 12473: 'wechat', 3034: 'curb', 11645: 'tomorrow', 3966: 'emily', 1592: 'blunt', 7748: 'never', 11640: 'tom', 2991: 'cruise', 5626: 'hoping', 2313: 'chips', 4750: 'franc', 3625: 'dominate', 11019: 'stripped', 5616: 'honours', 1163: 'awarded', 6865: 'lose', 6709: 'liars', 5110: 'gq', 10023: 'scrutiny', 7628: 'murder', 8985: 'psychiatrist', 5914: 'influence', 5531: 'hills', 7036: 'mansion', 12421: 'washing', 2297: 'chicken', 12703: 'wreck', 11874: 'tummy', 12108: 'upsets', 5766: 'ifo', 10256: 'shine', 16: '107', 3933: 'elon', 10057: 'secrets', 3510: 'disinflation', 6894: 'lowflation', 4870: 'gaga', 11072: 'submissive', 6400: 'kinney', 3696: 'dragon', 9254: 'receipts', 12687: 'worsen', 8481: 'picture', 2749: 'contrarians', 2767: 'cook', 9324: 'refund', 205: '400m', 4573: 'fixing', 10576: 'snort', 8722: 'powdered', 8852: 'pro', 11611: 'tips', 7197: 'measurement', 10708: 'specialties', 11078: 'subscribers', 757: 'americans', 1667: 'borrow', 7110: 'massage', 11504: 'therapists', 8789: 'prescribe', 864: 'any', 11917: 'twilight', 7795: 'nikki', 9302: 'reed', 10130: 'separates', 5725: 'husband', 1060: 'athens', 5150: 'greek', 12308: 'vladimir', 6565: 'laughs', 1019: 'asking', 9870: 'salary', 11746: 'transferred', 5692: 'hulk', 9797: 'ruffalo', 11949: 'ultron', 10573: 'snooki', 4939: 'gender', 12554: 'wholesale', 4085: 'ergon', 259: '560', 9365: 'reit', 7322: 'microbeads', 12419: 'wash', 4553: 'fish', 3586: 'dmv', 2719: 'constancio', 8184: 'package', 2421: 'clear', 605: 'aim', 10964: 'stories', 5265: 'hacker', 12486: 'weev', 2306: 'chilling', 2762: 'conviction', 8167: 'overturned', 8612: 'pm', 11808: 'tributes', 12224: 'veteran', 9627: 'richard', 1079: 'attenborough', 124: '218000', 4856: 'future', 12807: 'zero', 1690: 'bound', 4738: 'founders', 4559: 'fishnet', 4528: 'fingers', 2975: 'crossed', 10889: 'steadying', 7993: 'olympian', 11833: 'triumphs', 6532: 'lands', 9112: 'raf', 7847: 'northolt', 5005: 'given', 389: 'abs', 9353: 'rehabilitation', 3735: 'driverless', 7115: 'mastering', 10996: 'streets', 407: 'accelerates', 7597: 'mt', 5107: 'gox', 2707: 'conservation', 2270: 'cheerleader', 10947: 'stokes', 5711: 'hunting', 9166: 'rare', 10709: 'species', 4473: 'fiat', 5843: 'improving', 7058: 'margins', 5797: 'imagining', 9550: 'retirement', 419: 'accidents', 4799: 'frigid', 2593: 'commodity', 5913: 'inflows', 1386: 'begins', 7075: 'marketing', 113: '2019', 1414: 'benchmark', 2590: 'committed', 1250: 'banker', 3857: 'economists', 6109: 'iss', 1051: 'astronauts', 7325: 'microgravity', 10442: 'skills', 11934: 'tyrion', 6537: 'lannister', 6229: 'joffrey', 10456: 'sky', 3378: 'deutschland', 301: '72', 1544: 'blame', 1875: 'bulging', 12360: 'waistlines', 4068: 'epidemic', 9038: 'pushing', 10150: 'servers', 5267: 'hacking', 3528: 'dispute', 456: 'acting', 81: '1987', 12182: 'vardalos', 9515: 'responds', 509: 'admonishment', 8595: 'plosser', 11960: 'uncertainty', 10506: 'slowing', 5633: 'horrible', 1673: 'bosses', 3352: 'desperate', 11825: 'trio', 11892: 'turn', 9043: 'putting', 4080: 'era', 7301: 'mexico', 4942: 'generally', 11412: 'telecoms', 5675: 'hr', 11200: 'surrealist', 996: 'artist', 3346: 'designed', 7511: 'monster', 7607: 'mulally', 2740: 'continued', 265: '59628', 9931: 'saturn', 1110: 'aura', 11760: 'transmission', 1965: 'caged', 7369: 'minds', 9103: 'racist', 8620: 'poet', 7149: 'maya', 800: 'angelou', 10104: 'selloff', 11463: 'testimony', 11968: 'undeniable', 788: 'andi', 3653: 'dorfman', 5242: 'gushes', 4377: 'fashionable', 2234: 'charitable', 2307: 'chime', 3251: 'degeneres', 2400: 'clarification', 12657: 'wood', 2272: 'cheese', 4834: 'functioning', 656: 'alcoholic', 10613: 'sold', 5494: 'heroin', 2784: 'cops', 1778: 'bridezilla', 1815: 'broke', 884: 'apologize', 2432: 'cleveland', 6380: 'kidnapping', 4071: 'equal', 2660: 'condescending', 9444: 'rep', 6178: 'jenkins', 8900: 'projected', 12025: 'uninsured', 3444: 'dina', 3793: 'dwi', 455: 'acted', 3559: 'diva', 1075: 'attempt', 4833: 'fun', 12246: 'vienna', 893: 'appeal', 3670: 'dov', 4597: 'flaw', 5213: 'guidance', 5820: 'implement', 3939: 'elton', 6232: 'john', 12447: 'weakening', 12645: 'woes', 2519: 'colin', 8191: 'paddington', 2102: 'cast', 5440: 'heats', 3104: 'dances', 5864: 'incoming', 6445: 'korean', 2379: 'cites', 9540: 'retail', 6507: 'lag', 3988: 'emt', 3734: 'driver', 12316: 'voguing', 1439: 'bes', 10007: 'scraps', 174: '31', 10216: 'shareholder', 12277: 'violence', 1653: 'boosts', 5447: 'heavy', 9574: 'revamping', 2090: 'cartoon', 7829: 'noninvasive', 2544: 'colorectal', 10013: 'screening', 6543: 'large', 9700: 'robotic', 770: 'amputees', 9128: 'raising', 7533: 'morale', 10521: 'smallpox', 11272: 'sxsw', 5517: 'highlights', 8264: 'pares', 3786: 'dutch', 1627: 'bomb', 11658: 'took', 11831: 'trips', 9331: 'regain', 8908: 'prominence', 3912: 'elephants', 12319: 'voices', 863: 'anxiety', 9566: 'reunite', 3187: 'decadelong', 5505: 'hiatus', 10379: 'simmons', 212: '40th', 4651: 'fluctuates', 5294: 'hamm', 3717: 'dresser', 2791: 'core', 7853: 'notes', 9433: 'renesas', 6508: 'lagarde', 11434: 'tensions', 9818: 'rupert', 5172: 'grint', 682: 'allegations', 199: '3q', 4212: 'exist', 85: '1999', 9568: 'reunites', 4630: 'floods', 4546: 'firmer', 2095: 'cash', 10290: 'shortages', 5538: 'hinder', 8297: 'passion', 6645: 'legs', 2833: 'costume', 6149: 'janie', 1843: 'bryant', 8989: 'public', 6026: 'intervention', 9602: 'revive', 10928: 'stigmatised', 2872: 'coutts', 2360: 'ciara', 2922: 'creationists', 627: 'airtime', 9398: 'religious', 8743: 'prankster', 2774: 'cools', 12003: 'unemployment', 8868: 'processing', 5737: 'iac', 12162: 'valuation', 8242: 'paper', 11702: 'towns', 5405: 'headed', 6036: 'introduces', 558: 'affordable', 267: '5c', 7250: 'memory', 2635: 'computers', 12348: 'vulnerable', 3111: 'danielle', 968: 'armstrong', 11700: 'towie', 4376: 'fashion', 7914: 'obese', 11679: 'total', 3698: 'drags', 9370: 'rejecting', 9260: 'recession', 10380: 'simon', 3870: 'edie', 1774: 'brickell', 3742: 'dropped', 6093: 'irish', 2764: 'convicts', 804: 'anglo', 1251: 'bankers', 5785: 'illegal', 6659: 'lending', 5650: 'hot', 7484: 'momma', 10448: 'skintight', 10453: 'skirt', 8051: 'oracle', 10625: 'solve', 3452: 'dinosaurs', 2513: 'cold', 1574: 'blooded', 720: 'alstom', 5997: 'intensifies', 4928: 'ge', 704: 'allows', 2659: 'condensate', 9315: 'refining', 11001: 'strenuous', 6457: 'krispy', 6455: 'kreme', 496: 'adjusted', 2936: 'credits', 12311: 'vmas', 4445: 'ferguson', 8981: 'psas', 5647: 'hostile', 9407: 'remains', 8045: 'option', 12278: 'violent', 10024: 'scuffle', 10141: 'serial', 449: 'acquisitions', 6467: 'ku', 6417: 'klux', 6412: 'klan', 4790: 'friday', 12228: 'via', 3617: 'dolorosa', 7073: 'marked', 2342: 'christians', 7902: 'nyt', 387: 'abramson', 4433: 'feels', 10932: 'sting', 6868: 'losing', 971: 'arnold', 9981: 'schwarzenegger', 10875: 'statistics', 1902: 'bureau', 5266: 'hackers', 10891: 'steal', 3997: 'encryption', 11622: 'tivo', 3790: 'dvr', 12251: 'viewers', 2586: 'commission', 8662: 'poor', 3399: 'diagnosis', 7614: 'multidrug', 9506: 'resistant', 11867: 'tuberculosis', 9900: 'sandisk', 4855: 'fusion', 6070: 'io', 9563: 'returning', 4406: 'favreu', 9498: 'residents', 4561: 'fit', 3930: 'elliott', 12586: 'willing', 9751: 'roseland', 1228: 'ballroom', 11955: 'unaware', 11862: 'truths', 4468: 'fiance', 9167: 'rash', 7773: 'nickel', 11962: 'uncomfortable', 7598: 'mta', 12029: 'unions', 2739: 'continue', 3119: 'dare', 4435: 'feet', 10196: 'shailene', 12659: 'woodley', 10276: 'shoeless', 12758: 'yellow', 1832: 'bruce', 5516: 'highlighted', 7523: 'monty', 9047: 'python', 8912: 'promo', 5607: 'honeymoon', 12423: 'wasn', 10596: 'socially', 9223: 'reason', 1714: 'bracelet', 4366: 'fare', 11369: 'taxis', 7203: 'medallions', 9692: 'robbery', 9437: 'renews', 12189: 'veep', 11981: 'underrated', 7623: 'mumsnet', 2010: 'candice', 11227: 'swanepoel', 5869: 'incredible', 11130: 'sultry', 6407: 'kitchens', 9940: 'saved', 7490: 'monarchy', 2747: 'contracts', 10223: 'sharply', 7987: 'olive', 12194: 'veggies', 2557: 'combine', 4521: 'finding', 3459: 'diplomatic', 10623: 'solution', 8967: 'proves', 1658: 'bootylicious', 9104: 'racy', 11257: 'swimsuit', 11308: 'takeda', 3915: 'eli', 3093: 'damages', 466: 'actos', 12682: 'worried', 10779: 'spreading', 9255: 'receive', 2795: 'cork', 8567: 'platinum', 4429: 'feed', 11485: 'theater', 5438: 'heathers', 12828: 'œlousyâ', 9682: 'riverâ', 1886: 'bum', 7592: 'mrs', 3667: 'doubtfire', 9403: 'reluctant', 2174: 'center', 4796: 'friendship', 2606: 'compares', 8853: 'probably', 4092: 'erste', 5704: 'hungarian', 11249: 'sweet', 2950: 'cringeworthy', 9968: 'schaeuble', 4108: 'esm', 12267: 'vindicates', 8636: 'policies', 5003: 'gisele', 1891: 'bundchen', 5366: 'hasn', 11324: 'tamed', 4270: 'exposes', 1671: 'bosom', 2622: 'completely', 6841: 'longest', 4490: 'file', 1130: 'automakers', 12113: 'uptick', 6435: 'knowles', 2089: 'carter', 11104: 'sued', 3103: 'dancer', 1816: 'broken', 7849: 'nose', 8126: 'outrage', 11088: 'subway', 8701: 'poster', 4026: 'enhancement', 10697: 'sparks', 4286: 'extinguishes', 523: 'adults', 422: 'accompany', 7478: 'mom', 11859: 'trusting', 5055: 'god', 10285: 'shopping', 4426: 'fedex', 7201: 'mechanical', 4303: 'fabulous', 4985: 'gifts', 9007: 'pulling', 11816: 'trigger', 6700: 'lew', 4326: 'fair', 260: '57', 11413: 'teleconf', 7784: 'nigeria', 805: 'angola', 458: 'actions', 0: '00', 1845: 'bst', 2690: 'connecticut', 1829: 'brought', 9118: 'rail', 10264: 'shippers', 536: 'advise', 2060: 'cargo', 9994: 'scores', 1609: 'boc', 6617: 'lease', 7957: 'offering', 1753: 'breakfast', 7: '1000', 11654: 'tonnes', 4517: 'financing', 12517: 'wgc', 12403: 'warm', 10630: 'somewhere', 1453: 'between', 10744: 'spin', 7832: 'nook', 4853: 'fury', 11333: 'tank', 4313: 'factories', 9520: 'restart', 2384: 'citizen', 3157: 'deadly', 12294: 'visiting', 9263: 'reckless', 1669: 'borrowing', 12437: 'watson', 2722: 'constructive', 10991: 'stream', 7983: 'older', 2278: 'chelsea', 5309: 'handler', 10519: 'smaller', 4478: 'fields', 224: '4600', 12747: 'yandex', 4227: 'expands', 2411: 'classifieds', 62: '175', 9790: 'ru', 11346: 'taps', 2073: 'carolina', 311: '787', 4482: 'fifty', 10193: 'shades', 5163: 'grey', 10878: 'status', 12430: 'watched', 5677: 'htc', 7966: 'offset', 3953: 'embodies', 214: '42', 2253: 'chats', 11744: 'transcendence', 8020: 'opening', 12567: 'widened', 9992: 'scope', 12510: 'wesfarmers', 4217: 'exits', 1819: 'broking', 5985: 'insurer', 10293: 'shorts', 10612: 'solarcity', 8294: 'passenger', 4994: 'gilmourâ', 6685: 'lets', 4646: 'floydâ', 7010: 'malpractice', 12446: 'weaken', 10449: 'skip', 8780: 'prepares', 7216: 'medtronic', 3708: 'draws', 9402: 'relocations', 874: 'apart', 11441: 'tequila', 12493: 'weight', 11112: 'sugars', 7299: 'mexican', 10747: 'spirit', 6610: 'leap', 11473: 'thai', 10320: 'shrinks', 12207: 'verbal', 5021: 'gleeson', 3173: 'deaths', 5873: 'indefinite', 5830: 'imposes', 6580: 'lawmaker', 9820: 'rural', 8263: 'parents', 3298: 'denial', 634: 'akb48', 1070: 'attacked', 9945: 'saw', 12573: 'wielding', 10472: 'slashes', 5990: 'integrys', 7341: 'midwest', 6314: 'karen', 5658: 'houghton', 6063: 'invitation', 10864: 'startling', 10922: 'sti', 8994: 'publisher', 3300: 'denies', 10185: 'sexism', 5593: 'holy', 2151: 'celebrated', 8495: 'pilgrims', 9059: 'quarantine', 12037: 'units', 2449: 'clip', 6251: 'jong', 1698: 'bowl', 2914: 'cream', 7874: 'nudge', 7488: 'mon', 3454: 'dior', 2239: 'charlize', 11510: 'theron', 4925: 'gazelle', 5067: 'golden', 7373: 'mini', 3973: 'emoji', 6589: 'lax', 11497: 'theo', 6290: 'junk', 5116: 'grade', 10452: 'skips', 6317: 'karrueche', 11740: 'tran', 3314: 'department', 11588: 'tightens', 5689: 'hugh', 6133: 'jackman', 6561: 'lauds', 1025: 'aspirin', 702: 'allowed', 8488: 'pig', 4393: 'fatter', 5570: 'hogs', 5835: 'impressed', 12668: 'worked', 9848: 'sad', 10384: 'simply', 2020: 'cannot', 7646: 'muster', 4197: 'excitement', 12816: 'zip', 6759: 'lining', 7383: 'mink', 8836: 'printer', 2916: 'create', 6771: 'lipstick', 4300: 'eyeshadow', 7995: 'omega', 11165: 'supplements', 10075: 'seem', 10134: 'sept', 10739: 'spike', 2757: 'convenes', 9557: 'retreat', 2735: 'contemplates', 7440: 'mls', 2587: 'commissioner', 4897: 'garber', 11973: 'undergoes', 9745: 'roots', 4066: 'epic', 8460: 'philly', 6142: 'jam', 3775: 'dumping', 3847: 'ebook', 5046: 'gma', 7704: 'nbc', 10768: 'sports', 3264: 'deleting', 12802: 'zealand', 8667: 'pops', 8099: 'otherwise', 2548: 'colourless', 6981: 'maintain', 9525: 'restored', 3534: 'disruption', 2863: 'courteney', 709: 'along', 7171: 'mcdaid', 4547: 'firming', 12471: 'website', 3983: 'empower', 11936: 'uaw', 12233: 'vice', 1741: 'brazil', 10605: 'soften', 3423: 'diet', 2769: 'cooked', 1268: 'barbecues', 1267: 'barbara', 12385: 'walters', 5649: 'hosts', 12261: 'vin', 3422: 'diesel', 8384: 'pens', 2172: 'centenarian', 7764: 'nhs', 610: 'airbnb', 9440: 'rental', 11074: 'subpoena', 10373: 'silver', 3669: 'dough', 9950: 'sbarro', 12131: 'usda', 6715: 'license', 12151: 'vaccine', 7699: 'nature', 6259: 'journal', 9556: 'retracts', 2383: 'citing', 4091: 'errors', 3797: 'dyersville', 6075: 'iowa', 3888: 'egglesfield', 1303: 'baseball', 8765: 'premarket', 1421: 'benelux', 11669: 'tori', 10724: 'spelling', 6237: 'joined', 4962: 'georgia', 6190: 'jerry', 3089: 'dakota', 4360: 'fanning', 7991: 'olsen', 11016: 'strip', 3461: 'dipping', 3834: 'easy', 7722: 'neighbor', 10749: 'splash', 8398: 'perfectly', 7365: 'mimics', 7579: 'movement', 11155: 'superlatives', 8366: 'pegg', 12255: 'vii', 892: 'apparently', 3324: 'depot', 820: 'anna', 12616: 'wintour', 11427: 'temporary', 6440: 'kocherlakota', 2550: 'columbus', 9954: 'scandal', 6291: 'jupiter', 1004: 'ascending', 3332: 'depth', 12350: 'wachowski', 9634: 'rick', 9758: 'ross', 4745: 'fracking', 3823: 'earthquakes', 11688: 'tougher', 3351: 'desire', 4658: 'flynn', 12813: 'zillow', 11853: 'trulia', 4121: 'estate', 565: 'afte', 1068: 'attached', 100: '2006', 3863: 'edgar', 12708: 'wright', 841: 'ant', 9226: 'reassures', 11712: 'tracing', 11731: 'trail', 5161: 'gregg', 699: 'allman', 9986: 'scientist', 1191: 'backtracks', 10240: 'shelving', 3573: 'dividend', 2394: 'claire', 3106: 'danes', 11150: 'superbugs', 582: 'ages', 4319: 'fail', 8025: 'oper', 12686: 'worse', 8073: 'organization', 8504: 'pine', 9164: 'rapping', 9935: 'saucy', 7432: 'mix', 6310: 'karaoke', 12102: 'upholds', 3969: 'emissions', 629: 'airways', 6932: 'luxury', 5651: 'hotel', 1957: 'cabins', 491: 'adele', 145: '26th', 642: 'alan', 2077: 'carr', 4184: 'example', 11096: 'suck', 4190: 'excess', 393: 'absorbed', 7309: 'mice', 5934: 'injected', 8402: 'performed', 2185: 'certify', 6569: 'launcher', 4789: 'friction', 12034: 'united', 7886: 'nurses', 4960: 'geopolitical', 4034: 'enroll', 3525: 'display', 7604: 'mug', 10294: 'shot', 3531: 'disrespectful', 8383: 'penny', 12240: 'victorian', 12608: 'winner', 8978: 'prowl', 3637: 'donetsk', 9343: 'regroup', 3155: 'deadliest', 9772: 'rout', 4909: 'gary', 7984: 'oldman', 6663: 'lengthy', 9155: 'rant', 3234: 'defending', 4983: 'gibson', 661: 'alec', 1221: 'baldwin', 4955: 'genius', 931: 'arabic', 5703: 'hundreds', 12332: 'volunteers', 10348: 'sift', 7571: 'mountains', 3179: 'debris', 10685: 'spain', 6110: 'issuance', 2672: 'confirmed', 9806: 'rumored', 3804: 'e3', 4531: 'finishes', 10504: 'slower', 806: 'angry', 8574: 'playfully', 4180: 'exaggerates', 2446: 'clinic', 6749: 'limits', 11460: 'tested', 638: 'alabama', 12530: 'wheeler', 11462: 'testify', 2686: 'congress', 11231: 'swaps', 9926: 'satin', 2873: 'couture', 6620: 'leather', 8239: 'pants', 446: 'acquires', 4564: 'fitness', 8676: 'portfolio', 5757: 'idina', 7260: 'menzel', 11780: 'travolta', 1852: 'buddies', 4397: 'faux', 8290: 'pas', 970: 'arnett', 8619: 'poehler', 4713: 'formally', 10131: 'separating', 1001: 'artworks', 10766: 'spooky', 5606: 'honey', 11038: 'struggles', 5254: 'gymnast', 6302: 'kacy', 2113: 'catanzaro', 391: 'absolutely', 2999: 'crushes', 12414: 'warrior', 7926: 'obstacle', 5602: 'homophobic', 10512: 'slur', 8843: 'pristine', 9472: 'reputation', 6171: 'jeep', 669: 'alfa', 9572: 'revamp', 3210: 'decreased', 5415: 'heals', 7184: 'mcnew', 4974: 'getty', 4107: 'esfg', 9657: 'rio', 4719: 'forte', 2934: 'creditor', 9684: 'rlpc', 7740: 'nets', 9904: 'sandwich', 2198: 'chain', 9090: 'quiznos', 6635: 'legal', 3825: 'ease', 8614: 'pmis', 10810: 'stabilising', 6547: 'largest', 1231: 'balmain', 10309: 'showroom', 11470: 'texting', 11198: 'surprising', 11860: 'truth', 5894: 'industrial', 11982: 'underscores', 3047: 'curry', 10003: 'scouts', 817: 'ankle', 5525: 'hiking', 4183: 'examines', 3002: 'cruze', 1205: 'bags', 12721: 'wrongdoing', 414: 'access', 7340: 'midstream', 356: '99', 8610: 'plus', 2883: 'covidien', 745: 'ambassadors', 5289: 'halted', 11376: 'teach', 12825: 'zynga', 6929: 'lures', 2191: 'cfo', 481: 'adding', 9601: 'revival', 3883: 'efforts', 7047: 'mara', 8224: 'pan', 8083: 'origins', 12580: 'wilde', 11102: 'sudeikis', 8100: 'otis', 3721: 'dreyfus', 10387: 'simulate', 2473: 'clown', 3882: 'effortlessly', 2294: 'chic', 10112: 'senate', 2632: 'compromise', 2132: 'cautious', 10669: 'sovereign', 8375: 'penalty', 11602: 'timeline', 9065: 'quarters', 9946: 'sawyer', 781: 'anchor', 11947: 'ultra', 1404: 'belle', 6438: 'knox', 3771: 'duke', 4792: 'friend', 12556: 'whoopi', 5066: 'goldberg', 3649: 'door', 5860: 'includes', 3927: 'elle', 2427: 'clearly', 5332: 'happiness', 7754: 'newfound', 6354: 'kepler', 68: '186f', 10536: 'smell', 12509: 'weren', 3348: 'designers', 3610: 'dolce', 4864: 'gabbana', 4154: 'evasion', 6226: 'jodie', 4732: 'foster', 667: 'alexandra', 3039: 'curiosity', 192: '377', 7323: 'microbes', 9775: 'rover', 1005: 'ash', 10741: 'spill', 5249: 'gwen', 11706: 'toya', 7222: 'meets', 4949: 'genesis', 10572: 'snl', 320: '80ct', 1742: 'brazilians', 4040: 'enter', 3788: 'duty', 4642: 'flown', 1339: 'beacon', 1806: 'broad', 12450: 'weakness', 5882: 'indicate', 12808: 'zeus', 8464: 'phony', 3048: 'curtail', 12110: 'upstage', 1179: 'babysat', 10908: 'stephen', 2512: 'colbert', 10604: 'softbank', 8204: 'paints', 12621: 'wireless', 10440: 'skid', 6150: 'january', 7997: 'omnicom', 8991: 'publicis', 8430: 'peso', 8802: 'pressures', 10177: 'several', 8085: 'orleans', 12026: 'unintended', 12713: 'write', 8036: 'oppose', 4569: 'fix', 10199: 'shakes', 10165: 'setter', 907: 'appointments', 12368: 'walgreen', 1656: 'boots', 2558: 'combines', 2166: 'cement', 6590: 'lay', 4736: 'foundation', 3090: 'dallas', 8831: 'princess', 12693: 'worthy', 10578: 'snow', 5714: 'huntsmen', 3117: 'darabont', 2082: 'carrier', 6703: 'lg', 10530: 'smartwatch', 5899: 'infamous', 8570: 'playboy', 10417: 'sitcom', 5114: 'grace', 297: '70', 2108: 'casts', 10194: 'shadow', 7234: 'melbourne', 10754: 'spoil', 4973: 'getting', 6006: 'interested', 5605: 'honest', 7425: 'mistake', 6940: 'ma', 3167: 'dealings', 4578: 'flags', 10560: 'snapchat', 10491: 'slingshot', 3360: 'destructing', 4160: 'eventual', 11587: 'tightening', 3795: 'dwindling', 11836: 'trln', 631: 'aisles', 1594: 'blushing', 1776: 'bride', 10350: 'sight', 9393: 'relentless', 1288: 'barrage', 881: 'apologies', 2417: 'clean', 10742: 'spilled', 3100: 'dan', 10853: 'starbucks', 11298: 'tackles', 8860: 'problem', 7132: 'mats', 9069: 'quentin', 11348: 'tarantino', 5375: 'hateful', 460: 'activision', 8547: 'places', 4753: 'franchise', 9712: 'rocky', 10583: 'snuggles', 1827: 'brother', 11559: 'throwback', 2482: 'cnh', 11714: 'tracker', 5506: 'hiccups', 8415: 'permanent', 3054: 'custody', 6206: 'jeweler', 11583: 'tiffany', 2025: 'canyon', 4392: 'fats', 9073: 'questioned', 12163: 'valuations', 9224: 'reasonable', 3648: 'doomed', 7304: 'mh17', 4246: 'experts', 10400: 'singpost', 896: 'appearance', 3890: 'egypt', 8133: 'outstanding', 33: '120', 12208: 'verdict', 5989: 'intact', 11228: 'swank', 1775: 'bridal', 1788: 'brightly', 3515: 'dismisses', 698: 'allison', 9585: 'revenues', 10318: 'shrink', 11216: 'suspend', 10225: 'shaved', 3950: 'embarrassing', 11826: 'trip', 5075: 'goodbye', 7415: 'missed', 12433: 'watching', 443: 'acm', 1391: 'behemoth', 4524: 'fined', 246: '500000', 165: '2p', 11136: 'summon', 2744: 'contracted', 9276: 'records', 11387: 'teases', 2623: 'complex', 1143: 'avengers', 4295: 'extreme', 3426: 'dieting', 7456: 'mode', 8774: 'prep', 5217: 'guidelines', 11748: 'transform', 5558: 'hiv', 8810: 'prevention', 12665: 'words', 3259: 'delays', 11944: 'ukrainian', 4772: 'freed', 2040: 'captive', 8503: 'pin', 5014: 'glance', 12186: 'vc', 1960: 'cache', 1526: 'bitcoin', 1095: 'auction', 12504: 'wellness', 7906: 'oakley', 12219: 'versions', 12744: 'yacht', 10726: 'spend', 6466: 'krone', 5991: 'intel', 11030: 'stronger', 8341: 'pc', 9739: 'rooftop', 5975: 'installer', 10369: 'silevo', 3311: 'deny', 2536: 'collusion', 12620: 'wired', 6086: 'iranian', 11138: 'summons', 6991: 'makeover', 7672: 'nancy', 10390: 'sinatra', 2818: 'cory', 7516: 'monteith', 10704: 'speaks', 11701: 'town', 9632: 'richie', 5862: 'incognito', 7308: 'miami', 1536: 'bjork', 1508: 'biophilia', 9978: 'schools', 3046: 'curriculum', 9206: 'read', 3896: 'either', 3737: 'drives', 1118: 'australian', 11697: 'toward', 1198: 'badass', 6891: 'lowering', 7526: 'mood', 11334: 'tankan', 9259: 'recently', 4015: 'engaged', 8061: 'ordered', 5727: 'hustle', 3920: 'eliminating', 67: '18000', 10994: 'streamlines', 233: '49', 6426: 'knock', 12460: 'wearhouse', 10030: 'seals', 6254: 'jos', 6130: 'jace', 12506: 'wenn', 8240: 'paparazzi', 4685: 'footage', 189: '370', 11325: 'tamer', 5988: 'int', 3276: 'delivery', 12273: 'violated', 8833: 'principles', 8252: 'paramount', 9970: 'scheduled', 6324: 'katherine', 5461: 'heigl', 1535: 'bizarrely', 12719: 'written', 9316: 'reflection', 7918: 'objections', 2847: 'countersue', 10600: 'soda', 4574: 'fizzles', 671: 'alice', 10341: 'sideman', 3412: 'dick', 12357: 'wagner', 299: '71', 12239: 'victoria', 1366: 'beckham', 12064: 'unseen', 8467: 'photograph', 3085: 'daiichi', 9906: 'sankyo', 8449: 'pharma', 9144: 'ranbaxy', 8198: 'paid', 11177: 'supreme', 6983: 'maintains', 9301: 'reduction', 4978: 'ghost', 1502: 'binoche', 2680: 'confronts', 9503: 'resilient', 11174: 'supports', 1608: 'bobby', 12649: 'womack', 3095: 'damon', 649: 'albarn', 6638: 'legend', 5240: 'guru', 9812: 'running', 8111: 'outdated', 1065: 'atms', 10113: 'senator', 9033: 'pursuing', 8820: 'pricey', 2843: 'count', 5499: 'hewitt', 944: 'arden', 12006: 'unexpected', 12782: 'youth', 540: 'advises', 5403: 'headbanging', 2129: 'causes', 1721: 'brain', 1555: 'bleed', 869: 'anyway', 6548: 'larry', 6452: 'kramer', 4498: 'filmed', 12349: 'vw', 9955: 'scania', 1092: 'attractive', 10394: 'singapore', 4740: 'fourth', 751: 'amd', 1304: 'based', 8077: 'orgy', 4516: 'financials', 3692: 'drag', 7558: 'motherhood', 2520: 'collaboration', 357: '9inch', 12739: 'xl', 2169: 'censorship', 5977: 'instating', 11670: 'torn', 12094: 'updo', 3420: 'diem', 5643: 'hospitalised', 2339: 'chrissy', 11407: 'teigen', 8687: 'poses', 1711: 'bra', 11398: 'teddy', 4762: 'frat', 2202: 'chalk', 8401: 'performances', 4381: 'fasting', 3427: 'diets', 9300: 'reducing', 2326: 'cholesterol', 10722: 'spell', 5228: 'gulps', 9363: 'reinstate', 5261: 'habitable', 5522: 'hijacked', 10300: 'showbiz', 4110: 'espirito', 9912: 'santo', 2713: 'considers', 752: 'amedisys', 48: '150', 1491: 'billing', 8925: 'propelling', 8229: 'pandora', 6779: 'listeners', 6145: 'jan', 6840: 'longer', 7544: 'mortality', 11789: 'treatments', 2036: 'caps', 4260: 'explorer', 9973: 'scheme', 11576: 'ticking', 3855: 'economies', 2788: 'corbett', 5387: 'hawaii', 5520: 'highway', 4839: 'funding', 1607: 'bob', 5768: 'iger', 7487: 'moms', 3133: 'dated', 7506: 'monoxide', 7981: 'ol', 8407: 'perfume', 761: 'amicable', 4194: 'exchanges', 5047: 'gmail', 10792: 'spy', 10575: 'snooping', 2945: 'crimea', 3404: 'diana', 12538: 'whilst', 1412: 'bemoaning', 9230: 'rebase', 10782: 'spring', 10103: 'selling', 5724: 'hurts', 8497: 'pillinger', 12487: 'weibo', 7324: 'microblog', 11773: 'traveled', 10866: 'startup', 9779: 'rowling', 3110: 'daniel', 9106: 'radcliffe', 11507: 'thereâ', 7042: 'manufacturing', 10197: 'shake', 8751: 'predatory', 5948: 'insane', 8692: 'posse', 3949: 'embarrassed', 9782: 'royal', 5732: 'hype', 1463: 'beyond', 1946: 'buyouts', 12577: 'wikipedia', 10833: 'stall', 3791: 'dwarf', 3494: 'discovered', 12743: 'ya', 12045: 'unleashes', 12001: 'uneasy', 1977: 'calm', 7929: 'obtains', 1400: 'believes', 5970: 'insta', 4294: 'extravagant', 9880: 'salma', 5393: 'hayek', 4565: 'fitted', 5106: 'gowns', 9482: 'rescuers', 7349: 'miles', 6711: 'liberian', 9256: 'received', 12817: 'zmapp', 2371: 'cio', 8161: 'oversee', 6978: 'maine', 6332: 'kayne', 516: 'adore', 9422: 'remix', 7870: 'nsfw', 7135: 'matter', 2349: 'chromebooks', 6542: 'laptop', 8870: 'processors', 5747: 'icon', 1171: 'awkward', 10157: 'sesh', 6460: 'kristie', 5498: 'hess', 7048: 'marathon', 2491: 'coast', 4687: 'foothold', 633: 'aka', 10270: 'shirtless', 6880: 'lover', 1572: 'blonde', 10541: 'smiles', 975: 'arranged', 3730: 'drinking', 10552: 'smoking', 11405: 'teens', 8875: 'produced', 11597: 'timbaland', 684: 'allegedly', 63: '17500', 7963: 'officially', 5918: 'infographic', 2542: 'color', 12440: 'waves', 3566: 'diverted', 9313: 'refine', 7872: 'nuclear', 8510: 'pinnacle', 477: 'add', 8477: 'pickles', 5707: 'hungry', 6757: 'lineup', 2551: 'column', 9385: 'relaxed', 2480: 'clyde', 4512: 'finance', 8151: 'overhaul', 502: 'administration', 4036: 'enrollment', 12009: 'unfair', 7775: 'nickelodeon', 3343: 'deserve', 8166: 'overtime', 5156: 'greenpeace', 1603: 'boards', 9647: 'rig', 7848: 'norway', 7846: 'northernmost', 3726: 'drilling', 4889: 'gamestop', 3073: 'cynk', 8922: 'proof', 12767: 'yielding', 6546: 'largesse', 2085: 'carry', 8130: 'outside', 8720: 'pours', 9020: 'puppy', 4552: 'fischer', 7824: 'nominees', 3868: 'edgy', 6674: 'leopard', 8834: 'print', 5455: 'heels', 8775: 'prepa', 4282: 'extension', 2935: 'creditors', 3098: 'damping', 6808: 'lng', 6639: 'legendary', 344: '93', 5310: 'handling', 3996: 'encouraging', 5321: 'hanks', 10916: 'steven', 10738: 'spielberg', 11623: 'tjx', 787: 'andersonia', 4281: 'extends', 2581: 'comment', 9613: 'rewrite', 3718: 'dresses', 9210: 'reads', 6965: 'magazines', 1563: 'blind', 6896: 'loyal', 1447: 'betrayed', 3849: 'eccentric', 7789: 'nighter', 7219: 'meester', 3546: 'distinguish', 10902: 'steinbeck', 9243: 'rebuffed', 6198: 'jesus', 4976: 'ghandi', 12372: 'walking', 643: 'alanna', 7120: 'masterson', 10147: 'serratos', 5572: 'holcim', 6504: 'lafarge', 6784: 'listings', 12310: 'vma', 3556: 'ditches', 5034: 'gloomy', 11893: 'turnaround', 2096: 'cashing', 2910: 'craze', 3408: 'diary', 4159: 'events', 12756: 'yeezus', 10269: 'shirt', 2424: 'clearer', 8949: 'protections', 8455: 'philadelphia', 2600: 'commuter', 8933: 'proposes', 6748: 'limiting', 2717: 'consolidation', 378: 'able', 112: '2018', 8087: 'orphanage', 6646: 'leguizamo', 6560: 'latinos', 11549: 'thrill', 12007: 'unexpectedly', 12824: 'zuckerberg', 12275: 'violating', 3005: 'cryptic', 7100: 'mary', 10694: 'sparkler', 7990: 'olivier', 9922: 'sarkozy', 1548: 'blasio', 10401: 'sings', 3932: 'elmendorf', 4339: 'fallen', 845: 'anthony', 4507: 'finalised', 7470: 'moir', 10338: 'sickly', 10155: 'serving', 11905: 'twaddle', 8033: 'opponents', 6218: 'jj', 12227: 'vi', 2942: 'crew', 250: '50th', 6172: 'jeeps', 7826: 'nonchalant', 10206: 'shamed', 8194: 'paedophile', 2498: 'coca', 2511: 'cola', 10643: 'soothe', 807: 'angst', 7464: 'modestly', 5713: 'huntsman', 5460: 'heights', 3364: 'detain', 316: '80', 2944: 'crime', 8028: 'operation', 11906: 'twain', 4975: 'ghana', 8904: 'prolific', 12376: 'wallach', 355: '98', 5057: 'goddard', 8055: 'orbital', 9984: 'sciences', 9096: 'race', 2894: 'cracks', 8657: 'pool', 4325: 'faints', 8405: 'performing', 861: 'anxieties', 1510: 'biotech', 7796: 'nile', 3367: 'detected', 7550: 'mosquitoes', 11444: 'terminal', 1764: 'breathe', 2445: 'clingy', 12015: 'unfollowed', 9383: 'relativity', 6704: 'lgbt', 8426: 'personal', 307: '774', 1154: 'avoided', 4386: 'fate', 11316: 'talent', 8616: 'poaching', 2787: 'coral', 6777: 'listed', 11543: 'threatened', 3903: 'election', 6714: 'licences', 3307: 'denting', 4199: 'exclusive', 5180: 'groovy', 8018: 'opened', 5230: 'gun', 2003: 'canceled', 12814: 'zimmerman', 7668: 'named', 11725: 'trades', 2184: 'certain', 9060: 'quarantined', 1524: 'bitch', 8655: 'ponomusic', 4014: 'engage', 12786: 'yovanna', 12204: 'ventura', 6403: 'kisses', 7157: 'mazda', 8572: 'player', 6695: 'leverage', 5385: 'haven', 7878: 'numbers', 9761: 'rosy', 8677: 'portia', 9759: 'rossi', 7070: 'marital', 4179: 'exactly', 10867: 'startups', 6804: 'liza', 7385: 'minnelli', 8992: 'publicist', 2785: 'copy', 1955: 'cabaret', 11024: 'stroke', 8289: 'partying', 1645: 'booking', 11775: 'travelers', 6264: 'joyce', 981: 'arrive', 2882: 'coveted', 9458: 'repo', 3931: 'ellison', 7327: 'micros', 3740: 'drones', 9925: 'satellites', 6550: 'lasers', 8121: 'outlines', 5959: 'insists', 4877: 'galavis', 4022: 'english', 7451: 'mocking', 7258: 'mentally', 795: 'anemic', 2356: 'chugs', 4384: 'fatalities', 8218: 'palm', 3134: 'dates', 11727: 'traditions', 1385: 'beginning', 2242: 'charming', 421: 'accompanied', 5468: 'hell', 9099: 'racial', 543: 'advocates', 7510: 'monsoon', 12244: 'videogames', 775: 'analysts', 9492: 'reset', 8300: 'passwords', 1480: 'bigger', 9175: 'ratio', 4866: 'gabrielle', 1007: 'ashanti', 8438: 'petmatch', 8433: 'pet', 10377: 'similar', 11849: 'trucks', 3148: 'daydreams', 1484: 'bikinis', 1337: 'beaches', 2249: 'chasing', 9822: 'ruse', 3450: 'dinner', 4638: 'flounders', 8305: 'patch', 3805: 'eaccess', 12248: 'vietnamese', 405: 'acb', 6739: 'likeness', 2329: 'chooses', 7633: 'murray', 3792: 'dwayne', 2471: 'clout', 5486: 'hercules', 7390: 'minority', 4169: 'everywhere', 10370: 'silicon', 12161: 'valley', 6786: 'literally', 12653: 'wonder', 5512: 'hiding', 5371: 'hat', 8886: 'profile', 8040: 'oprah', 2197: 'chai', 2917: 'created', 11375: 'tea', 11389: 'teavana', 7562: 'motor', 9101: 'racing', 9980: 'schumacher', 7210: 'medical', 8335: 'payouts', 8098: 'others', 8905: 'prolonged', 19: '10million', 2431: 'cleavage', 1633: 'bonaroo', 1643: 'booed', 11977: 'undermine', 3856: 'economist', 6946: 'macfarlane', 11770: 'trashes', 12443: 'ways', 7278: 'mess', 12524: 'whatsapp', 12611: 'winona', 9835: 'ryder', 5446: 'heavily', 6993: 'makers', 9919: 'sarandon', 5038: 'glow', 3441: 'dimmed', 5129: 'grandma', 6296: 'justify', 402: 'ac', 3152: 'dc', 12211: 'verging', 763: 'amidst', 2880: 'covers', 10371: 'silk', 6285: 'jumpsuit', 3893: 'eiffel', 11699: 'tower', 5001: 'girlfriends', 3214: 'dedicates', 12166: 'valued', 703: 'allowing', 2611: 'compete', 12592: 'wilson', 7212: 'medicine', 1475: 'biden', 12136: 'uses', 2365: 'cinco', 7153: 'mayo', 5958: 'insist', 5802: 'immigrants', 11440: 'tepid', 5551: 'hissyfit', 2097: 'casie', 2277: 'chegwidden', 6758: 'lingerie', 2337: 'chosen', 12253: 'views', 10835: 'stallone', 5492: 'heroes', 12120: 'urgent', 2346: 'christmas', 3631: 'donald', 9348: 'regulations', 6289: 'juniper', 2083: 'carriers', 9135: 'ralph', 5009: 'glaad', 10114: 'senators', 11496: 'then', 12340: 'voted', 11590: 'tights', 11531: 'thong', 8890: 'profound', 538: 'adviser', 12542: 'whistle', 1581: 'blower', 9545: 'retaliation', 5956: 'insight', 3724: 'drill', 1416: 'beneath', 4728: 'forum', 6219: 'jk', 993: 'article', 6949: 'machines', 3548: 'distraught', 4544: 'firing', 7978: 'okcupid', 4243: 'experimenting', 7090: 'marry', 6252: 'jordan', 7292: 'meteor', 10303: 'shower', 11552: 'thrills', 10855: 'stargazers', 5751: 'idealized', 10126: 'sentiments', 8015: 'op', 3862: 'ed', 11787: 'treated', 1186: 'backing', 5928: 'inhaled', 5982: 'insulin', 4174: 'evolved', 1515: 'birds', 73: '1950s', 2045: 'cara', 3265: 'delevingne', 5594: 'homage', 2211: 'chanel', 1343: 'beanie', 6316: 'karl', 9382: 'relatives', 4486: 'fighting', 11721: 'trademark', 5128: 'grandfather', 1467: 'bhp', 1495: 'billiton', 11827: 'triple', 4945: 'generations', 8208: 'pairs', 1687: 'boulange', 1214: 'bakery', 10151: 'serves', 7774: 'nickelback', 6462: 'kroeger', 2046: 'carat', 2099: 'casinos', 5469: 'hello', 6409: 'kitty', 2110: 'cat', 10120: 'sense', 865: 'anymore', 1206: 'bail', 9860: 'sahara', 5741: 'icahn', 3666: 'doubt', 7401: 'misconduct', 4931: 'gears', 12090: 'upcoming', 7660: 'nab', 4825: 'fuels', 472: 'adam', 6698: 'levine', 4239: 'experience', 4623: 'flirtation', 2406: 'clashed', 6300: 'kabbalah', 12331: 'voluntary', 2381: 'cities', 3472: 'dirtiest', 4665: 'foggy', 11586: 'tighten', 8741: 'prank', 4543: 'firey', 11423: 'temper', 5347: 'harley', 3142: 'davidson', 7563: 'motorbike', 8726: 'powered', 7702: 'navy', 9845: 'sacked', 4902: 'gareth', 3873: 'edwards', 3465: 'directing', 8643: 'poll', 12523: 'whatever', 1660: 'boozy', 2154: 'celebrations', 759: 'amethyst', 3007: 'crystalarium', 2481: 'cnbc', 6654: 'lemonis', 9480: 'rescue', 1688: 'bounce', 4087: 'eric', 2325: 'choked', 8303: 'pat', 7453: 'mockingjay', 1379: 'beetee', 5268: 'hacks', 8231: 'panem', 486: 'address', 3166: 'dealing', 12641: 'wk', 6849: 'lookout', 6062: 'invisible', 10239: 'shelves', 8752: 'predict', 680: 'allay', 7150: 'maybe', 9963: 'scarlet', 12629: 'witch', 2414: 'classy', 4033: 'enough', 8259: 'pare', 8215: 'paleyfest', 4123: 'estimated', 6928: 'lure', 244: '5000', 4869: 'gadi', 765: 'amit', 8035: 'opportunity', 7051: 'marches', 12363: 'waiting', 9358: 'reign', 8801: 'pressured', 6024: 'intervene', 11929: 'type', 1953: 'byrne', 8744: 'pratt', 6861: 'lord', 1840: 'brushes', 6517: 'lamberts', 9594: 'reviewers', 135: '240000', 8848: 'privilege', 3881: 'effort', 1748: 'breakdown', 1174: 'axed', 3020: 'cull', 11694: 'tourists', 2856: 'coup', 2516: 'coleman', 3317: 'departure', 1892: 'bundesbank', 5661: 'hour', 4470: 'fiancã', 666: 'alexander', 11422: 'telus', 7688: 'natale', 4055: 'entwistle', 9076: 'quick', 12048: 'unlikely', 5262: 'hachette', 1427: 'benzino', 25: '113', 1876: 'bulky', 9239: 'rebounding', 9022: 'purchases', 10574: 'snoop', 3945: 'emails', 6040: 'intuit', 11885: 'turbotax', 11429: 'tencent', 2300: 'chikungunya', 11040: 'stub', 3176: 'debbie', 9778: 'rowe', 1053: 'astronomers', 3493: 'discover', 7224: 'mega', 4220: 'exoplanet', 11845: 'troubling', 12749: 'yanking', 8727: 'powerful', 7502: 'monkeying', 7501: 'monkey', 390: 'absence', 3535: 'disruptions', 10921: 'sth', 6653: 'lekon', 3913: 'elevator', 1926: 'bust', 8963: 'prove', 6750: 'limo', 2052: 'career', 934: 'arcade', 4506: 'finalise', 3055: 'customer', 6778: 'listen', 12552: 'whoa', 7012: 'mama', 223: '46', 8247: 'parades', 5832: 'impossibly', 5736: 'hyundai', 9057: 'quality', 5627: 'hordes', 9109: 'radio', 10970: 'stover', 2318: 'chocolates', 6754: 'lindt', 9093: 'r2', 3077: 'd2', 7068: 'marion', 2835: 'cotillard', 10138: 'sequin', 432: 'accuse', 2170: 'census', 569: 'afternoon', 11822: 'trimmed', 9578: 'revealing', 4587: 'flashback', 1881: 'bullion', 5726: 'husbands', 12638: 'wives', 7786: 'nigh', 7905: 'o2', 9531: 'restructure', 9773: 'routes', 7615: 'multimonth', 11184: 'surfboard', 9863: 'sailboat', 5945: 'innovator', 5565: 'hobart', 5567: 'hobie', 576: 'aged', 8347: 'peaceful', 5716: 'hurdles', 7320: 'mickelson', 6588: 'lawyers', 1293: 'barrie', 7727: 'neill', 1802: 'brittny', 4913: 'gastineau', 9962: 'scared', 8421: 'pershing', 10796: 'square', 64: '178', 1903: 'burger', 6516: 'lambert', 9194: 'rca', 12374: 'walks', 30: '118', 3971: 'emmy', 6273: 'juggalos', 4891: 'gang', 2410: 'classification', 12716: 'writer', 6634: 'legacy', 11133: 'summed', 8313: 'patience', 1473: 'bidders', 448: 'acquisition', 2996: 'crunch', 11229: 'swap', 7781: 'nicotine', 12479: 'weed', 813: 'animation', 9856: 'saga', 11079: 'subscription', 10047: 'seb', 1222: 'bali', 2522: 'collapse', 10836: 'stalls', 5177: 'grocers', 2343: 'christie', 4341: 'fallon', 2974: 'cross', 7388: 'minogue', 10304: 'showered', 3620: 'domenico', 6258: 'joss', 12526: 'whedon', 9390: 'releases', 9983: 'science', 4676: 'font', 9137: 'rammed', 10266: 'ships', 3529: 'disputed', 10037: 'seas', 11284: 'syndrome', 8216: 'palin', 12134: 'user', 5059: 'gods', 4098: 'escalating', 956: 'arguments', 4759: 'frankel', 5718: 'hurls', 12664: 'word', 3118: 'darden', 6814: 'lobster', 10029: 'seafood', 1264: 'bar', 4187: 'excellence', 5719: 'hurricane', 6328: 'katrina', 9518: 'responsible', 10930: 'stillbirths', 9976: 'schneiderman', 3036: 'curbs', 4785: 'frequency', 5500: 'hewlett', 8186: 'packard', 8736: 'practise', 3226: 'defecation', 4001: 'endangering', 590: 'agreed', 8832: 'principal', 6048: 'inventory', 7985: 'oligarch', 3585: 'dmitry', 9834: 'rybolovlev', 12541: 'whiskey', 11678: 'tot', 8192: 'paddy', 7307: 'mia', 1740: 'brawled', 6522: 'lancet', 4358: 'fangs', 12420: 'washes', 7664: 'nags', 6728: 'lifestyles', 4354: 'famous', 11928: 'tyler', 9658: 'riot', 7403: 'misdemeanour', 8199: 'pain', 4918: 'gathers', 4348: 'falters', 3499: 'discuss', 11223: 'suvs', 8292: 'pass', 10067: 'sedans', 2977: 'crossovers', 5779: 'ihs', 11499: 'theodore', 5271: 'hague', 7381: 'ministry', 3583: 'dj', 2627: 'complications', 9377: 'relating', 5780: 'ii', 3334: 'deputy', 1160: 'awaiting', 1369: 'becoming', 585: 'aggressive', 8394: 'perceive', 7491: 'monday', 5965: 'inspirational', 10231: 'sheer', 11: '100th', 9535: 'resume', 7262: 'merck', 1823: 'brooklyn', 4254: 'explodes', 6982: 'maintaining', 4639: 'flow', 4389: 'fatherly', 4963: 'georgina', 5273: 'haig', 12104: 'upon', 8118: 'outflows', 7538: 'morningstar', 8681: 'portray', 3547: 'distraction', 10802: 'squeezed', 6596: 'lbd', 9674: 'risqué', 7489: 'monarch', 1935: 'butterflies', 7701: 'navigate', 6014: 'internal', 6971: 'magnetic', 2608: 'compass', 197: '3d', 11291: 'systems', 9938: 'savage', 4554: 'fishel', 5931: 'initial', 7393: 'minute', 3475: 'disability', 11026: 'stroll', 10171: 'settles', 7273: 'merrill', 10433: 'skeptical', 1969: 'caleb', 2505: 'cody', 4493: 'fill', 4896: 'gaps', 408: 'acceleration', 10476: 'sleep', 3330: 'deprived', 1710: 'bpd', 9665: 'rips', 11455: 'tesco', 50: '150m', 5358: 'harrowing', 5683: 'huffpollster', 8646: 'polling', 5984: 'insured', 4400: 'favorite', 5672: 'howard', 9979: 'schultz', 12116: 'urban', 2694: 'connick', 2050: 'cards', 10161: 'setback', 1223: 'balks', 4661: 'focuses', 4944: 'generation', 3386: 'develops', 190: '3700', 3764: 'duck', 3801: 'dynasty', 8454: 'phil', 9696: 'robertson', 12046: 'unleashing', 11625: 'tmz', 12386: 'wand', 3127: 'dash', 1273: 'barcode', 9956: 'scanner', 10703: 'speaking', 6536: 'languages', 12575: 'wig', 1642: 'boobs', 11479: 'thanks', 1170: 'awful', 3184: 'debuts', 252: '51million', 2874: 'coventry', 10598: 'society', 362: 'aaa', 7472: 'mojo', 2885: 'cowell', 11037: 'struggled', 10399: 'single', 3436: 'digits', 10284: 'shoppers', 1703: 'boycott', 7246: 'memorable', 9258: 'recent', 2263: 'checked', 3841: 'eavesdropping', 11659: 'tool', 3644: 'donovan', 6652: 'leitch', 10135: 'september', 7247: 'memorial', 8888: 'profitable', 783: 'ancier', 7743: 'neuman', 433: 'accused', 910: 'appreciating', 1461: 'beyoncã', 3526: 'displaying', 5166: 'grilled', 11061: 'stutters', 5792: 'image', 1137: 'autopsy', 5444: 'heavenâ', 9644: 'riff', 478: 'added', 10565: 'snb', 6828: 'lofty', 11263: 'swirl', 7001: 'malcolm', 8318: 'patriotism', 8652: 'ponders', 9371: 'rejection', 227: '47', 11985: 'undertake', 801: 'anger', 3479: 'disappoint', 10378: 'simmers', 10031: 'sean', 2559: 'combs', 3415: 'diddy', 7497: 'moniker', 9000: 'puff', 3081: 'daddy', 954: 'arguing', 11246: 'sweep', 1542: 'blackshades', 7007: 'malicious', 12185: 'vatican', 7018: 'management', 7053: 'marching', 2895: 'cradles', 7529: 'moonie', 10398: 'singing', 10791: 'sputters', 8013: 'onto', 2979: 'crowd', 10880: 'stave', 10797: 'squash', 336: '8bn', 8564: 'plastic', 11769: 'trash', 10340: 'sideboob', 2134: 'cavallari', 12500: 'welcomes', 6158: 'jaxon', 12731: 'wyatt', 10365: 'sikorsky', 6823: 'lockheed', 5466: 'helicopter', 6967: 'maggie', 5854: 'inches', 4917: 'gather', 4820: 'ftseurofirst', 4031: 'enlists', 11149: 'superbug', 12730: 'wwe', 10463: 'slammed', 12039: 'universal', 5834: 'impress', 5190: 'group', 5762: 'idr', 2534: 'collision', 6765: 'lion', 6782: 'listers', 8964: 'proved', 9509: 'resorts', 8599: 'plug', 319: '807', 6835: 'lombardi', 6382: 'kiefer', 3480: 'disappointed', 8627: 'poison', 5635: 'horrific', 3: '0ff', 4715: 'formerly', 6436: 'known', 9641: 'rides', 8091: 'osborne', 5798: 'imbalance', 8920: 'prompts', 2898: 'crafts', 5433: 'heartfelt', 2011: 'candid', 9722: 'roger', 3845: 'ebert', 3138: 'daughters', 2912: 'craziest', 5929: 'inherently', 6007: 'interesting', 8576: 'playing', 10594: 'soccer', 11344: 'taping', 12040: 'universe', 5685: 'hug', 8211: 'pal', 967: 'arms', 9336: 'regime', 4724: 'fortify', 3230: 'defence', 4430: 'feel', 8806: 'prettier', 2224: 'chapstick', 120: '2100', 12036: 'unites', 1350: 'bears', 4901: 'gardening', 7944: 'odin', 1345: 'beard', 11532: 'thor', 5623: 'hopefully', 7270: 'merlin', 7326: 'microphone', 2677: 'conforming', 2418: 'cleaning', 11634: 'toilets', 6009: 'intergalactic', 9785: 'royalty', 11682: 'touched', 7468: 'mogul', 5233: 'gunned', 4327: 'fairfax', 12436: 'watsa', 8621: 'pohjola', 2340: 'christ', 1347: 'bearer', 10181: 'severs', 9465: 'representative', 8556: 'planning', 2465: 'closure', 12111: 'upstaged', 3509: 'disick', 11431: 'tenderly', 11025: 'strokes', 1675: 'boston', 10688: 'spare', 11548: 'threshold', 177: '320', 4652: 'fluffy', 9094: 'rabbit', 4496: 'filling', 4529: 'finish', 9936: 'saudi', 4288: 'extra', 8499: 'pills', 12632: 'withdraws', 3937: 'else', 4946: 'generic', 2778: 'copaxone', 10887: 'steadies', 1161: 'awaits', 10178: 'severance', 4593: 'flattest', 6279: 'julianne', 5657: 'hough', 11454: 'terry', 9629: 'richardson', 3500: 'discusses', 431: 'accusations', 4469: 'fiancee', 746: 'amber', 153: '28th', 2367: 'cinefantastique', 10772: 'spotlight', 8618: 'podcast', 915: 'approaches', 1906: 'burgled', 1217: 'balanced', 7590: 'mpc', 6515: 'lamar', 7945: 'odom', 8518: 'pioneer', 7986: 'oligopoly', 11978: 'underperform', 1265: 'barack', 5610: 'honor', 12602: 'winfrey', 272: '60', 3203: 'declares', 11054: 'stunning', 9716: 'rodgers', 8424: 'persists', 2792: 'corey', 5276: 'haim', 4815: 'fruit', 12190: 'veg', 7463: 'modest', 6874: 'lottery', 9998: 'scottish', 3635: 'donations', 11382: 'tear', 6188: 'jerkers', 4394: 'fault', 632: 'aj', 7163: 'mccarron', 475: 'adaptation', 1533: 'biz', 7671: 'namo', 8641: 'politicians', 9934: 'saucer', 5275: 'hails', 2896: 'craft', 8592: 'pledges', 4530: 'finished', 8371: 'pelvic', 1639: 'bones', 7602: 'muchmusic', 6802: 'livid', 416: 'accident', 11199: 'surprisingly', 3272: 'delivered', 3651: 'doorstep', 6174: 'jeff', 1464: 'bezos', 2860: 'courier', 5601: 'homes', 2442: 'climbed', 7728: 'neither', 11907: 'twc', 8970: 'providers', 1543: 'blake', 6796: 'lively', 6650: 'leighton', 4028: 'enjoy', 12358: 'wahlberg', 4885: 'gambler', 8486: 'pierced', 3820: 'ears', 11292: 'table', 3451: 'dinosaur', 9436: 'renewing', 5793: 'imagery', 7109: 'massachusetts', 9424: 'remotest', 10774: 'spots', 12287: 'virtuous', 2372: 'circle', 96: '200000', 1527: 'bitcoins', 12377: 'wallet', 5205: 'guardianship', 8511: 'pinned', 10174: 'seventeen', 1403: 'bella', 11533: 'thorne', 11832: 'tristan', 6415: 'klier', 8533: 'pits', 663: 'alert', 5765: 'iffy', 8961: 'proud', 1887: 'bump', 2078: 'carriage', 5245: 'guthrie', 10725: 'spencer', 3319: 'dependence', 9732: 'rollout', 6899: 'lte', 3079: 'dab', 12021: 'unicredit', 8348: 'peacekeeping', 9351: 'regulus', 2159: 'celestial', 11753: 'transit', 5101: 'governor', 11385: 'teased', 2369: 'cinemacon', 2450: 'clips', 4805: 'frolics', 1571: 'blond', 5708: 'hunk', 2789: 'cord', 3063: 'cutters', 839: 'answer', 6213: 'jill', 1789: 'brill', 1417: 'benedict', 3023: 'cumberbatch', 12547: 'whitey', 1874: 'bulger', 7460: 'modern', 12084: 'unwarranted', 7129: 'mathers', 5408: 'headlights', 1226: 'ballet', 7232: 'melanie', 5300: 'hamrick', 9442: 'reopening', 11201: 'surrender', 9536: 'resumed', 11217: 'suspended', 12794: 'zack', 10584: 'snyder', 4936: 'gel', 8951: 'protects', 7503: 'monkeys', 5705: 'hungary', 7196: 'measure', 2361: 'cicc', 7449: 'mock', 172: '300k', 11593: 'tilted', 6389: 'kilt', 3031: 'curable', 10567: 'sneak', 8357: 'peek', 6907: 'lucy', 932: 'aragon', 1306: 'bashes', 5720: 'hurry', 12804: 'zebras', 11018: 'stripes', 3527: 'displays', 11247: 'sweeping', 1085: 'attends', 10597: 'societe', 4513: 'financement', 6815: 'local', 6911: 'lukewarm', 4269: 'exposed', 10360: 'significant', 2504: 'codeine', 9741: 'rooms', 7103: 'mash', 6191: 'jersey', 258: '56', 4443: 'feminist', 11319: 'talking', 4072: 'equality', 2820: 'cosies', 3607: 'dohring', 11705: 'toy', 6493: 'lachey', 12173: 'vanessa', 7387: 'minnillo', 5833: 'impounds', 12055: 'unprecedented', 10092: 'seizure', 4039: 'ensure', 11446: 'terminator', 10721: 'speleers', 8593: 'plemons', 6169: 'jedi', 913: 'apprentice', 9265: 'reclaims', 7165: 'mccarthyâ', 10439: 'ski', 338: '9000', 1153: 'avoid', 8983: 'psych', 4241: 'experiment', 2705: 'consent', 7030: 'manipulation', 7539: 'moroccan', 7507: 'monroe', 7909: 'oathkeeper', 7924: 'obsessed', 11271: 'swords', 9586: 'reversal', 11073: 'submit', 136: '249', 6831: 'logistics', 6072: 'ions', 11450: 'terrified', 6025: 'intervenes', 3634: 'donation', 2064: 'carisa', 9821: 'ruscak', 1666: 'born', 9189: 'raytheon', 4444: 'fence', 2743: 'contract', 9660: 'rip', 940: 'archie', 791: 'andrews', 3397: 'diagnose', 5845: 'inability', 3366: 'detect', 7946: 'odours', 5883: 'indicates', 809: 'angus', 5735: 'hypocrite', 10148: 'served', 8244: 'papers', 3395: 'diabetics', 4773: 'freedom', 1507: 'bionic', 8227: 'pancreas', 12429: 'watchdogs', 11647: 'tone', 2182: 'ceremony', 1111: 'auras', 4746: 'fracturing', 1959: 'cables', 1216: 'balance', 10233: 'sheet', 1616: 'boehringer', 2779: 'copd', 1428: 'bereft', 8734: 'practically', 9905: 'sang', 6555: 'lately', 8815: 'previously', 1556: 'bleeding', 6404: 'kissing', 8173: 'owns', 2721: 'construction', 7483: 'momentum', 5574: 'holder', 1418: 'benefit', 11677: 'tossing', 6691: 'lettuce', 10785: 'sprinkling', 7890: 'nuts', 1151: 'avocado', 12225: 'veterans', 5653: 'hoth', 12083: 'unwanted', 8353: 'peanut', 2585: 'commercial', 7903: 'nz', 2280: 'chemical', 8811: 'prevents', 3250: 'degeneration', 9547: 'retina', 5491: 'hero', 12798: 'zamperini', 5964: 'inspiration', 11958: 'unbroken', 351: '97', 11660: 'tools', 6496: 'lacker', 4440: 'femail', 9769: 'rounds', 12351: 'wackiest', 3553: 'disturbingly', 9538: 'resurges', 10570: 'sneaks', 1678: 'bother', 6614: 'learning', 6535: 'language', 10457: 'skype', 11756: 'translate', 10759: 'spoken', 2235: 'charities', 10672: 'soy', 1368: 'becomes', 9788: 'rr', 12820: 'zombies', 4320: 'failed', 6502: 'ladies', 9183: 'raunchy', 12: '101', 8711: 'potential', 10809: 'stabilises', 10192: 'shackled', 3275: 'delivers', 900: 'appetite', 6883: 'lovestruck', 6970: 'magician', 1041: 'assistant', 4231: 'expectation', 8456: 'philip', 7542: 'morris', 1175: 'axes', 11737: 'trained', 11234: 'swat', 495: 'adjust', 8320: 'pattern', 9487: 'resembles', 1677: 'both', 11251: 'sweeting', 5481: 'henry', 2137: 'cavill', 4615: 'fling', 12737: 'xiaomi', 10695: 'sparkles', 3316: 'departs', 3379: 'devastated', 12625: 'wise', 12563: 'wickedly', 4900: 'garden', 4691: 'forbes', 1355: 'beating', 176: '32', 417: 'accidental', 8145: 'overdose', 6593: 'lazaretto', 482: 'additional', 11581: 'tier', 4421: 'feb', 8742: 'pranks', 2254: 'chatshow', 9119: 'railroad', 1779: 'bridge', 4101: 'escaped', 3576: 'diving', 8790: 'prescription', 8735: 'practices', 12183: 'vary', 12565: 'widely', 12679: 'worldsmosttalkedaboutcouple', 1810: 'broader', 10020: 'script', 10210: 'shape', 8566: 'platform', 3811: 'earliest', 4324: 'failures', 8109: 'outcome', 718: 'alsina', 7900: 'nyong', 9710: 'rocks', 9662: 'ripped', 9908: 'sanrio', 12260: 'vimeo', 8585: 'pleading', 3770: 'dui', 8422: 'persist', 8507: 'pings', 539: 'advisers', 8023: 'openssl', 12347: 'vulnerability', 12078: 'unusual', 10422: 'situation', 10649: 'sorrentino', 11338: 'tanning', 9884: 'salon', 10257: 'shines', 3701: 'dramatic', 3780: 'dupont', 2016: 'cannabis', 10093: 'seizures', 1280: 'bargain', 685: 'alleges', 1619: 'bogus', 1497: 'bills', 2765: 'convince', 6879: 'loved', 11281: 'symptoms', 1324: 'battles', 10201: 'shakira', 2819: 'cos', 5815: 'imperfect', 3680: 'downgrades', 4037: 'ensemble', 6118: 'italians', 11764: 'transport', 11287: 'syrian', 12456: 'weapons', 381: 'aborted', 3067: 'cyborgs', 4951: 'genetically', 722: 'altered', 7151: 'mayer', 3120: 'dares', 5124: 'grammy', 7227: 'megaupload', 5921: 'infringement', 11730: 'tragic', 9513: 'respite', 12717: 'writes', 7777: 'nickname', 9470: 'republican', 2447: 'clint', 3833: 'eastwood', 5246: 'guy', 6069: 'inward', 6726: 'lifer', 12105: 'ups', 11616: 'tiring', 11399: 'tedious', 4191: 'excessive', 9423: 'remote', 7370: 'mine', 11870: 'tula', 10901: 'stefani', 902: 'applauds', 8336: 'paypal', 706: 'ally', 286: '66', 488: 'addressing', 5226: 'gulf', 10776: 'spotty', 8971: 'providing', 6643: 'legislative', 6034: 'intrigue', 5311: 'handouts', 11530: 'thomas', 4418: 'feature', 6137: 'jadeite', 7711: 'necklace', 10652: 'sotheby', 583: 'aggravated', 1641: 'bonus', 6793: 'liu', 5099: 'governance', 8728: 'powerhouse', 664: 'alex', 11791: 'trebek', 2374: 'circus', 11208: 'survive', 5885: 'indictment', 11607: 'timothy', 7599: 'mth', 12417: 'wary', 1901: 'burden', 12086: 'unwinding', 9664: 'ripples', 11159: 'supermassive', 5582: 'holes', 7195: 'measles', 8108: 'outbreaks', 83: '1996', 4181: 'exalt', 4401: 'favorites', 10259: 'shiny', 7752: 'newcomers', 929: 'arabia', 17: '108', 7020: 'managers', 8442: 'petroleum', 5329: 'happier', 8043: 'optimistic', 4509: 'finalists', 4351: 'familiar', 9864: 'sailor', 5539: 'hindering', 8825: 'primacy', 302: '73', 12688: 'worsened', 10327: 'shunning', 4698: 'forecaster', 10333: 'sia', 4717: 'forms', 11745: 'transfer', 10500: 'slovak', 574: 'agbank', 4723: 'fortifies', 8975: 'provisions', 10505: 'slowest', 8688: 'posing', 11914: 'twerk', 2655: 'concussion', 10569: 'sneaking', 4230: 'expectancy', 12534: 'whereas', 2476: 'clueless', 10815: 'stacey', 2582: 'commentator', 9752: 'rosemary', 5946: 'inquiry', 10654: 'sought', 12714: 'writebol', 8746: 'prays', 11005: 'stricken', 7420: 'missionary', 11723: 'trader', 5700: 'hummus', 6781: 'listeria', 7935: 'oceans', 8611: 'pluto', 5338: 'harbour', 3425: 'dieters', 3557: 'ditching', 10474: 'sleazy', 5600: 'homeowners', 1713: 'braced', 7294: 'methane', 4647: 'flu', 11810: 'tricked', 8029: 'operations', 4673: 'folsom', 1589: 'blues', 12079: 'unveil', 6830: 'logic', 6085: 'iran', 9766: 'rouhani', 6977: 'main', 8082: 'origination', 5941: 'inmarsat', 619: 'airliners', 949: 'aretha', 4761: 'franklin', 4721: 'forties', 8580: 'playsuit', 6512: 'laid', 9571: 'reuters', 9612: 'reweight', 628: 'airwaves', 9530: 'restrictions', 7837: 'norfolk', 10666: 'southern', 66: '18', 960: 'ariz', 12169: 'valve', 8124: 'outperforms', 2607: 'comparison', 11910: 'tweeted', 10943: 'stockpiled', 5348: 'harm', 7662: 'nadine', 5085: 'gordimer', 10249: 'shields', 10110: 'semitism', 5859: 'included', 1083: 'attendees', 7594: 'ms', 4922: 'gawker', 7880: 'numerous', 6541: 'lapses', 846: 'anthrax', 6578: 'lavrov', 10501: 'slovenia', 8772: 'premiums', 12072: 'untaxed', 10035: 'searches', 8032: 'opinions', 11953: 'unaffected', 9780: 'rows', 2292: 'chia', 10070: 'seeds', 6052: 'investigated', 9523: 'resting', 6531: 'landmark', 8513: 'pinpoints', 8953: 'protein', 8172: 'owners', 1138: 'autos', 10282: 'shop', 9805: 'rumor', 7167: 'mcchrystal', 8030: 'operators', 8350: 'peaches', 4937: 'geldof', 4480: 'fifi', 4219: 'exomoon', 498: 'adjusts', 2754: 'controls', 12303: 'viva', 4446: 'fermin', 9581: 'revellers', 11414: 'telefonica', 6450: 'kpn', 2663: 'conditions', 939: 'archer', 3112: 'daniels', 7334: 'midland', 2404: 'clarkson', 6377: 'kickstarter', 6594: 'lazio', 5413: 'headwinds', 3743: 'dropping', 3530: 'disputes', 10904: 'stella', 10313: 'shrank', 359: '9percent', 10898: 'steepest', 11044: 'studies', 10383: 'simplifying', 8979: 'proxy', 5875: 'independent', 2250: 'chastain', 1289: 'barraged', 162: '2dayfm', 10645: 'sophie', 9143: 'rana', 8582: 'plaza', 10720: 'speedy', 392: 'absorb', 5280: 'haldane', 6926: 'lupita', 4309: 'facial', 9469: 'republic', 9828: 'russians', 4583: 'flanked', 658: 'alcoholism', 11511: 'theroux', 815: 'aniston', 6937: 'lyondellbasell', 10732: 'sperm', 211: '40s', 9533: 'result', 10626: 'solved', 5094: 'gotham', 12489: 'weigh', 293: '69bn', 4352: 'families', 128: '225', 2808: 'correct', 9018: 'punished', 6263: 'joy', 1056: 'atari', 6527: 'landfill', 8973: 'proving', 2718: 'conspiracy', 11500: 'theories', 3357: 'destroy', 2822: 'cosmetics', 11035: 'structure', 7790: 'nightmare', 10006: 'scrapping', 8298: 'passover', 537: 'advised', 7942: 'odd', 5816: 'imperial', 2711: 'considered', 7694: 'nationalizing', 8778: 'prepare', 3344: 'deserves', 1086: 'attention', 12727: 'wu', 11330: 'tang', 2397: 'clan', 2386: 'citrus', 5154: 'greening', 6177: 'jena', 6092: 'irene', 4404: 'favourite', 5378: 'hathway', 7606: 'mugshots', 2969: 'crooks', 354: '971000', 3107: 'dangerous', 11267: 'switches', 2943: 'cries', 1349: 'bearish', 9083: 'quinta', 24: '111', 3185: 'dec', 2: '09', 777: 'anarchists', 5750: 'idea', 12343: 'vow', 11415: 'telescope', 4221: 'exoplanets', 5069: 'golf', 1900: 'burberry', 9102: 'racism', 10473: 'slave', 11003: 'stresses', 6156: 'jaw', 738: 'amal', 641: 'alamuddin', 2366: 'cindy', 3336: 'deregulation', 6922: 'lunches', 8555: 'planner', 6624: 'lebanon', 7721: 'negotiations', 814: 'animosity', 2206: 'champagne', 2502: 'cocoa', 51: '1550', 3403: 'diamonds', 6372: 'kicillof', 3260: 'delegation', 266: '5bn', 508: 'admitting', 3507: 'disgusting', 6211: 'jibe', 4845: 'funnyman', 7130: 'matisse', 4210: 'exhibition', 8128: 'outs', 1920: 'busby', 1431: 'berkeley', 9446: 'repairs', 986: 'arsenio', 9453: 'replacement', 10520: 'smallest', 3781: 'durable', 5076: 'goods', 11067: 'stymied', 8651: 'ponder', 1397: 'bejewelled', 6193: 'jesean', 8272: 'parole', 12276: 'violation', 8704: 'posting', 5976: 'instant', 10647: 'sopranos', 12619: 'wire', 5090: 'gorman', 2139: 'cbi', 12300: 'vital', 7756: 'newlywed', 9791: 'rubble', 7395: 'miracle', 11210: 'survivor', 9202: 'reacting', 11328: 'tammyâ', 4965: 'gere', 8193: 'padma', 6514: 'lakshmi', 9448: 'repayment', 5592: 'holt', 8081: 'originals', 2654: 'conclusion', 12005: 'uneven', 11839: 'troops', 6383: 'kiev', 5010: 'glad', 3108: 'dangers', 5789: 'ills', 1696: 'bowe', 1430: 'bergdahl', 11528: 'thirty', 9808: 'rumoured', 3502: 'discussion', 3611: 'doldrums', 310: '78', 11492: 'them', 3630: 'donahoe', 3445: 'dined', 8669: 'popularity', 7255: 'menino', 525: 'advanced', 57: '16000', 9738: 'ronald', 10760: 'spokes', 1661: 'border', 4328: 'fairley', 10955: 'stoneheart', 3728: 'drinkable', 5352: 'harmonised', 5259: 'h20', 12144: 'uv', 8096: 'osmosis', 10445: 'skincare', 10914: 'stern', 2429: 'cleary', 8902: 'projections', 2285: 'cherish', 10845: 'standing', 5678: 'hub', 2676: 'conflicts', 8892: 'programme', 12628: 'wit', 7259: 'mentor', 10430: 'sizzle', 12328: 'volkswagen', 229: '473', 5986: 'insurers', 6988: 'majority', 4035: 'enrollees', 6096: 'irs', 4538: 'fireeye', 11828: 'triples', 6582: 'lawrence', 11891: 'turmoil', 4625: 'flirty', 6976: 'mails', 10944: 'stockpiles', 4372: 'farmers', 450: 'acreage', 9293: 'redemptions', 12014: 'unfollow', 10628: 'someone', 474: 'adapt', 7923: 'observing', 2377: 'cite', 6505: 'lafley', 3941: 'elusive', 2624: 'compliance', 998: 'artpop', 11524: 'thinking', 880: 'aplomb', 12313: 'vodafone', 1236: 'bana', 5454: 'heebie', 6170: 'jeebies', 7447: 'mobileye', 262: '58', 1888: 'bumper', 5223: 'guinness', 288: '6795', 7663: 'nagged', 6458: 'kristeen', 7543: 'morrissey', 4894: 'gap', 7681: 'narrows', 11964: 'uncouple', 10540: 'smile', 5171: 'grins', 3196: 'decide', 4466: 'fgic', 4379: 'faster', 11093: 'successor', 1432: 'berkshire', 11729: 'tragedy', 4060: 'environmentalist', 1963: 'cafe', 12103: 'upload', 10454: 'skit', 8387: 'pentagon', 6242: 'joker', 4431: 'feeling', 883: 'apologises', 342: '915', 8554: 'planned', 8261: 'parenthood', 3473: 'dirty', 837: 'anonymously', 10870: 'stashing', 2678: 'confounded', 842: 'antarctic', 2388: 'civil', 4453: 'fervor', 6148: 'janet', 12399: 'wardrobe', 7006: 'malfunction', 7493: 'monetary', 11006: 'strict', 9347: 'regulation', 550: 'affect', 2299: 'chiefs', 309: '777x', 8551: 'planes', 10680: 'spacewalkers', 10243: 'sherlock', 3279: 'deluge', 6464: 'kron', 6418: 'knee', 4263: 'explosions', 8753: 'predicted', 6746: 'limit', 1590: 'blumenthal', 9121: 'railway', 8024: 'opentable', 8818: 'priceline', 10730: 'spendy', 11420: 'telling', 3938: 'elsewhere', 4094: 'erykah', 1199: 'badu', 6021: 'interrupts', 6488: 'laboeuf', 12341: 'votes', 4398: 'favor', 5905: 'infective', 12481: 'weekahead', 8584: 'plead', 303: '74', 2533: 'collins', 6562: 'lauer', 12494: 'weir', 7298: 'metso', 4237: 'expenses', 5439: 'heating', 4422: 'february', 3466: 'direction', 195: '39', 2620: 'complaints', 3599: 'documents', 8275: 'partial', 6101: 'islanders', 5497: 'hertz', 4075: 'equipment', 10746: 'spinoff', 6098: 'isaac', 294: '69m', 8450: 'pharmaceutical', 65: '179', 6783: 'listing', 436: 'accusing', 3872: 'editor', 2120: 'cater', 1212: 'bake', 10331: 'shuttering', 2478: 'clunky', 11397: 'ted', 12697: 'wounds', 6604: 'league', 9603: 'revived', 97: '2001', 12206: 'venue', 1446: 'betrayal', 9219: 'reap', 9610: 'reward', 1: '08', 8219: 'palme', 6207: 'jewell', 3243: 'defies', 6301: 'kacey', 7638: 'musgraves', 10975: 'strait', 8250: 'paragliding', 7610: 'mulling', 11007: 'stricter', 5060: 'godzilla', 1057: 'ate', 5674: 'hpv', 8826: 'primary', 10099: 'selfies', 7587: 'moynihan', 11850: 'trudges', 4803: 'frogs', 2965: 'croak', 5019: 'glaxo', 5808: 'immunotherapy', 504: 'admiration', 3642: 'donor', 3029: 'cuppa', 4020: 'engineers', 3750: 'drugging', 9161: 'raping', 3904: 'elections', 1864: 'builders', 2776: 'cooperation', 10622: 'solocal', 9195: 'rd', 7771: 'nicholson', 5344: 'hare', 623: 'airport', 11830: 'tripped', 1724: 'brake', 339: '90s', 8150: 'overexposure', 1637: 'bondholders', 7720: 'negotiating', 10267: 'shipwreck', 12666: 'wore', 3505: 'disguise', 253: '53', 5084: 'gopro', 6820: 'loch', 7735: 'ness', 7045: 'maps', 2834: 'cosy', 3369: 'detectors', 3671: 'dove', 2962: 'criticized', 7031: 'manipulative', 1361: 'beauty', 9280: 'recoverable', 7857: 'noto', 10287: 'shore', 7114: 'master', 9214: 'realism', 11306: 'takata', 218: '440', 4854: 'fuses', 3315: 'departments', 7181: 'mckinsey', 5394: 'hayes', 5998: 'intensify', 1084: 'attending', 7730: 'nephew', 7893: 'nvidia', 4186: 'exceeds', 5944: 'innovative', 8943: 'prosthetic', 10084: 'segway', 6046: 'inventor', 2423: 'cleared', 9888: 'sam', 4551: 'fiscal', 9560: 'retroactively', 3359: 'destroys', 3756: 'drunken', 11796: 'trek', 3765: 'dud', 1327: 'bay', 2477: 'clues', 12081: 'unveiling', 12262: 'vinals', 11129: 'sultan', 1836: 'brunei', 6644: 'lego', 1128: 'autographs', 2626: 'complication', 9279: 'recover', 11323: 'tame', 7948: 'oecd', 9107: 'radiant', 1260: 'bans', 9070: 'quest', 12298: 'visual', 1623: 'bolster', 11758: 'translation', 6355: 'kept', 10869: 'stash', 5980: 'instructions', 8716: 'pounding', 11268: 'swoons', 1408: 'beloved', 8793: 'presenter', 9170: 'rated', 4273: 'express', 11273: 'sycamore', 7117: 'masterminds', 2246: 'charts', 7618: 'multiple', 11940: 'ubs', 8334: 'payout', 2812: 'corrects', 1315: 'bat', 9616: 'reynolds', 6863: 'lorillard', 8707: 'postpones', 796: 'angara', 3191: 'deceiving', 11053: 'stunned', 8519: 'pip', 785: 'andersen', 6856: 'loosens', 4779: 'freeze', 2247: 'chase', 12803: 'zebra', 8493: 'piles', 1156: 'avoids', 10710: 'specifying', 11605: 'timetable', 5379: 'hating', 3299: 'denied', 1833: 'bruised', 10894: 'steam', 5585: 'hollande', 8037: 'opposed', 7119: 'masters', 4287: 'extortion', 8596: 'plot', 3160: 'deadpans', 1320: 'battered', 10510: 'slumping', 11439: 'tepco', 11508: 'thermal', 5759: 'idled', 2451: 'clive', 1187: 'backlash', 330: '86', 5507: 'hid', 1071: 'attacker', 3572: 'divided', 6437: 'knows', 2210: 'chances', 8936: 'props', 10557: 'snake', 1530: 'bitten', 8427: 'personally', 12012: 'unfinished', 3312: 'denzel', 2315: 'chloe', 7535: 'moretz', 10258: 'shining', 965: 'armour', 1817: 'broker', 230: '474', 5409: 'headphones', 7065: 'marilyn', 4142: 'euros', 3998: 'encumbrance', 10462: 'slam', 7974: 'oitnb', 4656: 'fly', 11868: 'tucks', 3139: 'daum', 2598: 'communications', 7265: 'merge', 6305: 'kakao', 10713: 'specter', 12004: 'unequal', 8065: 'oreal', 520: 'ads', 11443: 'termed', 3195: 'deceptive', 4171: 'evident', 10426: 'sixties', 7455: 'mod', 604: 'aig', 2164: 'cellphone', 8114: 'outfit', 2549: 'colours', 8280: 'parting', 640: 'alamo', 989: 'artefacts', 10617: 'solid', 1131: 'automation', 7821: 'nominating', 2312: 'chipotle', 9236: 'reboot', 3326: 'depressed', 9029: 'purpose', 2855: 'county', 5420: 'healthiest', 7066: 'marin', 12380: 'wally', 8446: 'pfister', 995: 'artificial', 5993: 'intelligence', 5755: 'identify', 1834: 'bruises', 12643: 'woah', 11286: 'syphilis', 11020: 'strippers', 9182: 'raucous', 1073: 'attacking', 12384: 'walter', 7653: 'myers', 306: '76', 8241: 'paparazzo', 3309: 'dents', 6107: 'israel', 10428: 'sized', 1583: 'blown', 2708: 'conservative', 8895: 'programming', 8849: 'privileged', 5191: 'groups', 247: '50bn', 3580: 'divorcing', 400: 'abusive', 12238: 'victor', 12337: 'voronov', 6356: 'keri', 793: 'andy', 10145: 'serkis', 11956: 'unbelievable', 7750: 'newark', 11057: 'stunts', 1907: 'burial', 3995: 'encourages', 6670: 'lenses', 7505: 'monopoly', 9405: 'remainder', 11821: 'trim', 7009: 'mall', 3794: 'dwindles', 5173: 'grips', 3657: 'dose', 12301: 'vitamin', 11146: 'sunshine', 591: 'agreement', 1420: 'benefits', 9413: 'remedies', 7277: 'meshach', 287: '67', 3349: 'designing', 10008: 'screamed', 3806: 'each', 5104: 'gowex', 725: 'alternative', 5979: 'institute', 10857: 'starks', 8103: 'ouster', 1328: 'bayer', 9397: 'religion', 4155: 'eve', 5229: 'gumball', 7146: 'maximillion', 6577: 'lavish', 5739: 'ibiza', 4097: 'escalates', 2939: 'creepy', 10140: 'seragon', 9519: 'rest', 1082: 'attended', 9614: 'rex', 3685: 'downtown', 5754: 'identified', 3518: 'disorder', 7988: 'oliver', 11837: 'trolls', 12700: 'wraps', 990: 'arthritic', 11337: 'tanks', 3704: 'drastic', 6884: 'lovin', 2911: 'crazed', 5511: 'hides', 4748: 'frame', 1204: 'baggy', 11241: 'sweater', 479: 'addiction', 11939: 'uberx', 1659: 'booze', 38: '1300', 5670: 'hovers', 12067: 'unsolicited', 5826: 'import', 4312: 'factbox', 6347: 'ken', 5292: 'ham', 12080: 'unveiled', 2920: 'creation', 11370: 'taxpayers', 1102: 'audited', 2266: 'checks', 9025: 'purgatory', 12529: 'wheelchair', 9176: 'ratios', 6126: 'ivy', 11043: 'students', 7645: 'mustang', 1066: 'atop', 11386: 'teaser', 7147: 'maximum', 4023: 'engrossment', 1291: 'barrel', 2345: 'christine', 7718: 'negligence', 175: '318m', 11082: 'subside', 6909: 'lufthansa', 194: '3800', 8500: 'pilot', 8176: 'oysters', 1195: 'bacteria', 5904: 'infections', 3219: 'deepens', 10004: 'scrap', 11161: 'supermoon', 10677: 'spacecraft', 2395: 'clamor', 9227: 'reattached', 2889: 'coy', 4515: 'financially', 3370: 'deter', 4567: 'fitzpatrick', 7541: 'morphs', 4502: 'filters', 5222: 'guinean', 2640: 'conakry', 1313: 'basks', 5629: 'hormel', 7634: 'muscle', 7356: 'milk', 3076: 'cytosport', 5577: 'holdings', 9357: 'reid', 8976: 'provokes', 5803: 'immigration', 9317: 'reform', 11116: 'suggestion', 7611: 'mulls', 10241: 'shepard', 8918: 'prompted', 12435: 'waters', 8457: 'philippines', 9120: 'railroads', 10263: 'shipped', 9079: 'quickly', 9792: 'rubik', 6002: 'interactive', 11739: 'tramples', 1059: 'athena', 1585: 'blows', 11651: 'toni', 2530: 'collette', 7069: 'marisa', 11642: 'tomei', 9215: 'realistic', 6250: 'joneses', 4643: 'flows', 5640: 'hortons', 1149: 'avicii', 4881: 'gallbladder', 899: 'appendix', 2284: 'chen', 9319: 'reforms', 9743: 'root', 7183: 'mcnerney', 4013: 'enforcement', 2460: 'closed', 1756: 'breakout', 7230: 'mekhi', 8453: 'phifer', 11952: 'unacceptable', 3228: 'defective', 833: 'annoying', 1395: 'beijing', 3035: 'curbing', 12167: 'values', 947: 'aren', 7841: 'norms', 3197: 'deciding', 5575: 'holders', 9378: 'relations', 7940: 'octopus', 11331: 'tangled', 8608: 'plunges', 282: '64', 10534: 'smbc', 1148: 'aviation', 1282: 'barkin', 3766: 'dudley', 9381: 'relatively', 9198: 'reached', 6367: 'kfc', 10740: 'spikes', 10156: 'servings', 5822: 'implications', 4677: 'fontana', 803: 'anglers', 2269: 'cheer', 3212: 'decried', 3835: 'easyjet', 3384: 'developing', 12451: 'weale', 3541: 'dissents', 6681: 'lesson', 11170: 'supported', 7885: 'nurse', 657: 'alcoholics', 836: 'anonymous', 6544: 'largely', 5774: 'ignore', 2867: 'courtroom', 42: '142136', 1359: 'beau', 3768: 'duet', 5337: 'harbinger', 8866: 'process', 5559: 'hk', 10581: 'snubbed', 10107: 'semiconductor', 1023: 'asml', 11365: 'taunts', 10892: 'stealing', 11564: 'thunder', 10432: 'skadden', 4492: 'filing', 1685: 'boudou', 6756: 'lines', 879: 'apesâ', 5037: 'glover', 8661: 'pooper', 4111: 'esposito', 4663: 'foe', 10698: 'spat', 1006: 'ashamed', 6972: 'magnificent', 2455: 'clone', 5458: 'heightened', 11572: 'tick', 6521: 'lancer', 12640: 'wizardry', 2951: 'cripple', 8788: 'preschool', 11377: 'teacher', 984: 'arriving', 6571: 'laura', 8783: 'prepon', 12043: 'unkind', 3064: 'cutting', 5908: 'infidelity', 5206: 'guaze', 570: 'afterparty', 9948: 'saying', 2900: 'cramming', 1868: 'builds', 1780: 'bridges', 2114: 'catastrophe', 849: 'antibiotic', 9505: 'resistance', 648: 'alba', 4082: 'erases', 4367: 'fares', 8059: 'orbitz', 11192: 'surging', 10642: 'sooner', 11743: 'transactions', 2054: 'careful', 9596: 'revise', 12410: 'warnings', 3247: 'deflate', 1786: 'brighten', 9504: 'resist', 5295: 'hammer', 1593: 'blusher', 4618: 'flipkart', 7654: 'myntra', 12566: 'widen', 6471: 'kunstmuseum', 1435: 'bern', 10615: 'sole', 5462: 'heir', 2528: 'collector', 2797: 'cornelius', 11997: 'undies', 1132: 'automotive', 6012: 'interiors', 4494: 'filled', 3484: 'discarded', 5584: 'holidays', 2121: 'caterpillar', 3602: 'dodged', 7689: 'natco', 12631: 'withdrawal', 1631: 'bombshell', 10071: 'seeing', 1224: 'ball', 10999: 'strengthening', 6857: 'looser', 8254: 'paraplegic', 11403: 'teenager', 3555: 'ditched', 5778: 'ihackers', 11351: 'targeting', 1119: 'australians', 5746: 'icloud', 4701: 'foreplay', 9650: 'rightful', 8928: 'prophet', 635: 'akin', 2984: 'crowned', 1229: 'bally', 11395: 'technologies', 8260: 'parent', 12635: 'within', 6125: 'ivf', 11393: 'techniques', 5644: 'hospitalized', 5782: 'ikea', 7375: 'minimum', 4019: 'engineering', 10731: 'spent', 9400: 'relocating', 6810: 'loach', 6649: 'leigh', 7122: 'matches', 1787: 'brighter', 6468: 'kudrow', 7976: 'okay', 7655: 'myself', 6029: 'intesa', 12715: 'writedowns', 2103: 'casting', 1694: 'bouygues', 10190: 'sfr', 7879: 'numericable', 828: 'announced', 12101: 'uphill', 1804: 'brixton', 1922: 'busiest', 3986: 'empty', 428: 'accounts', 3612: 'dole', 7223: 'meg', 5537: 'himym', 2079: 'carriages', 1924: 'businesses', 2821: 'cosmetic', 10909: 'stepmom', 12148: 'vacate', 238: '4m', 11432: 'tennessee', 1805: 'bro', 2698: 'conquers', 2080: 'carrie', 1018: 'asked', 3955: 'embraces', 7245: 'memorabilia', 10163: 'seti', 8587: 'pleasantly', 12391: 'waning', 4893: 'gao', 10640: 'sookie', 2510: 'coke', 5925: 'ingredient', 4049: 'entirely', 8725: 'powerade', 3489: 'disco', 2828: 'costing', 10551: 'smokin', 9368: 'reject', 10668: 'sovaldi', 7998: 'omsignal', 12673: 'workout', 12750: 'yates', 26: '114', 6676: 'les', 7406: 'miserables', 1911: 'burns', 6474: 'kurds', 2131: 'caution', 873: 'apache', 9307: 'reese', 12634: 'witherspoon', 10513: 'slurs', 1668: 'borrowers', 10359: 'signers', 1253: 'bankrupt', 11592: 'tila', 3840: 'eats', 2416: 'clay', 12011: 'unfazed', 7797: 'nimitz', 3621: 'domestic', 6141: 'jake', 6319: 'kasdan', 12778: 'youporn', 9475: 'requests', 2291: 'chewed', 3659: 'dot', 835: 'annualized', 5861: 'including', 365: 'abandon', 5170: 'grinds', 5814: 'impending', 7295: 'metro', 8939: 'prosieben', 5795: 'imaginary', 1465: 'bff', 5168: 'grim', 3606: 'dogs', 5040: 'glowing', 2222: 'chaos', 210: '40percent', 5922: 'infusion', 6030: 'intimate', 4134: 'eu2', 9989: 'scissors', 4653: 'flunks', 3879: 'efficiency', 7297: 'metropolitan', 3310: 'denver', 5470: 'hellscape', 636: 'al', 9725: 'roker', 1040: 'assist', 1697: 'bowie', 7842: 'norovirus', 326: '83', 7290: 'metals', 911: 'appreciation', 6837: 'lone', 5763: 'idris', 3901: 'elba', 12614: 'winston', 5597: 'homebuilding', 2402: 'clarify', 11685: 'touchscreen', 1230: 'balm', 423: 'accor', 9838: 'sa', 7816: 'noisy', 1695: 'bow', 4606: 'flesh', 10342: 'sides', 8310: 'path', 7707: 'nearby', 4178: 'exact', 6818: 'location', 11563: 'thumbs', 4024: 'engulfing', 8238: 'panties', 2163: 'cellist', 4788: 'frets', 12060: 'unrelenting', 9927: 'satire', 4874: 'gal', 236: '49ers', 9063: 'quarterback', 6303: 'kaepernick', 11244: 'swedish', 12557: 'whooping', 2838: 'cough', 1422: 'benghazi', 4266: 'exporters', 7527: 'moody', 2805: 'corporations', 5777: 'ignoring', 11732: 'trailblazer', 11094: 'succumbs', 9303: 'reefer', 6960: 'madness', 7813: 'nobody', 8485: 'pierce', 1826: 'brosnan', 7862: 'november', 10542: 'smiley', 5503: 'hgtv', 4620: 'flipping', 624: 'airs', 6636: 'legalized', 5182: 'grossing', 812: 'animated', 12459: 'wearables', 10877: 'stats', 614: 'aired', 6013: 'intermune', 8355: 'pebble', 646: 'alaska', 9881: 'salmon', 12390: 'wang', 5434: 'hearts', 3231: 'defend', 2286: 'cheryl', 1909: 'burke', 53: '15lbs', 5722: 'hurtful', 6212: 'jibes', 7747: 'nevada', 7616: 'multinational', 5613: 'honors', 2763: 'convictions', 5036: 'glossy', 5688: 'hugging', 1042: 'associated', 9748: 'rosario', 3145: 'dawson', 3616: 'dolores', 5682: 'huerta', 6411: 'kkk', 2685: 'congratulatory', 10451: 'skipping', 11063: 'styles', 5679: 'hubble', 5341: 'hardens', 2041: 'capture', 8: '10000', 2980: 'crowded', 8038: 'opposing', 6534: 'lanes', 6601: 'leadership', 12099: 'upheaval', 6042: 'invade', 1218: 'balancing', 2783: 'coppola', 7271: 'mermaid', 6916: 'lumia', 5313: 'handset', 9117: 'raiffeisen', 9735: 'romania', 8041: 'ops', 9770: 'roundup', 6710: 'liberia', 9061: 'quarantines', 2684: 'congo', 10795: 'squad', 10926: 'stifles', 5955: 'insiders', 887: 'apology', 11751: 'transforms', 5199: 'gsk', 10289: 'shortage', 8755: 'predictions', 8156: 'overhyped', 3476: 'disadvantaged', 3246: 'definition', 71: '19000', 298: '7000', 7041: 'manufactuing', 2439: 'cliff', 1426: 'benzene', 8276: 'partially', 300: '71st', 3070: 'cyclicals', 9855: 'sag', 4342: 'fallout', 9241: 'rebranded', 4: '0ut', 7695: 'nations', 4211: 'exile', 2615: 'competitor', 4987: 'gigafactory', 8376: 'pencil', 8119: 'outing', 2773: 'cooling', 5811: 'impairments', 5842: 'improves', 2470: 'clouds', 10372: 'sils', 7060: 'maria', 6280: 'juliette', 3560: 'dive', 6335: 'kearney', 2768: 'cooke', 6037: 'introducing', 8306: 'patches', 2392: 'claiming', 18: '10k', 4640: 'flowers', 1097: 'auctions', 9969: 'schedule', 7512: 'montage', 12590: 'wilmerhale', 6790: 'litigator', 8658: 'pools', 6707: 'liable', 8170: 'owned', 9522: 'restaurants', 7808: 'nlrb', 2265: 'checking', 2901: 'cranks', 6321: 'kashi', 8631: 'poland', 10822: 'stagnation', 8471: 'pic', 11926: 'txu', 6717: 'licking', 2334: 'chops', 1124: 'authority', 5587: 'holmes', 7052: 'marchesa', 7625: 'municipal', 10102: 'sellers', 4595: 'flaunts', 4114: 'espys', 659: 'alcon', 9910: 'sansa', 11895: 'turner', 10799: 'squawk', 8086: 'orphan', 2456: 'clones', 6873: 'lots', 11157: 'supermanâ', 2437: 'client', 4971: 'getaway', 2279: 'cheltenham', 1000: 'artwork', 5857: 'inciting', 9854: 'saft', 8930: 'proposals', 12293: 'visited', 876: 'apartment', 9140: 'rampage', 6056: 'investigator', 3432: 'dig', 6910: 'luggage', 5550: 'hispanicspiderman', 2228: 'characters', 6135: 'jacques', 2871: 'cousteau', 5132: 'grandson', 11983: 'undersea', 1188: 'backless', 360: '9th', 8413: 'periphery', 180: '337', 8403: 'performer', 2004: 'cancellation', 10758: 'spoke', 7392: 'mintz', 8562: 'plasse', 9846: 'sacks', 2959: 'criticised', 11635: 'tokyo', 9479: 'reschedules', 7140: 'maundy', 10984: 'strategic', 6948: 'machinery', 7177: 'mchale', 5370: 'hastings', 335: '89', 5431: 'heartbreaker', 2221: 'chantel', 6175: 'jeffries', 5796: 'imagination', 11779: 'travels', 2723: 'consume', 5897: 'inequality', 11194: 'surplus', 5147: 'greats', 2368: 'cinema', 10482: 'slick', 11125: 'suits', 3954: 'embrace', 7318: 'michod', 476: 'adapting', 5279: 'haj', 368: 'abating', 7807: 'nj', 3026: 'cuomo', 9052: 'q4', 1614: 'bodyguard', 1072: 'attackers', 10582: 'snubbing', 5805: 'imminently', 3957: 'emc', 3200: 'decisive', 9165: 'raps', 5596: 'homebuilders', 1382: 'begged', 7188: 'meadow', 9034: 'pursuit', 3071: 'cygnus', 10933: 'stink', 2716: 'consolidate', 6826: 'lockup', 4247: 'expires', 2595: 'commonwealth', 1061: 'athlete', 11452: 'terror', 3223: 'defaults', 10478: 'slender', 5131: 'grandparents', 11289: 'systematic', 10127: 'seoul', 6433: 'knowingly', 1490: 'billed', 5402: 'headband', 7344: 'migraines', 1760: 'breakups', 5545: 'hire', 5018: 'glastonbury', 7289: 'metallica', 5445: 'heavier', 12268: 'vindication', 2425: 'clearest', 3880: 'efficient', 5668: 'houston', 626: 'airspace', 1586: 'blu', 1044: 'assured', 4413: 'fearlessly', 10254: 'shigeru', 7524: 'monumental', 8844: 'pritzker', 11436: 'tentative', 3072: 'cynical', 3192: 'decelerating', 3897: 'eke', 11799: 'trendsetter', 7620: 'mummy', 3777: 'dungarees', 7226: 'megatour', 6912: 'lukoil', 7973: 'oilfield', 6233: 'johnasson', 10362: 'signing', 10690: 'sparing', 3017: 'cubist', 3878: 'efficacy', 7362: 'millionaire', 9309: 'referee', 6720: 'lied', 3428: 'difference', 1809: 'broadcasters', 6723: 'lifelike', 8598: 'plots', 276: '60bn', 8327: 'pauses', 2508: 'cohen', 8987: 'ptc', 11502: 'therapeutics', 7202: 'mechanism', 12781: 'yourself', 11451: 'terrifying', 7609: 'mull', 5081: 'goonies', 5327: 'happening', 3640: 'donner', 4081: 'erase', 2810: 'correction', 2264: 'checker', 6625: 'lebowitz', 6767: 'lions', 12773: 'yorkers', 11350: 'targeted', 891: 'apparent', 9205: 'reacts', 1979: 'calmly', 5887: 'indio', 2375: 'cirrus', 2311: 'chip', 12646: 'wolfson', 3595: 'doctrine', 1624: 'bolstering', 4084: 'ergen', 914: 'approach', 2538: 'colonial', 4213: 'existed', 9631: 'richest', 3590: 'dock', 2523: 'collapsed', 8648: 'polluted', 11256: 'swimming', 9633: 'richman', 4257: 'exploiting', 601: 'aided', 10817: 'stadium', 9417: 'remembering', 7904: 'nâ', 13: '103', 10076: 'seemingly', 6708: 'liam', 4251: 'expletive', 1031: 'assaults', 9374: 'relapse', 9952: 'scales', 6322: 'kat', 3302: 'dennings', 10248: 'shield', 3747: 'droves', 2830: 'costner', 6068: 'involves', 3656: 'dornan', 3467: 'directive', 6539: 'lanzhou', 2732: 'contains', 10978: 'strange', 3338: 'derrickson', 3948: 'embarrass', 11641: 'tomb', 12000: 'unearthed', 9046: 'pyramid', 936: 'archaeologists', 228: '472', 8822: 'pricing', 278: '61', 5013: 'glamour', 1201: 'bafta', 5776: 'ignores', 5838: 'impressive', 8873: 'procter', 4884: 'gamble', 1850: 'buckeyes', 501: 'admin', 4831: 'fully', 6414: 'kleiner', 203: '4000', 7658: 'myths', 465: 'actors', 5050: 'gnip', 776: 'analyzing', 1771: 'brian', 5995: 'intense', 3391: 'devotion', 10321: 'shrug', 1929: 'busting', 7333: 'mideast', 4924: 'gaza', 6914: 'lull', 11538: 'thoughts', 5027: 'glitterati', 7674: 'naomi', 1996: 'campbell', 5365: 'hashtag', 1241: 'bandleader', 6472: 'kurdish', 11049: 'stumble', 1942: 'buyer', 11336: 'tankers', 6743: 'limbo', 9559: 'retro', 11639: 'tolmach', 6205: 'jewel', 12193: 'vegetarians', 11495: 'themselves', 3837: 'eaten', 7574: 'mouse', 2928: 'creature', 11856: 'trunk', 2461: 'closely', 5876: 'independently', 9290: 'recycled', 7504: 'monolith', 11558: 'throw', 4449: 'ferrera', 6890: 'lowered', 10829: 'stale', 2355: 'chubby', 852: 'antics', 6001: 'interaction', 6851: 'loom', 5744: 'icelandic', 8919: 'prompting', 9452: 'replaced', 11090: 'success', 7096: 'martha', 6727: 'lifestyle', 6469: 'kun', 5453: 'hee', 4345: 'falsetto', 9800: 'ruined', 9897: 'sand', 4754: 'franchisees', 2572: 'comfortable', 4631: 'floor', 7517: 'montell', 1512: 'biotechs', 8573: 'players', 7426: 'mistakes', 5136: 'graphic', 11179: 'sure', 8152: 'overhauls', 4636: 'florence', 291: '690', 5062: 'goggles', 2605: 'compared', 10983: 'strapped', 1746: 'bread', 7142: 'maven', 10375: 'silverton', 4776: 'freestyles', 10017: 'screwed', 7675: 'napoleon', 2571: 'comfort', 3758: 'duane', 9207: 'reade', 295: '6m', 9474: 'requested', 4248: 'explain', 4602: 'fleeing', 5340: 'hardcore', 2034: 'capitalists', 435: 'accuses', 10018: 'screwing', 10326: 'shunned', 9965: 'scary', 5642: 'hospitalisation', 10124: 'sentenced', 11986: 'undervalue', 2846: 'counters', 4957: 'gentleman', 7822: 'nominations', 12327: 'voldemort', 3224: 'defeat', 2618: 'complain', 9746: 'rope', 7595: 'msg', 4982: 'giants', 9345: 'regulate', 1302: 'basal', 6549: 'las', 12192: 'vegas', 10531: 'smartwatches', 12289: 'visa', 11742: 'transaction', 4428: 'fee', 10653: 'soufun', 10468: 'slapped', 6399: 'kingpin', 7596: 'msnbc', 1021: 'askthicke', 8011: 'onslaught', 5360: 'harsh', 5824: 'implies', 12123: 'urinate', 7424: 'misstep', 5308: 'handled', 154: '29', 9960: 'scarcer', 4969: 'gestating', 9391: 'releasing', 652: 'albums', 4009: 'enemy', 9134: 'rallying', 760: 'amgen', 2385: 'citizens', 2879: 'covering', 4684: 'foot', 11051: 'stumbling', 10592: 'sobriety', 8665: 'popeyes', 9261: 'recipes', 2693: 'connelly', 12033: 'unite', 10601: 'sodas', 686: 'allegiance', 10022: 'scruffy', 1348: 'bearing', 1540: 'blackmail', 5568: 'hoffsome', 7168: 'mcconaughey', 9200: 'react', 12818: 'zoe', 9871: 'saldana', 9544: 'retake', 10305: 'showers', 11084: 'subsidies', 6398: 'kingfisher', 10090: 'seizes', 12654: 'wondercon', 10014: 'screens', 2591: 'committee', 6959: 'madison', 4043: 'enterprises', 12258: 'village', 1549: 'blast', 9911: 'santa', 882: 'apologise', 11203: 'surrounding', 7547: 'mosaic', 1406: 'belong', 8351: 'peak', 11673: 'torture', 4255: 'exploit', 7106: 'maslow', 8183: 'pack', 5023: 'glenn', 5157: 'greenwald', 1263: 'baquet', 3552: 'disturbing', 6260: 'journalism', 1501: 'binge', 2829: 'costly', 12230: 'viacom', 10361: 'significantly', 11655: 'tons', 10981: 'strangest', 6797: 'liver', 8307: 'pate', 1299: 'bartenders', 171: '300ft', 2037: 'capsule', 1219: 'balconies', 7398: 'mirrors', 8451: 'pharmacies', 9364: 'reinstating', 12699: 'wrap', 3013: 'cto', 1765: 'breather', 9287: 'recruit', 8884: 'professional', 11028: 'strolls', 11004: 'stretch', 6427: 'knocked', 8916: 'promotion', 3375: 'detractors', 2251: 'chat', 9434: 'renewal', 3632: 'donate', 2527: 'collection', 12452: 'wealth', 561: 'afraid', 9012: 'pummeled', 4280: 'extending', 11141: 'sundar', 8473: 'pichai', 1438: 'bertolli', 7438: 'mizkan', 6901: 'luca', 9703: 'robust', 152: '288k', 4777: 'freeway', 9443: 'reopens', 1341: 'beams', 1739: 'brawl', 4385: 'fatburger', 8054: 'orbit', 11045: 'studio', 5911: 'inflated', 9537: 'resumes', 948: 'arena', 12139: 'usual', 6592: 'lays', 1284: 'barney', 12681: 'worn', 7836: 'nordic', 5702: 'hundred', 5137: 'grapples', 2104: 'castlemartyr', 9508: 'resort', 3843: 'ebbs', 6176: 'jem', 5590: 'holograms', 933: 'arbitration', 7015: 'mamoa', 4600: 'fleas', 7970: 'oh', 8947: 'protecting', 4284: 'external', 8257: 'parasites', 8047: 'opts', 2109: 'casual', 6132: 'jacket', 8757: 'preempt', 12401: 'warfare', 5406: 'headgear', 11933: 'tyrese', 11143: 'sunpower', 9497: 'residential', 6618: 'leases', 2604: 'comparable', 119: '21', 8131: 'outsider', 5263: 'hack', 10936: 'stirs', 4775: 'freepalestine', 8095: 'oscars2015', 12795: 'zadan', 7272: 'meron', 7282: 'messed', 7186: 'mcvie', 4605: 'fleetwood', 10119: 'sensational', 7204: 'meddling', 2986: 'crucial', 10324: 'shuffles', 8365: 'peg', 5771: 'ignites', 7500: 'monitored', 5035: 'glory', 12637: 'witness', 5467: 'helium', 11883: 'turbines', 4953: 'genghis', 6369: 'khan', 8409: 'period', 12515: 'wet', 9724: 'roils', 901: 'applaud', 7652: 'mya', 2260: 'cheated', 1441: 'besotted', 6939: 'lyrid', 6801: 'livestream', 8993: 'publicly', 1794: 'brink', 1918: 'burying', 2853: 'countrywide', 5960: 'insolvency', 9087: 'quits', 7123: 'matching', 418: 'accidentally', 11417: 'television', 2687: 'congressional', 12607: 'wingspan', 11238: 'swearing', 8575: 'playground', 10033: 'searched', 8901: 'projection', 8926: 'propels', 5145: 'greatest', 3217: 'deejay', 10195: 'shaggy', 323: '82', 6351: 'kent', 7881: 'numsa', 240: '4q', 3037: 'cure', 1373: 'bedtime', 938: 'archbishop', 2024: 'canterbury', 9777: 'rowan', 11570: 'tiaa', 2940: 'cref', 7892: 'nuveen', 10358: 'signed', 7882: 'nup', 6313: 'kardasian', 6339: 'keenness', 10431: 'sizzurp', 10208: 'shane', 4128: 'etf', 2033: 'capitalist', 3296: 'den', 2320: 'choi', 9320: 'refrains', 10356: 'signaling', 1895: 'buoy', 8277: 'participation', 10429: 'sizing', 1640: 'bonnaroo', 11603: 'timelines', 11980: 'underpinned', 2469: 'cloudera', 7531: 'moonshots', 11646: 'ton', 2968: 'cronenbergâ', 7044: 'map', 11704: 'toxic', 12203: 'vents', 3333: 'depths', 10508: 'sluggish', 9546: 'rethink', 11674: 'tortured', 5397: 'hazardous', 11476: 'thank', 8012: 'onstage', 10085: 'seifi', 7354: 'militant', 8568: 'platrow', 1595: 'blythe', 3113: 'danner', 12107: 'upset', 5307: 'handle', 7251: 'memphis', 12235: 'vicodin', 8174: 'oxycodone', 3887: 'egg', 8391: 'pepsi', 1454: 'beverage', 484: 'additive', 12269: 'vine', 492: 'adhd', 7622: 'mums', 7397: 'mirror', 12117: 'urbanisation', 5930: 'inishmaan', 10854: 'stares', 2887: 'cows', 602: 'aiding', 2619: 'complaint', 9147: 'random', 3177: 'debit', 11261: 'swipe', 12587: 'willis', 11993: 'underwriter', 10661: 'sour', 10405: 'sink', 11255: 'swim', 1896: 'buoyancy', 1468: 'bible', 6641: 'legere', 4778: 'freewheeling', 12017: 'unfunny', 462: 'activists', 7233: 'melanoma', 10992: 'streamer', 12520: 'whales', 4747: 'fragile', 6461: 'kristin', 3060: 'cutler', 12815: 'zions', 3694: 'dragging', 4052: 'entrance', 1579: 'blouse', 11098: 'sucking', 6833: 'lollipop', 4572: 'fixers', 3128: 'dashboard', 2924: 'creative', 6559: 'latino', 2192: 'cfpb', 9431: 'renault', 11579: 'tie', 372: 'abdullah', 5225: 'gul', 740: 'amanda', 1950: 'bynes', 12149: 'vacation', 8792: 'presented', 114: '2020', 8878: 'produces', 8175: 'oxygen', 2886: 'cowles', 3398: 'diagnosed', 1115: 'aust', 2575: 'comics', 7665: 'nail', 5200: 'gta', 2927: 'creators', 9477: 'required', 8021: 'openings', 3684: 'downside', 1679: 'botnet', 8706: 'postponement', 6173: 'jeezy', 8693: 'possessing', 9645: 'rifle', 9299: 'reduces', 4571: 'fixed', 7608: 'mulberry', 5219: 'guillon', 9051: 'q3', 3038: 'cures', 8784: 'prepping', 6657: 'lender', 9396: 'relieved', 1405: 'bells', 7477: 'molner', 12627: 'wishes', 3313: 'departing', 9078: 'quickens', 615: 'airfare', 1519: 'bis', 7779: 'nicola', 5443: 'heavenly', 1591: 'blunder', 4709: 'forgiven', 7465: 'modesty', 8439: 'petrella', 9031: 'pursue', 9784: 'royalties', 8319: 'patrols', 10846: 'standoff', 8466: 'photocall', 11041: 'studded', 4680: 'foodies', 3123: 'darker', 11887: 'turd', 2158: 'celebs', 8232: 'panera', 485: 'additives', 6428: 'knocks', 8396: 'perch', 10040: 'seasonally', 6963: 'maersk', 1389: 'behavior', 4238: 'expensive', 4634: 'flops', 1657: 'booty', 2069: 'carmaking', 8207: 'pairing', 11438: 'tents', 3643: 'donors', 6689: 'letting', 2288: 'chevrolet', 3003: 'cruzes', 4733: 'fought', 8795: 'preserve', 3990: 'enabled', 6684: 'lethal', 10311: 'showtime', 5096: 'gotta', 3274: 'delivering', 5847: 'inaction', 12402: 'warhol', 321: '80s', 4633: 'floppy', 3511: 'disks', 4010: 'energetic', 4205: 'exelon', 8389: 'pepco', 8189: 'pact', 11461: 'testifies', 8416: 'permanently', 5841: 'improvement', 3431: 'difficult', 1202: 'bag', 10465: 'slant', 5969: 'inspiring', 519: 'adrienne', 1209: 'bailon', 9836: 'rza', 2331: 'chop', 553: 'affiliate', 764: 'amiga', 78: '1980s', 7770: 'nicholas', 5659: 'hoult', 8360: 'peeps', 8977: 'provopoulos', 12146: 'va', 8560: 'plantings', 8571: 'played', 3984: 'empowering', 3652: 'doppelgänger', 8532: 'pitching', 118: '20th', 2179: 'century', 9168: 'rat', 8540: 'pixies', 6277: 'julian', 2091: 'casablancas', 483: 'additions', 4336: 'falcone', 8812: 'preview', 352: '970', 4650: 'fluctuate', 12539: 'whimsical', 10477: 'sleeping', 2689: 'connected', 11672: 'torrenters', 7376: 'mining', 7442: 'moated', 9139: 'ramp', 187: '36000', 1948: 'buzz', 5317: 'hangout', 10529: 'smarts', 3116: 'dapper', 8132: 'outskirts', 7778: 'nicknamed', 3787: 'duties', 3942: 'elvis', 10191: 'sh', 7840: 'normalcy', 8437: 'petition', 2616: 'competitors', 5564: 'hoaxes', 2002: 'cancelcolbert', 9591: 'reverts', 11232: 'swarmies', 10000: 'scour', 8538: 'pixar', 11896: 'turning', 2798: 'corner', 7040: 'manuel', 7838: 'noriega', 8682: 'portrayal', 4827: 'fukushima', 2420: 'cleanup', 10646: 'soprano', 3446: 'diner', 3686: 'downward', 2308: 'chimps', 1795: 'bristol', 8906: 'prolongs', 11207: 'survival', 5152: 'greenback', 8003: 'ones', 11426: 'templeton', 3178: 'deborah', 1325: 'battling', 6934: 'lyme', 7104: 'mask', 6441: 'kodiak', 1063: 'atk', 7580: 'mover', 8730: 'powers', 8990: 'publication', 34: '121', 12780: 'yours', 7907: 'oarfish', 2111: 'catalogue', 11844: 'troubles', 2376: 'cisco', 2636: 'computing', 3253: 'degree', 420: 'accommodation', 6051: 'investigate', 778: 'anarchy', 9933: 'sauce', 8673: 'pornographic', 621: 'airplane', 12263: 'vince', 10681: 'spacex', 3591: 'docking', 1851: 'bucks', 5383: 'havana', 3015: 'cuban', 2673: 'confirming', 7386: 'minnesota', 1024: 'aspirations', 8408: 'perilous', 9326: 'refunds', 7572: 'mounting', 11963: 'unconstructive', 9914: 'sap', 10364: 'sikka', 7613: 'multibillion', 11408: 'tel', 1150: 'aviv', 5349: 'harmful', 8063: 'ordinary', 8885: 'professionals', 3424: 'dietary', 5553: 'historical', 11211: 'survivors', 5868: 'increasing', 5459: 'heightens', 3437: 'dilemma', 8116: 'outfitters', 6511: 'lags', 5282: 'halftime', 3772: 'dull', 4399: 'favorable', 6114: 'issuers', 5846: 'inaccuracies', 9002: 'puking', 5293: 'hamill', 12047: 'unless', 5932: 'initially', 3146: 'dax', 204: '400k', 2324: 'choirboy', 12283: 'virginity', 6780: 'lister', 6886: 'loving', 4576: 'flagged', 4599: 'flawless', 9921: 'sarepta', 11803: 'trials', 1112: 'aus', 7192: 'meaningful', 4118: 'essex', 11187: 'surgeon', 10301: 'showcases', 10498: 'slot', 31: '11m', 4727: 'fortune', 10974: 'strained', 4259: 'explore', 1521: 'bisexuality', 12733: 'wynn', 10041: 'seasons', 3209: 'decorating', 8785: 'preps', 1159: 'awaited', 10858: 'starred', 1835: 'brunch', 11812: 'tricky', 8007: 'ono', 12472: 'websites', 11879: 'tuning', 8714: 'pounced', 398: 'abused', 5463: 'heirs', 12042: 'university', 3193: 'december', 10945: 'stockpiling', 12718: 'writing', 5571: 'hogwarts', 12438: 'watts', 4089: 'errands', 5012: 'glamorous', 315: '7th', 2642: 'conceiving', 4452: 'fertility', 6564: 'laughing', 11182: 'surfaced', 11326: 'tamiflu', 12424: 'waste', 11778: 'travelling', 4152: 'evaluate', 8202: 'painting', 5316: 'hang', 35: '1270', 4800: 'fringe', 4330: 'fairy', 11315: 'tale', 5942: 'inner', 6769: 'lip', 10553: 'smooch', 9718: 'rodriguez', 11847: 'truce', 6039: 'intruder', 821: 'anne', 5377: 'hathaway', 1800: 'brittany', 12562: 'wicked', 273: '60000', 7514: 'monte', 8291: 'paschi', 6365: 'keynote', 3746: 'drove', 12809: 'zew', 191: '37000', 9342: 'regrets', 11846: 'trousers', 8255: 'paraplegics', 6394: 'kind', 9344: 'regular', 7831: 'noo', 3474: 'dis', 4113: 'espy', 9141: 'ramped', 8445: 'pf', 2212: 'chang', 11183: 'surfaces', 749: 'ambulance', 9252: 'recast', 9229: 'reawakens', 8190: 'pad', 694: 'alli', 11329: 'tampering', 6196: 'jessie', 6405: 'kit', 5355: 'harrington', 10438: 'skewers', 6163: 'jc', 2546: 'colossal', 377: 'abject', 2589: 'commitments', 8625: 'points', 3956: 'embroiled', 8364: 'peeta', 10471: 'slashed', 11519: 'thigh', 10890: 'steak', 1152: 'avocados', 12428: 'watchdog', 1043: 'assure', 9817: 'rupee', 3865: 'edged', 6702: 'lexicon', 11091: 'successful', 11539: 'thousand', 3571: 'divestitures', 9765: 'roughly', 6053: 'investigates', 2223: 'chaotic', 7525: 'moo', 1479: 'bigfoot', 5278: 'hairs', 6165: 'jealous', 7124: 'mate', 6985: 'maisie', 1002: 'arya', 8840: 'priorities', 2539: 'colonies', 117: '2064', 410: 'accentuates', 7253: 'mend', 12722: 'wrongful', 11145: 'sunset', 9387: 'relaxing', 5717: 'hurling', 1683: 'bottles', 1458: 'bewkes', 5165: 'grill', 4420: 'featuring', 5330: 'happiest', 1503: 'biocryst', 5489: 'hereditary', 11089: 'succeeds', 7441: 'mmvas', 11209: 'surviving', 9048: 'pythons', 4627: 'flogging', 8273: 'parrot', 6690: 'letts', 5082: 'goop', 11901: 'tuxedos', 6492: 'lace', 4151: 'evacuating', 3373: 'deters', 8117: 'outflow', 3335: 'derailment', 1104: 'aug', 9526: 'restores', 11065: 'stylish', 4635: 'floral', 12564: 'wide', 1790: 'brimmed', 11355: 'tarnishes', 7347: 'mild', 8898: 'progression', 779: 'anatomy', 7254: 'mendes', 5092: 'goslingâ', 11114: 'suggest', 7217: 'medvedev', 4850: 'furry', 7121: 'match', 4801: 'fringed', 173: '30th', 6648: 'leibovitz', 3206: 'declined', 7094: 'marshals', 5756: 'identity', 468: 'actual', 994: 'articles', 8110: 'outcry', 12041: 'universities', 9151: 'rankings', 8758: 'prefer', 7768: 'nice', 11270: 'sword', 8044: 'optimus', 1986: 'camel', 2547: 'coloured', 2289: 'chevron', 3238: 'defers', 10783: 'springfield', 10386: 'simpsons', 9077: 'quicken', 1338: 'beachgoers', 3618: 'dolphin', 10205: 'shallow', 11180: 'surf', 6744: 'limelight', 10492: 'slinky', 10982: 'strapless', 5632: 'horrendous', 7176: 'mcgregor', 11153: 'superheroes', 2072: 'carnival', 4702: 'foresees', 2062: 'caribbean', 2992: 'cruises', 10159: 'sessions', 7724: 'neighbour', 12725: 'wti', 6938: 'lyrics', 10100: 'selina', 3626: 'dominates', 3537: 'diss', 3010: 'csi', 10353: 'sightseeing', 11384: 'teary', 5540: 'hinge', 75: '1964', 11221: 'sustained', 9288: 'recurring', 926: 'aquarium', 4601: 'flee', 5631: 'horned', 5966: 'inspire', 10558: 'snakes', 12175: 'vanity', 5938: 'injuries', 2609: 'compel', 1269: 'barbie', 12159: 'valeria', 6913: 'lukyanova', 9605: 'revolted', 2998: 'crushed', 8345: 'peabody', 12320: 'voicing', 248: '50m', 4726: 'fortress', 953: 'argues', 8805: 'pretends', 1022: 'asleep', 3322: 'deposition', 811: 'animals', 5723: 'hurting', 8737: 'prada', 5135: 'grants', 599: 'ahrendts', 2649: 'concertgoers', 8605: 'plummeted', 7248: 'memoriam', 1266: 'baratheon', 1525: 'bitchiest', 5243: 'gushing', 3782: 'durata', 470: 'acute', 1196: 'bacterial', 6028: 'interviews', 12378: 'wallows', 11618: 'titanfall', 8498: 'pillow', 1912: 'burrito', 6540: 'lapse', 5981: 'insufficient', 10872: 'statement', 1808: 'broadcast', 10479: 'slept', 12648: 'wolves', 4997: 'gin', 6274: 'juice', 11824: 'trinket', 9898: 'sandals', 4566: 'fitting', 8205: 'pair', 3448: 'dining', 8913: 'promote', 2831: 'costolo', 5669: 'hover', 12558: 'whopper', 8296: 'passes', 7411: 'mislabeling', 10001: 'scourge', 9411: 'remarrying', 4195: 'excite', 3723: 'drifts', 5583: 'holiday', 9916: 'saps', 4439: 'felt', 5698: 'humiliated', 1193: 'backward', 8671: 'pork', 8468: 'photographer', 12752: 'yeager', 11553: 'thrive', 7264: 'meredith', 12597: 'winding', 11277: 'symantec', 1424: 'bennett', 217: '44', 7925: 'obsession', 12622: 'wis', 3460: 'dipped', 7992: 'olutely', 985: 'arrow', 753: 'amell', 2552: 'columnist', 5652: 'hotels', 9075: 'queues', 11754: 'transition', 2015: 'canfield', 9551: 'retires', 1636: 'bondholder', 11534: 'thornton', 11692: 'touring', 2563: 'comedian', 8505: 'pinette', 12180: 'vaping', 1364: 'beck', 10316: 'shrimp', 2105: 'castoff', 8053: 'oranges', 11794: 'trees', 6326: 'kathleen', 10049: 'sebelius', 5684: 'huffpost', 4540: 'firefighter', 9549: 'retirees', 8924: 'propel', 5895: 'industries', 1387: 'begun', 6666: 'lennar', 5655: 'hotspot', 6043: 'invades', 5178: 'groom', 3851: 'echoes', 200: '3rd', 3697: 'dragons', 12398: 'ward', 3924: 'eliza', 3784: 'dushku', 1547: 'blaming', 4362: 'fantasies', 5690: 'hughes', 3486: 'disclose', 2281: 'chemicals', 10556: 'snails', 5695: 'humankind', 10748: 'spiritual', 5414: 'healer', 7427: 'mistress', 1684: 'bottom', 7207: 'mediators', 1531: 'bitter', 8321: 'patterson', 10830: 'stalk', 7127: 'maternity', 6509: 'lagerfeld', 3181: 'debtor', 10328: 'shuns', 10335: 'siblings', 9185: 'raves', 4176: 'ew', 3574: 'dividends', 10066: 'sedan', 2332: 'chopper', 2891: 'cp', 5933: 'inject', 1611: 'bodes', 6975: 'mailonline', 11817: 'triggered', 1401: 'believing', 7891: 'nutter', 1917: 'bury', 2978: 'crotch', 8745: 'prayers', 9655: 'ringling', 546: 'aerialists', 1089: 'attorneys', 11068: 'sub', 7733: 'nereus', 7844: 'northeast', 231: '48', 7920: 'observations', 2039: 'captivating', 4598: 'flawed', 7884: 'nuri', 1486: 'bilge', 2188: 'ceylan', 7118: 'masterpiece', 11285: 'synergies', 2960: 'criticises', 11550: 'thrilled', 12356: 'wages', 27: '115', 3994: 'encountered', 10295: 'shots', 1451: 'bettie', 8070: 'organisation', 3266: 'delhi', 7823: 'nominee', 9909: 'sans', 10475: 'sleek', 376: 'ability', 9774: 'routine', 4185: 'exams', 8968: 'provide', 3958: 'emea', 2955: 'criteria', 9499: 'residual', 12098: 'upgrades', 8872: 'procredit', 12769: 'yoga', 1192: 'backup', 9355: 'rehearsals', 7678: 'narrator', 10315: 'shrift', 9181: 'rattlesticks', 8581: 'playwrite', 11487: 'theatre', 178: '325', 1930: 'busto', 987: 'arsizio', 1933: 'busy', 8458: 'philipps', 2474: 'clowning', 4879: 'galifianakis', 2389: 'ck', 1311: 'baskets', 2929: 'creatures', 12198: 'velella', 12199: 'velellas', 1011: 'ashore', 8463: 'phones', 1723: 'brains', 4980: 'gi', 7355: 'military', 373: 'abe', 1032: 'assembly', 2553: 'columns', 1925: 'businessman', 6827: 'loeb', 4912: 'gasp', 4104: 'escort', 11457: 'teslas', 4454: 'fesival', 904: 'appleton', 2391: 'claimed', 8935: 'propositioned', 5130: 'grandmother', 6089: 'iraqi', 6473: 'kurdistan', 8521: 'piped', 4474: 'fiber', 4899: 'garcía', 7659: 'márquez', 5915: 'influential', 7943: 'odenkirk', 3125: 'darkness', 8262: 'parenting', 12776: 'younger', 5197: 'grubhub', 7089: 'marriott', 7932: 'occupancy', 6611: 'leapfrogs', 12016: 'unfortunately', 1773: 'brick', 7037: 'mansions', 5495: 'hers', 11345: 'tapped', 7960: 'officer', 2564: 'comedians', 7496: 'monies', 2826: 'costa', 5837: 'impressions', 6925: 'lungs', 10587: 'soar', 5804: 'imminent', 3130: 'dashes', 2378: 'cited', 5715: 'hurdle', 12647: 'wolverine', 1144: 'avengersâ', 9179: 'rattles', 9250: 'recaps', 1689: 'bounces', 277: '60s', 6076: 'ip', 12704: 'wreckage', 4056: 'enviable', 2196: 'chadwick', 1670: 'boseman', 10283: 'shopper', 11418: 'teliasonera', 11410: 'tele2', 304: '744', 2268: 'cheeky', 8354: 'peanuts', 1292: 'barrels', 3570: 'divestiture', 8379: 'penguin', 11080: 'subscriptions', 4649: 'flubbing', 4797: 'frieze', 5891: 'inducted', 11014: 'string', 2483: 'cnn', 5305: 'handful', 7852: 'notebook', 10274: 'shocker', 10516: 'smackdown', 11795: 'treichl', 3129: 'dashed', 1801: 'brittnee', 1987: 'camelle', 5158: 'greeted', 1649: 'boos', 7833: 'nope', 9366: 'reiterate', 5042: 'glum', 616: 'airlifted', 5939: 'injuring', 12797: 'zambia', 12154: 'vaginal', 8075: 'organs', 5818: 'implanted', 3655: 'dorman', 10599: 'socks', 8434: 'petco', 5086: 'gore', 7561: 'motiviation', 9539: 'resveratrol', 2631: 'compound', 5418: 'healthful', 11280: 'symptomless', 997: 'artists', 12676: 'worldly', 388: 'abroad', 6595: 'lbbw', 12345: 'vr', 5117: 'grading', 11861: 'truthiness', 5376: 'haters', 8406: 'performs', 11991: 'underwear', 4560: 'fishnets', 9435: 'renewed', 7025: 'manhattan', 3439: 'dim', 1270: 'barbra', 10997: 'streisand', 7434: 'mixes', 11834: 'trivial', 5851: 'inception', 5890: 'induce', 6905: 'lucid', 77: '1979', 12425: 'wasted', 12426: 'wasting', 2731: 'containing', 8980: 'ps4', 2815: 'cortana', 9974: 'scheming', 126: '21st', 439: 'acidic', 10046: 'seawater', 9129: 'rajan', 5252: 'gyllenhaal', 4106: 'escorts', 5645: 'hospitals', 8123: 'outpatients', 3483: 'disaster', 11404: 'teenagers', 9606: 'revolting', 5699: 'humiliating', 4042: 'enterprise', 11197: 'surprises', 6989: 'majors', 4163: 'everbright', 9130: 'rajaratnam', 4125: 'estranged', 4695: 'forcing', 3584: 'dlr', 5504: 'hi', 7144: 'max', 7549: 'mosley', 611: 'airbrush', 1682: 'bottled', 8649: 'pollutes', 11347: 'tapwater', 2990: 'cruelties', 4258: 'exploration', 7670: 'naming', 1456: 'beware', 9322: 'refrigerator', 12498: 'welch', 4655: 'fluttering', 1936: 'butterfly', 2029: 'cape', 3084: 'dai', 5745: 'ichi', 8950: 'protective', 9727: 'roles', 9184: 'rave', 49: '1500', 1822: 'brook', 9325: 'refunded', 7228: 'megawatts', 3519: 'disorderly', 2664: 'conduct', 9953: 'scan', 9608: 'revolutionise', 11392: 'technique', 3361: 'detailed', 3021: 'cultural', 3429: 'differences', 4373: 'farming', 5285: 'halley', 7422: 'misspell', 6766: 'lionel', 437: 'achievement', 522: 'adulthood', 552: 'affects', 8863: 'proceed', 8080: 'originally', 6881: 'lovers', 5437: 'heath', 6629: 'ledger', 5345: 'harington', 7081: 'marks', 7858: 'nov', 3679: 'downfall', 1449: 'bettany', 818: 'ankles', 4716: 'forming', 4447: 'fernandez', 11416: 'televised', 5049: 'gmt', 11409: 'telam', 9494: 'resetting', 3816: 'earning', 11368: 'taxing', 2245: 'charter', 3568: 'divested', 12126: 'us1m', 12270: 'vintage', 1731: 'brandon', 9091: 'quote', 11966: 'uncover', 11239: 'swears', 11840: 'trophy', 11759: 'translator', 6612: 'learn', 5187: 'grounding', 4485: 'fighters', 2908: 'crawford', 4993: 'gillies', 4105: 'escorted', 2760: 'convertible', 3596: 'document', 3400: 'dialogue', 10323: 'shrugs', 12168: 'valuing', 3815: 'earner', 4668: 'folks', 3189: 'decarbonization', 8312: 'pathways', 5924: 'ingenuity', 9362: 'reins', 9623: 'rica', 9489: 'reserve', 1394: 'beige', 11132: 'summary', 271: '5th', 8630: 'pokerstars', 9972: 'scheinberg', 741: 'amaya', 930: 'arabian', 594: 'agricultural', 2987: 'crucifixion', 12595: 'wind', 7372: 'mines', 6696: 'levies', 6078: 'ipads', 9154: 'ransom', 4289: 'extracting', 12746: 'yale', 4202: 'executes', 7498: 'monikered', 10467: 'slapout', 11122: 'suitable', 226: '467', 1518: 'births', 8965: 'proven', 4907: 'garrn', 5598: 'homeland', 9235: 'rebhorn', 284: '65', 9624: 'ricci', 7208: 'medic', 10344: 'sidesteps', 6434: 'knowledge', 12617: 'wipe', 10132: 'separation', 9890: 'samples', 3438: 'diller', 808: 'anguish', 4407: 'fax', 3059: 'cute', 3190: 'deceived', 5906: 'inferno', 5115: 'graceful', 4585: 'flare', 11594: 'tilting', 2454: 'clogging', 6022: 'interstate', 347: '95', 6908: 'ludicrous', 371: 'abduction', 10499: 'slouching', 10421: 'sitting', 8411: 'periods', 7560: 'motivated', 1532: 'bittersweet', 4826: 'fugitive', 121: '210m', 9819: 'rupiah', 4730: 'forwards', 513: 'adoption', 12075: 'untried', 7229: 'mehgan', 7162: 'mccain', 9879: 'sally', 8911: 'promising', 1076: 'attempted', 2639: 'conagra', 151: '284000', 11242: 'swedbank', 1552: 'blaze', 1357: 'beatrice', 5479: 'hen', 6129: 'jab', 4051: 'entrain', 6201: 'jetlag', 4718: 'formula', 12364: 'waits', 8390: 'peplum', 3575: 'divides', 2335: 'choreograph', 10170: 'settlements', 4479: 'fierce', 1340: 'beagle', 10036: 'searching', 3469: 'directors', 12810: 'zhang', 12736: 'xiaogang', 5072: 'gong', 1371: 'bedridden', 4880: 'gallagher', 7753: 'newest', 6807: 'lloyds', 4347: 'falter', 5767: 'ifr', 4705: 'forexwatch', 9338: 'regional', 1782: 'briefing', 978: 'arresting', 6225: 'jockeys', 8689: 'position', 9553: 'retort', 6664: 'leniency', 10408: 'sinéad', 2696: 'connor', 3294: 'dems', 3899: 'elaborate', 10139: 'sequined', 1087: 'attire', 3909: 'elegant', 560: 'aflutter', 4099: 'escalation', 1077: 'attempting', 11652: 'tonic', 8526: 'piquing', 11359: 'taste', 9028: 'purporting', 860: 'ants', 7593: 'mrsa', 2541: 'colony', 5950: 'insects', 2641: 'conan', 1784: 'brien', 9244: 'rebuild', 5103: 'govt', 3165: 'dealerships', 5162: 'grew', 6819: 'locations', 7032: 'manipulator', 7244: 'memoir', 5087: 'gorged', 2273: 'cheeseburgers', 9228: 'reavels', 5619: 'hooked', 2802: 'corpbank', 9463: 'reporting', 2531: 'collide', 1847: 'bubbles', 4861: 'fy', 11459: 'testament', 8602: 'plumb', 6821: 'lock', 10863: 'starting', 2419: 'cleanse', 9923: 'sasha', 10941: 'stocking', 11621: 'titles', 8539: 'pixie', 4283: 'extensions', 2022: 'canoodles', 9754: 'roses', 12762: 'yes', 8921: 'pronounce', 292: '69000', 8235: 'pans', 4682: 'fool', 8847: 'privately', 8786: 'prequel', 5155: 'greenlight', 2566: 'comedies', 4766: 'freaks', 4933: 'geeks', 10522: 'smallville', 5898: 'inevitable', 541: 'advisor', 7236: 'mellie', 5133: 'grant', 12070: 'unsung', 854: 'antihero', 12742: 'xu', 9542: 'retailers', 10514: 'sly', 4050: 'entourage', 9274: 'recording', 12476: 'weddings', 5450: 'hedging', 2657: 'condemn', 10137: 'sequels', 8938: 'prosecutors', 3440: 'diminish', 1247: 'bangs', 7462: 'modes', 4149: 'evacuated', 4145: 'eurotunnel', 12066: 'unshaken', 5728: 'hut', 2697: 'conquer', 4876: 'galactic', 4057: 'envied', 12709: 'wrinkly', 9399: 'relive', 3513: 'dismiss', 1443: 'bestseller', 2084: 'carries', 515: 'adorable', 7092: 'marseille', 8966: 'provence', 7296: 'metropole', 6627: 'lecture', 12222: 'vestas', 9798: 'rufo', 5350: 'harmless', 6602: 'leading', 4053: 'entrepreneur', 10220: 'sharing', 52: '156000', 9648: 'rigging', 2625: 'complicating', 2240: 'charlotte', 6019: 'interrupt', 10895: 'steamy', 9208: 'readies', 7079: 'marking', 12369: 'walgreens', 1777: 'bridesmaid', 4666: 'foiling', 4943: 'generate', 2327: 'chong', 12245: 'videos', 7792: 'nighyclub', 9813: 'runoff', 8839: 'prior', 4619: 'flipped', 11471: 'texts', 11237: 'swaths', 4374: 'farmland', 5758: 'idle', 3757: 'dry', 10900: 'steers', 5850: 'incentives', 9709: 'rocking', 11050: 'stumbles', 7969: 'often', 8997: 'publishing', 3030: 'cups', 5318: 'hangover', 1838: 'bruno', 1353: 'beasts', 11820: 'trilogy', 3018: 'cuddle', 1027: 'ass', 2781: 'copies', 4689: 'footsteps', 11693: 'tourism', 1665: 'boring', 11601: 'timeless', 4984: 'gift', 6834: 'lolo', 3581: 'divulges', 9373: 'rekindle', 5164: 'grid', 2804: 'corporation', 5244: 'gustin', 6494: 'lachlan', 2506: 'coeure', 2742: 'contours', 7194: 'meant', 12823: 'zoosk', 12458: 'wearable', 875: 'apartheid', 10212: 'shaquille', 7705: 'neal', 9017: 'punching', 2869: 'courtship', 10773: 'spotlights', 440: 'acidity', 4556: 'fisheries', 7564: 'motorcycle', 9639: 'riders', 11467: 'texan', 12560: 'whose', 4223: 'exotic', 10682: 'spacey', 2358: 'churchill', 8697: 'possibly', 157: '291', 10920: 'stg', 12777: 'youngest', 3061: 'cutouts', 7953: 'offensive', 7256: 'menopausal', 10382: 'simplify', 2842: 'counsels', 4157: 'evening', 5247: 'guys', 7179: 'mckenzie', 4272: 'exposure', 10409: 'siobhan', 5569: 'hogan', 11279: 'sympathises', 12158: 'valentino', 5024: 'gliese', 263: '581g', 7767: 'nic', 8542: 'pizzolatto', 8986: 'psychosphere', 5937: 'injures', 9115: 'ragweed', 2028: 'capacity', 8480: 'pics', 1663: 'borders', 2753: 'controllers', 4391: 'fatigue', 3009: 'cs', 12336: 'voronezh', 2858: 'couples', 3977: 'emperor', 8380: 'penguins', 7240: 'melting', 2993: 'crumbling', 3353: 'despie', 7471: 'moises', 958: 'arias', 660: 'aldean', 3622: 'domestication', 8443: 'pets', 2133: 'cautiously', 12618: 'wiped', 4032: 'enormous', 9108: 'radical', 8067: 'orenburg', 7845: 'northern', 6917: 'luminous', 5957: 'insights', 3362: 'detailing', 8484: 'piece', 7199: 'meat', 4047: 'enthusiasm', 2396: 'clampdown', 10588: 'soaring', 4459: 'fetches', 163: '2million', 4209: 'exhaust', 8699: 'postal', 1294: 'barrier', 8787: 'presaging', 11312: 'takeovers', 7830: 'nonprofits', 3598: 'documenting', 7249: 'memories', 7908: 'oates', 5962: 'inspection', 2503: 'code', 4872: 'gaining', 4811: 'fronts', 3985: 'empowerment', 11052: 'stung', 1374: 'bee', 8645: 'pollinators', 8675: 'portends', 12061: 'unrest', 3012: 'csuisse', 7126: 'materially', 12074: 'untoward', 9008: 'pullman', 2967: 'cronenberg', 7994: 'olympic', 1601: 'boarder', 12147: 'vacancy', 7378: 'miniseries', 8140: 'overcame', 10434: 'skepticism', 4041: 'entering', 10424: 'sixteen', 1967: 'cal', 11111: 'sugar', 6599: 'leader', 3702: 'dramatically', 11765: 'transportation', 11686: 'touchy', 4947: 'generous', 3844: 'ebersman', 10675: 'soyuz', 3592: 'docks', 10658: 'sounding', 5224: 'guitarist', 10980: 'strangers', 7026: 'mania', 12569: 'wider', 7548: 'moscow', 2868: 'courts', 1726: 'branches', 12290: 'vision', 9833: 'ryanair', 4608: 'flexi', 11809: 'trick', 9599: 'revision', 1701: 'boxes', 8512: 'pinocchio', 714: 'alps', 9004: 'pull', 11945: 'ukrlandfarming', 12546: 'whitewashing', 3722: 'drifting', 6510: 'lagging', 10081: 'seething', 9327: 'refusal', 7519: 'montgomery', 637: 'ala', 9667: 'risen', 9717: 'rodrigo', 9913: 'santoro', 11290: 'systemic', 916: 'appropriate', 10043: 'seated', 10953: 'stomp', 345: '93m', 3199: 'decisions', 3650: 'doors', 2892: 'cpi', 9673: 'risque', 5389: 'hawking', 1990: 'cameo', 6124: 'ivan', 9367: 'reitman', 4979: 'ghostbusters', 4846: 'fur', 797: 'angela', 1314: 'bassett', 12550: 'whitney', 2648: 'concerted', 7014: 'mammogram', 2614: 'competitive', 150: '283', 11574: 'ticketing', 11781: 'travoltaâ', 855: 'antioxidant', 6662: 'lengthen', 6903: 'lucasfilm', 9892: 'samuel', 889: 'appalled', 5218: 'guild', 184: '35s', 4045: 'entertainer', 1030: 'assaulting', 11206: 'surveys', 7888: 'nutrition', 6486: 'labels', 131: '230', 7182: 'mclarty', 4932: 'geek', 3350: 'designs', 4275: 'expressions', 7311: 'mich', 12065: 'unsettled', 2750: 'contributes', 11274: 'sydney', 8225: 'panama', 3413: 'dictator', 9414: 'remedy', 12765: 'yeti', 8632: 'polar', 2870: 'cousin', 5535: 'himalayan', 11761: 'transpacific', 4182: 'examine', 3470: 'directtv', 9310: 'reference', 4173: 'evolution', 3646: 'doodle', 3237: 'defensive', 11998: 'undone', 10549: 'smokes', 10911: 'stepping', 7714: 'needless', 7461: 'modernizes', 10568: 'sneakers', 6449: 'kozak', 4832: 'fumes', 5169: 'grinding', 9251: 'recapture', 6986: 'majesty', 10671: 'sow', 8957: 'protesting', 10277: 'shoes', 1410: 'belt', 5836: 'impresses', 438: 'achieves', 4489: 'figures', 4771: 'freebies', 9360: 'reigns', 10015: 'screenshots', 2187: 'cervone', 8733: 'pr', 7684: 'nascar', 2817: 'corvette', 5077: 'goodwill', 3069: 'cyclical', 1692: 'bourses', 11449: 'terrific', 11921: 'twisted', 10198: 'shakedown', 10180: 'severed', 830: 'announcements', 5119: 'graduates', 4533: 'finnish', 1820: 'bromance', 6954: 'macro', 3011: 'csi300', 768: 'amount', 9744: 'rooting', 10002: 'scout', 8016: 'opec', 7343: 'mighty', 10636: 'songza', 7437: 'mixtapes', 4011: 'energetically', 3083: 'daft', 5951: 'insensitive', 11624: 'tmnt', 12516: 'wg', 12383: 'walsh', 256: '554', 11258: 'swindle', 11637: 'tolerance', 5286: 'halmi', 10803: 'sr', 10025: 'se', 6033: 'intoxication', 3458: 'diplomat', 6288: 'junior', 4073: 'equalizer', 11517: 'thief', 6858: 'loot', 4334: 'faking', 2370: 'cinematic', 2013: 'candidly', 8799: 'presses', 219: '449', 5730: 'hybrid', 2027: 'capability', 11254: 'swiftâ', 10686: 'spangled', 1259: 'banner', 3615: 'dolly', 8286: 'parton', 8515: 'pint', 6421: 'knickerbocker', 5369: 'hasselhoff', 5079: 'goofs', 1783: 'briefly', 4403: 'favour', 10133: 'separatists', 11226: 'swan', 9346: 'regulating', 5858: 'include', 7765: 'nhtsa', 969: 'army', 312: '787s', 380: 'abort', 6529: 'landing', 11710: 'trace', 499: 'adkins', 12692: 'worthless', 9593: 'reviewed', 3308: 'dentist', 7899: 'nymphomaniac', 10940: 'stockholm', 10446: 'skinned', 3826: 'eased', 9517: 'responsibility', 12191: 'vegan', 10060: 'secure', 5208: 'guess', 622: 'airplanes', 2669: 'confident', 2793: 'corinna', 10543: 'smiling', 7284: 'messes', 1968: 'calculation', 1466: 'bg', 2122: 'cats', 5920: 'infrastructure', 4706: 'forgery', 6255: 'jose', 1429: 'bergantinos', 1511: 'biotechnology', 6202: 'jetliner', 3273: 'deliveries', 10517: 'smacked', 7017: 'managed', 2115: 'catastrophic', 6824: 'lockout', 7751: 'newborn', 11060: 'stutter', 10935: 'stir', 7584: 'movil', 12106: 'upscale', 2021: 'canon', 11890: 'turks', 1966: 'caicos', 6102: 'islands', 5201: 'guaranteed', 9895: 'sanctioned', 9760: 'rossiya', 8622: 'poignant', 8185: 'packaging', 959: 'ariel', 2107: 'castro', 674: 'aliens', 6253: 'jordana', 1770: 'brewster', 912: 'apprehensive', 7291: 'metalworkers', 28: '116', 1227: 'ballot', 5056: 'godard', 494: 'adieu', 1365: 'beckel', 10459: 'sl', 9395: 'relief', 4823: 'fueled', 10495: 'slipstream', 7710: 'necessary', 1978: 'calmer', 8914: 'promotes', 9580: 'reveller', 11766: 'transsexual', 1139: 'ava', 9842: 'sabrina', 9590: 'reverting', 9068: 'queensland', 3443: 'dims', 9305: 'reels', 5044: 'gluten', 8934: 'proposing', 2070: 'carmax', 10566: 'snc', 6574: 'lavalin', 6353: 'kentz', 10234: 'shelf', 12069: 'unstoppable', 7238: 'melt', 12058: 'unrecognisable', 9850: 'safecracker', 7303: 'meyers', 11008: 'strictest', 10624: 'solutions', 7243: 'memberships', 11627: 'toasted', 5207: 'gucci', 7956: 'offered', 8009: 'onset', 1680: 'botnets', 5973: 'install', 10794: 'spyware', 280: '63', 4867: 'gadget', 711: 'aloud', 4890: 'gaming', 7626: 'munn', 6633: 'leg', 8577: 'playlist', 7650: 'mutual', 1101: 'audio', 12143: 'utilities', 3267: 'deliberately', 4558: 'fishing', 3339: 'derriere', 40: '13th', 116: '2049', 4412: 'feared', 12109: 'upsetting', 1459: 'bey', 2055: 'caregiver', 4495: 'fillet', 5410: 'headquarters', 8763: 'prejudice', 9932: 'satya', 3390: 'devoted', 3318: 'departures', 4117: 'essence', 2588: 'commitment', 115: '2021', 206: '400million', 8670: 'population', 11204: 'surrounds', 11173: 'supportive', 4192: 'excessively', 11139: 'sums', 1444: 'bestselling', 10526: 'smartest', 6023: 'interval', 5032: 'globe', 2947: 'criminally', 324: '820', 285: '650', 8448: 'pg', 7928: 'obstruction', 7691: 'natgas', 8243: 'paperback', 1233: 'bambrough', 8777: 'preparations', 12796: 'zaki', 9841: 'sabotage', 9920: 'sardinia', 4662: 'focusing', 4317: 'fades', 3900: 'elaine', 11023: 'stritch', 9886: 'salty', 412: 'acceptance', 542: 'advocate', 5589: 'hologram', 6443: 'kopelman', 2630: 'composite', 848: 'antibacterial', 11813: 'triclosan', 2545: 'colorful', 5996: 'intensely', 3501: 'discussing', 4310: 'facility', 8666: 'poppy', 6066: 'invites', 2009: 'cancers', 11144: 'sunscreen', 6642: 'legislation', 90: '1q', 9447: 'repay', 8302: 'pastâ', 3283: 'demanding', 3885: 'efrons', 4059: 'environmental', 1537: 'björk', 7479: 'moma', 9737: 'ron', 12030: 'unique', 11554: 'thrives', 10525: 'smarter', 3658: 'doses', 853: 'antidepressants', 9416: 'remembered', 10750: 'splashes', 1861: 'bugs', 6406: 'kitchen', 5848: 'inadequate', 2823: 'cosmic', 6660: 'lends', 3761: 'dubbing', 6357: 'kermit', 8489: 'piggy', 1471: 'bicker', 6491: 'labs', 3898: 'el', 10213: 'sharara', 11829: 'tripoli', 4137: 'eurobank', 207: '401', 7570: 'mountain', 1954: 'cab', 697: 'allies', 1381: 'began', 1664: 'bored', 7145: 'maxim', 6360: 'kesha', 8071: 'organiser', 2941: 'cressida', 1634: 'bonas', 1276: 'bardot', 6523: 'lancia', 1248: 'banished', 9408: 'remake', 12367: 'wale', 5073: 'gonzalez', 4144: 'eurosceptic', 8941: 'prospectus', 4427: 'feds', 4570: 'fixation', 358: '9m', 12217: 'versatile', 10307: 'showman', 11544: 'threatening', 2709: 'conservatives', 6287: 'jungle', 1550: 'blasted', 1242: 'bandmates', 11058: 'stupid', 3961: 'emerged', 4030: 'enlightened', 8282: 'partnering', 11633: 'toilet', 5421: 'healthkit', 5108: 'gp', 6391: 'kimchi', 11857: 'truong', 2525: 'collapsing', 10670: 'soviet', 1869: 'built', 1870: 'buk', 8072: 'organism', 7161: 'mcauliffe', 12282: 'virginia', 7860: 'novatek', 3681: 'downing', 2241: 'charm', 4304: 'fabulousness', 8721: 'poverty', 10334: 'siberia', 2675: 'conflict', 239: '4p', 6791: 'litre', 8441: 'petrol', 8719: 'poured', 3289: 'democrat', 580: 'agenda', 3135: 'daties', 9222: 'rearview', 6154: 'jase', 3987: 'emptying', 4725: 'fortnight', 74: '1956', 11373: 'tca', 11283: 'syndicate', 9277: 'recounts', 11178: 'sur', 11972: 'underestimated', 8248: 'paradis', 12502: 'welfare', 8476: 'picket', 7716: 'neeson', 4526: 'finest', 9702: 'robret', 11095: 'such', 9937: 'sausages', 1194: 'bacon', 5146: 'greatly', 10272: 'shock', 257: '556', 9392: 'relegates', 7769: 'niche', 5404: 'headcount', 10251: 'shifted', 2932: 'credible', 12010: 'unfairly', 10798: 'squashes', 5227: 'gully', 7922: 'observed', 8056: 'orbiter', 10061: 'secured', 4920: 'gauges', 2651: 'concessions', 8440: 'petrochina', 8762: 'prehistoric', 8490: 'piggybacking', 3974: 'emotion', 9439: 'rent', 12644: 'wobbles', 12174: 'vanishing', 11230: 'swapped', 5435: 'heat', 2008: 'cancerous', 9427: 'removed', 2436: 'click', 1211: 'bait', 1238: 'banco', 12068: 'unstable', 8601: 'plugs', 7732: 'nerdrage', 4038: 'ensues', 11243: 'sweden', 8729: 'powerless', 4119: 'establishes', 1378: 'bees', 8299: 'password', 734: 'alyson', 5323: 'hannigan', 1554: 'bleakbuster', 1455: 'beverly', 1704: 'boycotted', 10219: 'sharia', 8373: 'penal', 396: 'abundant', 5122: 'grain', 12395: 'wanting', 9201: 'reacted', 8535: 'pittance', 4886: 'gamblers', 8143: 'overcoming', 104: '2010', 5801: 'immelt', 5095: 'gothic', 5622: 'hoped', 10763: 'spolier', 2954: 'cristina', 1155: 'avoiding', 584: 'aggregator', 5141: 'grazes', 12122: 'urging', 9524: 'restore', 9573: 'revamped', 9278: 'recoups', 10897: 'steep', 9253: 'recede', 10009: 'screaming', 5029: 'glitz', 5011: 'glam', 7063: 'marietta', 4116: 'essay', 5889: 'indonesia', 2931: 'credibility', 2682: 'confusion', 5773: 'ignitions', 12179: 'vans', 9030: 'purposes', 2617: 'complacent', 4175: 'evolves', 3158: 'deadmau', 3159: 'deadmau5', 1055: 'at1', 10325: 'shulgin', 2282: 'chemist', 3859: 'ecstasy', 4791: 'fried', 4948: 'genes', 8893: 'programmed', 5900: 'infants', 10702: 'speakers', 7814: 'nods', 8565: 'platell', 8245: 'parable', 6568: 'launched', 3097: 'dampened', 11081: 'subsequent', 7410: 'mishap', 11948: 'ultraviolence', 608: 'airbag', 2359: 'cialis', 11527: 'thirds', 6731: 'lifted', 2271: 'cheers', 6538: 'lanvin', 639: 'alaia', 5179: 'groomed', 1762: 'breasts', 6918: 'lumps', 4364: 'fantasy', 11124: 'suites', 4557: 'fishermen', 5189: 'groundwater', 672: 'alicia', 6350: 'kendrick', 10899: 'steering', 12531: 'wheels', 5031: 'globally', 8311: 'pathetic', 7933: 'occurred', 1961: 'cadillac', 10804: 'srx', 2976: 'crossover', 503: 'admirable', 12312: 'vmware', 8988: 'pttgc', 11472: 'tha', 4135: 'eu5', 1856: 'buffer', 2893: 'crackdown', 11077: 'subscriber', 8293: 'passed', 8738: 'praise', 6425: 'knightley', 2665: 'conducting', 140: '25000', 10279: 'shoo', 8429: 'pesky', 5949: 'insect', 7023: 'maneuvers', 6506: 'lafont', 4074: 'equation', 9640: 'ridership', 4103: 'escaping', 10343: 'sideshow', 4954: 'genie', 12305: 'vivid', 308: '777', 6044: 'invasion', 11225: 'svenska', 5304: 'handelsbanken', 10927: 'stigma', 9019: 'puppets', 2752: 'controlled', 10367: 'silencing', 12052: 'unnecessary', 8972: 'provincial', 7021: 'managing', 6773: 'liquidity', 3623: 'domhnall', 5490: 'heres', 942: 'archives', 7927: 'obstacles', 9221: 'rear', 5888: 'indo', 10764: 'sponsors', 8340: 'pboc', 8854: 'probaby', 8078: 'origin', 10437: 'sketching', 8278: 'partied', 2252: 'chateau', 7083: 'marmont', 1010: 'ashley', 5738: 'ian', 12811: 'ziering', 8418: 'permit', 8803: 'preston', 10144: 'seriously', 6706: 'liability', 11299: 'tackling', 6979: 'mainland', 12431: 'watches', 1629: 'bombings', 7335: 'midlife', 7996: 'omitted', 3918: 'eliminate', 11372: 'tb', 11515: 'thick', 409: 'accent', 3321: 'deposit', 6900: 'ltro', 5343: 'hardware', 2035: 'capitanich', 9156: 'rants', 2811: 'correctness', 12477: 'wedge', 9708: 'rockets', 8356: 'pediatricians', 9270: 'recommend', 442: 'acl', 4674: 'fomc', 7876: 'nullify', 2330: 'choosing', 10016: 'screwball', 5886: 'indie', 10689: 'spares', 3096: 'damp', 11668: 'topshop', 2814: 'corset', 5231: 'gundlach', 3554: 'ditch', 1321: 'batteries', 4432: 'feelings', 3989: 'emulating', 4129: 'ethan', 5388: 'hawke', 1707: 'boyhood', 8343: 'pcs', 459: 'active', 10184: 'sexiest', 6349: 'kendra', 12582: 'wilkinson', 5320: 'hank', 1312: 'baskett', 3014: 'cuba', 3952: 'embellished', 1844: 'bskyb', 5346: 'harlem', 4812: 'frostie', 5054: 'goat', 4804: 'frolicking', 9295: 'redoing', 4252: 'explode', 10314: 'shrapnel', 10957: 'stooges', 3754: 'drummer', 1009: 'asheton', 4783: 'frenemy', 11213: 'sushi', 12706: 'wrenn', 1008: 'ashes', 10496: 'slit', 8639: 'polish', 2487: 'co2', 7887: 'nutrients', 4018: 'engineer', 3045: 'currently', 10345: 'siding', 7820: 'nominates', 12759: 'yells', 10106: 'semi', 5290: 'halter', 9058: 'quantative', 4720: 'forthcoming', 1496: 'billowing', 748: 'ambitious', 5813: 'impeded', 12271: 'vinyl', 3150: 'dazeem', 6065: 'invited', 3109: 'danica', 7178: 'mckellar', 12606: 'wings', 12178: 'vanquishes', 5451: 'hedison', 4996: 'gimp', 9010: 'pulp', 4476: 'fiction', 7105: 'masked', 12822: 'zooey', 3341: 'deschanel', 12062: 'unrivaled', 3271: 'deliver', 4667: 'fold', 7131: 'matrix', 3050: 'curvaceous', 11838: 'troop', 6272: 'judging', 11696: 'tow', 9340: 'registration', 9511: 'respect', 11498: 'theodora', 5241: 'gus', 6304: 'kaftan', 14: '104', 11835: 'trl', 10337: 'sickens', 10706: 'spec', 11303: 'tacular', 8548: 'plain', 12020: 'unibail', 9713: 'rodamco', 1988: 'camelopardalid', 11245: 'sweeney', 4843: 'funnily', 84: '1997', 6888: 'lowe', 10: '100k', 10376: 'simi', 4127: 'eta', 925: 'aquarid', 12071: 'unsure', 366: 'abandoned', 12710: 'wrist', 198: '3m', 11971: 'undercuts', 5828: 'important', 1983: 'camaros', 6953: 'macquarie', 11445: 'terminals', 12196: 'vehicle', 2683: 'congenital', 3229: 'defects', 6011: 'interior', 7917: 'objectification', 9188: 'rayban', 1107: 'augusta', 9190: 'rba', 10917: 'stevens', 9039: 'pussy', 3182: 'debunks', 1751: 'breakers', 2293: 'chiara', 8246: 'parade', 234: '490000', 2193: 'cftc', 7364: 'mills', 317: '800', 9086: 'quite', 7429: 'mit', 11975: 'undergrad', 9462: 'reporter', 1029: 'assaulted', 8090: 'orthodox', 8824: 'priest', 1558: 'blesses', 5126: 'granddaughter', 1880: 'bullied', 10952: 'stomach', 8165: 'overtakes', 9231: 'rebased', 11875: 'tumor', 9082: 'quietly', 11162: 'supermoons', 10352: 'sights', 7384: 'minka', 9153: 'rannells', 6204: 'jetting', 549: 'affairs', 12783: 'youths', 5334: 'happyâ', 9555: 'retraction', 9485: 'researcher', 6106: 'isps', 8337: 'payroll', 3161: 'deadpool', 1146: 'averse', 10692: 'sparked', 12013: 'unflattering', 10488: 'slime', 514: 'adopts', 72: '1918', 11967: 'uncovered', 2333: 'choppy', 2112: 'catalysts', 9959: 'scarce', 12702: 'wreaks', 10179: 'severe', 5381: 'haunt', 4536: 'fireball', 2485: 'cnpc', 7214: 'medium', 1285: 'barnum', 1208: 'bailey', 1725: 'branch', 3714: 'dreiling', 12153: 'vado', 9753: 'rosenstein', 11937: 'ubben', 5251: 'gwynnie', 12281: 'virginal', 11900: 'tuxedo', 587: 'agnellis', 3926: 'elkann', 11747: 'transfers', 9036: 'pushed', 5319: 'hangzhou', 12543: 'whistleblower', 8249: 'paradise', 4417: 'feathery', 2494: 'coat', 8915: 'promoting', 3668: 'doubts', 3053: 'cushing', 1423: 'benham', 4617: 'flip', 2535: 'collisions', 2629: 'component', 399: 'abuser', 10828: 'stakes', 11264: 'swirls', 1094: 'aubrey', 8359: 'peeples', 5361: 'hartnett', 9799: 'rugged', 12352: 'wacky', 5306: 'handing', 935: 'arch', 4425: 'federalist', 10784: 'springsteen', 9678: 'rivalry', 3624: 'dominance', 7965: 'offs', 3798: 'dyes', 6047: 'inventories', 2730: 'contained', 505: 'admission', 3517: 'disneyland', 10252: 'shifting', 11301: 'tactics', 4277: 'extantâ', 8769: 'premieres', 4930: 'gearing', 1437: 'berryâ', 5591: 'holophone', 11127: 'sulking', 2854: 'counts', 7189: 'meals', 5636: 'horrify', 12231: 'viall', 2413: 'classless', 6446: 'koreans', 9045: 'pyongyang', 283: '64th', 4346: 'falsified', 11380: 'teaming', 11021: 'stripping', 7603: 'mud', 12707: 'wrestle', 530: 'adventurous', 6374: 'kicked', 11931: 'tyrant', 2434: 'cliches', 10988: 'straw', 6721: 'lies', 8472: 'picasso', 6866: 'loser', 12100: 'upheld', 353: '970m', 12658: 'wooden', 3796: 'dwts', 11666: 'topples', 11250: 'sweeteners', 5324: 'hanson', 7758: 'newsmaker', 7473: 'mold', 3563: 'diverging', 9406: 'remaining', 2827: 'costco', 10986: 'strategists', 8995: 'publishers', 1103: 'auditions', 5258: 'h1', 2426: 'clearing', 8425: 'person', 11282: 'synchrony', 7871: 'ntsb', 10207: 'shames', 886: 'apologizing', 2628: 'comply', 9714: 'rodents', 1622: 'bolder', 9016: 'punched', 3706: 'drawing', 86: '19th', 3543: 'distance', 4562: 'fitbit', 4455: 'fest', 11099: 'sucks', 5274: 'hail', 4131: 'ethical', 12677: 'worlds', 3024: 'cumia', 10412: 'siriusxm', 4734: 'foul', 7575: 'mouthed', 9100: 'racially', 578: 'ageless', 5872: 'indecent', 8776: 'preparation', 12464: 'weathermen', 10056: 'secretly', 7029: 'manipulating', 89: '1m', 7350: 'milestone', 3374: 'detours', 2081: 'carried', 6490: 'labour', 4271: 'exposition', 9193: 'rbs', 9996: 'scotland', 3923: 'elite', 5430: 'heartbreak', 1210: 'bailout', 2497: 'cobalts', 2068: 'carmaker', 9554: 'retract', 4375: 'farms', 1561: 'blight', 2852: 'countryside', 6788: 'lithuania', 511: 'adopt', 1372: 'bedside', 12202: 'vent', 10827: 'stakeholders', 4109: 'especially', 4147: 'eurozone', 12491: 'weighing', 7474: 'molded', 143: '255', 1383: 'begging', 2190: 'cfdas', 9659: 'riots', 4150: 'evacuates', 4222: 'exorcism', 5471: 'helm', 850: 'antibiotics', 3305: 'dent', 11317: 'talents', 8604: 'plumes', 10079: 'seeping', 10028: 'seafloor', 22: '110', 1755: 'breakingviews', 529: 'adventures', 10443: 'skimpy', 11915: 'twerking', 7139: 'mauled', 9095: 'raccoon', 9622: 'ribs', 6572: 'lauren', 6408: 'kitt', 11992: 'underwhelming', 3201: 'declare', 5396: 'hazanavicius', 3481: 'disappointing', 6798: 'liverail', 12124: 'urinating', 11367: 'taxes', 4817: 'ft', 5552: 'historic', 8475: 'picked', 4632: 'flop', 9024: 'pure', 8432: 'pesticide', 5654: 'hotmail', 9191: 'rbi', 3532: 'disrupt', 3601: 'dodge', 2849: 'counting', 12549: 'whitmore', 7360: 'millie', 6951: 'mackintosh', 10480: 'slew', 12581: 'wildlife', 12469: 'webcam', 11878: 'tunes', 4968: 'gervais', 2720: 'constantine', 8732: 'ppi', 6045: 'invasive', 5183: 'grotesque', 9361: 'reilly', 4356: 'fanatic', 3818: 'earns', 7116: 'mastermind', 3907: 'electronic', 6651: 'leila', 7180: 'mckinnon', 5256: 'gyngell', 7306: 'mh370s', 10812: 'stabilization', 11957: 'unborn', 7263: 'mercury', 1034: 'asserts', 4350: 'famer', 6640: 'legends', 6616: 'learnt', 4274: 'expresses', 9686: 'roads', 12527: 'wheel', 36: '129', 7736: 'nest', 9762: 'roth', 2800: 'corolla', 6697: 'levin', 5731: 'hybrids', 4388: 'fatherhood', 12415: 'warriors', 5298: 'hampshire', 2141: 'cboe', 3600: 'docuseries', 9468: 'reps', 5134: 'granted', 9529: 'restricted', 9136: 'ram', 2155: 'celebrex', 10389: 'sina', 9876: 'saliva', 6719: 'lie', 1989: 'camels', 12570: 'widespread', 1399: 'believed', 7022: 'maneuver', 8750: 'predators', 3512: 'dislocated', 11801: 'trespasser', 4438: 'felony', 6852: 'looming', 11069: 'subcribers', 10937: 'stitches', 1522: 'bishop', 3242: 'defied', 10317: 'shrine', 2577: 'commemorates', 2948: 'criminals', 3389: 'devon', 6764: 'linn', 11435: 'tentacles', 2495: 'coated', 9449: 'repellent', 11097: 'suckers', 10924: 'sticking', 8316: 'patricia', 9421: 'reminisce', 5588: 'holocaust', 9157: 'rap', 6375: 'kicking', 11176: 'suppressed', 7285: 'messina', 2259: 'cheat', 3406: 'dianna', 595: 'agron', 2653: 'concludes', 7076: 'marketplace', 8269: 'parkinson', 11027: 'strolled', 843: 'antarctica', 8960: 'protruding', 5680: 'hudson', 6735: 'lightning', 10538: 'smelter', 4915: 'gate', 9600: 'revisits', 3802: 'dystopia', 158: '295', 9865: 'sails', 10942: 'stockpile', 3705: 'draw', 3477: 'disagree', 12605: 'wingers', 5687: 'huggers', 747: 'ambition', 3628: 'domino', 2761: 'convicted', 156: '2900', 4062: 'envisions', 5140: 'gravitational', 6984: 'maintenance', 3614: 'dollars', 6298: 'justina', 8368: 'pelletier', 8907: 'prom', 80: '1983', 7936: 'och', 12812: 'ziff', 2350: 'chronic', 5910: 'inflammation', 4188: 'except', 3662: 'doting', 2902: 'cranston', 9080: 'quickquote', 1301: 'baruchel', 8386: 'pensions', 927: 'aqueduct', 10182: 'sewer', 10683: 'spader', 8423: 'persisting', 4628: 'flood', 9323: 'refugees', 2537: 'colon', 11876: 'tumors', 677: 'alito', 9289: 'recusal', 8520: 'pipe', 348: '954', 9332: 'regaining', 12604: 'winged', 12819: 'zombie', 9481: 'rescued', 401: 'abyss', 11562: 'thrusters', 8600: 'plugin', 9285: 'recreate', 723: 'altering', 5120: 'graft', 9275: 'recordings', 11321: 'tallest', 928: 'arab', 10678: 'spaceship', 12008: 'unexplained', 8162: 'overshadows', 732: 'alumni', 11909: 'tweetdeck', 1121: 'austrian', 11278: 'symbol', 5994: 'intended', 11513: 'thetweet', 5464: 'heisenberg', 3269: 'delighted', 10579: 'snowden', 12266: 'vindicate', 3633: 'donates', 7469: 'moguls', 1200: 'baffled', 7916: 'object', 11987: 'undervalued', 8591: 'pledged', 11224: 'svelte', 9661: 'ripe', 12770: 'yolo', 7557: 'motherf', 3774: 'dumped', 8603: 'plumbers', 6318: 'kart', 1067: 'attach', 11015: 'strings', 1255: 'bankrutpcy', 3194: 'deception', 1763: 'breatharian', 179: '33', 4451: 'fertile', 5734: 'hypertension', 8879: 'product', 1244: 'bangers', 1567: 'blocked', 11518: 'thieves', 9689: 'roars', 5232: 'gunn', 2772: 'coolest', 12496: 'weirdest', 3539: 'dissatisfied', 11354: 'tariffs', 9438: 'renounce', 4437: 'fellow', 9988: 'scientologist', 3807: 'eager', 6519: 'lampshade', 11793: 'treehouse', 4580: 'flagstone', 331: '860', 1108: 'aunt', 3171: 'dear', 2227: 'characterful', 1612: 'boding', 8589: 'pleased', 2472: 'clover', 10787: 'sprouts', 7056: 'margaery', 11932: 'tyrell', 9298: 'reduced', 12195: 'vehemently', 7082: 'marlboro', 5260: 'habit', 10111: 'sen', 1290: 'barrasso', 2770: 'cooking', 1569: 'blog', 2806: 'corps', 11882: 'turbine', 10450: 'skipped', 6352: 'kentuckians', 6480: 'kynect', 10425: 'sixth', 10523: 'smarphone', 43: '148', 12051: 'unnatural', 10977: 'strands', 2532: 'collided', 5382: 'haunting', 5025: 'glimpse', 1190: 'backseat', 3356: 'destiny', 3760: 'dubai', 9815: 'runway', 9318: 'reforming', 6308: 'kansas', 766: 'amoeba', 7293: 'meteoroids', 1628: 'bombard', 1261: 'baptism', 8014: 'oozes', 4959: 'geography', 5533: 'hilton', 7054: 'marcille', 3641: 'donnie', 186: '360', 9872: 'saldanha', 1837: 'brunettes', 12568: 'widens', 1626: 'bolt', 232: '489000', 3293: 'dempsey', 8136: 'ovarian', 6680: 'lessens', 4370: 'faris', 2579: 'commenced', 2076: 'carphone', 3582: 'dixons', 11131: 'sulzberger', 862: 'anxietty', 2569: 'cometo', 4708: 'forgets', 3175: 'debating', 532: 'advertisements', 966: 'armpit', 12579: 'wildcat', 7495: 'mongers', 5518: 'highly', 480: 'addictive', 6847: 'looked', 5186: 'grounded', 12226: 'vetoed', 8882: 'productivity', 2012: 'candidate', 1916: 'burwell', 2671: 'confirmation', 12018: 'unhappy', 8937: 'prosecution', 11951: 'unable', 2844: 'countdown', 8615: 'poaches', 7617: 'multinationals', 10532: 'smash', 7136: 'matters', 3457: 'diplomacy', 111: '2017', 8678: 'portion', 9150: 'rangers', 5367: 'hassan', 6087: 'iranians', 334: '883000', 10632: 'sonata', 2703: 'consecutive', 10038: 'seaside', 6451: 'kraft', 10062: 'secures', 6162: 'jazzman', 4130: 'ethereal', 6113: 'issuer', 70: '1900', 2147: 'cease', 8058: 'orbits', 12115: 'uranus', 2759: 'conversion', 11999: 'unduly', 6665: 'lenient', 10123: 'sentence', 8154: 'overheating', 6217: 'jitters', 254: '54', 6049: 'inversion', 10723: 'spelled', 12095: 'upfronts', 851: 'antibodies', 1655: 'booti', 4828: 'ful', 2124: 'catwalks', 10608: 'soho', 7508: 'monsanto', 2726: 'consuming', 1390: 'behaviors', 9294: 'rediscover', 1676: 'botched', 1307: 'basic', 427: 'accounting', 10979: 'stranger', 9304: 'reek', 8074: 'organizers', 6846: 'lookalikes', 9993: 'score', 4301: 'eyewear', 10656: 'soulmate', 4816: 'fry', 9419: 'reminder', 1047: 'asthma', 2056: 'cares', 3287: 'demise', 395: 'abu', 3393: 'dhabi', 10172: 'settling', 9750: 'roseanne', 1286: 'barr', 10068: 'seductive', 11137: 'summoning', 8828: 'primed', 12501: 'welcoming', 7954: 'offensively', 1419: 'benefiting', 9217: 'realized', 4215: 'exists', 7209: 'medicaid', 8182: 'pacemaker', 249: '50million', 10824: 'stains', 10535: 'smeared', 12379: 'walls', 12333: 'vomit', 3951: 'embarrassment', 8653: 'ponds', 1951: 'bypass', 2276: 'chefs', 3839: 'eatocracy', 4198: 'excluded', 11568: 'thwarted', 4458: 'fetal', 7644: 'mustache', 7566: 'motorhead', 9903: 'sands', 6943: 'macau', 6378: 'kid', 12256: 'viking', 1062: 'athletic', 10095: 'selection', 12338: 'vortex', 5562: 'hoards', 10238: 'shelton', 7834: 'nordea', 261: '573', 5270: 'haemorrhagic', 5907: 'infertility', 12027: 'unintentionally', 2966: 'croatian', 2183: 'cersei', 9116: 'raid', 7802: 'ninth', 5022: 'glencore', 12741: 'xstrata', 1232: 'bambas', 7173: 'mcdonagh', 1931: 'busts', 7875: 'nudity', 2415: 'clause', 1026: 'aspiring', 2736: 'contender', 4868: 'gadgets', 6822: 'locked', 3748: 'drowsy', 281: '63bn', 10839: 'stampede', 10374: 'silverman', 12181: 'vapour', 8372: 'pen', 10949: 'stole', 11691: 'toured', 3693: 'dragged', 2430: 'clearyâ', 7913: 'oberhelman', 4046: 'entertainment', 3524: 'dispatch', 10684: 'spaghetti', 1839: 'brush', 10392: 'sinead', 10229: 'sheds', 5917: 'info', 8212: 'palcohol', 9247: 'recalling', 12295: 'visitor', 5821: 'implementation', 10837: 'stamos', 9858: 'saget', 1114: 'aussies', 12302: 'vitiligo', 8659: 'poolside', 7729: 'neon', 9354: 'rehearsal', 11378: 'teachers', 10851: 'staples', 12497: 'weisz', 10925: 'sticks', 8869: 'procession', 1866: 'buildingdetroit', 8068: 'org', 5212: 'guffaws', 1736: 'brass', 6518: 'lamp', 5302: 'han', 6647: 'leia', 4539: 'firefight', 10224: 'shatters', 7266: 'merged', 3683: 'downplays', 10416: 'sit', 10714: 'spectrum', 9412: 'remasters', 9582: 'revenant', 3569: 'divesting', 9861: 'saic', 6299: 'jv', 12598: 'window', 7028: 'manipulated', 3976: 'emotions', 8814: 'previous', 4316: 'fade', 1036: 'assessment', 328: '84000', 9178: 'rattled', 1890: 'bund', 12571: 'widest', 3561: 'diverge', 906: 'appoint', 12559: 'whopping', 12453: 'wealthier', 3824: 'earths', 6545: 'larger', 9706: 'rockchip', 1662: 'borderline', 11774: 'traveler', 8141: 'overcapacity', 1457: 'bewildered', 5198: 'grumpy', 10083: 'segregating', 2881: 'covet', 10154: 'servicing', 3101: 'danaerys', 3498: 'discreet', 314: '79', 11152: 'superhero', 5509: 'hiddleston', 8523: 'pipes', 8527: 'pirate', 1749: 'breakdowns', 8008: 'onscreen', 2215: 'changer', 9543: 'retailing', 12388: 'wane', 1893: 'bunds', 10461: 'slain', 9619: 'rhinos', 6675: 'leopards', 1116: 'austin', 4859: 'fwends', 7138: 'mauboy', 2274: 'cheesy', 829: 'announcement', 3538: 'dissatisfaction', 11353: 'tariff', 9384: 'relaunch', 9281: 'recovered', 4848: 'furnish', 10441: 'skies', 10077: 'seems', 2248: 'chases', 7402: 'misdemeanor', 9698: 'robo', 5215: 'guided', 9105: 'radar', 10753: 'splitting', 6829: 'loggerhead', 5372: 'hatch', 12129: 'usc', 10271: 'shoah', 10546: 'smithsonian', 2074: 'caroline', 44: '14lb', 270: '5oz', 215: '42000', 3495: 'discovering', 10736: 'spiders', 12465: 'weave', 12470: 'webs', 1575: 'bloody', 7897: 'nye', 9292: 'reddit', 737: 'ama', 7931: 'obviously', 11364: 'taught', 3800: 'dylan', 4964: 'gerard', 8525: 'pique', 10048: 'sebastian', 2578: 'commemoration', 7413: 'mispronounces', 5456: 'heerdegen', 9720: 'rogan', 9589: 'reversing', 12485: 'weeps', 11752: 'transgender', 1699: 'bows', 8137: 'ovation', 3551: 'districts', 11631: 'toe', 3301: 'denim', 4594: 'flaunting', 5662: 'hourglass', 6915: 'lululemon', 9688: 'roaring', 681: 'allegation', 11253: 'swiftly', 88: '1d', 6816: 'locals', 1180: 'bach', 7745: 'neutral', 10012: 'screened', 9783: 'royals', 10544: 'smit', 7185: 'mcphee', 10489: 'slimed', 10237: 'shelter', 731: 'aluminum', 10539: 'smelting', 8881: 'productive', 8270: 'parliament', 1452: 'betting', 11595: 'tilts', 202: '400', 1506: 'biographer', 650: 'albert', 10781: 'spree', 3874: 'eerily', 430: 'accurate', 8754: 'prediction', 11865: 'tsb', 10322: 'shrugging', 6843: 'longterm', 2766: 'convinced', 729: 'altruistic', 11032: 'strongly', 3340: 'descend', 8358: 'peeks', 1772: 'bribery', 1334: 'bcp', 2032: 'capitalism', 5566: 'hobbit', 964: 'armies', 982: 'arrived', 5234: 'gunning', 2704: 'consensual', 844: 'anthem', 3245: 'definitely', 4641: 'flowing', 6500: 'ladee', 9177: 'rats', 8158: 'overnight', 5216: 'guideline', 9990: 'sclerosis', 6923: 'lunden', 3337: 'derek', 453: 'acroyoga', 2348: 'chrome', 11757: 'translates', 12711: 'wristband', 6422: 'knife', 3504: 'disgraced', 9796: 'rudimental', 9869: 'salads', 3889: 'eggs', 8349: 'peach', 2699: 'conquest', 5501: 'hey', 4096: 'escalate', 1185: 'backfoot', 1625: 'bolsters', 1799: 'britons', 8748: 'preacher', 9380: 'relationships', 9110: 'radnor', 3163: 'dealer', 7421: 'missouri', 7930: 'obvious', 4781: 'freight', 1648: 'boon', 12729: 'wwdc', 11741: 'tranquility', 9450: 'repels', 11720: 'traded', 9084: 'quirky', 2799: 'cornetto', 7673: 'nanotech', 6800: 'livestock', 2989: 'crudes', 10403: 'singular', 11615: 'tireless', 3233: 'defender', 2106: 'castoffs', 7867: 'noël', 7352: 'milhiser', 4120: 'establishment', 8764: 'preliminary', 9625: 'rice', 4003: 'ended', 8969: 'provider', 8956: 'protesters', 10876: 'statoil', 943: 'arctic', 4161: 'eventually', 8855: 'probation', 39: '131', 122: '212', 12085: 'unwind', 4166: 'everybody', 1588: 'bluebay', 1541: 'blackrock', 4318: 'fading', 11598: 'timberlake', 5043: 'glut', 5297: 'hampers', 10637: 'sonic', 5449: 'hedgehog', 10388: 'simulator', 4838: 'funded', 10044: 'seats', 7576: 'mouths', 10593: 'sobs', 4763: 'fratricidal', 383: 'aborts', 6275: 'jukes', 2362: 'cig', 9867: 'sajak', 2435: 'cliché', 3220: 'deeply', 5052: 'goal', 897: 'appearing', 11503: 'therapist', 7134: 'mattel', 9180: 'rattlesnake', 7011: 'malware', 979: 'arrests', 12165: 'valueact', 8180: 'paccar', 12213: 'vermont', 5175: 'grocer', 5048: 'gmo', 225: '463', 5097: 'gotten', 6160: 'jaywalkers', 5314: 'handwritten', 59: '16m', 11671: 'torrent', 11236: 'swathe', 3533: 'disrupted', 5160: 'greg', 7038: 'manslaughter', 9951: 'sberbank', 10821: 'stagnating', 325: '824000', 6787: 'lithium', 4138: 'eurobond', 4206: 'exemption', 8759: 'prefers', 8414: 'perk', 3052: 'curvy', 8089: 'orthodontist', 10564: 'snarls', 10555: 'snaggle', 6215: 'jim', 6671: 'leo', 6854: 'loose', 12285: 'virtu', 10838: 'stamp', 6966: 'magenta', 12054: 'unofficially', 2679: 'confronted', 4952: 'geneva', 3917: 'eligible', 7492: 'monet', 5691: 'huguette', 2403: 'clark', 137: '24million', 3672: 'doves', 1745: 'breaching', 2098: 'casino', 10939: 'stockholder', 1927: 'busted', 551: 'affected', 3860: 'ecstatic', 322: '81', 183: '354', 2981: 'crowdfunding', 662: 'alernative', 6083: 'ipod', 9646: 'rifles', 8492: 'pile', 2949: 'crimps', 296: '6th', 4450: 'ferreraâ', 166: '2â', 11240: 'sweat', 6973: 'mahbod', 7467: 'moghadam', 825: 'annotations', 9611: 'rewarding', 668: 'alexis', 10211: 'shapiro', 10868: 'starving', 5663: 'hourly', 1240: 'bandits', 9719: 'rodriquez', 3895: 'eighties', 10648: 'soriot', 5987: 'insurgent', 1346: 'bearded', 962: 'arkham', 3946: 'embark', 8946: 'protected', 2479: 'clutches', 2066: 'carly', 9111: 'rae', 6185: 'jepsen', 5775: 'ignored', 4621: 'flips', 10146: 'sermon', 10727: 'spender', 9213: 'realised', 5544: 'hipsters', 1388: 'behaved', 8178: 'pa', 12596: 'windfall', 4541: 'firepower', 12053: 'unofficial', 12589: 'wilmer', 12156: 'valderrama', 12257: 'vile', 2408: 'classed', 12038: 'unity', 6256: 'joseph', 730: 'altuzarra', 5237: 'guo', 12738: 'xing', 3066: 'cyberattack', 375: 'aberdeen', 2175: 'centercredit', 1058: 'atf', 5351: 'harmon', 6785: 'lists', 12321: 'void', 7554: 'mosul', 7435: 'mixing', 12314: 'vodka', 12330: 'volumes', 6084: 'ipos', 794: 'aneka', 5893: 'industri', 5760: 'idn', 11783: 'treads', 11309: 'takedown', 11665: 'topping', 4607: 'flew', 318: '800000', 7947: 'odyssey', 7382: 'minivans', 2994: 'crumbnuts', 11302: 'tactile', 1319: 'batmobile', 11388: 'teasing', 4883: 'gallup', 11782: 'tread', 5426: 'hearings', 4575: 'flag', 6395: 'kindle', 12049: 'unlimited', 1729: 'brandeis', 2580: 'commencement', 7085: 'marred', 6591: 'laying', 2467: 'clotting', 10571: 'sniffing', 10577: 'snouts', 429: 'accuracy', 8139: 'overage', 4644: 'flowy', 6364: 'keyhole', 8545: 'placement', 11619: 'titanosaur', 1033: 'assemply', 159: '29k', 2658: 'condemned', 5484: 'heralded', 9944: 'savior', 4292: 'extraordinarily', 1952: 'bypassing', 7999: 'omv', 8228: 'panda', 4333: 'fakes', 8223: 'pampering', 11128: 'sullivan', 5109: 'gpif', 1105: 'augurs', 5149: 'greedy', 2142: 'cbrc', 12373: 'walkout', 1855: 'budweiser', 10550: 'smokestacks', 1691: 'bounty', 2816: 'corvair', 1203: 'baggage', 3627: 'dominating', 12272: 'violate', 3049: 'curtailing', 12519: 'whale', 9915: 'sapphire', 5729: 'hutcherson', 3225: 'defeated', 8923: 'propaganda', 1560: 'blige', 739: 'amamiya', 8959: 'prototype', 4798: 'frightful', 1393: 'behold', 11076: 'subpoenas', 2521: 'collaborative', 6210: 'jfk', 3215: 'dedication', 6325: 'katheryn', 3329: 'deprill', 9567: 'reunited', 1857: 'buffet', 3249: 'defy', 5823: 'implied', 872: 'apac', 2145: 'cctv', 3115: 'danske', 2119: 'category', 1215: 'bakken', 9159: 'raped', 11805: 'triangle', 12188: 'vectors', 6363: 'keyboard', 559: 'aficionados', 980: 'arrival', 10034: 'searchers', 11066: 'stymie', 9500: 'resign', 9747: 'rory', 10021: 'scripts', 5978: 'instead', 598: 'ahna', 9356: 'rehearsing', 12751: 'yawn', 12359: 'waist', 12540: 'whirlwind', 8695: 'possibility', 6609: 'leans', 2906: 'crashing', 6718: 'lid', 10244: 'sherman', 8146: 'overdosing', 9072: 'questionable', 12591: 'wilmore', 1489: 'billboards', 4648: 'flub', 12678: 'worldsmosttalkedabout', 11771: 'traumatic', 99: '2005', 7635: 'muscular', 3803: 'dystrophy', 11482: 'thawing', 125: '219', 209: '40million', 12389: 'wanes', 3355: 'destination', 7556: 'mothercare', 3850: 'echo', 11394: 'techno', 4126: 'et', 3365: 'detained', 10789: 'spurns', 11675: 'toss', 4006: 'endocyte', 10308: 'shown', 3282: 'demanded', 8871: 'proclamation', 3204: 'declaring', 4603: 'flees', 7648: 'mute', 11911: 'tweeters', 11990: 'underway', 7803: 'nipple', 5871: 'incredibly', 10606: 'softer', 5395: 'hayward', 87: '1bn', 2878: 'covergirl', 10696: 'sparkly', 11188: 'surgeons', 10455: 'skull', 11086: 'substance', 1470: 'biblically', 5184: 'grotty', 11064: 'styling', 313: '78b', 4611: 'fliers', 6485: 'labeling', 8256: 'parasite', 8563: 'plastered', 9242: 'rebuff', 3490: 'discount', 8129: 'outsell', 9701: 'robots', 8159: 'overs', 9958: 'scans', 6998: 'malaria', 279: '620000', 6941: 'mab', 10990: 'streaker', 11297: 'tackled', 3521: 'disowned', 3124: 'darkest', 11995: 'underwriting', 10844: 'standards', 3371: 'deteriorate', 11220: 'sustainable', 6261: 'journalist', 11262: 'swiped', 5039: 'glowers', 11484: 'theaten', 11295: 'tabloid', 12511: 'wesson', 10699: 'spdr', 11854: 'truly', 3914: 'eleven', 5790: 'illustrates', 305: '74500', 3934: 'elope', 12274: 'violates', 1500: 'bing', 4672: 'follows', 7175: 'mcenroe', 6224: 'jockey', 274: '600000', 9014: 'pumpkin', 1505: 'biogen', 5753: 'idec', 5477: 'hemophilia', 713: 'alprolix', 9851: 'safer', 5112: 'grabbing', 3819: 'earring', 2061: 'cargoes', 8153: 'overheat', 2101: 'cassidy', 12488: 'weidmann', 6008: 'interfered', 6956: 'macy', 12400: 'warehouse', 9131: 'rakes', 4813: 'frosty', 3396: 'diageo', 10823: 'stainless', 11848: 'truck', 2573: 'comfy', 4253: 'exploded', 4268: 'expose', 8962: 'proudly', 4244: 'experiments', 1899: 'buoys', 750: 'amc', 10019: 'scripps', 3000: 'crushing', 1168: 'awe', 10712: 'spectacular', 12353: 'wades', 3520: 'disorders', 6208: 'jewelry', 12663: 'woos', 6688: 'letters', 9457: 'replicate', 6805: 'lka', 1134: 'autonomous', 9831: 'rwe', 2373: 'circling', 2656: 'concussions', 11715: 'trackers', 1652: 'boosting', 10951: 'stoll', 7055: 'marcus', 1974: 'callender', 7894: 'nwa', 840: 'answers', 9321: 'refreshed', 3033: 'curator', 12172: 'vandalism', 2149: 'ceilings', 5831: 'impossible', 3916: 'eligibility', 10590: 'sober', 5041: 'glugs', 5807: 'immunity', 9330: 'refusing', 5441: 'heatstick', 3919: 'eliminated', 4906: 'garnering', 8088: 'ortho', 4958: 'gentlemen', 12059: 'unreleased', 10187: 'sexuality', 5006: 'givenchy', 1129: 'automaker', 11113: 'sugary', 10948: 'stoking', 7977: 'okays', 9341: 'regret', 9764: 'rough', 10203: 'shakurâ', 12827: 'œf', 12785: 'youâ', 2777: 'cop', 5909: 'infiniti', 3411: 'dichotomies', 8203: 'paintings', 1853: 'buddy', 5015: 'glasgow', 9488: 'resentment', 2729: 'contain', 10466: 'slap', 11164: 'supervisory', 858: 'antonio', 9840: 'saba', 2848: 'countersues', 4577: 'flagging', 826: 'annouces', 8629: 'poke', 11478: 'thankfully', 3292: 'demonstrations', 10563: 'snarl', 1434: 'berlin', 3577: 'division', 11811: 'tricks', 3661: 'dotes', 3935: 'elr', 8731: 'ppg', 2570: 'comex', 5159: 'greets', 9653: 'riles', 1654: 'booth', 3871: 'editing', 5390: 'hawkins', 6278: 'julianna', 7059: 'marguiles', 9432: 'renegotiated', 2237: 'charles', 9795: 'rudderless', 4670: 'followed', 6498: 'lacks', 6724: 'lifeline', 3041: 'curly', 1914: 'burtka', 11902: 'tuxes', 54: '15m', 98: '2004', 10485: 'sliding', 5457: 'hefty', 2706: 'consequence', 2890: 'coyne', 10397: 'singerâ', 1730: 'branding', 7459: 'moderately', 4862: 'fy15', 2501: 'cochran', 8703: 'posthumously', 6950: 'mackie', 10965: 'stork', 4000: 'endangered', 11115: 'suggested', 12322: 'voids', 4829: 'fulfils', 6725: 'lifelong', 4067: 'epicenter', 12309: 'vlasic', 1474: 'bidding', 7213: 'medicines', 7939: 'octomom', 10882: 'stayed', 2043: 'captures', 1271: 'barcelona', 3254: 'dejected', 1932: 'busty', 12387: 'wanders', 6329: 'katt', 5121: 'grail', 9401: 'relocation', 9: '100000', 9676: 'ritch', 7423: 'misspells', 2565: 'comedienne', 2972: 'croque', 7509: 'monsieur', 2209: 'chancellor', 1598: 'bnsf', 5502: 'hft', 8144: 'overdone', 1296: 'barron', 3288: 'democracy', 4164: 'everest', 1141: 'avalanche', 5961: 'inspected', 8506: 'pinewood', 134: '24000', 2319: 'chocolatier', 3814: 'earned', 196: '3billion', 11486: 'theaters', 4086: 'erian', 4058: 'envious', 3991: 'enacts', 9092: 'qvc', 10765: 'spoof', 1910: 'burn', 12170: 'vamp', 7798: 'nina', 3589: 'dobrev', 9781: 'roy', 952: 'argued', 11578: 'tide', 11087: 'suburb', 4616: 'flinging', 10985: 'strategies', 5257: 'gyno', 1867: 'buildings', 8197: 'pages', 346: '93mph', 2864: 'courthouse', 7731: 'nephews', 10976: 'stranded', 712: 'alpha', 23: '1100', 11569: 'ti', 7949: 'oedc', 10176: 'seventies', 11033: 'strongman', 3092: 'damaged', 12382: 'walmartization', 2915: 'creat', 8944: 'prostitutes', 4824: 'fuelled', 8076: 'orgies', 6855: 'loosely', 6166: 'jeanius', 2637: 'comrie', 11841: 'tropical', 12696: 'wounded', 11275: 'sydow', 6197: 'jester', 142: '254', 4765: 'fraudsters', 11154: 'superior', 6753: 'lindsey', 12335: 'vonn', 3921: 'elin', 7835: 'nordegren', 5380: 'hatred', 8004: 'onesie', 12748: 'yang', 6931: 'luxottica', 10228: 'shed', 132: '23435', 2692: 'connects', 10537: 'smells', 2748: 'contradiction', 8157: 'overlooked', 3965: 'emil', 5209: 'guessing', 9044: 'puzzle', 6168: 'jeddah', 3506: 'disgusted', 9570: 'reused', 10236: 'shells', 6424: 'knighthood', 10188: 'sexually', 5335: 'harassing', 10718: 'speeding', 7206: 'mediator', 7409: 'mishandled', 3542: 'disses', 9420: 'reminds', 7680: 'narrowed', 11453: 'terrorist', 6430: 'knotted', 5211: 'guests', 9122: 'rain', 2985: 'crowns', 8404: 'performers', 4112: 'espresso', 1769: 'brewing', 7815: 'noise', 7368: 'mind', 1415: 'bending', 9982: 'sci', 4467: 'fi', 5697: 'humble', 10404: 'sinister', 10226: 'shaves', 6214: 'jillian', 2596: 'communicated', 11565: 'thunderbolt', 10091: 'seizing', 8236: 'pant', 11612: 'tirade', 4609: 'flexibility', 5733: 'hypersonic', 12455: 'weapon', 3358: 'destroyed', 716: 'alright', 1928: 'buster', 8428: 'perth', 7589: 'mp', 12023: 'unifying', 10616: 'solicited', 7515: 'montebourg', 8268: 'parker', 10843: 'standard', 8369: 'pelted', 1735: 'bras', 11871: 'tulsa', 8361: 'peer', 6528: 'landfills', 8206: 'paired', 11276: 'syfy', 10820: 'stagnates', 9847: 'sacred', 6699: 'levitt', 11489: 'theftie', 2088: 'cart', 7113: 'mastectomy', 12128: 'usb', 4836: 'fundamental', 8546: 'placenta', 3564: 'diverse', 4769: 'freddy', 12056: 'unprofessional', 12002: 'unemployed', 2323: 'choir', 12177: 'vanquish', 12112: 'upstart', 1330: 'baz', 1234: 'bamigboye', 12771: 'yong', 6927: 'lupta', 1329: 'bayernlb', 7444: 'mobbed', 20: '10th', 12284: 'virgins', 1559: 'blessing', 3940: 'eluded', 6501: 'laden', 8330: 'paycheck', 12155: 'vaio', 8537: 'pivot', 1621: 'bold', 7071: 'maritime', 7443: 'mob', 4115: 'esquire', 10052: 'secondmarket', 8237: 'pantera', 8106: 'outbid', 9138: 'ramming', 1722: 'brainard', 8723: 'powell', 5322: 'hannah', 3910: 'element', 29: '117', 8410: 'periodic', 1411: 'belts', 4892: 'gangsta', 11151: 'supercharged', 4337: 'falconer', 4837: 'fundamentally', 7027: 'manic', 8039: 'opposites', 1090: 'attract', 9160: 'rapid', 1831: 'browser', 11059: 'sturdy', 6079: 'ipcc', 8794: 'presents', 5660: 'houndstooth', 11818: 'trilby', 2412: 'classist', 9478: 'rerun', 12404: 'warmer', 9995: 'scorn', 2023: 'canoodling', 9268: 'recognizes', 11941: 'uc', 7676: 'napolitano', 6768: 'lionsgate', 4357: 'fancy', 11123: 'suitably', 1956: 'cabbies', 1485: 'bild', 8996: 'publishes', 9621: 'rhythm', 10470: 'slash', 6980: 'mainly', 9789: 'rs', 213: '41', 2973: 'crore', 6825: 'locks', 3417: 'didnâ', 2161: 'celine', 3453: 'dion', 1317: 'bathroom', 9878: 'sallie', 10910: 'stepped', 12077: 'ununseptium', 8528: 'pirated', 2255: 'chatting', 245: '50000', 2399: 'clarence', 3545: 'distinction', 10832: 'stalks', 8066: 'oregon', 10298: 'shovel', 7338: 'midseason', 3114: 'danny', 7302: 'meyer', 857: 'antivirus', 5089: 'gorilla', 1962: 'caesarean', 2042: 'captured', 1553: 'bleached', 6661: 'length', 11776: 'traveling', 9730: 'roller', 2493: 'coaster', 2597: 'communication', 3401: 'dialysis', 3211: 'decreases', 8998: 'pucker', 5927: 'inhabit', 6454: 'krayinvestbank', 12229: 'viability', 11591: 'tightwad', 4589: 'flashy', 6105: 'isolated', 3485: 'discharge', 8435: 'pete', 11650: 'tong', 8112: 'outdoes', 7466: 'modified', 3654: 'dorkify', 12732: 'wyman', 1885: 'bullying', 12254: 'vigorously', 1316: 'bates', 2053: 'carefree', 6563: 'laugh', 1310: 'basketball', 2794: 'corinthian', 3040: 'curis', 12325: 'volcanic', 4093: 'eruption', 11360: 'tasty', 6020: 'interrupted', 8955: 'protester', 2700: 'conscience', 8809: 'preventing', 1768: 'brett', 3540: 'dissenters', 11126: 'sulfate', 3240: 'defibrillators', 9088: 'quitting', 10232: 'sheeran', 6004: 'intercontinental', 10885: 'std', 12223: 'vet', 6558: 'latin', 3911: 'elementary', 11804: 'trian', 8606: 'plummets', 10745: 'spine', 1093: 'atv', 12176: 'vanke', 9430: 'remy', 2509: 'cointreau', 7339: 'midsize', 11614: 'tired', 5935: 'injections', 3690: 'dracula', 12829: 'Businessweek', 12830: 'Contactmusic.com', 12831: 'Daily Mail', 12832: 'Huffington Post', 12833: 'Reuters'}\n"
     ]
    }
   ],
   "source": [
    "inverse_dict = {}\n",
    "\n",
    "for key, value in tfidf_vectorizer.vocabulary_.items():\n",
    "    inverse_dict[value] = key\n",
    "\n",
    "for i, value in enumerate(publisher_vectorizer.categories_[0]):\n",
    "    inverse_dict[i + len(tfidf_vectorizer.vocabulary_.keys())] = value\n",
    "print(inverse_dict)"
   ]
  },
  {
   "cell_type": "code",
   "execution_count": 27,
   "metadata": {
    "scrolled": true
   },
   "outputs": [
    {
     "name": "stdout",
     "output_type": "stream",
     "text": [
      "カテゴリb\n",
      "avoids\n",
      "bank\n",
      "china\n",
      "fed\n",
      "obamacare\n",
      "ebola\n",
      "ukraine\n",
      "stocks\n",
      "ecb\n",
      "Contactmusic.com\n",
      "カテゴリe\n",
      "snaps\n",
      "kardashian\n",
      "Contactmusic.com\n",
      "google\n",
      "her\n",
      "she\n",
      "film\n",
      "kim\n",
      "star\n",
      "show\n",
      "カテゴリm\n",
      "narrowed\n",
      "ebola\n",
      "study\n",
      "cancer\n",
      "fda\n",
      "drug\n",
      "mers\n",
      "health\n",
      "cigarettes\n",
      "cases\n",
      "カテゴリt\n",
      "narrowed\n",
      "google\n",
      "facebook\n",
      "apple\n",
      "microsoft\n",
      "climate\n",
      "tesla\n",
      "gm\n",
      "comcast\n",
      "fcc\n"
     ]
    }
   ],
   "source": [
    "for c in range(4):\n",
    "    temp_coef = abs_coef[c, :]\n",
    "    print(f\"カテゴリ{category_encoder.classes_[c]}\")\n",
    "    for i in range(10):\n",
    "        idx = np.where(temp_coef==np.sort(temp_coef)[-i])\n",
    "        print(inverse_dict[idx[0][0]])"
   ]
  },
  {
   "cell_type": "markdown",
   "metadata": {},
   "source": [
    "## 58. 正則化パラメータの変更\n",
    "ロジスティック回帰モデルを学習するとき，正則化パラメータを調整することで，学習時の過学習（overfitting）の度合いを制御できる．異なる正則化パラメータでロジスティック回帰モデルを学習し，学習データ，検証データ，および評価データ上の正解率を求めよ．実験の結果は，正則化パラメータを横軸，正解率を縦軸としたグラフにまとめよ．"
   ]
  },
  {
   "cell_type": "code",
   "execution_count": 28,
   "metadata": {},
   "outputs": [
    {
     "name": "stderr",
     "output_type": "stream",
     "text": [
      "C:\\Users\\kiyohiro\\anaconda3\\envs\\pytorch\\lib\\site-packages\\sklearn\\linear_model\\_logistic.py:762: ConvergenceWarning: lbfgs failed to converge (status=1):\n",
      "STOP: TOTAL NO. of ITERATIONS REACHED LIMIT.\n",
      "\n",
      "Increase the number of iterations (max_iter) or scale the data as shown in:\n",
      "    https://scikit-learn.org/stable/modules/preprocessing.html\n",
      "Please also refer to the documentation for alternative solver options:\n",
      "    https://scikit-learn.org/stable/modules/linear_model.html#logistic-regression\n",
      "  n_iter_i = _check_optimize_result(\n",
      "C:\\Users\\kiyohiro\\anaconda3\\envs\\pytorch\\lib\\site-packages\\sklearn\\linear_model\\_logistic.py:762: ConvergenceWarning: lbfgs failed to converge (status=1):\n",
      "STOP: TOTAL NO. of ITERATIONS REACHED LIMIT.\n",
      "\n",
      "Increase the number of iterations (max_iter) or scale the data as shown in:\n",
      "    https://scikit-learn.org/stable/modules/preprocessing.html\n",
      "Please also refer to the documentation for alternative solver options:\n",
      "    https://scikit-learn.org/stable/modules/linear_model.html#logistic-regression\n",
      "  n_iter_i = _check_optimize_result(\n",
      "C:\\Users\\kiyohiro\\anaconda3\\envs\\pytorch\\lib\\site-packages\\sklearn\\linear_model\\_logistic.py:762: ConvergenceWarning: lbfgs failed to converge (status=1):\n",
      "STOP: TOTAL NO. of ITERATIONS REACHED LIMIT.\n",
      "\n",
      "Increase the number of iterations (max_iter) or scale the data as shown in:\n",
      "    https://scikit-learn.org/stable/modules/preprocessing.html\n",
      "Please also refer to the documentation for alternative solver options:\n",
      "    https://scikit-learn.org/stable/modules/linear_model.html#logistic-regression\n",
      "  n_iter_i = _check_optimize_result(\n"
     ]
    },
    {
     "data": {
      "image/png": "[encoded data removed]",
      "text/plain": [
       "<Figure size 432x288 with 1 Axes>"
      ]
     },
     "metadata": {
      "needs_background": "light"
     },
     "output_type": "display_data"
    }
   ],
   "source": [
    "C_list = [0.01, 0.1, 1, 10, 100]\n",
    "\n",
    "train_acc_list = []\n",
    "valid_acc_list = []\n",
    "test_acc_list = []\n",
    "\n",
    "for c in C_list:\n",
    "    model = LogisticRegression(C=c)\n",
    "    X_train = train_table[:, :-1]\n",
    "    y_train = train_table[:, -1]\n",
    "    model.fit(X_train, y_train)\n",
    "    \n",
    "    train_pred = predict_df(model, tfidf_vectorizer, publisher_vectorizer, train_df).astype(np.int32)\n",
    "    train_gt = category_encoder.fit_transform(train_df[\"category\"])\n",
    "    valid_pred = predict_df(model, tfidf_vectorizer, publisher_vectorizer, valid_df).astype(np.int32)\n",
    "    valid_gt = category_encoder.fit_transform(valid_df[\"category\"])\n",
    "    test_pred = predict_df(model, tfidf_vectorizer, publisher_vectorizer, test_df).astype(np.int32)\n",
    "    test_gt = category_encoder.fit_transform(test_df[\"category\"])\n",
    "    \n",
    "    train_acc = calculate_accuracy(train_gt, train_pred)\n",
    "    valid_acc = calculate_accuracy(valid_gt, valid_pred)\n",
    "    test_acc = calculate_accuracy(test_gt, test_pred)\n",
    "    \n",
    "    train_acc_list.append(train_acc)\n",
    "    valid_acc_list.append(valid_acc)\n",
    "    test_acc_list.append(test_acc)\n",
    "    \n",
    "plt.scatter(C_list, train_acc_list, label=\"train\")\n",
    "plt.scatter(C_list, valid_acc_list, label=\"valid\")\n",
    "plt.scatter(C_list, test_acc_list, label=\"test\")\n",
    "plt.xscale(\"log\")\n",
    "plt.legend()\n",
    "plt.show()"
   ]
  },
  {
   "cell_type": "markdown",
   "metadata": {},
   "source": [
    "## 59. ハイパーパラメータの探索\n",
    "学習アルゴリズムや学習パラメータを変えながら，カテゴリ分類モデルを学習せよ．検証データ上の正解率が最も高くなる学習アルゴリズム・パラメータを求めよ．また，その学習アルゴリズム・パラメータを用いたときの評価データ上の正解率を求めよ．"
   ]
  },
  {
   "cell_type": "code",
   "execution_count": 29,
   "metadata": {},
   "outputs": [],
   "source": [
    "from sklearn.model_selection import GridSearchCV\n",
    "from sklearn.svm import SVC"
   ]
  },
  {
   "cell_type": "code",
   "execution_count": 30,
   "metadata": {
    "scrolled": true
   },
   "outputs": [
    {
     "name": "stdout",
     "output_type": "stream",
     "text": [
      "logistic reg, penaly: l2, C:0.01, valid_acc:0.7653673163418291\n",
      "logistic reg, penaly: l2, C:0.1, valid_acc:0.7706146926536732\n"
     ]
    },
    {
     "name": "stderr",
     "output_type": "stream",
     "text": [
      "C:\\Users\\kiyohiro\\anaconda3\\envs\\pytorch\\lib\\site-packages\\sklearn\\linear_model\\_logistic.py:762: ConvergenceWarning: lbfgs failed to converge (status=1):\n",
      "STOP: TOTAL NO. of ITERATIONS REACHED LIMIT.\n",
      "\n",
      "Increase the number of iterations (max_iter) or scale the data as shown in:\n",
      "    https://scikit-learn.org/stable/modules/preprocessing.html\n",
      "Please also refer to the documentation for alternative solver options:\n",
      "    https://scikit-learn.org/stable/modules/linear_model.html#logistic-regression\n",
      "  n_iter_i = _check_optimize_result(\n"
     ]
    },
    {
     "name": "stdout",
     "output_type": "stream",
     "text": [
      "logistic reg, penaly: l2, C:1, valid_acc:0.8868065967016492\n"
     ]
    },
    {
     "name": "stderr",
     "output_type": "stream",
     "text": [
      "C:\\Users\\kiyohiro\\anaconda3\\envs\\pytorch\\lib\\site-packages\\sklearn\\linear_model\\_logistic.py:762: ConvergenceWarning: lbfgs failed to converge (status=1):\n",
      "STOP: TOTAL NO. of ITERATIONS REACHED LIMIT.\n",
      "\n",
      "Increase the number of iterations (max_iter) or scale the data as shown in:\n",
      "    https://scikit-learn.org/stable/modules/preprocessing.html\n",
      "Please also refer to the documentation for alternative solver options:\n",
      "    https://scikit-learn.org/stable/modules/linear_model.html#logistic-regression\n",
      "  n_iter_i = _check_optimize_result(\n"
     ]
    },
    {
     "name": "stdout",
     "output_type": "stream",
     "text": [
      "logistic reg, penaly: l2, C:10, valid_acc:0.9190404797601199\n"
     ]
    },
    {
     "name": "stderr",
     "output_type": "stream",
     "text": [
      "C:\\Users\\kiyohiro\\anaconda3\\envs\\pytorch\\lib\\site-packages\\sklearn\\linear_model\\_logistic.py:762: ConvergenceWarning: lbfgs failed to converge (status=1):\n",
      "STOP: TOTAL NO. of ITERATIONS REACHED LIMIT.\n",
      "\n",
      "Increase the number of iterations (max_iter) or scale the data as shown in:\n",
      "    https://scikit-learn.org/stable/modules/preprocessing.html\n",
      "Please also refer to the documentation for alternative solver options:\n",
      "    https://scikit-learn.org/stable/modules/linear_model.html#logistic-regression\n",
      "  n_iter_i = _check_optimize_result(\n"
     ]
    },
    {
     "name": "stdout",
     "output_type": "stream",
     "text": [
      "logistic reg, penaly: l2, C:100, valid_acc:0.9212893553223388\n"
     ]
    },
    {
     "name": "stderr",
     "output_type": "stream",
     "text": [
      "C:\\Users\\kiyohiro\\anaconda3\\envs\\pytorch\\lib\\site-packages\\sklearn\\svm\\_base.py:246: ConvergenceWarning: Solver terminated early (max_iter=100).  Consider pre-processing your data with StandardScaler or MinMaxScaler.\n",
      "  warnings.warn('Solver terminated early (max_iter=%i).'\n"
     ]
    },
    {
     "name": "stdout",
     "output_type": "stream",
     "text": [
      "SVC, C:0.01, valid_acc:0.5292353823088456\n"
     ]
    },
    {
     "name": "stderr",
     "output_type": "stream",
     "text": [
      "C:\\Users\\kiyohiro\\anaconda3\\envs\\pytorch\\lib\\site-packages\\sklearn\\svm\\_base.py:246: ConvergenceWarning: Solver terminated early (max_iter=100).  Consider pre-processing your data with StandardScaler or MinMaxScaler.\n",
      "  warnings.warn('Solver terminated early (max_iter=%i).'\n"
     ]
    },
    {
     "name": "stdout",
     "output_type": "stream",
     "text": [
      "SVC, C:0.1, valid_acc:0.7503748125937032\n"
     ]
    },
    {
     "name": "stderr",
     "output_type": "stream",
     "text": [
      "C:\\Users\\kiyohiro\\anaconda3\\envs\\pytorch\\lib\\site-packages\\sklearn\\svm\\_base.py:246: ConvergenceWarning: Solver terminated early (max_iter=100).  Consider pre-processing your data with StandardScaler or MinMaxScaler.\n",
      "  warnings.warn('Solver terminated early (max_iter=%i).'\n"
     ]
    },
    {
     "name": "stdout",
     "output_type": "stream",
     "text": [
      "SVC, C:1, valid_acc:0.7076461769115442\n"
     ]
    },
    {
     "name": "stderr",
     "output_type": "stream",
     "text": [
      "C:\\Users\\kiyohiro\\anaconda3\\envs\\pytorch\\lib\\site-packages\\sklearn\\svm\\_base.py:246: ConvergenceWarning: Solver terminated early (max_iter=100).  Consider pre-processing your data with StandardScaler or MinMaxScaler.\n",
      "  warnings.warn('Solver terminated early (max_iter=%i).'\n"
     ]
    },
    {
     "name": "stdout",
     "output_type": "stream",
     "text": [
      "SVC, C:10, valid_acc:0.6956521739130435\n"
     ]
    },
    {
     "name": "stderr",
     "output_type": "stream",
     "text": [
      "C:\\Users\\kiyohiro\\anaconda3\\envs\\pytorch\\lib\\site-packages\\sklearn\\svm\\_base.py:246: ConvergenceWarning: Solver terminated early (max_iter=100).  Consider pre-processing your data with StandardScaler or MinMaxScaler.\n",
      "  warnings.warn('Solver terminated early (max_iter=%i).'\n"
     ]
    },
    {
     "name": "stdout",
     "output_type": "stream",
     "text": [
      "SVC, C:100, valid_acc:0.7098950524737632\n"
     ]
    }
   ],
   "source": [
    "\n",
    "penalty = [\"l2\"]\n",
    "C_list = [0.01, 0.1, 1, 10, 100]\n",
    "e_list = [0.1, 0.01]\n",
    "\n",
    "best_model = None\n",
    "best_valid_acc = -1\n",
    "\n",
    "for p_name in penalty:\n",
    "    for C in C_list:\n",
    "        model = LogisticRegression(penalty=p_name, C=C)\n",
    "        model.fit(X_train, y_train)\n",
    "        valid_pred = predict_df(model, tfidf_vectorizer, publisher_vectorizer, valid_df).astype(np.int32)\n",
    "        valid_gt = category_encoder.fit_transform(valid_df[\"category\"])\n",
    "        valid_acc = calculate_accuracy(valid_gt, valid_pred)\n",
    "        print(f\"logistic reg, penaly: {p_name}, C:{C}, valid_acc:{valid_acc}\")\n",
    "        if valid_acc > best_valid_acc:\n",
    "            best_valid_acc = valid_acc\n",
    "            best_model = model\n",
    "for C in C_list:\n",
    "    model = SVC(C=C, max_iter=100)\n",
    "    model.fit(X_train, y_train)\n",
    "    valid_pred = predict_df(model, tfidf_vectorizer, publisher_vectorizer, valid_df).astype(np.int32)\n",
    "    valid_gt = category_encoder.fit_transform(valid_df[\"category\"])\n",
    "    valid_acc = calculate_accuracy(valid_gt, valid_pred)\n",
    "    print(f\"SVC, C:{C}, valid_acc:{valid_acc}\")\n",
    "    if valid_acc > best_valid_acc:\n",
    "        best_valid_acc = valid_acc\n",
    "        best_model = model"
   ]
  },
  {
   "cell_type": "markdown",
   "metadata": {},
   "source": [
    "Logistic Regression, l2 penaltyでC=100が最もよかった"
   ]
  },
  {
   "cell_type": "code",
   "execution_count": 31,
   "metadata": {},
   "outputs": [
    {
     "name": "stdout",
     "output_type": "stream",
     "text": [
      "best modelでのtest accuracy: 0.9287856071964018\n"
     ]
    }
   ],
   "source": [
    "test_pred = predict_df(best_model, tfidf_vectorizer, publisher_vectorizer, test_df).astype(np.int32)\n",
    "test_gt = category_encoder.fit_transform(test_df[\"category\"])\n",
    "test_acc = calculate_accuracy(test_gt, test_pred)\n",
    "print(f\"best modelでのtest accuracy: {test_acc}\")"
   ]
  },
  {
   "cell_type": "code",
   "execution_count": null,
   "metadata": {},
   "outputs": [],
   "source": []
  }
 ],
 "metadata": {
  "kernelspec": {
   "display_name": "Python 3",
   "language": "python",
   "name": "python3"
  },
  "language_info": {
   "codemirror_mode": {
    "name": "ipython",
    "version": 3
   },
   "file_extension": ".py",
   "mimetype": "text/x-python",
   "name": "python",
   "nbconvert_exporter": "python",
   "pygments_lexer": "ipython3",
   "version": "3.8.3"
  }
 },
 "nbformat": 4,
 "nbformat_minor": 2
}
