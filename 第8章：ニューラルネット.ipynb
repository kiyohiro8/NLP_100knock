{
 "cells": [
  {
   "cell_type": "markdown",
   "metadata": {},
   "source": [
    "# 第8章: ニューラルネット\n",
    "自然言語処理100本ノック (https://nlp100.github.io/ja/) の第8章です。"
   ]
  },
  {
   "cell_type": "markdown",
   "metadata": {},
   "source": [
    "\n",
    "第6章で取り組んだニュース記事のカテゴリ分類を題材として，ニューラルネットワークでカテゴリ分類モデルを実装する．なお，この章ではPyTorch, TensorFlow, Chainerなどの機械学習プラットフォームを活用せよ．"
   ]
  },
  {
   "cell_type": "markdown",
   "metadata": {},
   "source": [
    "## 70. 単語ベクトルの和による特徴量\n",
    "長いので省略するが、問題50で扱った記事見出し-カテゴリデータについて、\n",
    "記事の特徴量を各単語ベクトルの平均を取れとのこと"
   ]
  },
  {
   "cell_type": "code",
   "execution_count": 1,
   "metadata": {
    "scrolled": true
   },
   "outputs": [
    {
     "data": {
      "text/html": [
       "<div>\n",
       "<style scoped>\n",
       "    .dataframe tbody tr th:only-of-type {\n",
       "        vertical-align: middle;\n",
       "    }\n",
       "\n",
       "    .dataframe tbody tr th {\n",
       "        vertical-align: top;\n",
       "    }\n",
       "\n",
       "    .dataframe thead th {\n",
       "        text-align: right;\n",
       "    }\n",
       "</style>\n",
       "<table border=\"1\" class=\"dataframe\">\n",
       "  <thead>\n",
       "    <tr style=\"text-align: right;\">\n",
       "      <th></th>\n",
       "      <th>title</th>\n",
       "      <th>url</th>\n",
       "      <th>publisher</th>\n",
       "      <th>category</th>\n",
       "      <th>story</th>\n",
       "      <th>hostname</th>\n",
       "      <th>timestamp</th>\n",
       "    </tr>\n",
       "    <tr>\n",
       "      <th>id</th>\n",
       "      <th></th>\n",
       "      <th></th>\n",
       "      <th></th>\n",
       "      <th></th>\n",
       "      <th></th>\n",
       "      <th></th>\n",
       "      <th></th>\n",
       "    </tr>\n",
       "  </thead>\n",
       "  <tbody>\n",
       "    <tr>\n",
       "      <th>1</th>\n",
       "      <td>Fed official says weak data caused by weather,...</td>\n",
       "      <td>http://www.latimes.com/business/money/la-fi-mo...</td>\n",
       "      <td>Los Angeles Times</td>\n",
       "      <td>b</td>\n",
       "      <td>ddUyU0VZz0BRneMioxUPQVP6sIxvM</td>\n",
       "      <td>www.latimes.com</td>\n",
       "      <td>1394470370698</td>\n",
       "    </tr>\n",
       "    <tr>\n",
       "      <th>2</th>\n",
       "      <td>Fed's Charles Plosser sees high bar for change...</td>\n",
       "      <td>http://www.livemint.com/Politics/H2EvwJSK2VE6O...</td>\n",
       "      <td>Livemint</td>\n",
       "      <td>b</td>\n",
       "      <td>ddUyU0VZz0BRneMioxUPQVP6sIxvM</td>\n",
       "      <td>www.livemint.com</td>\n",
       "      <td>1394470371207</td>\n",
       "    </tr>\n",
       "    <tr>\n",
       "      <th>3</th>\n",
       "      <td>US open: Stocks fall after Fed official hints ...</td>\n",
       "      <td>http://www.ifamagazine.com/news/us-open-stocks...</td>\n",
       "      <td>IFA Magazine</td>\n",
       "      <td>b</td>\n",
       "      <td>ddUyU0VZz0BRneMioxUPQVP6sIxvM</td>\n",
       "      <td>www.ifamagazine.com</td>\n",
       "      <td>1394470371550</td>\n",
       "    </tr>\n",
       "    <tr>\n",
       "      <th>4</th>\n",
       "      <td>Fed risks falling 'behind the curve', Charles ...</td>\n",
       "      <td>http://www.ifamagazine.com/news/fed-risks-fall...</td>\n",
       "      <td>IFA Magazine</td>\n",
       "      <td>b</td>\n",
       "      <td>ddUyU0VZz0BRneMioxUPQVP6sIxvM</td>\n",
       "      <td>www.ifamagazine.com</td>\n",
       "      <td>1394470371793</td>\n",
       "    </tr>\n",
       "    <tr>\n",
       "      <th>5</th>\n",
       "      <td>Fed's Plosser: Nasty Weather Has Curbed Job Gr...</td>\n",
       "      <td>http://www.moneynews.com/Economy/federal-reser...</td>\n",
       "      <td>Moneynews</td>\n",
       "      <td>b</td>\n",
       "      <td>ddUyU0VZz0BRneMioxUPQVP6sIxvM</td>\n",
       "      <td>www.moneynews.com</td>\n",
       "      <td>1394470372027</td>\n",
       "    </tr>\n",
       "  </tbody>\n",
       "</table>\n",
       "</div>"
      ],
      "text/plain": [
       "                                                title  \\\n",
       "id                                                      \n",
       "1   Fed official says weak data caused by weather,...   \n",
       "2   Fed's Charles Plosser sees high bar for change...   \n",
       "3   US open: Stocks fall after Fed official hints ...   \n",
       "4   Fed risks falling 'behind the curve', Charles ...   \n",
       "5   Fed's Plosser: Nasty Weather Has Curbed Job Gr...   \n",
       "\n",
       "                                                  url          publisher  \\\n",
       "id                                                                         \n",
       "1   http://www.latimes.com/business/money/la-fi-mo...  Los Angeles Times   \n",
       "2   http://www.livemint.com/Politics/H2EvwJSK2VE6O...           Livemint   \n",
       "3   http://www.ifamagazine.com/news/us-open-stocks...       IFA Magazine   \n",
       "4   http://www.ifamagazine.com/news/fed-risks-fall...       IFA Magazine   \n",
       "5   http://www.moneynews.com/Economy/federal-reser...          Moneynews   \n",
       "\n",
       "   category                          story             hostname      timestamp  \n",
       "id                                                                              \n",
       "1         b  ddUyU0VZz0BRneMioxUPQVP6sIxvM      www.latimes.com  1394470370698  \n",
       "2         b  ddUyU0VZz0BRneMioxUPQVP6sIxvM     www.livemint.com  1394470371207  \n",
       "3         b  ddUyU0VZz0BRneMioxUPQVP6sIxvM  www.ifamagazine.com  1394470371550  \n",
       "4         b  ddUyU0VZz0BRneMioxUPQVP6sIxvM  www.ifamagazine.com  1394470371793  \n",
       "5         b  ddUyU0VZz0BRneMioxUPQVP6sIxvM    www.moneynews.com  1394470372027  "
      ]
     },
     "execution_count": 1,
     "metadata": {},
     "output_type": "execute_result"
    }
   ],
   "source": [
    "import pandas as pd\n",
    "\n",
    "df = pd.read_csv(\"NewsAggregatorDataset/newsCorpora.csv\", sep=\"\\t\", index_col=0, names=[\"id\", \"title\", \"url\", \"publisher\", \"category\", \"story\", \"hostname\", \"timestamp\"])\n",
    "df.head()"
   ]
  },
  {
   "cell_type": "code",
   "execution_count": 2,
   "metadata": {},
   "outputs": [],
   "source": [
    "from gensim.models import KeyedVectors\n",
    "\n",
    "model = KeyedVectors.load_word2vec_format('./GoogleNews-vectors-negative300.bin.gz', binary=True)"
   ]
  },
  {
   "cell_type": "code",
   "execution_count": 3,
   "metadata": {},
   "outputs": [],
   "source": [
    "import numpy as np\n",
    "\n",
    "def create_seq_feature(text):\n",
    "    word_list = text.split(\" \")\n",
    "    word_list = [w.rstrip(\",\") for w in word_list]\n",
    "    word_list = [w.rstrip(\",\") for w in word_list]\n",
    "    word_list = [w for w in word_list if w in model.vocab.keys()]\n",
    "    if len(word_list) == 0:\n",
    "        word_list = [\"%\"]\n",
    "    feature_array = np.array([model[w] for w in word_list])\n",
    "    seq_feature = feature_array.mean(axis=0)\n",
    "    return seq_feature"
   ]
  },
  {
   "cell_type": "markdown",
   "metadata": {},
   "source": [
    "ビジネス (b) を 0、科学技術 (t) を 1、エンターテインメント (e) を 2、健康 (m) を 3 にエンコードする "
   ]
  },
  {
   "cell_type": "code",
   "execution_count": 4,
   "metadata": {},
   "outputs": [
    {
     "name": "stdout",
     "output_type": "stream",
     "text": [
      "[3, 2, 1, 0]\n"
     ]
    }
   ],
   "source": [
    "def cat_encoder(cat):\n",
    "    if cat == \"b\":\n",
    "        return 0\n",
    "    elif cat == \"t\":\n",
    "        return 1\n",
    "    elif cat == \"e\":\n",
    "        return 2\n",
    "    elif cat == \"m\":\n",
    "        return 3\n",
    "    else:\n",
    "        raise NotImplementedError\n",
    "        \n",
    "cat_list = [\"m\", \"e\", \"t\", \"b\"]\n",
    "print([cat_encoder(c) for c in cat_list])"
   ]
  },
  {
   "cell_type": "code",
   "execution_count": 5,
   "metadata": {},
   "outputs": [],
   "source": [
    "def table_to_X_y(df):\n",
    "    text_list = list(df[\"title\"])\n",
    "    features = [create_seq_feature(t) for t in text_list]\n",
    "    X = np.stack(features, axis=0)\n",
    "    cat_list = list(df[\"category\"])\n",
    "    y = np.array([cat_encoder(c) for c in cat_list])\n",
    "    return X, y"
   ]
  },
  {
   "cell_type": "markdown",
   "metadata": {},
   "source": [
    "6章と同様にしてテーブルを分割"
   ]
  },
  {
   "cell_type": "code",
   "execution_count": 6,
   "metadata": {},
   "outputs": [
    {
     "name": "stdout",
     "output_type": "stream",
     "text": [
      "10672\n",
      "1334\n",
      "1334\n"
     ]
    }
   ],
   "source": [
    "valid_publisher = [\"Reuters\", \"Huffington Post\", \"Businessweek\", \"Contactmusic.com\", \"Daily Mail\"]\n",
    "df = df.loc[df[\"publisher\"].isin(valid_publisher), :]\n",
    "df = df.sample(frac=1, random_state=42)\n",
    "df = df.reset_index(drop=True)\n",
    "\n",
    "total_size = len(df)\n",
    "train_size = int(0.8*total_size)\n",
    "valid_size = int(0.1*total_size)\n",
    "test_size = total_size - train_size - valid_size\n",
    "\n",
    "train_df = df.iloc[:train_size, :]\n",
    "valid_df = df.iloc[train_size:train_size+valid_size, :]\n",
    "test_df = df.iloc[train_size+valid_size:, :]\n",
    "\n",
    "\n",
    "print(len(train_df))\n",
    "print(len(valid_df))\n",
    "print(len(test_df))"
   ]
  },
  {
   "cell_type": "code",
   "execution_count": 7,
   "metadata": {},
   "outputs": [],
   "source": [
    "import numpy as np\n",
    "\n",
    "X_train, y_train = table_to_X_y(train_df)\n",
    "X_val, y_val = table_to_X_y(valid_df)\n",
    "X_test, y_test = table_to_X_y(test_df)\n",
    "\n",
    "np.save( \"train.npy\", np.concatenate([X_train, y_train[:, None]], axis=1))\n",
    "np.save( \"val.npy\", np.concatenate([X_val, y_val[:, None]], axis=1))\n",
    "np.save( \"test.npy\", np.concatenate([X_test, y_test[:, None]], axis=1))"
   ]
  },
  {
   "cell_type": "code",
   "execution_count": 11,
   "metadata": {},
   "outputs": [
    {
     "data": {
      "text/plain": [
       "(10672, 300)"
      ]
     },
     "execution_count": 11,
     "metadata": {},
     "output_type": "execute_result"
    }
   ],
   "source": [
    "X_train.shape"
   ]
  },
  {
   "cell_type": "markdown",
   "metadata": {},
   "source": [
    "## 71. 単層ニューラルネットワークによる予測\n",
    "問題70で保存した行列を読み込み，学習データについて以下の計算を実行せよ．\n",
    "\n",
    "ここも問題文が長いので省略するが、単層の全結合層＋softmaxの出力を取れと書いてある。"
   ]
  },
  {
   "cell_type": "code",
   "execution_count": 14,
   "metadata": {},
   "outputs": [],
   "source": [
    "import torch\n",
    "import torch.nn as nn\n",
    "\n",
    "class SingleLayerNN(nn.Module):\n",
    "    def __init__(self):\n",
    "        super().__init__()\n",
    "        self.linear = nn.Linear(300, 4, bias=False)\n",
    "        self.active = nn.Softmax()\n",
    "    \n",
    "    def forward(self, x):\n",
    "        return self.active(self.linear(x))"
   ]
  },
  {
   "cell_type": "code",
   "execution_count": 17,
   "metadata": {},
   "outputs": [
    {
     "name": "stdout",
     "output_type": "stream",
     "text": [
      "[[0.26014006 0.2516684  0.24600601 0.24218556]\n",
      " [0.249415   0.24832833 0.25000504 0.25225163]\n",
      " [0.25495055 0.24785142 0.2584714  0.23872657]\n",
      " [0.25953215 0.25985867 0.2468626  0.23374653]]\n"
     ]
    },
    {
     "name": "stderr",
     "output_type": "stream",
     "text": [
      "C:\\Anaconda\\envs\\pytorch\\lib\\site-packages\\ipykernel_launcher.py:11: UserWarning: Implicit dimension choice for softmax has been deprecated. Change the call to include dim=X as an argument.\n",
      "  # This is added back by InteractiveShellApp.init_path()\n"
     ]
    }
   ],
   "source": [
    "slnn = SingleLayerNN()\n",
    "\n",
    "x = torch.from_numpy(X_train[0:4, :].astype(np.float32)).clone()\n",
    "\n",
    "with torch.no_grad():\n",
    "    y = slnn(x).numpy().copy()\n",
    "\n",
    "print(y)"
   ]
  },
  {
   "cell_type": "code",
   "execution_count": null,
   "metadata": {},
   "outputs": [],
   "source": []
  }
 ],
 "metadata": {
  "kernelspec": {
   "display_name": "Python 3",
   "language": "python",
   "name": "python3"
  },
  "language_info": {
   "codemirror_mode": {
    "name": "ipython",
    "version": 3
   },
   "file_extension": ".py",
   "mimetype": "text/x-python",
   "name": "python",
   "nbconvert_exporter": "python",
   "pygments_lexer": "ipython3",
   "version": "3.7.6"
  }
 },
 "nbformat": 4,
 "nbformat_minor": 4
}
